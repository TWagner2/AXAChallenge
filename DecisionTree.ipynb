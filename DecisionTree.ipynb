{
 "cells": [
  {
   "cell_type": "code",
   "execution_count": 11,
   "id": "69430438",
   "metadata": {},
   "outputs": [],
   "source": [
    "%config IPCompleter.use_jedi=False\n",
    "%matplotlib inline\n",
    "\n",
    "import numpy as np\n",
    "import pandas as pd\n",
    "import seaborn as sns\n",
    "from sklearn.tree import DecisionTreeClassifier, plot_tree\n",
    "from sklearn.ensemble import RandomForestClassifier\n",
    "from sklearn.dummy import DummyClassifier\n",
    "from sklearn.metrics import confusion_matrix, accuracy_score\n",
    "import sklearn.preprocessing\n",
    "import matplotlib.pyplot as plt\n",
    "import Utils\n",
    "from Utils import evaluate_model, load_data, validate, train, add_hours\n",
    "\n",
    "plt.rcParams['figure.figsize'] = [6.4, 4.8] #The default\n",
    "#plt.rcParams['figure.figsize'] = [20, 10]\n",
    "\n",
    "path_train = \"Data/Train.parquet\"\n",
    "path_val = \"Data/Validation.parquet\""
   ]
  },
  {
   "cell_type": "markdown",
   "id": "184bc89c-dc1b-414f-9be8-7849792b45f0",
   "metadata": {
    "tags": []
   },
   "source": [
    "# Decision Trees"
   ]
  },
  {
   "cell_type": "markdown",
   "id": "25ee7984",
   "metadata": {},
   "source": [
    "Note that trees do not need any data scaling"
   ]
  },
  {
   "cell_type": "markdown",
   "id": "fe1c7b02",
   "metadata": {},
   "source": [
    "Baseline (the warnings are misleading and can be ignored):"
   ]
  },
  {
   "cell_type": "code",
   "execution_count": 24,
   "id": "133f1e74",
   "metadata": {},
   "outputs": [
    {
     "name": "stdout",
     "output_type": "stream",
     "text": [
      "Training: \n"
     ]
    },
    {
     "name": "stderr",
     "output_type": "stream",
     "text": [
      "/home/thomas/anaconda3/lib/python3.7/site-packages/sklearn/metrics/_classification.py:873: RuntimeWarning: invalid value encountered in double_scalars\n",
      "  mcc = cov_ytyp / np.sqrt(cov_ytyt * cov_ypyp)\n"
     ]
    },
    {
     "name": "stdout",
     "output_type": "stream",
     "text": [
      "Accuracy: 0.8905468036686415\n",
      "Confusion: \n",
      "[[1. 0.]\n",
      " [1. 0.]]\n",
      "MCC: 0.0\n",
      "Validation: \n",
      "Accuracy: 0.8906060229873748\n",
      "Confusion: \n",
      "[[1. 0.]\n",
      " [1. 0.]]\n",
      "MCC: 0.0\n"
     ]
    },
    {
     "name": "stderr",
     "output_type": "stream",
     "text": [
      "/home/thomas/anaconda3/lib/python3.7/site-packages/sklearn/metrics/_classification.py:873: RuntimeWarning: invalid value encountered in double_scalars\n",
      "  mcc = cov_ytyp / np.sqrt(cov_ytyt * cov_ypyp)\n"
     ]
    },
    {
     "data": {
      "text/plain": [
       "(0.8906060229873748,\n",
       " array([[1., 0.],\n",
       "        [1., 0.]]))"
      ]
     },
     "execution_count": 24,
     "metadata": {},
     "output_type": "execute_result"
    }
   ],
   "source": [
    "features=[\"tripduration\", \"summer\",\"business day\", \"haversine distance\", \"is_roundtrip\", \"speed\"]\n",
    "baseline = DummyClassifier()\n",
    "print(\"Training: \")\n",
    "train(path_train,baseline,features)\n",
    "print(\"Validation: \")\n",
    "validate(baseline,path_val,features);"
   ]
  },
  {
   "cell_type": "markdown",
   "id": "09dea23f",
   "metadata": {},
   "source": [
    "We start with a small model."
   ]
  },
  {
   "cell_type": "code",
   "execution_count": 8,
   "id": "25ebbda2",
   "metadata": {},
   "outputs": [
    {
     "name": "stdout",
     "output_type": "stream",
     "text": [
      "Training: \n",
      "Accuracy: 0.899347698861101\n",
      "Confusion: \n",
      "[[0.98498342 0.01501658]\n",
      " [0.79741238 0.20258762]]\n",
      "MCC: 0.3162768269893971\n",
      "Validation: \n",
      "Accuracy: 0.8994086394588567\n",
      "Confusion: \n",
      "[[0.98500111 0.01499889]\n",
      " [0.79742288 0.20257712]]\n",
      "MCC: 0.316333970359959\n"
     ]
    }
   ],
   "source": [
    "features=[\"tripduration\", \"summer\",\"business day\", \"haversine distance\", \"is_roundtrip\", \"speed\"]\n",
    "pre=add_hours\n",
    "clf = DecisionTreeClassifier(max_depth=6)\n",
    "print(\"Training: \")\n",
    "clf,feature_names = train(path_train,clf,features,preprocess=pre)\n",
    "print(\"Validation: \")\n",
    "validate(clf,path_val,features,preprocess=pre);"
   ]
  },
  {
   "cell_type": "markdown",
   "id": "afbd4b79",
   "metadata": {},
   "source": [
    "Since we are not overfitting at all, lets try increasing depth first"
   ]
  },
  {
   "cell_type": "code",
   "execution_count": 10,
   "id": "f705b619",
   "metadata": {},
   "outputs": [
    {
     "name": "stdout",
     "output_type": "stream",
     "text": [
      "Training: \n",
      "Accuracy: 0.9039440127139298\n",
      "Confusion: \n",
      "[[0.97900916 0.02099084]\n",
      " [0.70681048 0.29318952]]\n",
      "MCC: 0.38706441552302295\n",
      "Validation: \n",
      "Accuracy: 0.9035167559781075\n",
      "Confusion: \n",
      "[[0.97869066 0.02130934]\n",
      " [0.70849436 0.29150564]]\n",
      "MCC: 0.38382790809615325\n"
     ]
    }
   ],
   "source": [
    "clf = DecisionTreeClassifier(max_depth=12)\n",
    "print(\"Training: \")\n",
    "clf,feature_names = train(path_train,clf,features,preprocess=pre)\n",
    "print(\"Validation: \")\n",
    "validate(clf,path_val,features,preprocess=pre);"
   ]
  },
  {
   "cell_type": "code",
   "execution_count": 11,
   "id": "f39f71f1",
   "metadata": {},
   "outputs": [
    {
     "name": "stdout",
     "output_type": "stream",
     "text": [
      "Training: \n",
      "Accuracy: 0.928912133496262\n",
      "Confusion: \n",
      "[[0.98210984 0.01789016]\n",
      " [0.50392167 0.49607833]]\n",
      "MCC: 0.5842437470598194\n",
      "Validation: \n",
      "Accuracy: 0.8965259212941854\n",
      "Confusion: \n",
      "[[0.96312265 0.03687735]\n",
      " [0.64565607 0.35434393]]\n",
      "MCC: 0.38432254195614735\n"
     ]
    }
   ],
   "source": [
    "clf = DecisionTreeClassifier(max_depth=24)\n",
    "print(\"Training: \")\n",
    "clf,feature_names = train(path_train,clf,features,preprocess=pre)\n",
    "print(\"Validation: \")\n",
    "validate(clf,path_val,features,preprocess=pre);"
   ]
  },
  {
   "cell_type": "markdown",
   "id": "33d332a9",
   "metadata": {},
   "source": [
    "At this depth we are starting to outperform the logistic regression, even without using station ids, but also we see that we start overfitting."
   ]
  },
  {
   "cell_type": "markdown",
   "id": "98cd6779",
   "metadata": {},
   "source": [
    "Just out of interest, lets see how we perform if we use gender as a feature"
   ]
  },
  {
   "cell_type": "code",
   "execution_count": 13,
   "id": "acdaf0ee",
   "metadata": {},
   "outputs": [
    {
     "name": "stdout",
     "output_type": "stream",
     "text": [
      "Training: \n",
      "Accuracy: 0.9622322088507806\n",
      "Confusion: \n",
      "[[0.9937944  0.0062056 ]\n",
      " [0.29456807 0.70543193]]\n",
      "MCC: 0.7924297958617819\n",
      "Validation: \n",
      "Accuracy: 0.9386093730960416\n",
      "Confusion: \n",
      "[[0.98018284 0.01981716]\n",
      " [0.39985148 0.60014852]]\n",
      "MCC: 0.6555033256027879\n"
     ]
    }
   ],
   "source": [
    "features_gender = features + [\"gender\"]\n",
    "clf = DecisionTreeClassifier(max_depth=24)\n",
    "print(\"Training: \")\n",
    "clf,feature_names = train(path_train,clf,features_gender,preprocess=preprocess_1)\n",
    "print(\"Validation: \")\n",
    "validate(clf,path_val,features_gender,preprocess=preprocess_1);"
   ]
  },
  {
   "cell_type": "markdown",
   "id": "e0d294ad",
   "metadata": {},
   "source": [
    "First we try adding station ids \"raw\", with no encoding"
   ]
  },
  {
   "cell_type": "code",
   "execution_count": 17,
   "id": "150b4f20",
   "metadata": {},
   "outputs": [],
   "source": [
    "features=[\"tripduration\", \"summer\",\"business day\", \"haversine distance\", \"is_roundtrip\", \"speed\", \"start station id\", \"end station id\"]\n",
    "pre=add_hours"
   ]
  },
  {
   "cell_type": "code",
   "execution_count": 18,
   "id": "36a0ea96",
   "metadata": {},
   "outputs": [
    {
     "name": "stdout",
     "output_type": "stream",
     "text": [
      "Training: \n",
      "Accuracy: 0.9470291543955277\n",
      "Confusion: \n",
      "[[0.98715953 0.01284047]\n",
      " [0.37948461 0.62051539]]\n",
      "MCC: 0.7019191263581055\n",
      "Validation: \n",
      "Accuracy: 0.9003171047189278\n",
      "Confusion: \n",
      "[[0.95912273 0.04087727]\n",
      " [0.57843542 0.42156458]]\n",
      "MCC: 0.4318419286884088\n"
     ]
    },
    {
     "data": {
      "text/plain": [
       "(0.9003171047189278,\n",
       " array([[0.95912273, 0.04087727],\n",
       "        [0.57843542, 0.42156458]]))"
      ]
     },
     "execution_count": 18,
     "metadata": {},
     "output_type": "execute_result"
    }
   ],
   "source": [
    "clf = DecisionTreeClassifier(max_depth=24)\n",
    "print(\"Training: \")\n",
    "clf,feature_names = train(path_train,clf,features,preprocess=pre)\n",
    "print(\"Validation: \")\n",
    "validate(clf,path_val,features,preprocess=pre);"
   ]
  },
  {
   "cell_type": "markdown",
   "id": "2ecb0004",
   "metadata": {},
   "source": [
    "This notably increases accuracy on customers, but hurts subscribers a tiny bit."
   ]
  },
  {
   "cell_type": "markdown",
   "id": "258ba99a",
   "metadata": {},
   "source": [
    "What about frequency encoded stations? -> Does not seem to help, so we stick with raw station ids"
   ]
  },
  {
   "cell_type": "code",
   "execution_count": 19,
   "id": "535cded6",
   "metadata": {},
   "outputs": [],
   "source": [
    "def preprocess_1(data,features):\n",
    "    data,features = add_hours(data,features) # add hours\n",
    "    data,features = Utils.frequency_encode_stations(data,data)\n",
    "    return data,features"
   ]
  },
  {
   "cell_type": "code",
   "execution_count": 20,
   "id": "64594e7f",
   "metadata": {},
   "outputs": [
    {
     "name": "stdout",
     "output_type": "stream",
     "text": [
      "Training: \n",
      "Accuracy: 0.9497084245802642\n",
      "Confusion: \n",
      "[[0.98861615 0.01138385]\n",
      " [0.36685751 0.63314249]]\n",
      "MCC: 0.7178363759619953\n",
      "Validation:\n",
      "Accuracy: 0.897656354136692\n",
      "Confusion: \n",
      "[[0.95800954 0.04199046]\n",
      " [0.59369525 0.40630475]]\n",
      "MCC: 0.4148235875351225\n"
     ]
    }
   ],
   "source": [
    "features=[\"tripduration\", \"summer\",\"business day\", \"haversine distance\", \"is_roundtrip\", \"speed\"]\n",
    "pre=preprocess_1\n",
    "clf = DecisionTreeClassifier(max_depth=24)\n",
    "print(\"Training: \")\n",
    "clf,feature_names = train(path_train,clf,features,preprocess=pre)\n",
    "print(\"Validation:\")\n",
    "validate(clf,path_val,features,preprocess=pre);"
   ]
  },
  {
   "cell_type": "markdown",
   "id": "326467cf",
   "metadata": {},
   "source": [
    "Lets see what happens if we balance classes (and include station)"
   ]
  },
  {
   "cell_type": "code",
   "execution_count": 21,
   "id": "ef079a61",
   "metadata": {},
   "outputs": [
    {
     "name": "stdout",
     "output_type": "stream",
     "text": [
      "Training: \n",
      "Accuracy: 0.8738295936393738\n",
      "Confusion: \n",
      "[[0.86808033 0.13191967]\n",
      " [0.07939255 0.92060745]]\n",
      "MCC: 0.5961298884341207\n",
      "Validation:\n",
      "Accuracy: 0.828571804510633\n",
      "Confusion: \n",
      "[[0.84271851 0.15728149]\n",
      " [0.28660032 0.71339968]]\n",
      "MCC: 0.42033023610070736\n"
     ]
    }
   ],
   "source": [
    "features=[\"tripduration\", \"summer\",\"business day\", \"haversine distance\", \"is_roundtrip\", \"speed\", \"start station id\", \"end station id\"]\n",
    "pre=add_hours\n",
    "clf = DecisionTreeClassifier(max_depth = 24,class_weight=\"balanced\")\n",
    "print(\"Training: \")\n",
    "clf,feature_names = train(path_train,clf,features,preprocess=pre)\n",
    "print(\"Validation:\")\n",
    "validate(clf,path_val,features,preprocess=pre);"
   ]
  },
  {
   "cell_type": "markdown",
   "id": "0586fd0f",
   "metadata": {},
   "source": [
    "This really hurts the overall accuracy (it falls below the baseline of 89%), but significantly improves accuracy on customers. MCC is minimally worse.\n",
    "We also see that we are overfitting to some extent."
   ]
  },
  {
   "cell_type": "markdown",
   "id": "dd2ded8b",
   "metadata": {},
   "source": [
    "Next, let us start training really deep trees and see what happens."
   ]
  },
  {
   "cell_type": "code",
   "execution_count": 25,
   "id": "0ee77191",
   "metadata": {},
   "outputs": [
    {
     "name": "stdout",
     "output_type": "stream",
     "text": [
      "Training: \n",
      "Accuracy: 0.9993057796206416\n",
      "Confusion: \n",
      "[[9.99220536e-01 7.79463658e-04]\n",
      " [6.53339841e-07 9.99999347e-01]]\n",
      "MCC: 0.9964550728421022\n",
      "Validation:\n",
      "Accuracy: 0.8852278857644981\n",
      "Confusion: \n",
      "[[0.93503201 0.06496799]\n",
      " [0.52024098 0.47975902]]\n",
      "MCC: 0.4132226255558471\n"
     ]
    }
   ],
   "source": [
    "features=[\"tripduration\", \"summer\",\"business day\", \"haversine distance\", \"is_roundtrip\", \"speed\", \"start station id\", \"end station id\"]\n",
    "pre=add_hours\n",
    "clf = DecisionTreeClassifier(class_weight=\"balanced\", max_depth=None)\n",
    "print(\"Training: \")\n",
    "clf,feature_names = train(path_train,clf,features,preprocess=pre)\n",
    "print(\"Validation:\")\n",
    "validate(clf,path_val,features,preprocess=pre);"
   ]
  },
  {
   "cell_type": "markdown",
   "id": "78e5b410-422f-4818-8c1d-e8ebee89bc41",
   "metadata": {},
   "source": [
    "This performs slightly worse than the limited max depth. One option is to add pruning, but we can also switch to a random forest."
   ]
  },
  {
   "cell_type": "markdown",
   "id": "bd4b36c5-f81f-4cb3-9ac2-376bdf593164",
   "metadata": {
    "tags": []
   },
   "source": [
    "# Random Forests"
   ]
  },
  {
   "cell_type": "markdown",
   "id": "cb3d7938-9ab1-491f-bf9f-4704fee84ccd",
   "metadata": {},
   "source": [
    "Now, lets see if we can also train some random forests"
   ]
  },
  {
   "cell_type": "markdown",
   "id": "76d3ff44-3f6a-434c-8a4d-37811fecc140",
   "metadata": {},
   "source": [
    "Without class balancing:"
   ]
  },
  {
   "cell_type": "code",
   "execution_count": 3,
   "id": "396f28d1-ed37-4fa6-bb7a-7ec57332c5f6",
   "metadata": {},
   "outputs": [
    {
     "name": "stdout",
     "output_type": "stream",
     "text": [
      "Training: \n",
      "Accuracy: 0.9475198569339658\n",
      "Confusion: \n",
      "[[0.99109635 0.00890365]\n",
      " [0.40703268 0.59296732]]\n",
      "MCC: 0.7017209234391517\n",
      "Validation:\n",
      "Accuracy: 0.914392023354651\n",
      "Confusion: \n",
      "[[0.97804124 0.02195876]\n",
      " [0.60379352 0.39620648]]\n",
      "MCC: 0.4811527315014177\n"
     ]
    }
   ],
   "source": [
    "features=[\"tripduration\", \"summer\",\"business day\", \"haversine distance\", \"is_roundtrip\", \"speed\", \"start station id\", \"end station id\"]\n",
    "pre=add_hours\n",
    "clf = RandomForestClassifier(n_estimators=10, max_depth=24,n_jobs=3)\n",
    "print(\"Training: \")\n",
    "clf,feature_names = train(path_train,clf,features,preprocess=pre)\n",
    "print(\"Validation:\")\n",
    "validate(clf,path_val,features,preprocess=pre);"
   ]
  },
  {
   "cell_type": "markdown",
   "id": "17489df3-f592-40a0-b8df-40010c16c0b4",
   "metadata": {},
   "source": [
    "With class balancing:"
   ]
  },
  {
   "cell_type": "code",
   "execution_count": 5,
   "id": "f98fc881-926f-420f-99ee-a5281e8617cb",
   "metadata": {},
   "outputs": [
    {
     "name": "stdout",
     "output_type": "stream",
     "text": [
      "Training: \n",
      "Accuracy: 0.9166205426303372\n",
      "Confusion: \n",
      "[[0.92187866 0.07812134]\n",
      " [0.12616123 0.87383877]]\n",
      "MCC: 0.6689432156681953\n",
      "Validation:\n",
      "Accuracy: 0.8782753805342439\n",
      "Confusion: \n",
      "[[0.90456018 0.09543982]\n",
      " [0.33571627 0.66428373]]\n",
      "MCC: 0.48721347534378834\n"
     ]
    }
   ],
   "source": [
    "features=[\"tripduration\", \"summer\",\"business day\", \"haversine distance\", \"is_roundtrip\", \"speed\", \"start station id\", \"end station id\"]\n",
    "pre=add_hours\n",
    "clf = RandomForestClassifier(n_estimators=10, max_depth=24,n_jobs=3,class_weight=\"balanced\")\n",
    "print(\"Training: \")\n",
    "clf,feature_names = train(path_train,clf,features,preprocess=pre)\n",
    "print(\"Validation:\")\n",
    "validate(clf,path_val,features,preprocess=pre);"
   ]
  },
  {
   "cell_type": "markdown",
   "id": "b46114e8-3763-412f-a8ef-e211954545e3",
   "metadata": {
    "tags": []
   },
   "source": [
    "Out of interest, what happens if we add gender"
   ]
  },
  {
   "cell_type": "code",
   "execution_count": 6,
   "id": "79aa9008-a282-41be-afef-a2eba42bb40d",
   "metadata": {},
   "outputs": [
    {
     "name": "stdout",
     "output_type": "stream",
     "text": [
      "Training: \n",
      "Accuracy: 0.9552424508181904\n",
      "Confusion: \n",
      "[[0.96369162 0.03630838]\n",
      " [0.11350277 0.88649723]]\n",
      "MCC: 0.7909200787755183\n",
      "Validation:\n",
      "Accuracy: 0.930200348626404\n",
      "Confusion: \n",
      "[[0.95316685 0.04683315]\n",
      " [0.25677619 0.74322381]]\n",
      "MCC: 0.6617877444391523\n"
     ]
    }
   ],
   "source": [
    "features=[\"tripduration\", \"summer\",\"business day\", \"haversine distance\", \"is_roundtrip\", \"speed\", \"start station id\", \"end station id\", \"gender\"]\n",
    "pre=add_hours\n",
    "clf = RandomForestClassifier(n_estimators=10, max_depth=24,n_jobs=3,class_weight=\"balanced\")\n",
    "print(\"Training: \")\n",
    "clf,feature_names = train(path_train,clf,features,preprocess=pre)\n",
    "print(\"Validation:\")\n",
    "validate(clf,path_val,features,preprocess=pre);"
   ]
  },
  {
   "cell_type": "markdown",
   "id": "82bc2183-0095-4709-b1dc-6d959b8eff60",
   "metadata": {},
   "source": [
    "So far, random forest performs the best of all classifiers.\n",
    "Finally, we can do a grid search to finetune the parameters a bit more.\n",
    "But because of this is computationally expensive, the number of combinations we can explore is quite limited."
   ]
  },
  {
   "cell_type": "code",
   "execution_count": 2,
   "id": "b025f368-31a0-4c1a-b58f-979436c62f7c",
   "metadata": {},
   "outputs": [
    {
     "name": "stdout",
     "output_type": "stream",
     "text": [
      "Training: \n",
      "Accuracy: 0.9930962686584242\n",
      "Confusion: \n",
      "[[0.99430486 0.00569514]\n",
      " [0.01673726 0.98326274]]\n",
      "MCC: 0.965170230186931\n",
      "Validation:\n",
      "Accuracy: 0.9181134128488337\n",
      "Confusion: \n",
      "[[0.97214125 0.02785875]\n",
      " [0.52174186 0.47825814]]\n",
      "MCC: 0.5269338283555237\n"
     ]
    }
   ],
   "source": [
    "features=[\"tripduration\", \"summer\",\"business day\", \"haversine distance\", \"is_roundtrip\", \"speed\", \"start station id\", \"end station id\"]\n",
    "pre=add_hours\n",
    "clf = RandomForestClassifier(n_estimators=30, max_depth=36,n_jobs=-1,class_weight=\"balanced\")\n",
    "print(\"Training: \")\n",
    "clf,feature_names = train(path_train,clf,features,preprocess=pre)\n",
    "print(\"Validation:\")\n",
    "validate(clf,path_val,features,preprocess=pre);"
   ]
  },
  {
   "cell_type": "code",
   "execution_count": 2,
   "id": "4b26276c-d94c-4f2b-834f-653479cbe272",
   "metadata": {},
   "outputs": [],
   "source": [
    "features=[\"tripduration\", \"summer\",\"business day\", \"haversine distance\", \"is_roundtrip\", \"speed\", \"start station id\", \"end station id\"]\n",
    "pre=add_hours\n",
    "X_train,Y_train = load_data(path_train,features,preprocess=pre)\n",
    "X_val,Y_val = load_data(path_val,features,preprocess=pre)\n",
    "depths = [24,36]#,48]\n",
    "n_estimators = [10,30,50]\n",
    "\n",
    "#models = []\n",
    "accuracies = []\n",
    "MCCs = []\n",
    "for d in depths:\n",
    "    for n in n_estimators:\n",
    "        clf = RandomForestClassifier(n_estimators=n, max_depth=d,n_jobs=-1,class_weight=\"balanced\")\n",
    "        clf = clf.fit(X_train,Y_train)\n",
    "        acc,conf,mcc = evaluate_model(clf,X_val,Y_val,verbose=False)\n",
    "        #models.append(clf)\n",
    "        accuracies.append(acc)\n",
    "        MCCs.append(mcc)"
   ]
  },
  {
   "cell_type": "code",
   "execution_count": 18,
   "id": "fd9ba59a-dc1b-4ed9-9936-a3f131b89514",
   "metadata": {},
   "outputs": [],
   "source": [
    "accuracies_rect = np.reshape(accuracies,(len(depths),len(n_estimators)))    #reshape to match parameter grid\n",
    "MCCs_rect = np.reshape(MCCs,(len(depths),len(n_estimators)))"
   ]
  },
  {
   "cell_type": "code",
   "execution_count": 23,
   "id": "671671b9-13e1-4875-a3cd-745d46157192",
   "metadata": {},
   "outputs": [
    {
     "data": {
      "image/png": "[encoded data removed]",
      "text/plain": [
       "<Figure size 640x480 with 2 Axes>"
      ]
     },
     "metadata": {},
     "output_type": "display_data"
    }
   ],
   "source": [
    "ax = sns.heatmap(accuracies_rect,annot=True,fmt=\".1%\")\n",
    "ax.set_ylabel(\"Depth\");\n",
    "ax.set_yticklabels(depths)\n",
    "ax.set_xlabel(\"Number of Trees\");\n",
    "ax.set_xticklabels(n_estimators);"
   ]
  },
  {
   "cell_type": "code",
   "execution_count": 26,
   "id": "738e1e16-59ae-463a-9230-7a1acda5afbe",
   "metadata": {},
   "outputs": [
    {
     "data": {
      "image/png": "[encoded data removed]",
      "text/plain": [
       "<Figure size 640x480 with 2 Axes>"
      ]
     },
     "metadata": {},
     "output_type": "display_data"
    }
   ],
   "source": [
    "ax = sns.heatmap(MCCs_rect,annot=True,fmt=\".2f\")\n",
    "ax.set_ylabel(\"Depth\");\n",
    "ax.set_yticklabels(depths)\n",
    "ax.set_xlabel(\"Number of Trees\");\n",
    "ax.set_xticklabels(n_estimators);"
   ]
  },
  {
   "cell_type": "markdown",
   "id": "41e3a445-0281-4b3b-b2ce-88ffe3ded5bd",
   "metadata": {},
   "source": [
    "The optimal model is just using the maximum depth and number of estimators.\n",
    "One could likely get even better scores by going to even deeper trees and larger forests."
   ]
  },
  {
   "cell_type": "code",
   "execution_count": null,
   "id": "59dc7ab8-4252-4a21-80df-6e19c0384775",
   "metadata": {},
   "outputs": [],
   "source": []
  }
 ],
 "metadata": {
  "kernelspec": {
   "display_name": "Python 3 (ipykernel)",
   "language": "python",
   "name": "python3"
  },
  "language_info": {
   "codemirror_mode": {
    "name": "ipython",
    "version": 3
   },
   "file_extension": ".py",
   "mimetype": "text/x-python",
   "name": "python",
   "nbconvert_exporter": "python",
   "pygments_lexer": "ipython3",
   "version": "3.7.10"
  }
 },
 "nbformat": 4,
 "nbformat_minor": 5
}
