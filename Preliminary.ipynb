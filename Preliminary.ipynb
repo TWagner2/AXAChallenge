{
 "cells": [
  {
   "cell_type": "code",
   "execution_count": 2,
   "id": "81a893a8-5afc-4e19-82f7-b8cca7da974b",
   "metadata": {},
   "outputs": [],
   "source": [
    "import pandas as pd\n",
    "import glob\n",
    "%config IPCompleter.use_jedi=False\n",
    "\n",
    "from sklearn.model_selection import train_test_split"
   ]
  },
  {
   "cell_type": "code",
   "execution_count": 3,
   "id": "c3fda835-93ef-47ab-be58-0eb66a85fd80",
   "metadata": {},
   "outputs": [],
   "source": [
    "Data1 = pd.read_csv(\"Data/201801-citibike-tripdata.csv\")"
   ]
  },
  {
   "cell_type": "code",
   "execution_count": 4,
   "id": "8921ac86-ef55-4cb4-9084-6205847a3bd3",
   "metadata": {},
   "outputs": [
    {
     "data": {
      "text/html": [
       "<div>\n",
       "<style scoped>\n",
       "    .dataframe tbody tr th:only-of-type {\n",
       "        vertical-align: middle;\n",
       "    }\n",
       "\n",
       "    .dataframe tbody tr th {\n",
       "        vertical-align: top;\n",
       "    }\n",
       "\n",
       "    .dataframe thead th {\n",
       "        text-align: right;\n",
       "    }\n",
       "</style>\n",
       "<table border=\"1\" class=\"dataframe\">\n",
       "  <thead>\n",
       "    <tr style=\"text-align: right;\">\n",
       "      <th></th>\n",
       "      <th>tripduration</th>\n",
       "      <th>starttime</th>\n",
       "      <th>stoptime</th>\n",
       "      <th>start station id</th>\n",
       "      <th>start station name</th>\n",
       "      <th>start station latitude</th>\n",
       "      <th>start station longitude</th>\n",
       "      <th>end station id</th>\n",
       "      <th>end station name</th>\n",
       "      <th>end station latitude</th>\n",
       "      <th>end station longitude</th>\n",
       "      <th>bikeid</th>\n",
       "      <th>usertype</th>\n",
       "      <th>birth year</th>\n",
       "      <th>gender</th>\n",
       "    </tr>\n",
       "  </thead>\n",
       "  <tbody>\n",
       "    <tr>\n",
       "      <th>0</th>\n",
       "      <td>970</td>\n",
       "      <td>2018-01-01 13:50:57.4340</td>\n",
       "      <td>2018-01-01 14:07:08.1860</td>\n",
       "      <td>72</td>\n",
       "      <td>W 52 St &amp; 11 Ave</td>\n",
       "      <td>40.767272</td>\n",
       "      <td>-73.993929</td>\n",
       "      <td>505</td>\n",
       "      <td>6 Ave &amp; W 33 St</td>\n",
       "      <td>40.749013</td>\n",
       "      <td>-73.988484</td>\n",
       "      <td>31956</td>\n",
       "      <td>Subscriber</td>\n",
       "      <td>1992</td>\n",
       "      <td>1</td>\n",
       "    </tr>\n",
       "    <tr>\n",
       "      <th>1</th>\n",
       "      <td>723</td>\n",
       "      <td>2018-01-01 15:33:30.1820</td>\n",
       "      <td>2018-01-01 15:45:33.3410</td>\n",
       "      <td>72</td>\n",
       "      <td>W 52 St &amp; 11 Ave</td>\n",
       "      <td>40.767272</td>\n",
       "      <td>-73.993929</td>\n",
       "      <td>3255</td>\n",
       "      <td>8 Ave &amp; W 31 St</td>\n",
       "      <td>40.750585</td>\n",
       "      <td>-73.994685</td>\n",
       "      <td>32536</td>\n",
       "      <td>Subscriber</td>\n",
       "      <td>1969</td>\n",
       "      <td>1</td>\n",
       "    </tr>\n",
       "    <tr>\n",
       "      <th>2</th>\n",
       "      <td>496</td>\n",
       "      <td>2018-01-01 15:39:18.3370</td>\n",
       "      <td>2018-01-01 15:47:35.1720</td>\n",
       "      <td>72</td>\n",
       "      <td>W 52 St &amp; 11 Ave</td>\n",
       "      <td>40.767272</td>\n",
       "      <td>-73.993929</td>\n",
       "      <td>525</td>\n",
       "      <td>W 34 St &amp; 11 Ave</td>\n",
       "      <td>40.755942</td>\n",
       "      <td>-74.002116</td>\n",
       "      <td>16069</td>\n",
       "      <td>Subscriber</td>\n",
       "      <td>1956</td>\n",
       "      <td>1</td>\n",
       "    </tr>\n",
       "    <tr>\n",
       "      <th>3</th>\n",
       "      <td>306</td>\n",
       "      <td>2018-01-01 15:40:13.3720</td>\n",
       "      <td>2018-01-01 15:45:20.1910</td>\n",
       "      <td>72</td>\n",
       "      <td>W 52 St &amp; 11 Ave</td>\n",
       "      <td>40.767272</td>\n",
       "      <td>-73.993929</td>\n",
       "      <td>447</td>\n",
       "      <td>8 Ave &amp; W 52 St</td>\n",
       "      <td>40.763707</td>\n",
       "      <td>-73.985162</td>\n",
       "      <td>31781</td>\n",
       "      <td>Subscriber</td>\n",
       "      <td>1974</td>\n",
       "      <td>1</td>\n",
       "    </tr>\n",
       "    <tr>\n",
       "      <th>4</th>\n",
       "      <td>306</td>\n",
       "      <td>2018-01-01 18:14:51.5680</td>\n",
       "      <td>2018-01-01 18:19:57.6420</td>\n",
       "      <td>72</td>\n",
       "      <td>W 52 St &amp; 11 Ave</td>\n",
       "      <td>40.767272</td>\n",
       "      <td>-73.993929</td>\n",
       "      <td>3356</td>\n",
       "      <td>Amsterdam Ave &amp; W 66 St</td>\n",
       "      <td>40.774667</td>\n",
       "      <td>-73.984706</td>\n",
       "      <td>30319</td>\n",
       "      <td>Subscriber</td>\n",
       "      <td>1992</td>\n",
       "      <td>1</td>\n",
       "    </tr>\n",
       "    <tr>\n",
       "      <th>...</th>\n",
       "      <td>...</td>\n",
       "      <td>...</td>\n",
       "      <td>...</td>\n",
       "      <td>...</td>\n",
       "      <td>...</td>\n",
       "      <td>...</td>\n",
       "      <td>...</td>\n",
       "      <td>...</td>\n",
       "      <td>...</td>\n",
       "      <td>...</td>\n",
       "      <td>...</td>\n",
       "      <td>...</td>\n",
       "      <td>...</td>\n",
       "      <td>...</td>\n",
       "      <td>...</td>\n",
       "    </tr>\n",
       "    <tr>\n",
       "      <th>718989</th>\n",
       "      <td>843</td>\n",
       "      <td>2018-01-31 17:28:27.5390</td>\n",
       "      <td>2018-01-31 17:42:30.5890</td>\n",
       "      <td>3664</td>\n",
       "      <td>North Moore St &amp; Greenwich St</td>\n",
       "      <td>40.720195</td>\n",
       "      <td>-74.010301</td>\n",
       "      <td>410</td>\n",
       "      <td>Suffolk St &amp; Stanton St</td>\n",
       "      <td>40.720664</td>\n",
       "      <td>-73.985180</td>\n",
       "      <td>15153</td>\n",
       "      <td>Subscriber</td>\n",
       "      <td>1981</td>\n",
       "      <td>1</td>\n",
       "    </tr>\n",
       "    <tr>\n",
       "      <th>718990</th>\n",
       "      <td>244</td>\n",
       "      <td>2018-01-31 17:34:20.4510</td>\n",
       "      <td>2018-01-31 17:38:24.7200</td>\n",
       "      <td>3664</td>\n",
       "      <td>North Moore St &amp; Greenwich St</td>\n",
       "      <td>40.720195</td>\n",
       "      <td>-74.010301</td>\n",
       "      <td>327</td>\n",
       "      <td>Vesey Pl &amp; River Terrace</td>\n",
       "      <td>40.715338</td>\n",
       "      <td>-74.016584</td>\n",
       "      <td>26896</td>\n",
       "      <td>Subscriber</td>\n",
       "      <td>1960</td>\n",
       "      <td>1</td>\n",
       "    </tr>\n",
       "    <tr>\n",
       "      <th>718991</th>\n",
       "      <td>302</td>\n",
       "      <td>2018-01-31 18:20:55.5430</td>\n",
       "      <td>2018-01-31 18:25:58.3350</td>\n",
       "      <td>3664</td>\n",
       "      <td>North Moore St &amp; Greenwich St</td>\n",
       "      <td>40.720195</td>\n",
       "      <td>-74.010301</td>\n",
       "      <td>327</td>\n",
       "      <td>Vesey Pl &amp; River Terrace</td>\n",
       "      <td>40.715338</td>\n",
       "      <td>-74.016584</td>\n",
       "      <td>33111</td>\n",
       "      <td>Subscriber</td>\n",
       "      <td>1965</td>\n",
       "      <td>1</td>\n",
       "    </tr>\n",
       "    <tr>\n",
       "      <th>718992</th>\n",
       "      <td>222</td>\n",
       "      <td>2018-01-31 18:47:42.5720</td>\n",
       "      <td>2018-01-31 18:51:24.6830</td>\n",
       "      <td>3664</td>\n",
       "      <td>North Moore St &amp; Greenwich St</td>\n",
       "      <td>40.720195</td>\n",
       "      <td>-74.010301</td>\n",
       "      <td>257</td>\n",
       "      <td>Lispenard St &amp; Broadway</td>\n",
       "      <td>40.719392</td>\n",
       "      <td>-74.002472</td>\n",
       "      <td>16675</td>\n",
       "      <td>Subscriber</td>\n",
       "      <td>1969</td>\n",
       "      <td>0</td>\n",
       "    </tr>\n",
       "    <tr>\n",
       "      <th>718993</th>\n",
       "      <td>713</td>\n",
       "      <td>2018-01-31 19:35:55.4840</td>\n",
       "      <td>2018-01-31 19:47:48.6400</td>\n",
       "      <td>3664</td>\n",
       "      <td>North Moore St &amp; Greenwich St</td>\n",
       "      <td>40.720195</td>\n",
       "      <td>-74.010301</td>\n",
       "      <td>280</td>\n",
       "      <td>E 10 St &amp; 5 Ave</td>\n",
       "      <td>40.733320</td>\n",
       "      <td>-73.995101</td>\n",
       "      <td>17928</td>\n",
       "      <td>Subscriber</td>\n",
       "      <td>1991</td>\n",
       "      <td>1</td>\n",
       "    </tr>\n",
       "  </tbody>\n",
       "</table>\n",
       "<p>718994 rows × 15 columns</p>\n",
       "</div>"
      ],
      "text/plain": [
       "        tripduration                 starttime                  stoptime  \\\n",
       "0                970  2018-01-01 13:50:57.4340  2018-01-01 14:07:08.1860   \n",
       "1                723  2018-01-01 15:33:30.1820  2018-01-01 15:45:33.3410   \n",
       "2                496  2018-01-01 15:39:18.3370  2018-01-01 15:47:35.1720   \n",
       "3                306  2018-01-01 15:40:13.3720  2018-01-01 15:45:20.1910   \n",
       "4                306  2018-01-01 18:14:51.5680  2018-01-01 18:19:57.6420   \n",
       "...              ...                       ...                       ...   \n",
       "718989           843  2018-01-31 17:28:27.5390  2018-01-31 17:42:30.5890   \n",
       "718990           244  2018-01-31 17:34:20.4510  2018-01-31 17:38:24.7200   \n",
       "718991           302  2018-01-31 18:20:55.5430  2018-01-31 18:25:58.3350   \n",
       "718992           222  2018-01-31 18:47:42.5720  2018-01-31 18:51:24.6830   \n",
       "718993           713  2018-01-31 19:35:55.4840  2018-01-31 19:47:48.6400   \n",
       "\n",
       "        start station id             start station name  \\\n",
       "0                     72               W 52 St & 11 Ave   \n",
       "1                     72               W 52 St & 11 Ave   \n",
       "2                     72               W 52 St & 11 Ave   \n",
       "3                     72               W 52 St & 11 Ave   \n",
       "4                     72               W 52 St & 11 Ave   \n",
       "...                  ...                            ...   \n",
       "718989              3664  North Moore St & Greenwich St   \n",
       "718990              3664  North Moore St & Greenwich St   \n",
       "718991              3664  North Moore St & Greenwich St   \n",
       "718992              3664  North Moore St & Greenwich St   \n",
       "718993              3664  North Moore St & Greenwich St   \n",
       "\n",
       "        start station latitude  start station longitude  end station id  \\\n",
       "0                    40.767272               -73.993929             505   \n",
       "1                    40.767272               -73.993929            3255   \n",
       "2                    40.767272               -73.993929             525   \n",
       "3                    40.767272               -73.993929             447   \n",
       "4                    40.767272               -73.993929            3356   \n",
       "...                        ...                      ...             ...   \n",
       "718989               40.720195               -74.010301             410   \n",
       "718990               40.720195               -74.010301             327   \n",
       "718991               40.720195               -74.010301             327   \n",
       "718992               40.720195               -74.010301             257   \n",
       "718993               40.720195               -74.010301             280   \n",
       "\n",
       "                end station name  end station latitude  end station longitude  \\\n",
       "0                6 Ave & W 33 St             40.749013             -73.988484   \n",
       "1                8 Ave & W 31 St             40.750585             -73.994685   \n",
       "2               W 34 St & 11 Ave             40.755942             -74.002116   \n",
       "3                8 Ave & W 52 St             40.763707             -73.985162   \n",
       "4        Amsterdam Ave & W 66 St             40.774667             -73.984706   \n",
       "...                          ...                   ...                    ...   \n",
       "718989   Suffolk St & Stanton St             40.720664             -73.985180   \n",
       "718990  Vesey Pl & River Terrace             40.715338             -74.016584   \n",
       "718991  Vesey Pl & River Terrace             40.715338             -74.016584   \n",
       "718992   Lispenard St & Broadway             40.719392             -74.002472   \n",
       "718993           E 10 St & 5 Ave             40.733320             -73.995101   \n",
       "\n",
       "        bikeid    usertype  birth year  gender  \n",
       "0        31956  Subscriber        1992       1  \n",
       "1        32536  Subscriber        1969       1  \n",
       "2        16069  Subscriber        1956       1  \n",
       "3        31781  Subscriber        1974       1  \n",
       "4        30319  Subscriber        1992       1  \n",
       "...        ...         ...         ...     ...  \n",
       "718989   15153  Subscriber        1981       1  \n",
       "718990   26896  Subscriber        1960       1  \n",
       "718991   33111  Subscriber        1965       1  \n",
       "718992   16675  Subscriber        1969       0  \n",
       "718993   17928  Subscriber        1991       1  \n",
       "\n",
       "[718994 rows x 15 columns]"
      ]
     },
     "execution_count": 4,
     "metadata": {},
     "output_type": "execute_result"
    }
   ],
   "source": [
    "Data1"
   ]
  },
  {
   "cell_type": "code",
   "execution_count": 6,
   "id": "1597b856-27a1-43f6-a9d2-fb6628032b0e",
   "metadata": {},
   "outputs": [
    {
     "data": {
      "text/plain": [
       "31.52189252759182"
      ]
     },
     "execution_count": 6,
     "metadata": {},
     "output_type": "execute_result"
    }
   ],
   "source": [
    "grouping = Data1.groupby(\"usertype\").size()\n",
    "ratio = grouping[\"Subscriber\"] / grouping[\"Customer\"]\n",
    "ratio"
   ]
  },
  {
   "cell_type": "code",
   "execution_count": 7,
   "id": "92139b2d-a3aa-44a4-a198-e9fb444d1039",
   "metadata": {},
   "outputs": [
    {
     "data": {
      "text/plain": [
       "519     8080\n",
       "435     5093\n",
       "3255    4852\n",
       "402     4526\n",
       "497     4503\n",
       "        ... \n",
       "3485       2\n",
       "3250       1\n",
       "3662       1\n",
       "428        1\n",
       "3488       1\n",
       "Name: start station id, Length: 763, dtype: int64"
      ]
     },
     "execution_count": 7,
     "metadata": {},
     "output_type": "execute_result"
    }
   ],
   "source": [
    "Data1[\"start station id\"].value_counts()"
   ]
  },
  {
   "cell_type": "markdown",
   "id": "8fdd31b9-1c4d-463c-ac4f-060109f1ae62",
   "metadata": {
    "tags": []
   },
   "source": [
    "## IDEAS\n",
    "\n",
    "First split into train,validation,and Test before even plotting the data.\n",
    "(How large should each data set be?)\n",
    "Only plot training data, neve rlook at test data! Otherwise my your knowledge of test data biases test error estimates.\n",
    "\n",
    "Is data set \"Balanced\"? Should I try to preserve some balance in train, val, test split?\n",
    "-> Subscribers make MANY more trips\n",
    "\n",
    "Remove outliers from triptime and birthyear data\n",
    "\n",
    "1. Load all files into one data frame grouped by month -> Can pandas even do this?\n",
    "2. Split Data -> I do one fixed train,test,validation split at the beginning and never change it because the data set is very large and I dont expect much variation over splits. I could otherwise do corss-validation or something. Question: Should one balance labels somehow in the splits?\n",
    "3. Compute trip durations -> already done, and length (how??? luftlinie oder station distances -> Google maps API?) from the data\n",
    "    1. Can use OSMnx\n",
    "    2. Use Taxicab metric (simpler) -> Actually not simpler at all, need coordinates relative to new york layout\n",
    "    3. Luftlinie (am einfachsten)\n",
    "4. Compute weekdays vs weekends\n",
    "5. Can one do somethign with bikeID?\n",
    "6. Can one do something with stationID?\n",
    "7. Compare to baseline of simply choosing most likely class label, ignoring user data!\n",
    "   Or use other ways of dealing with imbalance / representing effect?"
   ]
  },
  {
   "cell_type": "markdown",
   "id": "0e5cbcf0-8f6c-4b94-8897-f509be968e89",
   "metadata": {},
   "source": [
    "Features need to be preprocessed -> Encode categorically etc."
   ]
  },
  {
   "cell_type": "markdown",
   "id": "2c7f97aa-176b-497c-b747-3188ccb27d18",
   "metadata": {},
   "source": [
    "Some feature ideas:\n",
    "1. Time\n",
    "2. Distance\n",
    "3. Speed\n",
    "4. Workday vs Weekend (maybe even include holidays)\n",
    "5. Month (maybe)\n",
    "6. StartStation -> Because people from similar areas might be subscribers / not "
   ]
  },
  {
   "cell_type": "markdown",
   "id": "01ef7a71-dc74-4cb8-be1c-b0553be0125f",
   "metadata": {},
   "source": [
    "## Evaluation?"
   ]
  },
  {
   "cell_type": "markdown",
   "id": "8bb44fa7-1bf6-4969-8bb9-b93606e465b1",
   "metadata": {},
   "source": [
    "1. Evaluate vs baseline (baseline = always choos \"subscriber\" as label)\n",
    "2. Confusion matrix"
   ]
  },
  {
   "cell_type": "markdown",
   "id": "25389c84-e02c-483b-88c7-9ce92f7b55b6",
   "metadata": {},
   "source": [
    "Try loading the whole dataset"
   ]
  },
  {
   "cell_type": "code",
   "execution_count": 9,
   "id": "686c2263-653b-4f30-b9ec-1abc4451c818",
   "metadata": {},
   "outputs": [
    {
     "name": "stdout",
     "output_type": "stream",
     "text": [
      "['Data/201810-citibike-tripdata.csv', 'Data/201802-citibike-tripdata.csv', 'Data/201809-citibike-tripdata.csv', 'Data/201808-citibike-tripdata.csv', 'Data/201803-citibike-tripdata.csv', 'Data/201807-citibike-tripdata.csv', 'Data/201812-citibike-tripdata.csv', 'Data/201805-citibike-tripdata.csv', 'Data/201811-citibike-tripdata.csv', 'Data/201806-citibike-tripdata.csv', 'Data/201804-citibike-tripdata.csv', 'Data/201801-citibike-tripdata.csv']\n",
      "10\n",
      "02\n",
      "09\n",
      "08\n",
      "03\n",
      "07\n",
      "12\n",
      "05\n",
      "11\n",
      "06\n",
      "04\n",
      "01\n"
     ]
    }
   ],
   "source": [
    "filenames = glob.glob(\"Data/2*.csv\")\n",
    "print(filenames)\n",
    "dfs = []\n",
    "for filename in filenames:\n",
    "    month = filename[9:11]\n",
    "    print(month)\n",
    "    d = pd.read_csv(filename)\n",
    "    d[\"month\"] = month    \n",
    "    dfs.append(d)\n",
    "data = pd.concat(dfs,ignore_index=True)"
   ]
  },
  {
   "cell_type": "code",
   "execution_count": null,
   "id": "0dccc46c-0552-47b9-bbae-148893ddc9cc",
   "metadata": {},
   "outputs": [],
   "source": [
    "data"
   ]
  },
  {
   "cell_type": "code",
   "execution_count": 12,
   "id": "821b26da-0297-4747-9f61-ffc25e59f87c",
   "metadata": {},
   "outputs": [
    {
     "name": "stdout",
     "output_type": "stream",
     "text": [
      "The dataframe needs 9.14 GB of memory\n"
     ]
    }
   ],
   "source": [
    "memory = data.memory_usage(index=True,deep=True).sum()\n",
    "print(f\"The dataframe needs {memory/1e9:.3} GB of memory\")"
   ]
  },
  {
   "cell_type": "code",
   "execution_count": 11,
   "id": "2055991d-5640-49f3-960c-f64f41f90a6f",
   "metadata": {},
   "outputs": [
    {
     "data": {
      "text/plain": [
       "<AxesSubplot:>"
      ]
     },
     "execution_count": 11,
     "metadata": {},
     "output_type": "execute_result"
    },
    {
     "data": {
      "image/png": "[encoded data removed]",
      "text/plain": [
       "<Figure size 432x288 with 1 Axes>"
      ]
     },
     "metadata": {},
     "output_type": "display_data"
    }
   ],
   "source": [
    "counts = data.groupby(\"usertype\").size()\n",
    "counts.plot.pie(autopct='%1.0f%%',ylabel=\"\")"
   ]
  },
  {
   "cell_type": "code",
   "execution_count": 8,
   "id": "dbf50194-6ad4-42f6-b1d3-61803542a3ed",
   "metadata": {},
   "outputs": [
    {
     "name": "stdout",
     "output_type": "stream",
     "text": [
      "17548339\n",
      "Train: 10529003, Val: 3509667, Test: 3509667\n"
     ]
    }
   ],
   "source": [
    "print(len(data))\n",
    "n = len(data)\n",
    "train_ratio = 0.6\n",
    "val_ratio = 0.2\n",
    "test_ratio = 0.2\n",
    "train_size = int(train_ratio*n)\n",
    "val_size = int(val_ratio*n)\n",
    "test_size = int(test_ratio*n)\n",
    "print(\"Train: {0}, Val: {1}, Test: {2}\".format(int(train_ratio*n), int(val_ratio*n), int(test_ratio*n)))"
   ]
  },
  {
   "cell_type": "code",
   "execution_count": 9,
   "id": "1972757d-6773-4e35-b644-3ae7b4104842",
   "metadata": {},
   "outputs": [
    {
     "name": "stdout",
     "output_type": "stream",
     "text": [
      "10529005 3509667 3509667\n"
     ]
    }
   ],
   "source": [
    "trainset,testset = train_test_split(data,test_size=test_size)\n",
    "trainset,valset = train_test_split(trainset,test_size=val_size)\n",
    "print(len(trainset),len(valset),len(testset))"
   ]
  },
  {
   "cell_type": "code",
   "execution_count": 10,
   "id": "2b5ce5f0-9482-4d01-9913-a2fccc16de74",
   "metadata": {},
   "outputs": [],
   "source": [
    "with open(\"Data/Train.csv\",\"w\") as file:\n",
    "    trainset.to_csv(file)"
   ]
  },
  {
   "cell_type": "code",
   "execution_count": 11,
   "id": "8a257b6b-5863-4939-95a5-3f1abd960e4d",
   "metadata": {},
   "outputs": [],
   "source": [
    "with open(\"Data/Validation.csv\",\"w\") as file:\n",
    "    valset.to_csv(file)"
   ]
  },
  {
   "cell_type": "code",
   "execution_count": 12,
   "id": "82f8923f-cfc8-44ec-84c4-c813b18ca187",
   "metadata": {},
   "outputs": [],
   "source": [
    "with open(\"Data/Test.csv\",\"w\") as file:\n",
    "    testset.to_csv(file)"
   ]
  },
  {
   "cell_type": "code",
   "execution_count": null,
   "id": "d42b6539-6b34-4eac-97b3-640ab5e3758e",
   "metadata": {},
   "outputs": [],
   "source": []
  }
 ],
 "metadata": {
  "kernelspec": {
   "display_name": "Python 3 (ipykernel)",
   "language": "python",
   "name": "python3"
  },
  "language_info": {
   "codemirror_mode": {
    "name": "ipython",
    "version": 3
   },
   "file_extension": ".py",
   "mimetype": "text/x-python",
   "name": "python",
   "nbconvert_exporter": "python",
   "pygments_lexer": "ipython3",
   "version": "3.7.10"
  }
 },
 "nbformat": 4,
 "nbformat_minor": 5
}
