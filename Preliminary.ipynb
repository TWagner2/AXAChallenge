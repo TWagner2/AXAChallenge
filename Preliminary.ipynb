{
 "cells": [
  {
   "cell_type": "code",
   "execution_count": 1,
   "id": "22638d57",
   "metadata": {},
   "outputs": [],
   "source": [
    "%config IPCompleter.use_jedi=False\n",
    "%matplotlib inline\n",
    "\n",
    "import pandas as pd\n",
    "from pandas.api.types import union_categoricals\n",
    "import numpy as np\n",
    "import glob\n",
    "import datetime\n",
    "import matplotlib.pyplot as plt\n",
    "from sklearn.model_selection import train_test_split\n",
    "from Utils import print_memory_usage"
   ]
  },
  {
   "cell_type": "code",
   "execution_count": 2,
   "id": "06808d41",
   "metadata": {},
   "outputs": [],
   "source": [
    "savepath = r\"Data/data_cleaned.parquet\""
   ]
  },
  {
   "cell_type": "markdown",
   "id": "cda93d83",
   "metadata": {
    "tags": []
   },
   "source": [
    "## IDEAS\n",
    "\n",
    "First split into train,validation,and Test before even plotting the data.\n",
    "(How large should each data set be?)\n",
    "Only plot training data, neve rlook at test data! Otherwise my your knowledge of test data biases test error estimates.\n",
    "\n",
    "Is data set \"Balanced\"? Should I try to preserve some balance in train, val, test split?\n",
    "-> Subscribers make MANY more trips\n",
    "\n",
    "Remove outliers from triptime and birthyear data\n",
    "\n",
    "1. Load all files into one data frame grouped by month -> Can pandas even do this?\n",
    "2. Split Data -> I do one fixed train,test,validation split at the beginning and never change it because the data set is very large and I dont expect much variation over splits. I could otherwise do corss-validation or something. Question: Should one balance labels somehow in the splits?\n",
    "3. Compute trip durations -> already done, and length (how??? luftlinie oder station distances -> Google maps API?) from the data\n",
    "    1. Can use OSMnx\n",
    "    2. Use Taxicab metric (simpler) -> Actually not simpler at all, need coordinates relative to new york layout\n",
    "    3. Luftlinie (am einfachsten)\n",
    "4. Compute weekdays vs weekends\n",
    "5. Can one do somethign with bikeID?\n",
    "6. Can one do something with stationID?\n",
    "7. Compare to baseline of simply choosing most likely class label, ignoring user data!\n",
    "   Or use other ways of dealing with imbalance / representing effect?"
   ]
  },
  {
   "cell_type": "markdown",
   "id": "27c065b3",
   "metadata": {},
   "source": [
    "Features need to be preprocessed -> Encode categorically etc."
   ]
  },
  {
   "cell_type": "markdown",
   "id": "c6c0b4c8",
   "metadata": {},
   "source": [
    "Some feature ideas:\n",
    "1. Time\n",
    "2. Afternoon vs prenoon vs night\n",
    "2. Distance\n",
    "3. Speed\n",
    "4. Workday vs Weekend (maybe even include holidays)\n",
    "5. Month (maybe)\n",
    "6. StartStation -> Because people from similar areas might be subscribers / not \n",
    "7. Using Gender = Unknown seems unfair because this depends on the registration process and in this sense is data only available after the class of the user is known"
   ]
  },
  {
   "cell_type": "markdown",
   "id": "08fc33cf",
   "metadata": {},
   "source": [
    "Map of stations: https://account.citibikenyc.com/map"
   ]
  },
  {
   "cell_type": "markdown",
   "id": "c2b25a26",
   "metadata": {},
   "source": [
    "## Evaluation?"
   ]
  },
  {
   "cell_type": "markdown",
   "id": "549ba078",
   "metadata": {},
   "source": [
    "1. Evaluate vs baseline (baseline = always choose \"subscriber\" as label)\n",
    "2. Confusion matrix"
   ]
  },
  {
   "cell_type": "markdown",
   "id": "a064cbdf",
   "metadata": {
    "tags": []
   },
   "source": [
    "# Data loading and formatting"
   ]
  },
  {
   "cell_type": "markdown",
   "id": "08c1e33e",
   "metadata": {},
   "source": [
    "First, we convert the individual files to .parquet and introduce categorical types for the memory intensive columns, and converting the time data to datetime format"
   ]
  },
  {
   "cell_type": "code",
   "execution_count": 3,
   "id": "bfa6a0d6",
   "metadata": {},
   "outputs": [],
   "source": [
    "dtype = { \"start station name\":\"category\",\n",
    "          \"end station name\":\"category\",\n",
    "          \"usertype\":\"category\",\n",
    "          \"start station id\":\"Int64\",\n",
    "          \"end station id\":\"Int64\"}\n",
    "datatime_format=\"%Y-%m-%d %H:%M:%S.%f\""
   ]
  },
  {
   "cell_type": "code",
   "execution_count": 4,
   "id": "853d7e9c",
   "metadata": {},
   "outputs": [
    {
     "name": "stdout",
     "output_type": "stream",
     "text": [
      "['Data/201810-citibike-tripdata.csv', 'Data/201802-citibike-tripdata.csv', 'Data/201809-citibike-tripdata.csv', 'Data/201808-citibike-tripdata.csv', 'Data/201803-citibike-tripdata.csv', 'Data/201807-citibike-tripdata.csv', 'Data/201812-citibike-tripdata.csv', 'Data/201805-citibike-tripdata.csv', 'Data/201811-citibike-tripdata.csv', 'Data/201806-citibike-tripdata.csv', 'Data/201804-citibike-tripdata.csv', 'Data/201801-citibike-tripdata.csv']\n"
     ]
    }
   ],
   "source": [
    "filenames = glob.glob(\"Data/2*.csv\")\n",
    "print(filenames)"
   ]
  },
  {
   "cell_type": "code",
   "execution_count": 5,
   "id": "7bc14a37",
   "metadata": {},
   "outputs": [],
   "source": [
    "def convert_files(filenames,dtype,datetime_format):\n",
    "    for filename in filenames:\n",
    "        path=filename.split(\".\")[0]\n",
    "        data = pd.read_csv(filename)\n",
    "        data = data.astype(dtype,copy=False)\n",
    "        data[\"starttime\"] = pd.to_datetime(data[\"starttime\"],format=datatime_format)\n",
    "        data[\"stoptime\"] = pd.to_datetime(data[\"stoptime\"],format=datatime_format)\n",
    "        data.to_parquet(path+\".parquet\",engine=\"pyarrow\",index=False)\n",
    "        "
   ]
  },
  {
   "cell_type": "code",
   "execution_count": 6,
   "id": "b5344d3c",
   "metadata": {},
   "outputs": [],
   "source": [
    "convert_files(filenames,dtype,datatime_format)"
   ]
  },
  {
   "cell_type": "markdown",
   "id": "3e724822",
   "metadata": {},
   "source": [
    "Now, we load the files and combine into one large dataframe."
   ]
  },
  {
   "cell_type": "code",
   "execution_count": 7,
   "id": "b5f1bfdb",
   "metadata": {},
   "outputs": [],
   "source": [
    "filenames_parquet = filenames = glob.glob(\"Data/2*.parquet\")"
   ]
  },
  {
   "cell_type": "code",
   "execution_count": 8,
   "id": "36b76fd9",
   "metadata": {},
   "outputs": [],
   "source": [
    "def load_files(filenames,categorical_cols, **kwargs):\n",
    "    dfs=[]\n",
    "    for filename in filenames:\n",
    "        d = pd.read_parquet(filename,engine=\"pyarrow\")\n",
    "        dfs.append(d)\n",
    "    for col in categorical_cols:\n",
    "        #We need to create unioned category types for concatenation\n",
    "        #Otherwhise categorical columns are converted to object, which is too memory intensive\n",
    "        uc = union_categoricals([d[col] for d in dfs])\n",
    "        for d in dfs:\n",
    "            d[col] = pd.Categorical(d[col],categories=uc.categories)\n",
    "    data = pd.concat(dfs,ignore_index=True,copy=False)\n",
    "    return data"
   ]
  },
  {
   "cell_type": "markdown",
   "id": "f2428ec1",
   "metadata": {},
   "source": [
    "Using category dtype for the station names saves a lot of memory.\n",
    "Similarly, converting the timestamps into datetime type makes them easier to work with and saves a lot of memory too."
   ]
  },
  {
   "cell_type": "code",
   "execution_count": 9,
   "id": "c555214f",
   "metadata": {
    "tags": []
   },
   "outputs": [
    {
     "name": "stdout",
     "output_type": "stream",
     "text": [
      "The dataframe needs 1.81 GB of memory\n"
     ]
    },
    {
     "data": {
      "text/plain": [
       "tripduration                        int64\n",
       "starttime                  datetime64[ns]\n",
       "stoptime                   datetime64[ns]\n",
       "start station id                    Int64\n",
       "start station name               category\n",
       "start station latitude            float64\n",
       "start station longitude           float64\n",
       "end station id                      Int64\n",
       "end station name                 category\n",
       "end station latitude              float64\n",
       "end station longitude             float64\n",
       "bikeid                              int64\n",
       "usertype                         category\n",
       "birth year                          int64\n",
       "gender                              int64\n",
       "dtype: object"
      ]
     },
     "execution_count": 9,
     "metadata": {},
     "output_type": "execute_result"
    }
   ],
   "source": [
    "data = load_files(filenames_parquet,categorical_cols=[\"start station name\",\"end station name\",\"usertype\"])\n",
    "#data[\"starttime\"] = pd.to_datetime(data[\"starttime\"],format=datatime_format)\n",
    "#data[\"stoptime\"] = pd.to_datetime(data[\"stoptime\"],format=datatime_format)\n",
    "print_memory_usage(data)\n",
    "data.dtypes"
   ]
  },
  {
   "cell_type": "code",
   "execution_count": 10,
   "id": "279c395b",
   "metadata": {},
   "outputs": [],
   "source": [
    "data.to_parquet(\"Data/data_full.parquet\",engine=\"pyarrow\",index=False)"
   ]
  },
  {
   "cell_type": "markdown",
   "id": "4a08202f",
   "metadata": {
    "tags": []
   },
   "source": [
    "# Data Cleaning"
   ]
  },
  {
   "cell_type": "code",
   "execution_count": 11,
   "id": "8e4afdfa",
   "metadata": {},
   "outputs": [],
   "source": [
    "data = pd.read_parquet(\"Data/data_full.parquet\",engine=\"pyarrow\") #reload data if starting new"
   ]
  },
  {
   "cell_type": "markdown",
   "id": "6c54b86a",
   "metadata": {},
   "source": [
    "We now look at the some features and try to remove outliers."
   ]
  },
  {
   "cell_type": "markdown",
   "id": "4fe8c2d6",
   "metadata": {},
   "source": [
    "First, lets check for NAN values:"
   ]
  },
  {
   "cell_type": "code",
   "execution_count": 13,
   "id": "76d575d1",
   "metadata": {},
   "outputs": [
    {
     "data": {
      "text/plain": [
       "tripduration               17548339\n",
       "starttime                  17548339\n",
       "stoptime                   17548339\n",
       "start station id           17545842\n",
       "start station name         17545842\n",
       "start station latitude     17548339\n",
       "start station longitude    17548339\n",
       "end station id             17545842\n",
       "end station name           17545842\n",
       "end station latitude       17548339\n",
       "end station longitude      17548339\n",
       "bikeid                     17548339\n",
       "usertype                   17548339\n",
       "birth year                 17548339\n",
       "gender                     17548339\n",
       "dtype: int64"
      ]
     },
     "execution_count": 13,
     "metadata": {},
     "output_type": "execute_result"
    }
   ],
   "source": [
    "data.count()"
   ]
  },
  {
   "cell_type": "markdown",
   "id": "41d05951",
   "metadata": {},
   "source": [
    "We see that start and end station ids and names are not always available.\n",
    "This affects about 3000 of the 17 million entries.\n",
    "We simply remove the rows with missing values."
   ]
  },
  {
   "cell_type": "code",
   "execution_count": 14,
   "id": "607829a5",
   "metadata": {
    "tags": []
   },
   "outputs": [
    {
     "data": {
      "text/plain": [
       "tripduration               17545842\n",
       "starttime                  17545842\n",
       "stoptime                   17545842\n",
       "start station id           17545842\n",
       "start station name         17545842\n",
       "start station latitude     17545842\n",
       "start station longitude    17545842\n",
       "end station id             17545842\n",
       "end station name           17545842\n",
       "end station latitude       17545842\n",
       "end station longitude      17545842\n",
       "bikeid                     17545842\n",
       "usertype                   17545842\n",
       "birth year                 17545842\n",
       "gender                     17545842\n",
       "dtype: int64"
      ]
     },
     "execution_count": 14,
     "metadata": {},
     "output_type": "execute_result"
    }
   ],
   "source": [
    "data.dropna(inplace=True)\n",
    "data.count()"
   ]
  },
  {
   "cell_type": "markdown",
   "id": "264ff3df",
   "metadata": {
    "tags": []
   },
   "source": [
    "## Tripdurations"
   ]
  },
  {
   "cell_type": "markdown",
   "id": "31612d88",
   "metadata": {},
   "source": [
    "Next, let us have a look at the tripdurations."
   ]
  },
  {
   "cell_type": "code",
   "execution_count": 15,
   "id": "e01920da",
   "metadata": {},
   "outputs": [
    {
     "data": {
      "image/png": "[encoded data removed]",
      "text/plain": [
       "<Figure size 432x288 with 1 Axes>"
      ]
     },
     "metadata": {
      "needs_background": "light"
     },
     "output_type": "display_data"
    }
   ],
   "source": [
    "dur_min = data[\"tripduration\"]/60\n",
    "min_dur = dur_min.min()\n",
    "max_dur = dur_min.max()\n",
    "n_bins = 1000\n",
    "bins = np.logspace(start = np.log10(min_dur),stop = np.log10(max_dur),num=n_bins)\n",
    "ax = (dur_min).plot(kind=\"hist\",loglog=True,bins=bins)\n",
    "ax.set_xlabel(\"Duration (min)\");"
   ]
  },
  {
   "cell_type": "markdown",
   "id": "0d9ab020",
   "metadata": {},
   "source": [
    "Most trips are between 2 mins and 1 hour.\n",
    "We remove trip durations > 5 hours, since these seem unlikely inside New York.\n",
    "Also note that durations < 60 seconds were already removed by the data provider, reasoning that these are likely just people trying to redock the bike."
   ]
  },
  {
   "cell_type": "code",
   "execution_count": 16,
   "id": "5ac68f95",
   "metadata": {},
   "outputs": [
    {
     "name": "stdout",
     "output_type": "stream",
     "text": [
      "There are 15454 trips of at least 5 hours in the data.\n"
     ]
    }
   ],
   "source": [
    "duration_h = 5\n",
    "longtrips = data[data[\"tripduration\"] >= duration_h*60*60]\n",
    "print(f\"There are {len(longtrips)} trips of at least {duration_h} hours in the data.\")\n",
    "data.drop(longtrips.index,inplace=True)"
   ]
  },
  {
   "cell_type": "markdown",
   "id": "8b7f8ba9",
   "metadata": {},
   "source": [
    "We also notice that there are round trips in the data."
   ]
  },
  {
   "cell_type": "code",
   "execution_count": 17,
   "id": "bda16f81",
   "metadata": {},
   "outputs": [
    {
     "name": "stdout",
     "output_type": "stream",
     "text": [
      "There are 345517 round trips in the data\n"
     ]
    },
    {
     "data": {
      "image/png": "[encoded data removed]",
      "text/plain": [
       "<Figure size 432x288 with 1 Axes>"
      ]
     },
     "metadata": {
      "needs_background": "light"
     },
     "output_type": "display_data"
    }
   ],
   "source": [
    "roundtrips = data[data[\"start station id\"] == data[\"end station id\"]]\n",
    "print(f\"There are {len(roundtrips)} round trips in the data\")\n",
    "ax = (roundtrips[\"tripduration\"] / 60).hist(bins=100)\n",
    "ax.set_xlabel(\"Duration (min)\");"
   ]
  },
  {
   "cell_type": "code",
   "execution_count": 18,
   "id": "05b0620e",
   "metadata": {},
   "outputs": [
    {
     "data": {
      "image/png": "[encoded data removed]",
      "text/plain": [
       "<Figure size 432x288 with 1 Axes>"
      ]
     },
     "metadata": {
      "needs_background": "light"
     },
     "output_type": "display_data"
    }
   ],
   "source": [
    "ax = roundtrips[roundtrips[\"tripduration\"]<200][\"tripduration\"].hist(bins=100)\n",
    "ax.set_xlabel(\"Duration (s)\");"
   ]
  },
  {
   "cell_type": "markdown",
   "id": "20b31677",
   "metadata": {},
   "source": [
    "Let us also exclude round trips of less than 120 seconds, since these also seem like people docking their bikes or playing around."
   ]
  },
  {
   "cell_type": "code",
   "execution_count": 19,
   "id": "b2511425",
   "metadata": {},
   "outputs": [
    {
     "name": "stdout",
     "output_type": "stream",
     "text": [
      "There are 38770 short round trips in the data\n"
     ]
    }
   ],
   "source": [
    "shortroundtrips = roundtrips[roundtrips[\"tripduration\"]<120]\n",
    "print(f\"There are {len(shortroundtrips)} short round trips in the data\")\n",
    "data.drop(shortroundtrips.index,inplace=True)"
   ]
  },
  {
   "cell_type": "markdown",
   "id": "4ad5c31f",
   "metadata": {},
   "source": [
    "Let us furthermore indicate which trips are round trips for convenience"
   ]
  },
  {
   "cell_type": "code",
   "execution_count": 20,
   "id": "e984859c",
   "metadata": {},
   "outputs": [
    {
     "data": {
      "text/plain": [
       "False    17184871\n",
       "True       306747\n",
       "Name: is_roundtrip, dtype: Int64"
      ]
     },
     "execution_count": 20,
     "metadata": {},
     "output_type": "execute_result"
    }
   ],
   "source": [
    "data[\"is_roundtrip\"] = data[\"start station id\"] == data[\"end station id\"]\n",
    "data[\"is_roundtrip\"].value_counts()"
   ]
  },
  {
   "cell_type": "markdown",
   "id": "0d3c4052",
   "metadata": {
    "tags": []
   },
   "source": [
    "## Birthyears"
   ]
  },
  {
   "cell_type": "markdown",
   "id": "ad4225ba",
   "metadata": {},
   "source": [
    "Next, we look at the distribution of birth years"
   ]
  },
  {
   "cell_type": "code",
   "execution_count": 21,
   "id": "64be6695",
   "metadata": {},
   "outputs": [
    {
     "name": "stdout",
     "output_type": "stream",
     "text": [
      "1885\n",
      "2002\n"
     ]
    }
   ],
   "source": [
    "print(data[\"birth year\"].min())\n",
    "print(data[\"birth year\"].max())"
   ]
  },
  {
   "cell_type": "markdown",
   "id": "f3a527b0",
   "metadata": {},
   "source": [
    "Since the data is from 2018, we exclude people born before 1920."
   ]
  },
  {
   "cell_type": "code",
   "execution_count": 22,
   "id": "20037198",
   "metadata": {},
   "outputs": [
    {
     "name": "stdout",
     "output_type": "stream",
     "text": [
      "There are 11337 trips made by people born before 1920 in the data.\n"
     ]
    }
   ],
   "source": [
    "old = data[data[\"birth year\"] <= 1920]\n",
    "print(f\"There are {len(old)} trips made by people born before 1920 in the data.\")\n",
    "data.drop(old.index,inplace=True)"
   ]
  },
  {
   "cell_type": "markdown",
   "id": "474ce044",
   "metadata": {},
   "source": [
    "## Coordinates"
   ]
  },
  {
   "cell_type": "markdown",
   "id": "8135ecfa",
   "metadata": {},
   "source": [
    "Next, we look at the coordinates.\n",
    "New york encompasses latitudes of about between 40.6 and 40.9, and longitudes between -74.2 and -73.7"
   ]
  },
  {
   "cell_type": "code",
   "execution_count": 23,
   "id": "5a91be9b",
   "metadata": {},
   "outputs": [
    {
     "name": "stdout",
     "output_type": "stream",
     "text": [
      "40.64653836709648\n",
      "45.506364054011385\n"
     ]
    }
   ],
   "source": [
    "print(data[\"start station latitude\"].min())\n",
    "print(data[\"start station latitude\"].max())"
   ]
  },
  {
   "cell_type": "code",
   "execution_count": 24,
   "id": "57cb793f",
   "metadata": {},
   "outputs": [
    {
     "data": {
      "image/png": "[encoded data removed]",
      "text/plain": [
       "<Figure size 432x288 with 1 Axes>"
      ]
     },
     "metadata": {
      "needs_background": "light"
     },
     "output_type": "display_data"
    }
   ],
   "source": [
    "ax = data[\"start station latitude\"].plot(kind=\"hist\",logy = True,bins=600)\n",
    "ax.set_xlabel(\"Latitude\");"
   ]
  },
  {
   "cell_type": "markdown",
   "id": "e0492ae6",
   "metadata": {},
   "source": [
    "There appear to be around a 50 bikes lost at latitude > 45, which is somewhere around Montreal.\n",
    "We exclude these."
   ]
  },
  {
   "cell_type": "code",
   "execution_count": 25,
   "id": "a1203bd7",
   "metadata": {},
   "outputs": [
    {
     "name": "stdout",
     "output_type": "stream",
     "text": [
      "65\n"
     ]
    }
   ],
   "source": [
    "lost = data[data[\"start station latitude\"]>41]\n",
    "print(len(lost))\n",
    "data.drop(lost.index,inplace=True)"
   ]
  },
  {
   "cell_type": "markdown",
   "id": "cac6e8ba",
   "metadata": {},
   "source": [
    "The remaining values make sense:"
   ]
  },
  {
   "cell_type": "code",
   "execution_count": 26,
   "id": "4ac98c8a",
   "metadata": {},
   "outputs": [
    {
     "name": "stdout",
     "output_type": "stream",
     "text": [
      "The latitude is between 40.65 and 40.81\n",
      "The longitude is between -74.08 and -73.91\n"
     ]
    }
   ],
   "source": [
    "min_lat = data[[\"start station latitude\",\"end station latitude\"]].min().min()\n",
    "max_lat = data[[\"start station latitude\",\"end station latitude\"]].max().max()\n",
    "min_long = data[[\"start station longitude\",\"end station longitude\"]].min().min()\n",
    "max_long = data[[\"start station longitude\",\"end station longitude\"]].max().max()\n",
    "print(f\"The latitude is between {min_lat:.2f} and {max_lat:.2f}\")\n",
    "print(f\"The longitude is between {min_long:.2f} and {max_long:.2f}\")"
   ]
  },
  {
   "cell_type": "markdown",
   "id": "0821ab95",
   "metadata": {},
   "source": [
    "We save cleaned data for later convenience."
   ]
  },
  {
   "cell_type": "code",
   "execution_count": 27,
   "id": "a97802c9",
   "metadata": {},
   "outputs": [],
   "source": [
    "data.to_parquet(savepath,index=False,engine=\"pyarrow\")"
   ]
  },
  {
   "cell_type": "markdown",
   "id": "d0fb9855",
   "metadata": {
    "tags": []
   },
   "source": [
    "## Computing some more features"
   ]
  },
  {
   "cell_type": "code",
   "execution_count": 28,
   "id": "fd509c84",
   "metadata": {},
   "outputs": [],
   "source": [
    "data = pd.read_parquet(savepath,engine=\"pyarrow\")"
   ]
  },
  {
   "cell_type": "markdown",
   "id": "402194f5",
   "metadata": {},
   "source": [
    "There are some features that seem intuitively obvious to compute, such as the distane traveled, the speed of the bikes, whether it is a workday or weekend, and whether it is summer or winter.\n",
    "We do this for the whole data set.\n",
    "Note that we do not use any information about the labels here, so we do not need a train / test split yet."
   ]
  },
  {
   "cell_type": "markdown",
   "id": "2b0d81b0",
   "metadata": {},
   "source": [
    "### Distance"
   ]
  },
  {
   "cell_type": "markdown",
   "id": "29ba5034",
   "metadata": {},
   "source": [
    "Compute Haversine distance between start and end point"
   ]
  },
  {
   "cell_type": "code",
   "execution_count": 29,
   "id": "e9664539",
   "metadata": {},
   "outputs": [],
   "source": [
    "def haversine(lon1, lat1, lon2, lat2):\n",
    "    \"\"\"\n",
    "    Taken from https://stackoverflow.com/questions/29545704/fast-haversine-approximation-python-pandas\n",
    "    \n",
    "    Calculate the great circle distance in meters between two points\n",
    "    on the earth (which are specified in decimal degrees)\n",
    "\n",
    "    All args must be of equal length.    \n",
    "    \"\"\"\n",
    "    lon1, lat1, lon2, lat2 = map(np.radians, [lon1, lat1, lon2, lat2])\n",
    "\n",
    "    dlon = lon2 - lon1\n",
    "    dlat = lat2 - lat1\n",
    "\n",
    "    a = np.sin(dlat/2.0)**2 + np.cos(lat1) * np.cos(lat2) * np.sin(dlon/2.0)**2\n",
    "\n",
    "    c = 2 * np.arcsin(np.sqrt(a))\n",
    "    m = (6367 * c)*1000\n",
    "    return m"
   ]
  },
  {
   "cell_type": "code",
   "execution_count": 30,
   "id": "bae56508",
   "metadata": {},
   "outputs": [
    {
     "name": "stdout",
     "output_type": "stream",
     "text": [
      "The haversine distance between E 68 St & Madison Ave and E 47 St & 2 Ave is 1791m.\n"
     ]
    }
   ],
   "source": [
    "#quick sanity check, google maps claims a distance of about 1000m between these station\n",
    "start = data.iloc[0][\"start station name\"]\n",
    "end = data.iloc[0][\"end station name\"]\n",
    "dist = haversine(data.iloc[0][\"start station longitude\"], data.iloc[0][\"start station latitude\"], data.iloc[0][\"end station longitude\"], data.iloc[0][\"end station latitude\"])\n",
    "print(f\"The haversine distance between {start} and {end} is {dist:.0f}m.\")"
   ]
  },
  {
   "cell_type": "code",
   "execution_count": 31,
   "id": "cb2921df",
   "metadata": {},
   "outputs": [],
   "source": [
    "data[\"haversine distance\"] = haversine(data[\"start station longitude\"], data[\"start station latitude\"], data[\"end station longitude\"], data[\"end station latitude\"])"
   ]
  },
  {
   "cell_type": "markdown",
   "id": "3c3589f3",
   "metadata": {},
   "source": [
    "Next, we estimate the speed of bikes."
   ]
  },
  {
   "cell_type": "code",
   "execution_count": 32,
   "id": "6a45d04c",
   "metadata": {},
   "outputs": [],
   "source": [
    "data[\"speed\"] = (data[\"haversine distance\"]/1000) / (data[\"tripduration\"]/3600) #Estimated speed in kmh"
   ]
  },
  {
   "cell_type": "markdown",
   "id": "2ab0cb6a",
   "metadata": {},
   "source": [
    "This will generally underestimate the speed because we are using haversine and not routing distance.\n",
    "Since the distance in new york is given roughly by 1-norm, and haversine is 2-norm distance, the underestimate should not be by much more than a factor $\\sqrt{2}$.\n",
    "We see that some data points have irregular speeds over 40 kmh, and we remove these."
   ]
  },
  {
   "cell_type": "code",
   "execution_count": 33,
   "id": "96af4426",
   "metadata": {},
   "outputs": [
    {
     "name": "stdout",
     "output_type": "stream",
     "text": [
      "There are 178 very fast trips in the data.\n"
     ]
    }
   ],
   "source": [
    "fast = data[data[\"speed\"]>40]\n",
    "print(f\"There are {len(fast)} very fast trips in the data.\")\n",
    "data.drop(fast.index,inplace=True)\n",
    "data.to_parquet(savepath,index=False,engine=\"pyarrow\")"
   ]
  },
  {
   "cell_type": "markdown",
   "id": "f2498f82",
   "metadata": {
    "tags": []
   },
   "source": [
    "### Some information about weekday and holiday"
   ]
  },
  {
   "cell_type": "markdown",
   "id": "45078bda",
   "metadata": {},
   "source": [
    "We will also collect some information on weekdays and holidays vs business days"
   ]
  },
  {
   "cell_type": "code",
   "execution_count": 34,
   "id": "5a363f9a",
   "metadata": {},
   "outputs": [],
   "source": [
    "from pandas.tseries.holiday import USFederalHolidayCalendar\n",
    "cal = USFederalHolidayCalendar()\n",
    "holidays = cal.holidays(start='2018-01-01', end='2018-12-31')\n",
    "isholiday = data[\"starttime\"].dt.date.astype(\"datetime64\").isin(holidays)"
   ]
  },
  {
   "cell_type": "code",
   "execution_count": 35,
   "id": "a29b0aa3",
   "metadata": {},
   "outputs": [
    {
     "data": {
      "text/plain": [
       "False    17152139\n",
       "True       327899\n",
       "Name: holiday, dtype: int64"
      ]
     },
     "execution_count": 35,
     "metadata": {},
     "output_type": "execute_result"
    }
   ],
   "source": [
    "data[\"holiday\"] = isholiday\n",
    "data[\"holiday\"].value_counts()"
   ]
  },
  {
   "cell_type": "code",
   "execution_count": 36,
   "id": "b54c4da6",
   "metadata": {},
   "outputs": [
    {
     "data": {
      "text/plain": [
       "True     12938548\n",
       "False     4541490\n",
       "Name: business day, dtype: int64"
      ]
     },
     "execution_count": 36,
     "metadata": {},
     "output_type": "execute_result"
    }
   ],
   "source": [
    "data[\"business day\"] = (data[\"starttime\"].dt.dayofweek < 5) & (~data[\"holiday\"])\n",
    "data[\"business day\"].value_counts()"
   ]
  },
  {
   "cell_type": "code",
   "execution_count": 37,
   "id": "cbbdecaa",
   "metadata": {},
   "outputs": [
    {
     "name": "stdout",
     "output_type": "stream",
     "text": [
      "There are 251 business days.\n"
     ]
    }
   ],
   "source": [
    "#Check the number of different business days. There should be 251 for 2018.\n",
    "n_businessday = data[data[\"business day\"]][\"starttime\"].dt.date.nunique()\n",
    "print(f\"There are {n_businessday} business days.\")"
   ]
  },
  {
   "cell_type": "code",
   "execution_count": 38,
   "id": "71bea6ef",
   "metadata": {
    "tags": []
   },
   "outputs": [],
   "source": [
    "data.to_parquet(savepath,index=False,engine=\"pyarrow\")"
   ]
  },
  {
   "cell_type": "code",
   "execution_count": 39,
   "id": "9963b2b1",
   "metadata": {},
   "outputs": [
    {
     "name": "stdout",
     "output_type": "stream",
     "text": [
      "The dataframe needs 2.29 GB of memory\n"
     ]
    }
   ],
   "source": [
    "print_memory_usage(data)"
   ]
  },
  {
   "cell_type": "markdown",
   "id": "e6338825",
   "metadata": {},
   "source": [
    "## Unsupervised Analysis"
   ]
  },
  {
   "cell_type": "markdown",
   "id": "c45b7235",
   "metadata": {},
   "source": [
    "We will now examine some properties of the data and try to find interesing patterns.\n",
    "Since we examine the entire data set, we will be careful not to look at correlations between features and labels make use of the labels."
   ]
  },
  {
   "cell_type": "markdown",
   "id": "f4f68285",
   "metadata": {},
   "source": [
    "First, we notice that the data is very unbalanced."
   ]
  },
  {
   "cell_type": "code",
   "execution_count": 40,
   "id": "3d5cd737",
   "metadata": {},
   "outputs": [
    {
     "data": {
      "image/png": "[encoded data removed]",
      "text/plain": [
       "<Figure size 432x288 with 1 Axes>"
      ]
     },
     "metadata": {},
     "output_type": "display_data"
    }
   ],
   "source": [
    "counts = data.groupby(\"usertype\").size()\n",
    "counts.plot.pie(autopct='%1.0f%%',ylabel=\"\");"
   ]
  },
  {
   "cell_type": "markdown",
   "id": "76c1e4cd",
   "metadata": {},
   "source": [
    "First, lets look at the distribution of trips over the year"
   ]
  },
  {
   "cell_type": "code",
   "execution_count": 41,
   "id": "791d7fc5",
   "metadata": {},
   "outputs": [
    {
     "data": {
      "image/png": "[encoded data removed]",
      "text/plain": [
       "<Figure size 432x288 with 1 Axes>"
      ]
     },
     "metadata": {
      "needs_background": "light"
     },
     "output_type": "display_data"
    }
   ],
   "source": [
    "countbymonth = data.groupby(by = data[\"starttime\"].dt.month).size() / len(data)\n",
    "countbymonth.index.name = \"Month\"\n",
    "countbymonth.plot.bar(ylabel=\"Fraction of Trips\");"
   ]
  },
  {
   "cell_type": "markdown",
   "id": "1a14d3e5",
   "metadata": {},
   "source": [
    "We see that there is a lot more traffic during the summer month.\n",
    "This might also suggest a feature \"summer\", which is true during the month 5-10."
   ]
  },
  {
   "cell_type": "code",
   "execution_count": 42,
   "id": "07a4d2fd",
   "metadata": {},
   "outputs": [],
   "source": [
    "data[\"summer\"] = (data[\"starttime\"].dt.month >=5) & (data[\"starttime\"].dt.month <=10)"
   ]
  },
  {
   "cell_type": "code",
   "execution_count": 43,
   "id": "e08c4a37",
   "metadata": {},
   "outputs": [],
   "source": [
    "data.to_parquet(savepath,index=False,engine=\"pyarrow\")"
   ]
  },
  {
   "cell_type": "markdown",
   "id": "80b9c688",
   "metadata": {},
   "source": [
    "Let us also look at the distribution over weekday."
   ]
  },
  {
   "cell_type": "code",
   "execution_count": 44,
   "id": "dfc03ca4",
   "metadata": {},
   "outputs": [
    {
     "data": {
      "image/png": "[encoded data removed]",
      "text/plain": [
       "<Figure size 432x288 with 1 Axes>"
      ]
     },
     "metadata": {
      "needs_background": "light"
     },
     "output_type": "display_data"
    }
   ],
   "source": [
    "weekday_group = data.groupby(by = data[\"starttime\"].dt.dayofweek)\n",
    "countbyweekday = weekday_group.size() / len(data)\n",
    "countbyweekday.index.name = \"Weekday\"\n",
    "countbyweekday.plot.bar(ylabel=\"Fraction of Trips\");"
   ]
  },
  {
   "cell_type": "markdown",
   "id": "5ddb14d5",
   "metadata": {},
   "source": [
    "There appears to be more traffic during the week than on weekends. We will later look at how this differs between Subscribers and Customers. However, people do appear to take slightly longer trips on weekends, as seen in the following graph."
   ]
  },
  {
   "cell_type": "code",
   "execution_count": 45,
   "id": "ad427e75",
   "metadata": {},
   "outputs": [
    {
     "data": {
      "image/png": "[encoded data removed]",
      "text/plain": [
       "<Figure size 432x288 with 1 Axes>"
      ]
     },
     "metadata": {
      "needs_background": "light"
     },
     "output_type": "display_data"
    }
   ],
   "source": [
    "data[\"tripduration (min)\"] = data[\"tripduration\"] / 60\n",
    "ax = data.boxplot(column=\"tripduration (min)\",by=data[\"starttime\"].dt.dayofweek,showfliers=False)\n",
    "ax.set_title(\"\")\n",
    "ax.set_ylabel(\"Tripduration (min)\");\n",
    "ax.set_xlabel(\"Day of Week\");\n",
    "plt.suptitle(\"\")\n",
    "data.drop(\"tripduration (min)\",axis=1,inplace=True);"
   ]
  },
  {
   "cell_type": "markdown",
   "id": "41da83ac",
   "metadata": {},
   "source": [
    "Now, we look at the distribution of trips on holidays vs business days"
   ]
  },
  {
   "cell_type": "code",
   "execution_count": 46,
   "id": "88827caf",
   "metadata": {},
   "outputs": [
    {
     "data": {
      "image/png": "[encoded data removed]",
      "text/plain": [
       "<Figure size 432x288 with 1 Axes>"
      ]
     },
     "metadata": {
      "needs_background": "light"
     },
     "output_type": "display_data"
    }
   ],
   "source": [
    "countbybusinessday = data.groupby(by = [data[\"business day\"],data[\"starttime\"].dt.date]).size()\n",
    "averagetrips = countbybusinessday.groupby(level=0).mean()\n",
    "ax = averagetrips.plot.bar()\n",
    "ax.set_ylabel(\"Average Trips per Day\")\n",
    "ax.set_xlabel(\"\")\n",
    "_ = ax.set_xticklabels([\"Holiday\", \"Business Day\"])"
   ]
  },
  {
   "cell_type": "markdown",
   "id": "92ffbf9e",
   "metadata": {},
   "source": [
    "We see that there is also more traffic on business days than holidays. Again, this might differ between subscribers and customers."
   ]
  },
  {
   "cell_type": "code",
   "execution_count": 47,
   "id": "93da16ba",
   "metadata": {},
   "outputs": [],
   "source": [
    "data.to_parquet(savepath,index=False,engine=\"pyarrow\")"
   ]
  },
  {
   "cell_type": "markdown",
   "id": "5eccfe70",
   "metadata": {
    "tags": []
   },
   "source": [
    "# Splitting the Data"
   ]
  },
  {
   "cell_type": "code",
   "execution_count": 48,
   "id": "3b05b5b4",
   "metadata": {},
   "outputs": [],
   "source": [
    "data = pd.read_parquet(savepath,engine=\"pyarrow\")"
   ]
  },
  {
   "cell_type": "markdown",
   "id": "9637a1b0",
   "metadata": {},
   "source": [
    "We now split the data into training/validation/test.\n",
    "Since we have a lot of data, we will not use resampling methods such as bootstrap or cross-validation and go with a traditional split."
   ]
  },
  {
   "cell_type": "code",
   "execution_count": 50,
   "id": "629d73be",
   "metadata": {},
   "outputs": [
    {
     "name": "stdout",
     "output_type": "stream",
     "text": [
      "Total: 17480038\n",
      "Train: 13984030, Val: 1748003, Test: 1748003\n"
     ]
    }
   ],
   "source": [
    "print(f\"Total: {len(data)}\")\n",
    "n = len(data)\n",
    "train_ratio = 0.8\n",
    "val_ratio = 0.1\n",
    "test_ratio = 0.1\n",
    "train_size = int(train_ratio*n)\n",
    "val_size = int(val_ratio*n)\n",
    "test_size = int(test_ratio*n)\n",
    "print(\"Train: {0}, Val: {1}, Test: {2}\".format(int(train_ratio*n), int(val_ratio*n), int(test_ratio*n)))"
   ]
  },
  {
   "cell_type": "markdown",
   "id": "e5399e54",
   "metadata": {},
   "source": [
    "Let us consider how accurate our estimate of the model accuracy will be, on the test set.\n",
    "We assume that we want accuracy per class, and since the data set is very unbalanced we can only use about $10\\%$ of the test set for the estimate on the rare class.\n",
    "Lets say we get a true model accuracy of $99\\%$."
   ]
  },
  {
   "cell_type": "code",
   "execution_count": 51,
   "id": "d9d15260",
   "metadata": {},
   "outputs": [
    {
     "data": {
      "text/plain": [
       "'The standard error of the estimated accuracy will be 0.000238'"
      ]
     },
     "execution_count": 51,
     "metadata": {},
     "output_type": "execute_result"
    }
   ],
   "source": [
    "f\"The standard error of the estimated accuracy will be {np.sqrt(0.01*0.99 / (test_size/10)):2f}\""
   ]
  },
  {
   "cell_type": "code",
   "execution_count": 52,
   "id": "ed212ad7",
   "metadata": {},
   "outputs": [],
   "source": [
    "#This is memory intensive, if there are problems we could do it inplace by just computing indices for train/val/test\n",
    "trainset,testset = train_test_split(data,test_size=test_size)"
   ]
  },
  {
   "cell_type": "code",
   "execution_count": 53,
   "id": "2bcb1c1d",
   "metadata": {},
   "outputs": [
    {
     "name": "stdout",
     "output_type": "stream",
     "text": [
      "1748003\n"
     ]
    }
   ],
   "source": [
    "print(len(testset))\n",
    "testset.to_parquet(\"Data/Test.parquet\",index=False,engine=\"pyarrow\")\n",
    "del testset"
   ]
  },
  {
   "cell_type": "code",
   "execution_count": 54,
   "id": "03885e92",
   "metadata": {},
   "outputs": [],
   "source": [
    "trainset,valset = train_test_split(trainset,test_size=val_size)"
   ]
  },
  {
   "cell_type": "code",
   "execution_count": 55,
   "id": "26bdc293",
   "metadata": {},
   "outputs": [
    {
     "name": "stdout",
     "output_type": "stream",
     "text": [
      "13984032\n"
     ]
    }
   ],
   "source": [
    "print(len(trainset))\n",
    "trainset.to_parquet(\"Data/Train.parquet\",index=False,engine=\"pyarrow\")"
   ]
  },
  {
   "cell_type": "code",
   "execution_count": 56,
   "id": "d7a04b72",
   "metadata": {},
   "outputs": [
    {
     "name": "stdout",
     "output_type": "stream",
     "text": [
      "1748003\n"
     ]
    }
   ],
   "source": [
    "print(len(valset))\n",
    "valset.to_parquet(\"Data/Validation.parquet\",index=False,engine=\"pyarrow\")"
   ]
  },
  {
   "cell_type": "code",
   "execution_count": null,
   "id": "53f336ec",
   "metadata": {},
   "outputs": [],
   "source": []
  }
 ],
 "metadata": {
  "kernelspec": {
   "display_name": "Python 3 (ipykernel)",
   "language": "python",
   "name": "python3"
  },
  "language_info": {
   "codemirror_mode": {
    "name": "ipython",
    "version": 3
   },
   "file_extension": ".py",
   "mimetype": "text/x-python",
   "name": "python",
   "nbconvert_exporter": "python",
   "pygments_lexer": "ipython3",
   "version": "3.7.10"
  }
 },
 "nbformat": 4,
 "nbformat_minor": 5
}
