{
 "cells": [
  {
   "cell_type": "code",
   "execution_count": 24,
   "id": "81a893a8-5afc-4e19-82f7-b8cca7da974b",
   "metadata": {},
   "outputs": [],
   "source": [
    "%config IPCompleter.use_jedi=False\n",
    "%matplotlib inline\n",
    "\n",
    "import pandas as pd\n",
    "import numpy as np\n",
    "import glob\n",
    "import datetime\n",
    "from sklearn.model_selection import train_test_split"
   ]
  },
  {
   "cell_type": "code",
   "execution_count": 2,
   "id": "7a8fe7a1-7085-4979-b649-1077b8ec588b",
   "metadata": {},
   "outputs": [],
   "source": [
    "savepath = r\"Data/data_cleaned.csv\""
   ]
  },
  {
   "cell_type": "markdown",
   "id": "8fdd31b9-1c4d-463c-ac4f-060109f1ae62",
   "metadata": {
    "tags": []
   },
   "source": [
    "## IDEAS\n",
    "\n",
    "First split into train,validation,and Test before even plotting the data.\n",
    "(How large should each data set be?)\n",
    "Only plot training data, neve rlook at test data! Otherwise my your knowledge of test data biases test error estimates.\n",
    "\n",
    "Is data set \"Balanced\"? Should I try to preserve some balance in train, val, test split?\n",
    "-> Subscribers make MANY more trips\n",
    "\n",
    "Remove outliers from triptime and birthyear data\n",
    "\n",
    "1. Load all files into one data frame grouped by month -> Can pandas even do this?\n",
    "2. Split Data -> I do one fixed train,test,validation split at the beginning and never change it because the data set is very large and I dont expect much variation over splits. I could otherwise do corss-validation or something. Question: Should one balance labels somehow in the splits?\n",
    "3. Compute trip durations -> already done, and length (how??? luftlinie oder station distances -> Google maps API?) from the data\n",
    "    1. Can use OSMnx\n",
    "    2. Use Taxicab metric (simpler) -> Actually not simpler at all, need coordinates relative to new york layout\n",
    "    3. Luftlinie (am einfachsten)\n",
    "4. Compute weekdays vs weekends\n",
    "5. Can one do somethign with bikeID?\n",
    "6. Can one do something with stationID?\n",
    "7. Compare to baseline of simply choosing most likely class label, ignoring user data!\n",
    "   Or use other ways of dealing with imbalance / representing effect?"
   ]
  },
  {
   "cell_type": "markdown",
   "id": "0e5cbcf0-8f6c-4b94-8897-f509be968e89",
   "metadata": {},
   "source": [
    "Features need to be preprocessed -> Encode categorically etc."
   ]
  },
  {
   "cell_type": "markdown",
   "id": "2c7f97aa-176b-497c-b747-3188ccb27d18",
   "metadata": {},
   "source": [
    "Some feature ideas:\n",
    "1. Time\n",
    "2. Distance\n",
    "3. Speed\n",
    "4. Workday vs Weekend (maybe even include holidays)\n",
    "5. Month (maybe)\n",
    "6. StartStation -> Because people from similar areas might be subscribers / not "
   ]
  },
  {
   "cell_type": "markdown",
   "id": "fdbb53a0-06b1-4537-86ef-2111c79dc0ee",
   "metadata": {},
   "source": [
    "Map of stations: https://account.citibikenyc.com/map"
   ]
  },
  {
   "cell_type": "markdown",
   "id": "01ef7a71-dc74-4cb8-be1c-b0553be0125f",
   "metadata": {},
   "source": [
    "## Evaluation?"
   ]
  },
  {
   "cell_type": "markdown",
   "id": "8bb44fa7-1bf6-4969-8bb9-b93606e465b1",
   "metadata": {},
   "source": [
    "1. Evaluate vs baseline (baseline = always choose \"subscriber\" as label)\n",
    "2. Confusion matrix"
   ]
  },
  {
   "cell_type": "markdown",
   "id": "456f0fdc-02be-4b21-ac78-d23e38629a21",
   "metadata": {
    "tags": []
   },
   "source": [
    "# Data loading and formatting"
   ]
  },
  {
   "cell_type": "code",
   "execution_count": 3,
   "id": "9ab1d56f-25aa-412f-b9b2-dff86f9f1eb9",
   "metadata": {},
   "outputs": [],
   "source": [
    "def load_files(filenames, **kwargs):\n",
    "    dfs=[]\n",
    "    for filename in filenames:\n",
    "        d = pd.read_csv(filename,**kwargs)\n",
    "        dfs.append(d)\n",
    "    data = pd.concat(dfs,ignore_index=True)\n",
    "    if \"dtype\" in kwargs:\n",
    "        #Because categorical dtypes are not preserved under concatenation.\n",
    "        #This is simpler than trying to construct union categories but also more memory intensive.\n",
    "        data = data.astype(kwargs[\"dtype\"],copy=False) \n",
    "    return data"
   ]
  },
  {
   "cell_type": "code",
   "execution_count": 88,
   "id": "ccca338f-2583-4ae7-b9fd-b489a74f386c",
   "metadata": {},
   "outputs": [],
   "source": [
    "def print_memory_usage(data):\n",
    "    memory = data.memory_usage(index=True,deep=True).sum()\n",
    "    print(f\"The dataframe needs {memory/1e9:.3} GB of memory\")"
   ]
  },
  {
   "cell_type": "code",
   "execution_count": 5,
   "id": "7d04d334-4d72-49b4-9897-44397dc44f35",
   "metadata": {},
   "outputs": [
    {
     "name": "stdout",
     "output_type": "stream",
     "text": [
      "['Data/201810-citibike-tripdata.csv', 'Data/201802-citibike-tripdata.csv', 'Data/201809-citibike-tripdata.csv', 'Data/201808-citibike-tripdata.csv', 'Data/201803-citibike-tripdata.csv', 'Data/201807-citibike-tripdata.csv', 'Data/201812-citibike-tripdata.csv', 'Data/201805-citibike-tripdata.csv', 'Data/201811-citibike-tripdata.csv', 'Data/201806-citibike-tripdata.csv', 'Data/201804-citibike-tripdata.csv', 'Data/201801-citibike-tripdata.csv']\n"
     ]
    }
   ],
   "source": [
    "filenames = glob.glob(\"Data/2*.csv\")\n",
    "print(filenames)"
   ]
  },
  {
   "cell_type": "markdown",
   "id": "e7a0fa63-557b-4b63-9bbc-3059a5137509",
   "metadata": {},
   "source": [
    "Using category dtype for the station names saves a lot of memory.\n",
    "Similarly, converting the timestamps into datetime type makes them easier to work with and saves a lot of memory too."
   ]
  },
  {
   "cell_type": "code",
   "execution_count": 6,
   "id": "0662d7f9-6026-46bb-88b4-99b63c11deb4",
   "metadata": {
    "tags": []
   },
   "outputs": [
    {
     "name": "stdout",
     "output_type": "stream",
     "text": [
      "The dataframe needs 1.81 GB of memory\n"
     ]
    }
   ],
   "source": [
    "dtype = {\"tripduration\":\"Int64\", #Note that this accepts nan values\n",
    "          \"start station id\":\"Int64\",\n",
    "          \"start station name\":\"category\",\n",
    "          \"start station latitude\":\"Float64\",\n",
    "          \"start station longitude\":\"Float64\",\n",
    "          \"end station id\":\"Int64\",\n",
    "          \"end station name\":\"category\",\n",
    "          \"end station latitude\":\"Float64\",\n",
    "          \"end station longitude\":\"Float64\",\n",
    "          \"bikeid\":\"Int64\",\n",
    "          \"usertype\":\"category\",\n",
    "          \"birth year\":\"Int64\",\n",
    "          \"gender\":\"category\"}\n",
    "datatime_format=\"%Y-%m-%d %H:%M:%S.%f\"\n",
    "data = load_files(filenames,dtype=dtype)\n",
    "data[\"starttime\"] = pd.to_datetime(data[\"starttime\"],format=datatime_format)\n",
    "data[\"stoptime\"] = pd.to_datetime(data[\"starttime\"],format=datatime_format)\n",
    "print_memory_usage(data)"
   ]
  },
  {
   "cell_type": "code",
   "execution_count": 16,
   "id": "198162dd-b16f-4e0b-a21e-4a38cf5706f4",
   "metadata": {
    "tags": []
   },
   "outputs": [
    {
     "data": {
      "text/plain": [
       "tripduration                        Int64\n",
       "starttime                  datetime64[ns]\n",
       "stoptime                   datetime64[ns]\n",
       "start station id                    Int64\n",
       "start station name               category\n",
       "start station latitude            Float64\n",
       "start station longitude           Float64\n",
       "end station id                      Int64\n",
       "end station name                 category\n",
       "end station latitude              Float64\n",
       "end station longitude             Float64\n",
       "bikeid                              Int64\n",
       "usertype                         category\n",
       "birth year                          Int64\n",
       "gender                           category\n",
       "dtype: object"
      ]
     },
     "execution_count": 16,
     "metadata": {},
     "output_type": "execute_result"
    }
   ],
   "source": [
    "data.dtypes"
   ]
  },
  {
   "cell_type": "markdown",
   "id": "55700426-fea5-4642-afdf-ea55a90412ff",
   "metadata": {
    "tags": []
   },
   "source": [
    "# Data Cleaning"
   ]
  },
  {
   "cell_type": "markdown",
   "id": "607a418c-6da2-41fb-b3f8-85f59bcbfbe4",
   "metadata": {},
   "source": [
    "We now look at the some features and try to remove outliers."
   ]
  },
  {
   "cell_type": "markdown",
   "id": "ef930891-91ff-4e90-8e76-715f71d4eb93",
   "metadata": {},
   "source": [
    "First, lets check for NAN values:"
   ]
  },
  {
   "cell_type": "code",
   "execution_count": 17,
   "id": "ca0587d3-e26b-417d-a3e0-75fb3a64ad6a",
   "metadata": {},
   "outputs": [
    {
     "data": {
      "text/plain": [
       "tripduration               17548339\n",
       "starttime                  17548339\n",
       "stoptime                   17548339\n",
       "start station id           17545842\n",
       "start station name         17545842\n",
       "start station latitude     17548339\n",
       "start station longitude    17548339\n",
       "end station id             17545842\n",
       "end station name           17545842\n",
       "end station latitude       17548339\n",
       "end station longitude      17548339\n",
       "bikeid                     17548339\n",
       "usertype                   17548339\n",
       "birth year                 17548339\n",
       "gender                     17548339\n",
       "dtype: int64"
      ]
     },
     "execution_count": 17,
     "metadata": {},
     "output_type": "execute_result"
    }
   ],
   "source": [
    "data.count()"
   ]
  },
  {
   "cell_type": "markdown",
   "id": "a923e039-e5ea-46cf-a425-73cb32713897",
   "metadata": {},
   "source": [
    "We see that start and end station ids and names are not always available.\n",
    "This affects about 3000 of the 17 million entries.\n",
    "We simply remove the rows with missing values."
   ]
  },
  {
   "cell_type": "code",
   "execution_count": 20,
   "id": "a76a6b87-cd91-4dfc-bed6-fc94068e717b",
   "metadata": {
    "collapsed": true,
    "jupyter": {
     "outputs_hidden": true
    },
    "tags": []
   },
   "outputs": [
    {
     "data": {
      "text/plain": [
       "tripduration               17545842\n",
       "starttime                  17545842\n",
       "stoptime                   17545842\n",
       "start station id           17545842\n",
       "start station name         17545842\n",
       "start station latitude     17545842\n",
       "start station longitude    17545842\n",
       "end station id             17545842\n",
       "end station name           17545842\n",
       "end station latitude       17545842\n",
       "end station longitude      17545842\n",
       "bikeid                     17545842\n",
       "usertype                   17545842\n",
       "birth year                 17545842\n",
       "gender                     17545842\n",
       "dtype: int64"
      ]
     },
     "execution_count": 20,
     "metadata": {},
     "output_type": "execute_result"
    }
   ],
   "source": [
    "data.dropna(inplace=True)\n",
    "data.count()"
   ]
  },
  {
   "cell_type": "markdown",
   "id": "e2e8cb46-89cd-49ee-845c-abe9a3943a90",
   "metadata": {
    "tags": []
   },
   "source": [
    "## Tripdurations"
   ]
  },
  {
   "cell_type": "markdown",
   "id": "bd49b2b7-d5d5-4681-b688-035e292fed69",
   "metadata": {},
   "source": [
    "Next, let us have a look at the tripdurations."
   ]
  },
  {
   "cell_type": "code",
   "execution_count": 25,
   "id": "cac18015-7f54-46d6-ab1b-e7795ef4a0ee",
   "metadata": {},
   "outputs": [
    {
     "data": {
      "text/plain": [
       "Text(0.5, 0, 'Duration (s)')"
      ]
     },
     "execution_count": 25,
     "metadata": {},
     "output_type": "execute_result"
    },
    {
     "data": {
      "image/png": "[encoded data removed]",
      "text/plain": [
       "<Figure size 432x288 with 1 Axes>"
      ]
     },
     "metadata": {
      "needs_background": "light"
     },
     "output_type": "display_data"
    }
   ],
   "source": [
    "min_dur = data[\"tripduration\"].min()\n",
    "max_dur = data[\"tripduration\"].max()\n",
    "n_bins = 1000\n",
    "bins = np.logspace(start = np.log10(min_dur),stop = np.log10(max_dur),num=n_bins)\n",
    "ax = data[\"tripduration\"].plot(kind=\"hist\",loglog=True,bins=bins)\n",
    "ax.set_xlabel(\"Duration (s)\")"
   ]
  },
  {
   "cell_type": "code",
   "execution_count": 20,
   "id": "dc9fb006-05b5-46c3-a7b6-5e4125c4f200",
   "metadata": {},
   "outputs": [
    {
     "data": {
      "text/plain": [
       "115.74074074074075"
      ]
     },
     "execution_count": 20,
     "metadata": {},
     "output_type": "execute_result"
    }
   ],
   "source": [
    "1e7 / (60*60*24)"
   ]
  },
  {
   "cell_type": "markdown",
   "id": "73550ae8-e2c9-47cb-b99f-4c859fccc14d",
   "metadata": {},
   "source": [
    "Most trips are between 2 mins and 1 hour.\n",
    "We remove trip durations > 5 hours ($\\approx 2\\cdot10^4$ s), since these seem unlikely inside New York.\n",
    "Also note that durations < 60 seconds were already removed by the data provider, reasoning that these are likely just people trying to redock the bike."
   ]
  },
  {
   "cell_type": "code",
   "execution_count": 33,
   "id": "9bfaec03-4206-4ef0-929b-920d1ee38f83",
   "metadata": {},
   "outputs": [
    {
     "name": "stdout",
     "output_type": "stream",
     "text": [
      "There are 0 trips of at least 5 hours in the data.\n"
     ]
    }
   ],
   "source": [
    "duration_h = 5\n",
    "longtrips = data[data[\"tripduration\"] >= duration_h*60*60]\n",
    "print(f\"There are {len(longtrips)} trips of at least {duration_h} hours in the data.\")\n",
    "data.drop(longtrips.index,inplace=True)"
   ]
  },
  {
   "cell_type": "markdown",
   "id": "4cc9ab20-3d34-4b1e-81d3-6ab70828578f",
   "metadata": {},
   "source": [
    "We also notice that there are round trips in the data."
   ]
  },
  {
   "cell_type": "code",
   "execution_count": 37,
   "id": "b919ffe5-1bc4-4245-a4c9-2b1d86c9e4ab",
   "metadata": {},
   "outputs": [
    {
     "name": "stdout",
     "output_type": "stream",
     "text": [
      "There are 345517 round trips in the data\n"
     ]
    },
    {
     "data": {
      "text/plain": [
       "Text(0.5, 0, 'Duration (min)')"
      ]
     },
     "execution_count": 37,
     "metadata": {},
     "output_type": "execute_result"
    },
    {
     "data": {
      "image/png": "[encoded data removed]",
      "text/plain": [
       "<Figure size 432x288 with 1 Axes>"
      ]
     },
     "metadata": {
      "needs_background": "light"
     },
     "output_type": "display_data"
    }
   ],
   "source": [
    "roundtrips = data[data[\"start station id\"] == data[\"end station id\"]]\n",
    "print(f\"There are {len(roundtrips)} round trips in the data\")\n",
    "ax = (roundtrips[\"tripduration\"] / 60).hist(bins=100)\n",
    "ax.set_xlabel(\"Duration (min)\")"
   ]
  },
  {
   "cell_type": "code",
   "execution_count": 38,
   "id": "120613c5-83de-4ef5-9463-24d7ec2a32b8",
   "metadata": {},
   "outputs": [
    {
     "data": {
      "text/plain": [
       "Text(0.5, 17.200000000000003, 'Duration (s)')"
      ]
     },
     "execution_count": 38,
     "metadata": {},
     "output_type": "execute_result"
    },
    {
     "data": {
      "image/png": "[encoded data removed]",
      "text/plain": [
       "<Figure size 432x288 with 1 Axes>"
      ]
     },
     "metadata": {
      "needs_background": "light"
     },
     "output_type": "display_data"
    }
   ],
   "source": [
    "roundtrips[roundtrips[\"tripduration\"]<200][\"tripduration\"].hist(bins=100)\n",
    "ax.set_xlabel(\"Duration (s)\")"
   ]
  },
  {
   "cell_type": "markdown",
   "id": "760dc460-24e0-4a6e-bf18-d246843482f9",
   "metadata": {},
   "source": [
    "Let us also exlcude round trips of less than 120 seconds, since these also seem like people docking their bike."
   ]
  },
  {
   "cell_type": "code",
   "execution_count": 39,
   "id": "4855930d-e3e7-4ee7-9d95-018178a81626",
   "metadata": {},
   "outputs": [
    {
     "name": "stdout",
     "output_type": "stream",
     "text": [
      "There are 38770 short round trips in the data\n"
     ]
    }
   ],
   "source": [
    "shortroundtrips = roundtrips[roundtrips[\"tripduration\"]<120]\n",
    "print(f\"There are {len(shortroundtrips)} short round trips in the data\")\n",
    "data.drop(shortroundtrips.index,inplace=True)"
   ]
  },
  {
   "cell_type": "markdown",
   "id": "0653aaca-4a39-4510-aff1-c783158164dc",
   "metadata": {},
   "source": [
    "Let us furthermore indicate which trips are round trips for convenience"
   ]
  },
  {
   "cell_type": "code",
   "execution_count": 45,
   "id": "baa5c873-418c-453e-8eef-fdfdd7bedfd4",
   "metadata": {},
   "outputs": [
    {
     "data": {
      "text/plain": [
       "False    17184871\n",
       "True       306747\n",
       "Name: is_roundtrip, dtype: Int64"
      ]
     },
     "execution_count": 45,
     "metadata": {},
     "output_type": "execute_result"
    }
   ],
   "source": [
    "data[\"is_roundtrip\"] = data[\"start station id\"] == data[\"end station id\"]\n",
    "data[\"is_roundtrip\"].value_counts()"
   ]
  },
  {
   "cell_type": "code",
   "execution_count": 8,
   "id": "ea6b2ebf-cb8e-4f04-b9a8-0969f7394421",
   "metadata": {},
   "outputs": [
    {
     "name": "stdout",
     "output_type": "stream",
     "text": [
      "There are 15454 trips of at least 5 hours in the data.\n"
     ]
    }
   ],
   "source": [
    "duration_h = 5\n",
    "longtrips = data[data[\"tripduration\"] >= duration_h*60*60]\n",
    "print(f\"There are {len(longtrips)} trips of at least {duration_h} hours in the data.\")\n",
    "data.drop(longtrips.index,inplace=True)"
   ]
  },
  {
   "cell_type": "markdown",
   "id": "47688b37-c1bb-4bb8-92c6-5d7a1ceb0f7f",
   "metadata": {
    "tags": []
   },
   "source": [
    "## Birthyears"
   ]
  },
  {
   "cell_type": "markdown",
   "id": "8131f5bc-6b95-4ca8-ac56-6786c5d7152b",
   "metadata": {},
   "source": [
    "Next, lets have a look at the birthyears."
   ]
  },
  {
   "cell_type": "code",
   "execution_count": 46,
   "id": "b09a22e4-d2dc-4d5f-a2e9-549154ace88a",
   "metadata": {},
   "outputs": [
    {
     "name": "stdout",
     "output_type": "stream",
     "text": [
      "1885\n",
      "2002\n"
     ]
    }
   ],
   "source": [
    "print(data[\"birth year\"].min())\n",
    "print(data[\"birth year\"].max())"
   ]
  },
  {
   "cell_type": "markdown",
   "id": "1278886a-62fc-4012-b85e-d2ec386d9285",
   "metadata": {},
   "source": [
    "We will exclude people born before 1920, since the data is from 2018."
   ]
  },
  {
   "cell_type": "code",
   "execution_count": 47,
   "id": "bffa6ed2-ff39-4d31-8342-5f60a778dd02",
   "metadata": {},
   "outputs": [
    {
     "name": "stdout",
     "output_type": "stream",
     "text": [
      "There are 11337 trips made by people born before 1920 in the data.\n"
     ]
    }
   ],
   "source": [
    "old = data[data[\"birth year\"] <= 1920]\n",
    "print(f\"There are {len(old)} trips made by people born before 1920 in the data.\")\n",
    "data.drop(old.index,inplace=True)"
   ]
  },
  {
   "cell_type": "markdown",
   "id": "b5608f61-3873-48cc-98ac-fad9a88f119e",
   "metadata": {},
   "source": [
    "## Coordinates"
   ]
  },
  {
   "cell_type": "markdown",
   "id": "82f0ccda-fcab-48cc-a351-e28316de3b65",
   "metadata": {},
   "source": [
    "Next, we look at the coordinates.\n",
    "New york encompasses latitudes of about between 40.6 and 40.9, and longitudes between -74.2 and -73.7"
   ]
  },
  {
   "cell_type": "code",
   "execution_count": 48,
   "id": "69041805-2aa6-4224-8b1e-ccf204d2d6cb",
   "metadata": {},
   "outputs": [
    {
     "name": "stdout",
     "output_type": "stream",
     "text": [
      "40.64653836709648\n",
      "45.506364054011385\n"
     ]
    }
   ],
   "source": [
    "print(data[\"start station latitude\"].min())\n",
    "print(data[\"start station latitude\"].max())"
   ]
  },
  {
   "cell_type": "code",
   "execution_count": 51,
   "id": "4385de43-2e85-4ef0-84b5-7063d1ae7ce7",
   "metadata": {},
   "outputs": [
    {
     "data": {
      "text/plain": [
       "Text(0.5, 0, 'Latitude')"
      ]
     },
     "execution_count": 51,
     "metadata": {},
     "output_type": "execute_result"
    },
    {
     "data": {
      "image/png": "[encoded data removed]",
      "text/plain": [
       "<Figure size 432x288 with 1 Axes>"
      ]
     },
     "metadata": {
      "needs_background": "light"
     },
     "output_type": "display_data"
    }
   ],
   "source": [
    "ax = data[\"start station latitude\"].plot(kind=\"hist\",logy = True,bins=600)\n",
    "ax.set_xlabel(\"Latitude\")"
   ]
  },
  {
   "cell_type": "markdown",
   "id": "d24d5184-872f-4fe4-b9a4-94f4425f7ec6",
   "metadata": {},
   "source": [
    "There appear to be around a 50 bikes lost at latitude > 45, which is somewhere around Montreal.\n",
    "We exclude these."
   ]
  },
  {
   "cell_type": "code",
   "execution_count": 52,
   "id": "9f6fe974-1e7e-4158-a896-7d3d9a16208b",
   "metadata": {},
   "outputs": [
    {
     "name": "stdout",
     "output_type": "stream",
     "text": [
      "65\n"
     ]
    }
   ],
   "source": [
    "lost = data[data[\"start station latitude\"]>41]\n",
    "print(len(lost))\n",
    "data.drop(lost.index,inplace=True)"
   ]
  },
  {
   "cell_type": "markdown",
   "id": "20277ff5-cb2c-45a6-ac85-91a203ddcdf6",
   "metadata": {},
   "source": [
    "The remaining values make sense:"
   ]
  },
  {
   "cell_type": "code",
   "execution_count": 61,
   "id": "2db02f9c-5ae8-4f17-8d8a-885e04f9da1c",
   "metadata": {},
   "outputs": [
    {
     "name": "stdout",
     "output_type": "stream",
     "text": [
      "The latitude is between 40.65 and 40.81\n",
      "The longitude is between -74.08 and -73.91\n"
     ]
    }
   ],
   "source": [
    "min_lat = data[[\"start station latitude\",\"end station latitude\"]].min().min()\n",
    "max_lat = data[[\"start station latitude\",\"end station latitude\"]].max().max()\n",
    "min_long = data[[\"start station longitude\",\"end station longitude\"]].min().min()\n",
    "max_long = data[[\"start station longitude\",\"end station longitude\"]].max().max()\n",
    "print(f\"The latitude is between {min_lat:.2f} and {max_lat:.2f}\")\n",
    "print(f\"The longitude is between {min_long:.2f} and {max_long:.2f}\")"
   ]
  },
  {
   "cell_type": "code",
   "execution_count": 62,
   "id": "f5076212-7d6b-474b-a51e-71827049e690",
   "metadata": {},
   "outputs": [],
   "source": [
    "data.to_csv(savepath)"
   ]
  },
  {
   "cell_type": "markdown",
   "id": "7d622624-079f-44f0-b30e-529d758921ba",
   "metadata": {
    "tags": []
   },
   "source": [
    "## Computing some more features"
   ]
  },
  {
   "cell_type": "markdown",
   "id": "0ce1f694-1abe-4ccf-9276-52a1b74a744c",
   "metadata": {},
   "source": [
    "There are some features that seem intuitively obvious to compute, such as the distane traveled, the speed of the bikes, whether it is a workday or weekend, and whether it is summer or winter.\n",
    "We do this for the whole data set.\n",
    "Note that we do not use any information about the labels here, so we do not need a train / test split yet."
   ]
  },
  {
   "cell_type": "markdown",
   "id": "e3e29673-e0bf-462a-a2e4-299360b29b0c",
   "metadata": {},
   "source": [
    "### Distance"
   ]
  },
  {
   "cell_type": "markdown",
   "id": "5a1100b1-4e47-425b-9295-4b8633a0fe89",
   "metadata": {},
   "source": [
    "Compute Haversine distance between start and end point"
   ]
  },
  {
   "cell_type": "code",
   "execution_count": 66,
   "id": "5460daa7-f201-43f6-a2fa-56b5d7172df2",
   "metadata": {},
   "outputs": [],
   "source": [
    "def haversine(lon1, lat1, lon2, lat2):\n",
    "    \"\"\"\n",
    "    Taken from https://stackoverflow.com/questions/29545704/fast-haversine-approximation-python-pandas\n",
    "    \n",
    "    Calculate the great circle distance in meters between two points\n",
    "    on the earth (which are specified in decimal degrees)\n",
    "\n",
    "    All args must be of equal length.    \n",
    "    \"\"\"\n",
    "    lon1, lat1, lon2, lat2 = map(np.radians, [lon1, lat1, lon2, lat2])\n",
    "\n",
    "    dlon = lon2 - lon1\n",
    "    dlat = lat2 - lat1\n",
    "\n",
    "    a = np.sin(dlat/2.0)**2 + np.cos(lat1) * np.cos(lat2) * np.sin(dlon/2.0)**2\n",
    "\n",
    "    c = 2 * np.arcsin(np.sqrt(a))\n",
    "    m = (6367 * c)*1000\n",
    "    return m"
   ]
  },
  {
   "cell_type": "code",
   "execution_count": 90,
   "id": "f0148314-88df-443e-9f2b-e63c2fb48a0d",
   "metadata": {},
   "outputs": [
    {
     "data": {
      "text/plain": [
       "820.1532646056683"
      ]
     },
     "execution_count": 90,
     "metadata": {},
     "output_type": "execute_result"
    }
   ],
   "source": [
    "haversine(data.iloc[0][\"start station longitude\"], data.iloc[0][\"start station latitude\"], data.iloc[0][\"end station longitude\"], data.iloc[0][\"end station latitude\"])\n",
    "#quick sanity check, google maps claims a distance of about 850 m between these station"
   ]
  },
  {
   "cell_type": "code",
   "execution_count": 68,
   "id": "3f3a5553-90d9-4e0a-85b7-f2b8f7c79e07",
   "metadata": {},
   "outputs": [],
   "source": [
    "data[\"haversine distance\"] = haversine(data[\"start station longitude\"], data[\"start station latitude\"], data[\"end station longitude\"], data[\"end station latitude\"])"
   ]
  },
  {
   "cell_type": "markdown",
   "id": "a26b37ab-05b0-457e-8dc7-7d508ce9bca6",
   "metadata": {},
   "source": [
    "### Some information about weekday and holiday"
   ]
  },
  {
   "cell_type": "code",
   "execution_count": null,
   "id": "e2a1c60b-1bab-4f0f-8dd1-0dd229aec3bd",
   "metadata": {},
   "outputs": [],
   "source": [
    "data[\"weekday\"] = data[\"starttime\"].dt.dayofweek"
   ]
  },
  {
   "cell_type": "code",
   "execution_count": 82,
   "id": "d3c33880-7660-42b0-97a4-f4f0ce0109b0",
   "metadata": {},
   "outputs": [],
   "source": [
    "#apply is slow, so this will take some time\n",
    "from pandas.tseries.holiday import USFederalHolidayCalendar\n",
    "cal = USFederalHolidayCalendar()\n",
    "holidays = cal.holidays(start='2018-01-01', end='2018-12-31')\n",
    "isholiday = data[\"starttime\"].dt.date.astype(\"datetime64\").isin(holidays)"
   ]
  },
  {
   "cell_type": "code",
   "execution_count": 84,
   "id": "8e9ea61d-7fbf-4e1f-a607-3d5f6082afcb",
   "metadata": {},
   "outputs": [
    {
     "data": {
      "text/plain": [
       "False    17152317\n",
       "True       327899\n",
       "Name: isholiday, dtype: int64"
      ]
     },
     "execution_count": 84,
     "metadata": {},
     "output_type": "execute_result"
    }
   ],
   "source": [
    "data[\"isholiday\"] = isholiday\n",
    "data[\"isholiday\"].value_counts()"
   ]
  },
  {
   "cell_type": "code",
   "execution_count": 86,
   "id": "4d44bdce-e81d-48cf-9394-78e045b6047e",
   "metadata": {},
   "outputs": [
    {
     "data": {
      "text/plain": [
       "True     12938644\n",
       "False     4541572\n",
       "Name: business day, dtype: int64"
      ]
     },
     "execution_count": 86,
     "metadata": {},
     "output_type": "execute_result"
    }
   ],
   "source": [
    "data[\"business day\"] = (data[\"weekday\"] < 5) & (~data[\"isholiday\"])\n",
    "data[\"business day\"].value_counts()"
   ]
  },
  {
   "cell_type": "code",
   "execution_count": 87,
   "id": "bd0f2e6b-b86a-4d3e-aaee-8de5fca358ca",
   "metadata": {
    "tags": []
   },
   "outputs": [],
   "source": [
    "data.to_csv(savepath)"
   ]
  },
  {
   "cell_type": "code",
   "execution_count": 89,
   "id": "7fecc392-11e1-4b02-9508-ce49f543f086",
   "metadata": {},
   "outputs": [
    {
     "name": "stdout",
     "output_type": "stream",
     "text": [
      "The dataframe needs 2.31 GB of memory\n"
     ]
    }
   ],
   "source": [
    "print_memory_usage(data)"
   ]
  },
  {
   "cell_type": "markdown",
   "id": "c382f40b-b409-4a9a-81d9-ea3916bdab24",
   "metadata": {},
   "source": [
    "## Unsupervised Analysis"
   ]
  },
  {
   "cell_type": "markdown",
   "id": "ec3454b4-e340-4b39-afc8-358f04012a73",
   "metadata": {},
   "source": [
    "We will now examine some properties of the data and try to find interesing patterns.\n",
    "Since we examine the entire data set, we will be careful not to make use of the labels."
   ]
  },
  {
   "cell_type": "code",
   "execution_count": 93,
   "id": "5d9a8bac-b0fa-46a8-9ef5-ef8f503e02c4",
   "metadata": {
    "collapsed": true,
    "jupyter": {
     "outputs_hidden": true
    },
    "tags": []
   },
   "outputs": [
    {
     "data": {
      "text/html": [
       "<div>\n",
       "<style scoped>\n",
       "    .dataframe tbody tr th:only-of-type {\n",
       "        vertical-align: middle;\n",
       "    }\n",
       "\n",
       "    .dataframe tbody tr th {\n",
       "        vertical-align: top;\n",
       "    }\n",
       "\n",
       "    .dataframe thead th {\n",
       "        text-align: right;\n",
       "    }\n",
       "</style>\n",
       "<table border=\"1\" class=\"dataframe\">\n",
       "  <thead>\n",
       "    <tr style=\"text-align: right;\">\n",
       "      <th></th>\n",
       "      <th>tripduration</th>\n",
       "      <th>starttime</th>\n",
       "      <th>stoptime</th>\n",
       "      <th>start station id</th>\n",
       "      <th>start station name</th>\n",
       "      <th>start station latitude</th>\n",
       "      <th>start station longitude</th>\n",
       "      <th>end station id</th>\n",
       "      <th>end station name</th>\n",
       "      <th>end station latitude</th>\n",
       "      <th>end station longitude</th>\n",
       "      <th>bikeid</th>\n",
       "      <th>birth year</th>\n",
       "      <th>gender</th>\n",
       "      <th>is_roundtrip</th>\n",
       "      <th>haversine distance</th>\n",
       "      <th>weekday</th>\n",
       "      <th>isholiday</th>\n",
       "      <th>business day</th>\n",
       "    </tr>\n",
       "  </thead>\n",
       "  <tbody>\n",
       "    <tr>\n",
       "      <th>0</th>\n",
       "      <td>330</td>\n",
       "      <td>2018-10-01 00:00:00.701</td>\n",
       "      <td>2018-10-01 00:00:00.701</td>\n",
       "      <td>293</td>\n",
       "      <td>Lafayette St &amp; E 8 St</td>\n",
       "      <td>40.730207</td>\n",
       "      <td>-73.991026</td>\n",
       "      <td>504</td>\n",
       "      <td>1 Ave &amp; E 16 St</td>\n",
       "      <td>40.732219</td>\n",
       "      <td>-73.981656</td>\n",
       "      <td>30493</td>\n",
       "      <td>1995</td>\n",
       "      <td>1</td>\n",
       "      <td>False</td>\n",
       "      <td>820.153265</td>\n",
       "      <td>0</td>\n",
       "      <td>False</td>\n",
       "      <td>True</td>\n",
       "    </tr>\n",
       "    <tr>\n",
       "      <th>1</th>\n",
       "      <td>309</td>\n",
       "      <td>2018-10-01 00:00:13.578</td>\n",
       "      <td>2018-10-01 00:00:13.578</td>\n",
       "      <td>433</td>\n",
       "      <td>old - E 13 St &amp; Avenue A</td>\n",
       "      <td>40.729554</td>\n",
       "      <td>-73.980572</td>\n",
       "      <td>394</td>\n",
       "      <td>E 9 St &amp; Avenue C</td>\n",
       "      <td>40.725213</td>\n",
       "      <td>-73.977688</td>\n",
       "      <td>33054</td>\n",
       "      <td>1967</td>\n",
       "      <td>1</td>\n",
       "      <td>False</td>\n",
       "      <td>540.070658</td>\n",
       "      <td>0</td>\n",
       "      <td>False</td>\n",
       "      <td>True</td>\n",
       "    </tr>\n",
       "    <tr>\n",
       "      <th>2</th>\n",
       "      <td>734</td>\n",
       "      <td>2018-10-01 00:00:16.604</td>\n",
       "      <td>2018-10-01 00:00:16.604</td>\n",
       "      <td>3472</td>\n",
       "      <td>W 15 St &amp; 10 Ave</td>\n",
       "      <td>40.742754</td>\n",
       "      <td>-74.007474</td>\n",
       "      <td>285</td>\n",
       "      <td>Broadway &amp; E 14 St</td>\n",
       "      <td>40.734546</td>\n",
       "      <td>-73.990741</td>\n",
       "      <td>33400</td>\n",
       "      <td>1983</td>\n",
       "      <td>2</td>\n",
       "      <td>False</td>\n",
       "      <td>1678.328457</td>\n",
       "      <td>0</td>\n",
       "      <td>False</td>\n",
       "      <td>True</td>\n",
       "    </tr>\n",
       "    <tr>\n",
       "      <th>3</th>\n",
       "      <td>788</td>\n",
       "      <td>2018-10-01 00:00:35.067</td>\n",
       "      <td>2018-10-01 00:00:35.067</td>\n",
       "      <td>417</td>\n",
       "      <td>Barclay St &amp; Church St</td>\n",
       "      <td>40.712912</td>\n",
       "      <td>-74.010202</td>\n",
       "      <td>3472</td>\n",
       "      <td>W 15 St &amp; 10 Ave</td>\n",
       "      <td>40.742754</td>\n",
       "      <td>-74.007474</td>\n",
       "      <td>31140</td>\n",
       "      <td>1988</td>\n",
       "      <td>1</td>\n",
       "      <td>False</td>\n",
       "      <td>3324.102307</td>\n",
       "      <td>0</td>\n",
       "      <td>False</td>\n",
       "      <td>True</td>\n",
       "    </tr>\n",
       "    <tr>\n",
       "      <th>4</th>\n",
       "      <td>1136</td>\n",
       "      <td>2018-10-01 00:00:38.141</td>\n",
       "      <td>2018-10-01 00:00:38.141</td>\n",
       "      <td>3699</td>\n",
       "      <td>W 50 St &amp; 9 Ave</td>\n",
       "      <td>40.763605</td>\n",
       "      <td>-73.98918</td>\n",
       "      <td>495</td>\n",
       "      <td>W 47 St &amp; 10 Ave</td>\n",
       "      <td>40.762699</td>\n",
       "      <td>-73.993012</td>\n",
       "      <td>20294</td>\n",
       "      <td>1969</td>\n",
       "      <td>0</td>\n",
       "      <td>False</td>\n",
       "      <td>337.926301</td>\n",
       "      <td>0</td>\n",
       "      <td>False</td>\n",
       "      <td>True</td>\n",
       "    </tr>\n",
       "    <tr>\n",
       "      <th>...</th>\n",
       "      <td>...</td>\n",
       "      <td>...</td>\n",
       "      <td>...</td>\n",
       "      <td>...</td>\n",
       "      <td>...</td>\n",
       "      <td>...</td>\n",
       "      <td>...</td>\n",
       "      <td>...</td>\n",
       "      <td>...</td>\n",
       "      <td>...</td>\n",
       "      <td>...</td>\n",
       "      <td>...</td>\n",
       "      <td>...</td>\n",
       "      <td>...</td>\n",
       "      <td>...</td>\n",
       "      <td>...</td>\n",
       "      <td>...</td>\n",
       "      <td>...</td>\n",
       "      <td>...</td>\n",
       "    </tr>\n",
       "    <tr>\n",
       "      <th>17548334</th>\n",
       "      <td>843</td>\n",
       "      <td>2018-01-31 17:28:27.539</td>\n",
       "      <td>2018-01-31 17:28:27.539</td>\n",
       "      <td>3664</td>\n",
       "      <td>North Moore St &amp; Greenwich St</td>\n",
       "      <td>40.720195</td>\n",
       "      <td>-74.010301</td>\n",
       "      <td>410</td>\n",
       "      <td>Suffolk St &amp; Stanton St</td>\n",
       "      <td>40.720664</td>\n",
       "      <td>-73.98518</td>\n",
       "      <td>15153</td>\n",
       "      <td>1981</td>\n",
       "      <td>1</td>\n",
       "      <td>False</td>\n",
       "      <td>2116.369976</td>\n",
       "      <td>2</td>\n",
       "      <td>False</td>\n",
       "      <td>True</td>\n",
       "    </tr>\n",
       "    <tr>\n",
       "      <th>17548335</th>\n",
       "      <td>244</td>\n",
       "      <td>2018-01-31 17:34:20.451</td>\n",
       "      <td>2018-01-31 17:34:20.451</td>\n",
       "      <td>3664</td>\n",
       "      <td>North Moore St &amp; Greenwich St</td>\n",
       "      <td>40.720195</td>\n",
       "      <td>-74.010301</td>\n",
       "      <td>327</td>\n",
       "      <td>Vesey Pl &amp; River Terrace</td>\n",
       "      <td>40.715338</td>\n",
       "      <td>-74.016584</td>\n",
       "      <td>26896</td>\n",
       "      <td>1960</td>\n",
       "      <td>1</td>\n",
       "      <td>False</td>\n",
       "      <td>755.898178</td>\n",
       "      <td>2</td>\n",
       "      <td>False</td>\n",
       "      <td>True</td>\n",
       "    </tr>\n",
       "    <tr>\n",
       "      <th>17548336</th>\n",
       "      <td>302</td>\n",
       "      <td>2018-01-31 18:20:55.543</td>\n",
       "      <td>2018-01-31 18:20:55.543</td>\n",
       "      <td>3664</td>\n",
       "      <td>North Moore St &amp; Greenwich St</td>\n",
       "      <td>40.720195</td>\n",
       "      <td>-74.010301</td>\n",
       "      <td>327</td>\n",
       "      <td>Vesey Pl &amp; River Terrace</td>\n",
       "      <td>40.715338</td>\n",
       "      <td>-74.016584</td>\n",
       "      <td>33111</td>\n",
       "      <td>1965</td>\n",
       "      <td>1</td>\n",
       "      <td>False</td>\n",
       "      <td>755.898178</td>\n",
       "      <td>2</td>\n",
       "      <td>False</td>\n",
       "      <td>True</td>\n",
       "    </tr>\n",
       "    <tr>\n",
       "      <th>17548337</th>\n",
       "      <td>222</td>\n",
       "      <td>2018-01-31 18:47:42.572</td>\n",
       "      <td>2018-01-31 18:47:42.572</td>\n",
       "      <td>3664</td>\n",
       "      <td>North Moore St &amp; Greenwich St</td>\n",
       "      <td>40.720195</td>\n",
       "      <td>-74.010301</td>\n",
       "      <td>257</td>\n",
       "      <td>Lispenard St &amp; Broadway</td>\n",
       "      <td>40.719392</td>\n",
       "      <td>-74.002472</td>\n",
       "      <td>16675</td>\n",
       "      <td>1969</td>\n",
       "      <td>0</td>\n",
       "      <td>False</td>\n",
       "      <td>665.347556</td>\n",
       "      <td>2</td>\n",
       "      <td>False</td>\n",
       "      <td>True</td>\n",
       "    </tr>\n",
       "    <tr>\n",
       "      <th>17548338</th>\n",
       "      <td>713</td>\n",
       "      <td>2018-01-31 19:35:55.484</td>\n",
       "      <td>2018-01-31 19:35:55.484</td>\n",
       "      <td>3664</td>\n",
       "      <td>North Moore St &amp; Greenwich St</td>\n",
       "      <td>40.720195</td>\n",
       "      <td>-74.010301</td>\n",
       "      <td>280</td>\n",
       "      <td>E 10 St &amp; 5 Ave</td>\n",
       "      <td>40.73332</td>\n",
       "      <td>-73.995101</td>\n",
       "      <td>17928</td>\n",
       "      <td>1991</td>\n",
       "      <td>1</td>\n",
       "      <td>False</td>\n",
       "      <td>1940.4845</td>\n",
       "      <td>2</td>\n",
       "      <td>False</td>\n",
       "      <td>True</td>\n",
       "    </tr>\n",
       "  </tbody>\n",
       "</table>\n",
       "<p>17480216 rows × 19 columns</p>\n",
       "</div>"
      ],
      "text/plain": [
       "          tripduration               starttime                stoptime  \\\n",
       "0                  330 2018-10-01 00:00:00.701 2018-10-01 00:00:00.701   \n",
       "1                  309 2018-10-01 00:00:13.578 2018-10-01 00:00:13.578   \n",
       "2                  734 2018-10-01 00:00:16.604 2018-10-01 00:00:16.604   \n",
       "3                  788 2018-10-01 00:00:35.067 2018-10-01 00:00:35.067   \n",
       "4                 1136 2018-10-01 00:00:38.141 2018-10-01 00:00:38.141   \n",
       "...                ...                     ...                     ...   \n",
       "17548334           843 2018-01-31 17:28:27.539 2018-01-31 17:28:27.539   \n",
       "17548335           244 2018-01-31 17:34:20.451 2018-01-31 17:34:20.451   \n",
       "17548336           302 2018-01-31 18:20:55.543 2018-01-31 18:20:55.543   \n",
       "17548337           222 2018-01-31 18:47:42.572 2018-01-31 18:47:42.572   \n",
       "17548338           713 2018-01-31 19:35:55.484 2018-01-31 19:35:55.484   \n",
       "\n",
       "          start station id             start station name  \\\n",
       "0                      293          Lafayette St & E 8 St   \n",
       "1                      433       old - E 13 St & Avenue A   \n",
       "2                     3472               W 15 St & 10 Ave   \n",
       "3                      417         Barclay St & Church St   \n",
       "4                     3699                W 50 St & 9 Ave   \n",
       "...                    ...                            ...   \n",
       "17548334              3664  North Moore St & Greenwich St   \n",
       "17548335              3664  North Moore St & Greenwich St   \n",
       "17548336              3664  North Moore St & Greenwich St   \n",
       "17548337              3664  North Moore St & Greenwich St   \n",
       "17548338              3664  North Moore St & Greenwich St   \n",
       "\n",
       "          start station latitude  start station longitude  end station id  \\\n",
       "0                      40.730207               -73.991026             504   \n",
       "1                      40.729554               -73.980572             394   \n",
       "2                      40.742754               -74.007474             285   \n",
       "3                      40.712912               -74.010202            3472   \n",
       "4                      40.763605                -73.98918             495   \n",
       "...                          ...                      ...             ...   \n",
       "17548334               40.720195               -74.010301             410   \n",
       "17548335               40.720195               -74.010301             327   \n",
       "17548336               40.720195               -74.010301             327   \n",
       "17548337               40.720195               -74.010301             257   \n",
       "17548338               40.720195               -74.010301             280   \n",
       "\n",
       "                  end station name  end station latitude  \\\n",
       "0                  1 Ave & E 16 St             40.732219   \n",
       "1                E 9 St & Avenue C             40.725213   \n",
       "2               Broadway & E 14 St             40.734546   \n",
       "3                 W 15 St & 10 Ave             40.742754   \n",
       "4                 W 47 St & 10 Ave             40.762699   \n",
       "...                            ...                   ...   \n",
       "17548334   Suffolk St & Stanton St             40.720664   \n",
       "17548335  Vesey Pl & River Terrace             40.715338   \n",
       "17548336  Vesey Pl & River Terrace             40.715338   \n",
       "17548337   Lispenard St & Broadway             40.719392   \n",
       "17548338           E 10 St & 5 Ave              40.73332   \n",
       "\n",
       "          end station longitude  bikeid  birth year gender  is_roundtrip  \\\n",
       "0                    -73.981656   30493        1995      1         False   \n",
       "1                    -73.977688   33054        1967      1         False   \n",
       "2                    -73.990741   33400        1983      2         False   \n",
       "3                    -74.007474   31140        1988      1         False   \n",
       "4                    -73.993012   20294        1969      0         False   \n",
       "...                         ...     ...         ...    ...           ...   \n",
       "17548334              -73.98518   15153        1981      1         False   \n",
       "17548335             -74.016584   26896        1960      1         False   \n",
       "17548336             -74.016584   33111        1965      1         False   \n",
       "17548337             -74.002472   16675        1969      0         False   \n",
       "17548338             -73.995101   17928        1991      1         False   \n",
       "\n",
       "          haversine distance  weekday  isholiday  business day  \n",
       "0                 820.153265        0      False          True  \n",
       "1                 540.070658        0      False          True  \n",
       "2                1678.328457        0      False          True  \n",
       "3                3324.102307        0      False          True  \n",
       "4                 337.926301        0      False          True  \n",
       "...                      ...      ...        ...           ...  \n",
       "17548334         2116.369976        2      False          True  \n",
       "17548335          755.898178        2      False          True  \n",
       "17548336          755.898178        2      False          True  \n",
       "17548337          665.347556        2      False          True  \n",
       "17548338           1940.4845        2      False          True  \n",
       "\n",
       "[17480216 rows x 19 columns]"
      ]
     },
     "execution_count": 93,
     "metadata": {},
     "output_type": "execute_result"
    }
   ],
   "source": [
    "unlabeled = data.drop(\"usertype\",axis=1)\n",
    "unlabeled"
   ]
  },
  {
   "cell_type": "markdown",
   "id": "a0628ccd-1ce5-4c1a-8246-e74061c64197",
   "metadata": {},
   "source": [
    "First, lets look at the distribution of trips over the year"
   ]
  },
  {
   "cell_type": "code",
   "execution_count": 98,
   "id": "dd8e874c-e9b1-47df-ac29-3a577d9f94be",
   "metadata": {},
   "outputs": [],
   "source": [
    "countbymonth = unlabeled.groupby(by = unlabeled[\"starttime\"].dt.month).size()\n",
    "countbymonth.index.name = \"Month\""
   ]
  },
  {
   "cell_type": "code",
   "execution_count": 101,
   "id": "3462f079-295a-44cd-b134-905e45583675",
   "metadata": {},
   "outputs": [
    {
     "data": {
      "text/plain": [
       "<AxesSubplot:xlabel='Month'>"
      ]
     },
     "execution_count": 101,
     "metadata": {},
     "output_type": "execute_result"
    },
    {
     "data": {
      "image/png": "[encoded data removed]",
      "text/plain": [
       "<Figure size 432x288 with 1 Axes>"
      ]
     },
     "metadata": {
      "needs_background": "light"
     },
     "output_type": "display_data"
    }
   ],
   "source": [
    "countbymonth.plot.bar()"
   ]
  },
  {
   "cell_type": "markdown",
   "id": "cd8fbe80-266f-4d44-9192-64af349914d1",
   "metadata": {},
   "source": [
    "We see that there is a lot more traffic during the summer month.\n",
    "This might also suggest a feature \"issummer\", which is true during the month 5-10."
   ]
  },
  {
   "cell_type": "markdown",
   "id": "aa837e10-b9c2-40f2-9786-99b946e1dc8d",
   "metadata": {
    "tags": []
   },
   "source": [
    "# Splitting the Data"
   ]
  },
  {
   "cell_type": "markdown",
   "id": "58aba45a-6e10-44c1-a237-ffac3dd317e5",
   "metadata": {},
   "source": [
    "We now split the data in a 60/20/20 ratio of training/validation/test."
   ]
  },
  {
   "cell_type": "code",
   "execution_count": 8,
   "id": "dbf50194-6ad4-42f6-b1d3-61803542a3ed",
   "metadata": {},
   "outputs": [
    {
     "name": "stdout",
     "output_type": "stream",
     "text": [
      "17548339\n",
      "Train: 10529003, Val: 3509667, Test: 3509667\n"
     ]
    }
   ],
   "source": [
    "print(len(data))\n",
    "n = len(data)\n",
    "train_ratio = 0.6\n",
    "val_ratio = 0.2\n",
    "test_ratio = 0.2\n",
    "train_size = int(train_ratio*n)\n",
    "val_size = int(val_ratio*n)\n",
    "test_size = int(test_ratio*n)\n",
    "print(\"Train: {0}, Val: {1}, Test: {2}\".format(int(train_ratio*n), int(val_ratio*n), int(test_ratio*n)))"
   ]
  },
  {
   "cell_type": "code",
   "execution_count": 9,
   "id": "1972757d-6773-4e35-b644-3ae7b4104842",
   "metadata": {},
   "outputs": [
    {
     "name": "stdout",
     "output_type": "stream",
     "text": [
      "10529005 3509667 3509667\n"
     ]
    }
   ],
   "source": [
    "trainset,testset = train_test_split(data,test_size=test_size)\n",
    "trainset,valset = train_test_split(trainset,test_size=val_size)\n",
    "print(len(trainset),len(valset),len(testset))"
   ]
  },
  {
   "cell_type": "code",
   "execution_count": 10,
   "id": "2b5ce5f0-9482-4d01-9913-a2fccc16de74",
   "metadata": {},
   "outputs": [],
   "source": [
    "with open(\"Data/Train.csv\",\"w\") as file:\n",
    "    trainset.to_csv(file)"
   ]
  },
  {
   "cell_type": "code",
   "execution_count": 11,
   "id": "8a257b6b-5863-4939-95a5-3f1abd960e4d",
   "metadata": {},
   "outputs": [],
   "source": [
    "with open(\"Data/Validation.csv\",\"w\") as file:\n",
    "    valset.to_csv(file)"
   ]
  },
  {
   "cell_type": "code",
   "execution_count": 12,
   "id": "82f8923f-cfc8-44ec-84c4-c813b18ca187",
   "metadata": {},
   "outputs": [],
   "source": [
    "with open(\"Data/Test.csv\",\"w\") as file:\n",
    "    testset.to_csv(file)"
   ]
  },
  {
   "cell_type": "code",
   "execution_count": null,
   "id": "d42b6539-6b34-4eac-97b3-640ab5e3758e",
   "metadata": {},
   "outputs": [],
   "source": []
  }
 ],
 "metadata": {
  "kernelspec": {
   "display_name": "Python 3 (ipykernel)",
   "language": "python",
   "name": "python3"
  },
  "language_info": {
   "codemirror_mode": {
    "name": "ipython",
    "version": 3
   },
   "file_extension": ".py",
   "mimetype": "text/x-python",
   "name": "python",
   "nbconvert_exporter": "python",
   "pygments_lexer": "ipython3",
   "version": "3.7.10"
  }
 },
 "nbformat": 4,
 "nbformat_minor": 5
}
