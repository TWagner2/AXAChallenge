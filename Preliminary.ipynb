{
 "cells": [
  {
   "cell_type": "code",
   "execution_count": 1,
   "id": "81a893a8-5afc-4e19-82f7-b8cca7da974b",
   "metadata": {},
   "outputs": [],
   "source": [
    "import pandas as pd\n",
    "import numpy as np\n",
    "import glob\n",
    "%config IPCompleter.use_jedi=False\n",
    "\n",
    "from sklearn.model_selection import train_test_split"
   ]
  },
  {
   "cell_type": "markdown",
   "id": "8fdd31b9-1c4d-463c-ac4f-060109f1ae62",
   "metadata": {
    "tags": []
   },
   "source": [
    "## IDEAS\n",
    "\n",
    "First split into train,validation,and Test before even plotting the data.\n",
    "(How large should each data set be?)\n",
    "Only plot training data, neve rlook at test data! Otherwise my your knowledge of test data biases test error estimates.\n",
    "\n",
    "Is data set \"Balanced\"? Should I try to preserve some balance in train, val, test split?\n",
    "-> Subscribers make MANY more trips\n",
    "\n",
    "Remove outliers from triptime and birthyear data\n",
    "\n",
    "1. Load all files into one data frame grouped by month -> Can pandas even do this?\n",
    "2. Split Data -> I do one fixed train,test,validation split at the beginning and never change it because the data set is very large and I dont expect much variation over splits. I could otherwise do corss-validation or something. Question: Should one balance labels somehow in the splits?\n",
    "3. Compute trip durations -> already done, and length (how??? luftlinie oder station distances -> Google maps API?) from the data\n",
    "    1. Can use OSMnx\n",
    "    2. Use Taxicab metric (simpler) -> Actually not simpler at all, need coordinates relative to new york layout\n",
    "    3. Luftlinie (am einfachsten)\n",
    "4. Compute weekdays vs weekends\n",
    "5. Can one do somethign with bikeID?\n",
    "6. Can one do something with stationID?\n",
    "7. Compare to baseline of simply choosing most likely class label, ignoring user data!\n",
    "   Or use other ways of dealing with imbalance / representing effect?"
   ]
  },
  {
   "cell_type": "markdown",
   "id": "0e5cbcf0-8f6c-4b94-8897-f509be968e89",
   "metadata": {},
   "source": [
    "Features need to be preprocessed -> Encode categorically etc."
   ]
  },
  {
   "cell_type": "markdown",
   "id": "2c7f97aa-176b-497c-b747-3188ccb27d18",
   "metadata": {},
   "source": [
    "Some feature ideas:\n",
    "1. Time\n",
    "2. Distance\n",
    "3. Speed\n",
    "4. Workday vs Weekend (maybe even include holidays)\n",
    "5. Month (maybe)\n",
    "6. StartStation -> Because people from similar areas might be subscribers / not "
   ]
  },
  {
   "cell_type": "markdown",
   "id": "01ef7a71-dc74-4cb8-be1c-b0553be0125f",
   "metadata": {},
   "source": [
    "## Evaluation?"
   ]
  },
  {
   "cell_type": "markdown",
   "id": "8bb44fa7-1bf6-4969-8bb9-b93606e465b1",
   "metadata": {},
   "source": [
    "1. Evaluate vs baseline (baseline = always choos \"subscriber\" as label)\n",
    "2. Confusion matrix"
   ]
  },
  {
   "cell_type": "markdown",
   "id": "456f0fdc-02be-4b21-ac78-d23e38629a21",
   "metadata": {},
   "source": [
    "## Data Cleaning"
   ]
  },
  {
   "cell_type": "markdown",
   "id": "25389c84-e02c-483b-88c7-9ce92f7b55b6",
   "metadata": {},
   "source": [
    "Try loading the whole dataset. Note that this needs more than 9 GB of memory."
   ]
  },
  {
   "cell_type": "code",
   "execution_count": 2,
   "id": "686c2263-653b-4f30-b9ec-1abc4451c818",
   "metadata": {},
   "outputs": [
    {
     "name": "stdout",
     "output_type": "stream",
     "text": [
      "['Data/201810-citibike-tripdata.csv', 'Data/201802-citibike-tripdata.csv', 'Data/201809-citibike-tripdata.csv', 'Data/201808-citibike-tripdata.csv', 'Data/201803-citibike-tripdata.csv', 'Data/201807-citibike-tripdata.csv', 'Data/201812-citibike-tripdata.csv', 'Data/201805-citibike-tripdata.csv', 'Data/201811-citibike-tripdata.csv', 'Data/201806-citibike-tripdata.csv', 'Data/201804-citibike-tripdata.csv', 'Data/201801-citibike-tripdata.csv']\n",
      "10\n",
      "02\n",
      "09\n",
      "08\n",
      "03\n",
      "07\n",
      "12\n",
      "05\n",
      "11\n",
      "06\n",
      "04\n",
      "01\n"
     ]
    }
   ],
   "source": [
    "filenames = glob.glob(\"Data/2*.csv\")\n",
    "print(filenames)\n",
    "dfs = []\n",
    "for filename in filenames:\n",
    "    month = filename[9:11]\n",
    "    print(month)\n",
    "    d = pd.read_csv(filename)\n",
    "    d[\"month\"] = month    \n",
    "    dfs.append(d)\n",
    "data = pd.concat(dfs,ignore_index=True)"
   ]
  },
  {
   "cell_type": "code",
   "execution_count": 3,
   "id": "0dccc46c-0552-47b9-bbae-148893ddc9cc",
   "metadata": {},
   "outputs": [
    {
     "data": {
      "text/html": [
       "<div>\n",
       "<style scoped>\n",
       "    .dataframe tbody tr th:only-of-type {\n",
       "        vertical-align: middle;\n",
       "    }\n",
       "\n",
       "    .dataframe tbody tr th {\n",
       "        vertical-align: top;\n",
       "    }\n",
       "\n",
       "    .dataframe thead th {\n",
       "        text-align: right;\n",
       "    }\n",
       "</style>\n",
       "<table border=\"1\" class=\"dataframe\">\n",
       "  <thead>\n",
       "    <tr style=\"text-align: right;\">\n",
       "      <th></th>\n",
       "      <th>tripduration</th>\n",
       "      <th>starttime</th>\n",
       "      <th>stoptime</th>\n",
       "      <th>start station id</th>\n",
       "      <th>start station name</th>\n",
       "      <th>start station latitude</th>\n",
       "      <th>start station longitude</th>\n",
       "      <th>end station id</th>\n",
       "      <th>end station name</th>\n",
       "      <th>end station latitude</th>\n",
       "      <th>end station longitude</th>\n",
       "      <th>bikeid</th>\n",
       "      <th>usertype</th>\n",
       "      <th>birth year</th>\n",
       "      <th>gender</th>\n",
       "      <th>month</th>\n",
       "    </tr>\n",
       "  </thead>\n",
       "  <tbody>\n",
       "    <tr>\n",
       "      <th>0</th>\n",
       "      <td>330</td>\n",
       "      <td>2018-10-01 00:00:00.7010</td>\n",
       "      <td>2018-10-01 00:05:30.8490</td>\n",
       "      <td>293.0</td>\n",
       "      <td>Lafayette St &amp; E 8 St</td>\n",
       "      <td>40.730207</td>\n",
       "      <td>-73.991026</td>\n",
       "      <td>504.0</td>\n",
       "      <td>1 Ave &amp; E 16 St</td>\n",
       "      <td>40.732219</td>\n",
       "      <td>-73.981656</td>\n",
       "      <td>30493</td>\n",
       "      <td>Subscriber</td>\n",
       "      <td>1995</td>\n",
       "      <td>1</td>\n",
       "      <td>10</td>\n",
       "    </tr>\n",
       "    <tr>\n",
       "      <th>1</th>\n",
       "      <td>309</td>\n",
       "      <td>2018-10-01 00:00:13.5780</td>\n",
       "      <td>2018-10-01 00:05:23.2310</td>\n",
       "      <td>433.0</td>\n",
       "      <td>old - E 13 St &amp; Avenue A</td>\n",
       "      <td>40.729554</td>\n",
       "      <td>-73.980572</td>\n",
       "      <td>394.0</td>\n",
       "      <td>E 9 St &amp; Avenue C</td>\n",
       "      <td>40.725213</td>\n",
       "      <td>-73.977688</td>\n",
       "      <td>33054</td>\n",
       "      <td>Subscriber</td>\n",
       "      <td>1967</td>\n",
       "      <td>1</td>\n",
       "      <td>10</td>\n",
       "    </tr>\n",
       "    <tr>\n",
       "      <th>2</th>\n",
       "      <td>734</td>\n",
       "      <td>2018-10-01 00:00:16.6040</td>\n",
       "      <td>2018-10-01 00:12:31.5050</td>\n",
       "      <td>3472.0</td>\n",
       "      <td>W 15 St &amp; 10 Ave</td>\n",
       "      <td>40.742754</td>\n",
       "      <td>-74.007474</td>\n",
       "      <td>285.0</td>\n",
       "      <td>Broadway &amp; E 14 St</td>\n",
       "      <td>40.734546</td>\n",
       "      <td>-73.990741</td>\n",
       "      <td>33400</td>\n",
       "      <td>Subscriber</td>\n",
       "      <td>1983</td>\n",
       "      <td>2</td>\n",
       "      <td>10</td>\n",
       "    </tr>\n",
       "    <tr>\n",
       "      <th>3</th>\n",
       "      <td>788</td>\n",
       "      <td>2018-10-01 00:00:35.0670</td>\n",
       "      <td>2018-10-01 00:13:43.5780</td>\n",
       "      <td>417.0</td>\n",
       "      <td>Barclay St &amp; Church St</td>\n",
       "      <td>40.712912</td>\n",
       "      <td>-74.010202</td>\n",
       "      <td>3472.0</td>\n",
       "      <td>W 15 St &amp; 10 Ave</td>\n",
       "      <td>40.742754</td>\n",
       "      <td>-74.007474</td>\n",
       "      <td>31140</td>\n",
       "      <td>Customer</td>\n",
       "      <td>1988</td>\n",
       "      <td>1</td>\n",
       "      <td>10</td>\n",
       "    </tr>\n",
       "    <tr>\n",
       "      <th>4</th>\n",
       "      <td>1136</td>\n",
       "      <td>2018-10-01 00:00:38.1410</td>\n",
       "      <td>2018-10-01 00:19:34.6490</td>\n",
       "      <td>3699.0</td>\n",
       "      <td>W 50 St &amp; 9 Ave</td>\n",
       "      <td>40.763605</td>\n",
       "      <td>-73.989180</td>\n",
       "      <td>495.0</td>\n",
       "      <td>W 47 St &amp; 10 Ave</td>\n",
       "      <td>40.762699</td>\n",
       "      <td>-73.993012</td>\n",
       "      <td>20294</td>\n",
       "      <td>Subscriber</td>\n",
       "      <td>1969</td>\n",
       "      <td>0</td>\n",
       "      <td>10</td>\n",
       "    </tr>\n",
       "    <tr>\n",
       "      <th>...</th>\n",
       "      <td>...</td>\n",
       "      <td>...</td>\n",
       "      <td>...</td>\n",
       "      <td>...</td>\n",
       "      <td>...</td>\n",
       "      <td>...</td>\n",
       "      <td>...</td>\n",
       "      <td>...</td>\n",
       "      <td>...</td>\n",
       "      <td>...</td>\n",
       "      <td>...</td>\n",
       "      <td>...</td>\n",
       "      <td>...</td>\n",
       "      <td>...</td>\n",
       "      <td>...</td>\n",
       "      <td>...</td>\n",
       "    </tr>\n",
       "    <tr>\n",
       "      <th>17548334</th>\n",
       "      <td>843</td>\n",
       "      <td>2018-01-31 17:28:27.5390</td>\n",
       "      <td>2018-01-31 17:42:30.5890</td>\n",
       "      <td>3664.0</td>\n",
       "      <td>North Moore St &amp; Greenwich St</td>\n",
       "      <td>40.720195</td>\n",
       "      <td>-74.010301</td>\n",
       "      <td>410.0</td>\n",
       "      <td>Suffolk St &amp; Stanton St</td>\n",
       "      <td>40.720664</td>\n",
       "      <td>-73.985180</td>\n",
       "      <td>15153</td>\n",
       "      <td>Subscriber</td>\n",
       "      <td>1981</td>\n",
       "      <td>1</td>\n",
       "      <td>01</td>\n",
       "    </tr>\n",
       "    <tr>\n",
       "      <th>17548335</th>\n",
       "      <td>244</td>\n",
       "      <td>2018-01-31 17:34:20.4510</td>\n",
       "      <td>2018-01-31 17:38:24.7200</td>\n",
       "      <td>3664.0</td>\n",
       "      <td>North Moore St &amp; Greenwich St</td>\n",
       "      <td>40.720195</td>\n",
       "      <td>-74.010301</td>\n",
       "      <td>327.0</td>\n",
       "      <td>Vesey Pl &amp; River Terrace</td>\n",
       "      <td>40.715338</td>\n",
       "      <td>-74.016584</td>\n",
       "      <td>26896</td>\n",
       "      <td>Subscriber</td>\n",
       "      <td>1960</td>\n",
       "      <td>1</td>\n",
       "      <td>01</td>\n",
       "    </tr>\n",
       "    <tr>\n",
       "      <th>17548336</th>\n",
       "      <td>302</td>\n",
       "      <td>2018-01-31 18:20:55.5430</td>\n",
       "      <td>2018-01-31 18:25:58.3350</td>\n",
       "      <td>3664.0</td>\n",
       "      <td>North Moore St &amp; Greenwich St</td>\n",
       "      <td>40.720195</td>\n",
       "      <td>-74.010301</td>\n",
       "      <td>327.0</td>\n",
       "      <td>Vesey Pl &amp; River Terrace</td>\n",
       "      <td>40.715338</td>\n",
       "      <td>-74.016584</td>\n",
       "      <td>33111</td>\n",
       "      <td>Subscriber</td>\n",
       "      <td>1965</td>\n",
       "      <td>1</td>\n",
       "      <td>01</td>\n",
       "    </tr>\n",
       "    <tr>\n",
       "      <th>17548337</th>\n",
       "      <td>222</td>\n",
       "      <td>2018-01-31 18:47:42.5720</td>\n",
       "      <td>2018-01-31 18:51:24.6830</td>\n",
       "      <td>3664.0</td>\n",
       "      <td>North Moore St &amp; Greenwich St</td>\n",
       "      <td>40.720195</td>\n",
       "      <td>-74.010301</td>\n",
       "      <td>257.0</td>\n",
       "      <td>Lispenard St &amp; Broadway</td>\n",
       "      <td>40.719392</td>\n",
       "      <td>-74.002472</td>\n",
       "      <td>16675</td>\n",
       "      <td>Subscriber</td>\n",
       "      <td>1969</td>\n",
       "      <td>0</td>\n",
       "      <td>01</td>\n",
       "    </tr>\n",
       "    <tr>\n",
       "      <th>17548338</th>\n",
       "      <td>713</td>\n",
       "      <td>2018-01-31 19:35:55.4840</td>\n",
       "      <td>2018-01-31 19:47:48.6400</td>\n",
       "      <td>3664.0</td>\n",
       "      <td>North Moore St &amp; Greenwich St</td>\n",
       "      <td>40.720195</td>\n",
       "      <td>-74.010301</td>\n",
       "      <td>280.0</td>\n",
       "      <td>E 10 St &amp; 5 Ave</td>\n",
       "      <td>40.733320</td>\n",
       "      <td>-73.995101</td>\n",
       "      <td>17928</td>\n",
       "      <td>Subscriber</td>\n",
       "      <td>1991</td>\n",
       "      <td>1</td>\n",
       "      <td>01</td>\n",
       "    </tr>\n",
       "  </tbody>\n",
       "</table>\n",
       "<p>17548339 rows × 16 columns</p>\n",
       "</div>"
      ],
      "text/plain": [
       "          tripduration                 starttime                  stoptime  \\\n",
       "0                  330  2018-10-01 00:00:00.7010  2018-10-01 00:05:30.8490   \n",
       "1                  309  2018-10-01 00:00:13.5780  2018-10-01 00:05:23.2310   \n",
       "2                  734  2018-10-01 00:00:16.6040  2018-10-01 00:12:31.5050   \n",
       "3                  788  2018-10-01 00:00:35.0670  2018-10-01 00:13:43.5780   \n",
       "4                 1136  2018-10-01 00:00:38.1410  2018-10-01 00:19:34.6490   \n",
       "...                ...                       ...                       ...   \n",
       "17548334           843  2018-01-31 17:28:27.5390  2018-01-31 17:42:30.5890   \n",
       "17548335           244  2018-01-31 17:34:20.4510  2018-01-31 17:38:24.7200   \n",
       "17548336           302  2018-01-31 18:20:55.5430  2018-01-31 18:25:58.3350   \n",
       "17548337           222  2018-01-31 18:47:42.5720  2018-01-31 18:51:24.6830   \n",
       "17548338           713  2018-01-31 19:35:55.4840  2018-01-31 19:47:48.6400   \n",
       "\n",
       "          start station id             start station name  \\\n",
       "0                    293.0          Lafayette St & E 8 St   \n",
       "1                    433.0       old - E 13 St & Avenue A   \n",
       "2                   3472.0               W 15 St & 10 Ave   \n",
       "3                    417.0         Barclay St & Church St   \n",
       "4                   3699.0                W 50 St & 9 Ave   \n",
       "...                    ...                            ...   \n",
       "17548334            3664.0  North Moore St & Greenwich St   \n",
       "17548335            3664.0  North Moore St & Greenwich St   \n",
       "17548336            3664.0  North Moore St & Greenwich St   \n",
       "17548337            3664.0  North Moore St & Greenwich St   \n",
       "17548338            3664.0  North Moore St & Greenwich St   \n",
       "\n",
       "          start station latitude  start station longitude  end station id  \\\n",
       "0                      40.730207               -73.991026           504.0   \n",
       "1                      40.729554               -73.980572           394.0   \n",
       "2                      40.742754               -74.007474           285.0   \n",
       "3                      40.712912               -74.010202          3472.0   \n",
       "4                      40.763605               -73.989180           495.0   \n",
       "...                          ...                      ...             ...   \n",
       "17548334               40.720195               -74.010301           410.0   \n",
       "17548335               40.720195               -74.010301           327.0   \n",
       "17548336               40.720195               -74.010301           327.0   \n",
       "17548337               40.720195               -74.010301           257.0   \n",
       "17548338               40.720195               -74.010301           280.0   \n",
       "\n",
       "                  end station name  end station latitude  \\\n",
       "0                  1 Ave & E 16 St             40.732219   \n",
       "1                E 9 St & Avenue C             40.725213   \n",
       "2               Broadway & E 14 St             40.734546   \n",
       "3                 W 15 St & 10 Ave             40.742754   \n",
       "4                 W 47 St & 10 Ave             40.762699   \n",
       "...                            ...                   ...   \n",
       "17548334   Suffolk St & Stanton St             40.720664   \n",
       "17548335  Vesey Pl & River Terrace             40.715338   \n",
       "17548336  Vesey Pl & River Terrace             40.715338   \n",
       "17548337   Lispenard St & Broadway             40.719392   \n",
       "17548338           E 10 St & 5 Ave             40.733320   \n",
       "\n",
       "          end station longitude  bikeid    usertype  birth year  gender month  \n",
       "0                    -73.981656   30493  Subscriber        1995       1    10  \n",
       "1                    -73.977688   33054  Subscriber        1967       1    10  \n",
       "2                    -73.990741   33400  Subscriber        1983       2    10  \n",
       "3                    -74.007474   31140    Customer        1988       1    10  \n",
       "4                    -73.993012   20294  Subscriber        1969       0    10  \n",
       "...                         ...     ...         ...         ...     ...   ...  \n",
       "17548334             -73.985180   15153  Subscriber        1981       1    01  \n",
       "17548335             -74.016584   26896  Subscriber        1960       1    01  \n",
       "17548336             -74.016584   33111  Subscriber        1965       1    01  \n",
       "17548337             -74.002472   16675  Subscriber        1969       0    01  \n",
       "17548338             -73.995101   17928  Subscriber        1991       1    01  \n",
       "\n",
       "[17548339 rows x 16 columns]"
      ]
     },
     "execution_count": 3,
     "metadata": {},
     "output_type": "execute_result"
    }
   ],
   "source": [
    "data"
   ]
  },
  {
   "cell_type": "code",
   "execution_count": 4,
   "id": "821b26da-0297-4747-9f61-ffc25e59f87c",
   "metadata": {},
   "outputs": [
    {
     "name": "stdout",
     "output_type": "stream",
     "text": [
      "The dataframe needs 9.14 GB of memory\n"
     ]
    }
   ],
   "source": [
    "memory = data.memory_usage(index=True,deep=True).sum()\n",
    "print(f\"The dataframe needs {memory/1e9:.3} GB of memory\")"
   ]
  },
  {
   "cell_type": "markdown",
   "id": "607a418c-6da2-41fb-b3f8-85f59bcbfbe4",
   "metadata": {},
   "source": [
    "We now look at the some features and try to remove outliers."
   ]
  },
  {
   "cell_type": "markdown",
   "id": "ef930891-91ff-4e90-8e76-715f71d4eb93",
   "metadata": {},
   "source": [
    "First, lets check for NAN values:"
   ]
  },
  {
   "cell_type": "code",
   "execution_count": 5,
   "id": "ca0587d3-e26b-417d-a3e0-75fb3a64ad6a",
   "metadata": {},
   "outputs": [
    {
     "data": {
      "text/plain": [
       "tripduration               17548339\n",
       "starttime                  17548339\n",
       "stoptime                   17548339\n",
       "start station id           17545842\n",
       "start station name         17545842\n",
       "start station latitude     17548339\n",
       "start station longitude    17548339\n",
       "end station id             17545842\n",
       "end station name           17545842\n",
       "end station latitude       17548339\n",
       "end station longitude      17548339\n",
       "bikeid                     17548339\n",
       "usertype                   17548339\n",
       "birth year                 17548339\n",
       "gender                     17548339\n",
       "month                      17548339\n",
       "dtype: int64"
      ]
     },
     "execution_count": 5,
     "metadata": {},
     "output_type": "execute_result"
    }
   ],
   "source": [
    "data.count()"
   ]
  },
  {
   "cell_type": "markdown",
   "id": "a923e039-e5ea-46cf-a425-73cb32713897",
   "metadata": {},
   "source": [
    "We see that start and end station ids and names are not always available.\n",
    "This affects about 3000 of the 17 million entries.\n",
    "We simply remove the rows with missing values."
   ]
  },
  {
   "cell_type": "code",
   "execution_count": 6,
   "id": "ce4cccb6-c698-4543-8e68-baca3e4f33a5",
   "metadata": {},
   "outputs": [
    {
     "name": "stdout",
     "output_type": "stream",
     "text": [
      "17545842\n"
     ]
    },
    {
     "ename": "NameError",
     "evalue": "name 'data_cleaned' is not defined",
     "output_type": "error",
     "traceback": [
      "\u001b[0;31m---------------------------------------------------------------------------\u001b[0m",
      "\u001b[0;31mNameError\u001b[0m                                 Traceback (most recent call last)",
      "\u001b[0;32m/tmp/ipykernel_17652/4276881115.py\u001b[0m in \u001b[0;36m<module>\u001b[0;34m\u001b[0m\n\u001b[1;32m      1\u001b[0m \u001b[0mdata\u001b[0m\u001b[0;34m.\u001b[0m\u001b[0mdropna\u001b[0m\u001b[0;34m(\u001b[0m\u001b[0minplace\u001b[0m\u001b[0;34m=\u001b[0m\u001b[0;32mTrue\u001b[0m\u001b[0;34m)\u001b[0m\u001b[0;34m\u001b[0m\u001b[0;34m\u001b[0m\u001b[0m\n\u001b[1;32m      2\u001b[0m \u001b[0mprint\u001b[0m\u001b[0;34m(\u001b[0m\u001b[0mlen\u001b[0m\u001b[0;34m(\u001b[0m\u001b[0mdata\u001b[0m\u001b[0;34m)\u001b[0m\u001b[0;34m)\u001b[0m\u001b[0;34m\u001b[0m\u001b[0;34m\u001b[0m\u001b[0m\n\u001b[0;32m----> 3\u001b[0;31m \u001b[0mdata_cleaned\u001b[0m\u001b[0;34m.\u001b[0m\u001b[0mcount\u001b[0m\u001b[0;34m(\u001b[0m\u001b[0;34m)\u001b[0m\u001b[0;34m\u001b[0m\u001b[0;34m\u001b[0m\u001b[0m\n\u001b[0m",
      "\u001b[0;31mNameError\u001b[0m: name 'data_cleaned' is not defined"
     ]
    }
   ],
   "source": [
    "data.dropna(inplace=True)\n",
    "print(len(data))\n",
    "data.count()"
   ]
  },
  {
   "cell_type": "markdown",
   "id": "e76a2b83-871c-4bdb-8c65-53e9b64b87b0",
   "metadata": {},
   "source": [
    "Now, we check for outliers in the different features.\n",
    "Let us start with trip durations.\n",
    "We plot a histogram of the tripdurations to understand the distributions.\n",
    "Because there are some very large values, we use a loglog-scale.\n",
    "Note that the bins should be spaced evenly on a log-scale and not on a linear scale, so we specify them manually."
   ]
  },
  {
   "cell_type": "code",
   "execution_count": 7,
   "id": "cac18015-7f54-46d6-ab1b-e7795ef4a0ee",
   "metadata": {},
   "outputs": [
    {
     "data": {
      "text/plain": [
       "Text(0.5, 0, 'Duration (s)')"
      ]
     },
     "execution_count": 7,
     "metadata": {},
     "output_type": "execute_result"
    },
    {
     "data": {
      "image/png": "[encoded data removed]",
      "text/plain": [
       "<Figure size 432x288 with 1 Axes>"
      ]
     },
     "metadata": {
      "needs_background": "light"
     },
     "output_type": "display_data"
    }
   ],
   "source": [
    "min_dur = data[\"tripduration\"].min()\n",
    "max_dur = data[\"tripduration\"].max()\n",
    "n_bins = 1000\n",
    "bins = np.logspace(start = np.log10(min_dur),stop = np.log10(max_dur),num=n_bins)\n",
    "ax = data[\"tripduration\"].plot(kind=\"hist\",loglog=True,bins=bins)\n",
    "ax.set_xlabel(\"Duration (s)\")"
   ]
  },
  {
   "cell_type": "code",
   "execution_count": 20,
   "id": "dc9fb006-05b5-46c3-a7b6-5e4125c4f200",
   "metadata": {},
   "outputs": [
    {
     "data": {
      "text/plain": [
       "115.74074074074075"
      ]
     },
     "execution_count": 20,
     "metadata": {},
     "output_type": "execute_result"
    }
   ],
   "source": [
    "1e7 / (60*60*24)"
   ]
  },
  {
   "cell_type": "markdown",
   "id": "73550ae8-e2c9-47cb-b99f-4c859fccc14d",
   "metadata": {},
   "source": [
    "Most trips are between 2 mins and 1 hour.\n",
    "We remove trip durations > 5 hours, which is about $2\\cdot10^4$ seconds.\n",
    "Also note that durations < 60 seconds were already removed by the data provider, reasoning that these are likely just people trying to redock the bike. Therefore, we will not remove any more small trip lengths."
   ]
  },
  {
   "cell_type": "code",
   "execution_count": 8,
   "id": "ea6b2ebf-cb8e-4f04-b9a8-0969f7394421",
   "metadata": {},
   "outputs": [
    {
     "name": "stdout",
     "output_type": "stream",
     "text": [
      "There are 15454 trips of at least 5 hours in the data.\n"
     ]
    }
   ],
   "source": [
    "duration_h = 5\n",
    "longtrips = data[data[\"tripduration\"] >= duration_h*60*60]\n",
    "print(f\"There are {len(longtrips)} trips of at least {duration_h} hours in the data.\")\n",
    "data.drop(longtrips.index,inplace=True)"
   ]
  },
  {
   "cell_type": "markdown",
   "id": "8131f5bc-6b95-4ca8-ac56-6786c5d7152b",
   "metadata": {},
   "source": [
    "Next, lets have a look at the birthyears."
   ]
  },
  {
   "cell_type": "code",
   "execution_count": 9,
   "id": "b09a22e4-d2dc-4d5f-a2e9-549154ace88a",
   "metadata": {},
   "outputs": [
    {
     "name": "stdout",
     "output_type": "stream",
     "text": [
      "1885\n",
      "2002\n"
     ]
    }
   ],
   "source": [
    "print(data[\"birth year\"].min())\n",
    "print(data[\"birth year\"].max())"
   ]
  },
  {
   "cell_type": "markdown",
   "id": "1278886a-62fc-4012-b85e-d2ec386d9285",
   "metadata": {},
   "source": [
    "We will exclude people born before 1920, since the data is from 2018."
   ]
  },
  {
   "cell_type": "code",
   "execution_count": 11,
   "id": "bffa6ed2-ff39-4d31-8342-5f60a778dd02",
   "metadata": {},
   "outputs": [
    {
     "name": "stdout",
     "output_type": "stream",
     "text": [
      "There are 181920 trips made by people born before 1920 in the data.\n"
     ]
    }
   ],
   "source": [
    "old = data[data[\"birth year\"] <= 1920]\n",
    "print(f\"There are {len(old)} trips made by people born before 1920 in the data.\")\n",
    "data.drop(old.index,inplace=True)"
   ]
  },
  {
   "cell_type": "markdown",
   "id": "82f0ccda-fcab-48cc-a351-e28316de3b65",
   "metadata": {},
   "source": [
    "Next, we look at the coordinates.\n",
    "New york encompasses latitudes of about between 40.6 and 40.9, and longitudes between -74.2 and -73.7"
   ]
  },
  {
   "cell_type": "code",
   "execution_count": 26,
   "id": "69041805-2aa6-4224-8b1e-ccf204d2d6cb",
   "metadata": {},
   "outputs": [
    {
     "name": "stdout",
     "output_type": "stream",
     "text": [
      "40.64653836709648\n",
      "45.506364054011385\n"
     ]
    }
   ],
   "source": [
    "print(data[\"start station latitude\"].min())\n",
    "print(data[\"start station latitude\"].max())"
   ]
  },
  {
   "cell_type": "code",
   "execution_count": 36,
   "id": "4385de43-2e85-4ef0-84b5-7063d1ae7ce7",
   "metadata": {},
   "outputs": [
    {
     "data": {
      "text/plain": [
       "<AxesSubplot:ylabel='Frequency'>"
      ]
     },
     "execution_count": 36,
     "metadata": {},
     "output_type": "execute_result"
    },
    {
     "data": {
      "image/png": "[encoded data removed]",
      "text/plain": [
       "<Figure size 432x288 with 1 Axes>"
      ]
     },
     "metadata": {
      "needs_background": "light"
     },
     "output_type": "display_data"
    }
   ],
   "source": [
    "data[\"start station latitude\"].plot(kind=\"hist\",logy = True,bins=600)"
   ]
  },
  {
   "cell_type": "markdown",
   "id": "d24d5184-872f-4fe4-b9a4-94f4425f7ec6",
   "metadata": {},
   "source": [
    "There appear to be around a 100 bikes lost at latitude > 45, which is somewhere around Montreal.\n",
    "We exclude these."
   ]
  },
  {
   "cell_type": "code",
   "execution_count": null,
   "id": "9f6fe974-1e7e-4158-a896-7d3d9a16208b",
   "metadata": {},
   "outputs": [],
   "source": [
    "lost = data[\"start latitude \"]"
   ]
  },
  {
   "cell_type": "markdown",
   "id": "58aba45a-6e10-44c1-a237-ffac3dd317e5",
   "metadata": {},
   "source": [
    "We now split the data in a 60/20/20 ratio of training/validation/test."
   ]
  },
  {
   "cell_type": "code",
   "execution_count": null,
   "id": "8b945353-fe2c-4eee-8745-11d8e00919bb",
   "metadata": {},
   "outputs": [],
   "source": []
  },
  {
   "cell_type": "code",
   "execution_count": 8,
   "id": "dbf50194-6ad4-42f6-b1d3-61803542a3ed",
   "metadata": {},
   "outputs": [
    {
     "name": "stdout",
     "output_type": "stream",
     "text": [
      "17548339\n",
      "Train: 10529003, Val: 3509667, Test: 3509667\n"
     ]
    }
   ],
   "source": [
    "print(len(data))\n",
    "n = len(data)\n",
    "train_ratio = 0.6\n",
    "val_ratio = 0.2\n",
    "test_ratio = 0.2\n",
    "train_size = int(train_ratio*n)\n",
    "val_size = int(val_ratio*n)\n",
    "test_size = int(test_ratio*n)\n",
    "print(\"Train: {0}, Val: {1}, Test: {2}\".format(int(train_ratio*n), int(val_ratio*n), int(test_ratio*n)))"
   ]
  },
  {
   "cell_type": "code",
   "execution_count": 9,
   "id": "1972757d-6773-4e35-b644-3ae7b4104842",
   "metadata": {},
   "outputs": [
    {
     "name": "stdout",
     "output_type": "stream",
     "text": [
      "10529005 3509667 3509667\n"
     ]
    }
   ],
   "source": [
    "trainset,testset = train_test_split(data,test_size=test_size)\n",
    "trainset,valset = train_test_split(trainset,test_size=val_size)\n",
    "print(len(trainset),len(valset),len(testset))"
   ]
  },
  {
   "cell_type": "code",
   "execution_count": 10,
   "id": "2b5ce5f0-9482-4d01-9913-a2fccc16de74",
   "metadata": {},
   "outputs": [],
   "source": [
    "with open(\"Data/Train.csv\",\"w\") as file:\n",
    "    trainset.to_csv(file)"
   ]
  },
  {
   "cell_type": "code",
   "execution_count": 11,
   "id": "8a257b6b-5863-4939-95a5-3f1abd960e4d",
   "metadata": {},
   "outputs": [],
   "source": [
    "with open(\"Data/Validation.csv\",\"w\") as file:\n",
    "    valset.to_csv(file)"
   ]
  },
  {
   "cell_type": "code",
   "execution_count": 12,
   "id": "82f8923f-cfc8-44ec-84c4-c813b18ca187",
   "metadata": {},
   "outputs": [],
   "source": [
    "with open(\"Data/Test.csv\",\"w\") as file:\n",
    "    testset.to_csv(file)"
   ]
  },
  {
   "cell_type": "code",
   "execution_count": null,
   "id": "d42b6539-6b34-4eac-97b3-640ab5e3758e",
   "metadata": {},
   "outputs": [],
   "source": []
  }
 ],
 "metadata": {
  "kernelspec": {
   "display_name": "Python 3 (ipykernel)",
   "language": "python",
   "name": "python3"
  },
  "language_info": {
   "codemirror_mode": {
    "name": "ipython",
    "version": 3
   },
   "file_extension": ".py",
   "mimetype": "text/x-python",
   "name": "python",
   "nbconvert_exporter": "python",
   "pygments_lexer": "ipython3",
   "version": "3.7.10"
  }
 },
 "nbformat": 4,
 "nbformat_minor": 5
}
