{
 "cells": [
  {
   "cell_type": "code",
   "execution_count": 1,
   "id": "81a893a8-5afc-4e19-82f7-b8cca7da974b",
   "metadata": {},
   "outputs": [],
   "source": [
    "import pandas as pd\n",
    "import numpy as np\n",
    "import glob\n",
    "import datetime\n",
    "%config IPCompleter.use_jedi=False\n",
    "from sklearn.model_selection import train_test_split"
   ]
  },
  {
   "cell_type": "code",
   "execution_count": 2,
   "id": "7a8fe7a1-7085-4979-b649-1077b8ec588b",
   "metadata": {},
   "outputs": [],
   "source": [
    "savepath = r\"Data/data_cleaned.csv\""
   ]
  },
  {
   "cell_type": "markdown",
   "id": "8fdd31b9-1c4d-463c-ac4f-060109f1ae62",
   "metadata": {
    "tags": []
   },
   "source": [
    "## IDEAS\n",
    "\n",
    "First split into train,validation,and Test before even plotting the data.\n",
    "(How large should each data set be?)\n",
    "Only plot training data, neve rlook at test data! Otherwise my your knowledge of test data biases test error estimates.\n",
    "\n",
    "Is data set \"Balanced\"? Should I try to preserve some balance in train, val, test split?\n",
    "-> Subscribers make MANY more trips\n",
    "\n",
    "Remove outliers from triptime and birthyear data\n",
    "\n",
    "1. Load all files into one data frame grouped by month -> Can pandas even do this?\n",
    "2. Split Data -> I do one fixed train,test,validation split at the beginning and never change it because the data set is very large and I dont expect much variation over splits. I could otherwise do corss-validation or something. Question: Should one balance labels somehow in the splits?\n",
    "3. Compute trip durations -> already done, and length (how??? luftlinie oder station distances -> Google maps API?) from the data\n",
    "    1. Can use OSMnx\n",
    "    2. Use Taxicab metric (simpler) -> Actually not simpler at all, need coordinates relative to new york layout\n",
    "    3. Luftlinie (am einfachsten)\n",
    "4. Compute weekdays vs weekends\n",
    "5. Can one do somethign with bikeID?\n",
    "6. Can one do something with stationID?\n",
    "7. Compare to baseline of simply choosing most likely class label, ignoring user data!\n",
    "   Or use other ways of dealing with imbalance / representing effect?"
   ]
  },
  {
   "cell_type": "markdown",
   "id": "0e5cbcf0-8f6c-4b94-8897-f509be968e89",
   "metadata": {},
   "source": [
    "Features need to be preprocessed -> Encode categorically etc."
   ]
  },
  {
   "cell_type": "markdown",
   "id": "2c7f97aa-176b-497c-b747-3188ccb27d18",
   "metadata": {},
   "source": [
    "Some feature ideas:\n",
    "1. Time\n",
    "2. Distance\n",
    "3. Speed\n",
    "4. Workday vs Weekend (maybe even include holidays)\n",
    "5. Month (maybe)\n",
    "6. StartStation -> Because people from similar areas might be subscribers / not "
   ]
  },
  {
   "cell_type": "markdown",
   "id": "fdbb53a0-06b1-4537-86ef-2111c79dc0ee",
   "metadata": {},
   "source": [
    "Map of stations: https://account.citibikenyc.com/map"
   ]
  },
  {
   "cell_type": "markdown",
   "id": "01ef7a71-dc74-4cb8-be1c-b0553be0125f",
   "metadata": {},
   "source": [
    "## Evaluation?"
   ]
  },
  {
   "cell_type": "markdown",
   "id": "8bb44fa7-1bf6-4969-8bb9-b93606e465b1",
   "metadata": {},
   "source": [
    "1. Evaluate vs baseline (baseline = always choose \"subscriber\" as label)\n",
    "2. Confusion matrix"
   ]
  },
  {
   "cell_type": "markdown",
   "id": "456f0fdc-02be-4b21-ac78-d23e38629a21",
   "metadata": {
    "tags": []
   },
   "source": [
    "## Data Formatting"
   ]
  },
  {
   "cell_type": "markdown",
   "id": "25389c84-e02c-483b-88c7-9ce92f7b55b6",
   "metadata": {},
   "source": [
    "Try loading the whole dataset. Note that this needs more than 9 GB of memory."
   ]
  },
  {
   "cell_type": "markdown",
   "id": "9f52f046-c19d-4bbd-9cb2-701173cad245",
   "metadata": {},
   "source": [
    "We first do some preprocessing on the time columns because they are very large and formatted as strings."
   ]
  },
  {
   "cell_type": "code",
   "execution_count": 3,
   "id": "9ab1d56f-25aa-412f-b9b2-dff86f9f1eb9",
   "metadata": {},
   "outputs": [],
   "source": [
    "def load_files(filenames, **kwargs):\n",
    "    dfs=[]\n",
    "    for filename in filenames:\n",
    "        d = pd.read_csv(filename,**kwargs)\n",
    "        dfs.append(d)\n",
    "    data = pd.concat(dfs,ignore_index=True)\n",
    "    if \"dtype\" in kwargs:\n",
    "        #Because categorical dtypes are not preserved under concatenation.\n",
    "        #This is simpler than trying to construct union categories but also more memory intensive.\n",
    "        data = data.astype(kwargs[\"dtype\"],copy=False) \n",
    "    return data"
   ]
  },
  {
   "cell_type": "code",
   "execution_count": 4,
   "id": "ccca338f-2583-4ae7-b9fd-b489a74f386c",
   "metadata": {},
   "outputs": [],
   "source": [
    "def print_memory_usage(data):\n",
    "    memory = data.memory_usage(index=True,deep=True).sum()\n",
    "    print(f\"The dataframe needs {memory/1e9:.3} GB of memory\")"
   ]
  },
  {
   "cell_type": "code",
   "execution_count": 5,
   "id": "7d04d334-4d72-49b4-9897-44397dc44f35",
   "metadata": {},
   "outputs": [
    {
     "name": "stdout",
     "output_type": "stream",
     "text": [
      "['Data/201810-citibike-tripdata.csv', 'Data/201802-citibike-tripdata.csv', 'Data/201809-citibike-tripdata.csv', 'Data/201808-citibike-tripdata.csv', 'Data/201803-citibike-tripdata.csv', 'Data/201807-citibike-tripdata.csv', 'Data/201812-citibike-tripdata.csv', 'Data/201805-citibike-tripdata.csv', 'Data/201811-citibike-tripdata.csv', 'Data/201806-citibike-tripdata.csv', 'Data/201804-citibike-tripdata.csv', 'Data/201801-citibike-tripdata.csv']\n"
     ]
    }
   ],
   "source": [
    "filenames = glob.glob(\"Data/2*.csv\")\n",
    "print(filenames)"
   ]
  },
  {
   "cell_type": "markdown",
   "id": "1144e76a-ef1b-41cf-89e2-ee0e99733c4f",
   "metadata": {
    "tags": []
   },
   "source": [
    "### Preprocessing the Date Information"
   ]
  },
  {
   "cell_type": "code",
   "execution_count": 5,
   "id": "814419f1-6199-4a70-b9cf-e6a10c37a414",
   "metadata": {},
   "outputs": [],
   "source": [
    "def strtodatetime(s):\n",
    "    \"\"\"\n",
    "    Take a string in the format of the data  set and return datetime information\n",
    "    \"\"\"\n",
    "    s = s.split(\".\")[0]\n",
    "    d=datetime.datetime.strptime(s,\"%Y-%m-%d %H:%M:%S\")\n",
    "    return d.month,d.day, d.hour, d.minute, d.weekday()"
   ]
  },
  {
   "cell_type": "code",
   "execution_count": null,
   "id": "1cbac896-5df3-401a-b5af-7bcd0d2d44e1",
   "metadata": {},
   "outputs": [],
   "source": [
    "data=load_files(filenames,cols=[\"starttime\"])"
   ]
  },
  {
   "cell_type": "code",
   "execution_count": 18,
   "id": "5dc7d306-cba1-4742-bf34-e1c12d65cce6",
   "metadata": {},
   "outputs": [],
   "source": [
    "new = data.apply(lambda row: strtodatetime(row[\"starttime\"]),axis=1,result_type=\"expand\")\n",
    "new.columns=[\"month\", \"start day\", \"start hour\", \"start minute\", \"start weekday\"]\n",
    "new.to_csv(\"Data/starttimes.csv\")\n",
    "del new\n",
    "del data"
   ]
  },
  {
   "cell_type": "code",
   "execution_count": 8,
   "id": "5d48ff1a-e545-4a81-b8db-4d3f5e31272b",
   "metadata": {},
   "outputs": [],
   "source": [
    "data=load_files(filenames,cols=[\"stoptime\"])"
   ]
  },
  {
   "cell_type": "code",
   "execution_count": 10,
   "id": "f91ace85-9e2b-444a-84f2-a0e0680002c9",
   "metadata": {},
   "outputs": [
    {
     "name": "stdout",
     "output_type": "stream",
     "text": [
      "Data processed\n"
     ]
    }
   ],
   "source": [
    "new = data.apply(lambda row: strtodatetime(row[\"stoptime\"]),axis=1,result_type=\"expand\")\n",
    "print(\"Data processed\")\n",
    "new.columns=[\"stop month\", \"stop day\", \"stop hour\", \"stop minute\", \"stop weekday\"]\n",
    "new.to_csv(\"Data/stoptimes.csv\")"
   ]
  },
  {
   "cell_type": "code",
   "execution_count": 11,
   "id": "87f5f4da-7bf5-4b95-aa47-6511a2ba29b7",
   "metadata": {},
   "outputs": [],
   "source": [
    "del new\n",
    "del data"
   ]
  },
  {
   "cell_type": "markdown",
   "id": "62f40b36-4332-40aa-8c6c-8107ffa3fff1",
   "metadata": {},
   "source": [
    "### Different kind of loading"
   ]
  },
  {
   "cell_type": "markdown",
   "id": "e7a0fa63-557b-4b63-9bbc-3059a5137509",
   "metadata": {},
   "source": [
    "Using Category dtype for the station names saves a lot of memory."
   ]
  },
  {
   "cell_type": "code",
   "execution_count": 6,
   "id": "0662d7f9-6026-46bb-88b4-99b63c11deb4",
   "metadata": {
    "tags": []
   },
   "outputs": [
    {
     "name": "stdout",
     "output_type": "stream",
     "text": [
      "The dataframe needs 1.81 GB of memory\n"
     ]
    }
   ],
   "source": [
    "dtype = {\"tripduration\":\"Int64\", #Note that this accepts nan values\n",
    "          \"start station id\":\"Int64\",\n",
    "          \"start station name\":\"category\",\n",
    "          \"start station latitude\":\"Float64\",\n",
    "          \"start station longitude\":\"Float64\",\n",
    "          \"end station id\":\"Int64\",\n",
    "          \"end station name\":\"category\",\n",
    "          \"end station latitude\":\"Float64\",\n",
    "          \"end station longitude\":\"Float64\",\n",
    "          \"bikeid\":\"Int64\",\n",
    "          \"usertype\":\"category\",\n",
    "          \"birth year\":\"Int64\",\n",
    "          \"gender\":\"category\"}\n",
    "datatime_format=\"%Y-%m-%d %H:%M:%S.%f\"\n",
    "data = load_files(filenames,dtype=dtype)\n",
    "data[\"starttime\"] = pd.to_datetime(data[\"starttime\"],format=datatime_format)\n",
    "data[\"stoptime\"] = pd.to_datetime(data[\"starttime\"],format=datatime_format)\n",
    "print_memory_usage(data)"
   ]
  },
  {
   "cell_type": "code",
   "execution_count": 9,
   "id": "6a24f603-445f-4d53-9dd2-c6d8c025c868",
   "metadata": {},
   "outputs": [
    {
     "data": {
      "text/plain": [
       "0   2018-10-01 00:00:00.701\n",
       "1   2018-10-01 00:00:13.578\n",
       "2   2018-10-01 00:00:16.604\n",
       "3   2018-10-01 00:00:35.067\n",
       "4   2018-10-01 00:00:38.141\n",
       "Name: starttime, dtype: datetime64[ns]"
      ]
     },
     "execution_count": 9,
     "metadata": {},
     "output_type": "execute_result"
    }
   ],
   "source": [
    "data[\"starttime\"].head()"
   ]
  },
  {
   "cell_type": "markdown",
   "id": "6b5aa142-dceb-422e-976b-ce653f4f2a48",
   "metadata": {
    "tags": []
   },
   "source": [
    "### Combining the Data"
   ]
  },
  {
   "cell_type": "markdown",
   "id": "8f70737f-f498-438d-a4af-0d3fbbac41af",
   "metadata": {},
   "source": [
    "Now we build one big data frame with appropriate dtypes and save it for later convenience."
   ]
  },
  {
   "cell_type": "code",
   "execution_count": 9,
   "id": "686c2263-653b-4f30-b9ec-1abc4451c818",
   "metadata": {},
   "outputs": [],
   "source": [
    "dtypes = {\"tripduration\":\"Int64\", #Note that this accepts nan values\n",
    "          \"start station id\":\"Int64\",\n",
    "          \"start station name\":\"category\",\n",
    "          \"start station latitude\":\"Float64\",\n",
    "          \"start station longitude\":\"Float64\",\n",
    "          \"end station id\":\"Int64\",\n",
    "          \"end station name\":\"category\",\n",
    "          \"end station latitude\":\"Float64\",\n",
    "          \"end station longitude\":\"Float64\",\n",
    "          \"bikeid\":\"Int64\",\n",
    "          \"usertype\":\"category\",\n",
    "          \"birth year\":\"Int64\",\n",
    "          \"gender\":\"category\"}"
   ]
  },
  {
   "cell_type": "code",
   "execution_count": 10,
   "id": "c3247747-c735-481a-9aa3-507b2cb4f5de",
   "metadata": {},
   "outputs": [],
   "source": [
    "data = load_files(filenames,cols=lambda x: x not in [\"starttime\",\"stoptime\"],dtype=dtypes)"
   ]
  },
  {
   "cell_type": "code",
   "execution_count": 11,
   "id": "4c633822-6d03-4da1-9a75-3808a0241bf1",
   "metadata": {},
   "outputs": [
    {
     "data": {
      "text/plain": [
       "Index                            128\n",
       "tripduration               157935051\n",
       "start station id           157935051\n",
       "start station name          35193105\n",
       "start station latitude     157935051\n",
       "start station longitude    157935051\n",
       "end station id             157935051\n",
       "end station name            35195371\n",
       "end station latitude       157935051\n",
       "end station longitude      157935051\n",
       "bikeid                     157935051\n",
       "usertype                    17548579\n",
       "birth year                 157935051\n",
       "gender                      17548621\n",
       "dtype: int64"
      ]
     },
     "execution_count": 11,
     "metadata": {},
     "output_type": "execute_result"
    }
   ],
   "source": [
    "data.memory_usage(deep=True)"
   ]
  },
  {
   "cell_type": "code",
   "execution_count": 12,
   "id": "ec604b29-2df2-4942-944d-54573954879a",
   "metadata": {},
   "outputs": [
    {
     "data": {
      "text/plain": [
       "tripduration                  Int64\n",
       "start station id              Int64\n",
       "start station name         category\n",
       "start station latitude      Float64\n",
       "start station longitude     Float64\n",
       "end station id                Int64\n",
       "end station name           category\n",
       "end station latitude        Float64\n",
       "end station longitude       Float64\n",
       "bikeid                        Int64\n",
       "usertype                   category\n",
       "birth year                    Int64\n",
       "gender                     category\n",
       "dtype: object"
      ]
     },
     "execution_count": 12,
     "metadata": {},
     "output_type": "execute_result"
    }
   ],
   "source": [
    "data.dtypes"
   ]
  },
  {
   "cell_type": "code",
   "execution_count": 13,
   "id": "821b26da-0297-4747-9f61-ffc25e59f87c",
   "metadata": {},
   "outputs": [
    {
     "name": "stdout",
     "output_type": "stream",
     "text": [
      "The dataframe needs 1.53 GB of memory\n"
     ]
    }
   ],
   "source": [
    "print_memory_usage(data)"
   ]
  },
  {
   "cell_type": "code",
   "execution_count": 15,
   "id": "ca7cc47e-0ff1-491b-88b3-72c164239ba0",
   "metadata": {},
   "outputs": [],
   "source": [
    "starttimes = pd.read_csv(\"Data/starttimes.csv\",dtype=\"Int64\")\n",
    "starttimes.drop(\"Unnamed: 0\",axis=1,inplace=True) # Because I accidentally wrote an index column before\n",
    "stoptimes = pd.read_csv(\"Data/stoptimes.csv\", dtype=\"Int64\")\n",
    "stoptimes.drop(\"Unnamed: 0\",axis=1,inplace=True)\n",
    "stoptimes.drop(\"stop month\",axis=1,inplace=True) #I will only save start month information"
   ]
  },
  {
   "cell_type": "code",
   "execution_count": 17,
   "id": "d23b90ff-9a58-4f9f-af64-7c83c8a4761b",
   "metadata": {},
   "outputs": [
    {
     "name": "stdout",
     "output_type": "stream",
     "text": [
      "The dataframe needs 0.79 GB of memory\n"
     ]
    }
   ],
   "source": [
    "print_memory_usage(starttimes)"
   ]
  },
  {
   "cell_type": "code",
   "execution_count": 18,
   "id": "49fff220-345d-422e-aeff-49a5bcc913da",
   "metadata": {
    "tags": []
   },
   "outputs": [],
   "source": [
    "data_new = pd.concat((data,starttimes),axis=1,copy=False)\n",
    "data_new = pd.concat((data_new,stoptimes),axis=1,copy=False)\n",
    "data = data_new"
   ]
  },
  {
   "cell_type": "code",
   "execution_count": 19,
   "id": "316f0e75-8624-434d-8bc4-d34f9ec8bbd3",
   "metadata": {
    "tags": []
   },
   "outputs": [
    {
     "data": {
      "text/plain": [
       "Index                            128\n",
       "tripduration               157935051\n",
       "start station id           157935051\n",
       "start station name          35193105\n",
       "start station latitude     157935051\n",
       "start station longitude    157935051\n",
       "end station id             157935051\n",
       "end station name            35195371\n",
       "end station latitude       157935051\n",
       "end station longitude      157935051\n",
       "bikeid                     157935051\n",
       "usertype                    17548579\n",
       "birth year                 157935051\n",
       "gender                      17548621\n",
       "month                      157935051\n",
       "start day                  157935051\n",
       "start hour                 157935051\n",
       "start minute               157935051\n",
       "start weekday              157935051\n",
       "stop day                   157935051\n",
       "stop hour                  157935051\n",
       "stop minute                157935051\n",
       "stop weekday               157935051\n",
       "dtype: int64"
      ]
     },
     "execution_count": 19,
     "metadata": {},
     "output_type": "execute_result"
    }
   ],
   "source": [
    "data.memory_usage(deep=True)"
   ]
  },
  {
   "cell_type": "code",
   "execution_count": 20,
   "id": "d2e25e93-f9e1-4f1c-89d0-f036c13ed67d",
   "metadata": {},
   "outputs": [
    {
     "name": "stdout",
     "output_type": "stream",
     "text": [
      "The dataframe needs 2.95 GB of memory\n"
     ]
    }
   ],
   "source": [
    "print_memory_usage(data)"
   ]
  },
  {
   "cell_type": "code",
   "execution_count": 29,
   "id": "ba4a52f9-677e-4ce2-a563-1e1002119bd9",
   "metadata": {},
   "outputs": [
    {
     "data": {
      "text/plain": [
       "tripduration                  Int64\n",
       "start station id              Int64\n",
       "start station name         category\n",
       "start station latitude      Float64\n",
       "start station longitude     Float64\n",
       "end station id                Int64\n",
       "end station name           category\n",
       "end station latitude        Float64\n",
       "end station longitude       Float64\n",
       "bikeid                        Int64\n",
       "usertype                   category\n",
       "birth year                    Int64\n",
       "gender                     category\n",
       "month                      category\n",
       "start day                  category\n",
       "start hour                 category\n",
       "start minute               category\n",
       "start weekday              category\n",
       "stop day                   category\n",
       "stop hour                  category\n",
       "stop minute                category\n",
       "stop weekday               category\n",
       "dtype: object"
      ]
     },
     "execution_count": 29,
     "metadata": {},
     "output_type": "execute_result"
    }
   ],
   "source": [
    "data.dtypes"
   ]
  },
  {
   "cell_type": "markdown",
   "id": "b64461f0-8219-4224-92cb-188825ed6b32",
   "metadata": {},
   "source": [
    "Make some sanity checks about the time information"
   ]
  },
  {
   "cell_type": "code",
   "execution_count": 25,
   "id": "5df5bd15-c068-4707-8c8a-60ad2cbdbbf8",
   "metadata": {},
   "outputs": [
    {
     "data": {
      "text/plain": [
       "330"
      ]
     },
     "execution_count": 25,
     "metadata": {},
     "output_type": "execute_result"
    }
   ],
   "source": [
    "data.iloc[0][\"tripduration\"]"
   ]
  },
  {
   "cell_type": "code",
   "execution_count": 26,
   "id": "8c63da2b-26c2-40a5-925f-5ad894fea2cf",
   "metadata": {},
   "outputs": [
    {
     "ename": "TypeError",
     "evalue": "unsupported operand type(s) for -: 'str' and 'str'",
     "output_type": "error",
     "traceback": [
      "\u001b[0;31m---------------------------------------------------------------------------\u001b[0m",
      "\u001b[0;31mTypeError\u001b[0m                                 Traceback (most recent call last)",
      "\u001b[0;32m/tmp/ipykernel_5382/2625282266.py\u001b[0m in \u001b[0;36m<module>\u001b[0;34m\u001b[0m\n\u001b[0;32m----> 1\u001b[0;31m \u001b[0mdata\u001b[0m\u001b[0;34m.\u001b[0m\u001b[0miloc\u001b[0m\u001b[0;34m[\u001b[0m\u001b[0;36m0\u001b[0m\u001b[0;34m]\u001b[0m\u001b[0;34m[\u001b[0m\u001b[0;34m\"stop minute\"\u001b[0m\u001b[0;34m]\u001b[0m \u001b[0;34m-\u001b[0m \u001b[0mdata\u001b[0m\u001b[0;34m.\u001b[0m\u001b[0miloc\u001b[0m\u001b[0;34m[\u001b[0m\u001b[0;36m0\u001b[0m\u001b[0;34m]\u001b[0m\u001b[0;34m[\u001b[0m\u001b[0;34m\"start minute\"\u001b[0m\u001b[0;34m]\u001b[0m\u001b[0;34m\u001b[0m\u001b[0;34m\u001b[0m\u001b[0m\n\u001b[0m",
      "\u001b[0;31mTypeError\u001b[0m: unsupported operand type(s) for -: 'str' and 'str'"
     ]
    }
   ],
   "source": [
    "data.iloc[0][\"stop minute\"] - data.iloc[0][\"start minute\"]"
   ]
  },
  {
   "cell_type": "markdown",
   "id": "4136f613-653c-40e5-ac5e-523555c390d3",
   "metadata": {},
   "source": [
    "Finally, let us save the data and appropriate dtype information for later convenience."
   ]
  },
  {
   "cell_type": "code",
   "execution_count": null,
   "id": "a65ef41e-02e8-47db-9eb7-97b4130fb243",
   "metadata": {},
   "outputs": [],
   "source": [
    "def save_data(data,path):\n",
    "    "
   ]
  },
  {
   "cell_type": "markdown",
   "id": "55700426-fea5-4642-afdf-ea55a90412ff",
   "metadata": {},
   "source": [
    "## Data Cleaning"
   ]
  },
  {
   "cell_type": "markdown",
   "id": "607a418c-6da2-41fb-b3f8-85f59bcbfbe4",
   "metadata": {},
   "source": [
    "We now look at the some features and try to remove outliers."
   ]
  },
  {
   "cell_type": "markdown",
   "id": "ef930891-91ff-4e90-8e76-715f71d4eb93",
   "metadata": {},
   "source": [
    "First, lets check for NAN values:"
   ]
  },
  {
   "cell_type": "code",
   "execution_count": 5,
   "id": "ca0587d3-e26b-417d-a3e0-75fb3a64ad6a",
   "metadata": {},
   "outputs": [
    {
     "data": {
      "text/plain": [
       "tripduration               17548339\n",
       "starttime                  17548339\n",
       "stoptime                   17548339\n",
       "start station id           17545842\n",
       "start station name         17545842\n",
       "start station latitude     17548339\n",
       "start station longitude    17548339\n",
       "end station id             17545842\n",
       "end station name           17545842\n",
       "end station latitude       17548339\n",
       "end station longitude      17548339\n",
       "bikeid                     17548339\n",
       "usertype                   17548339\n",
       "birth year                 17548339\n",
       "gender                     17548339\n",
       "month                      17548339\n",
       "dtype: int64"
      ]
     },
     "execution_count": 5,
     "metadata": {},
     "output_type": "execute_result"
    }
   ],
   "source": [
    "data.count()"
   ]
  },
  {
   "cell_type": "markdown",
   "id": "a923e039-e5ea-46cf-a425-73cb32713897",
   "metadata": {},
   "source": [
    "We see that start and end station ids and names are not always available.\n",
    "This affects about 3000 of the 17 million entries.\n",
    "We simply remove the rows with missing values."
   ]
  },
  {
   "cell_type": "code",
   "execution_count": 6,
   "id": "ce4cccb6-c698-4543-8e68-baca3e4f33a5",
   "metadata": {},
   "outputs": [
    {
     "name": "stdout",
     "output_type": "stream",
     "text": [
      "17545842\n"
     ]
    },
    {
     "ename": "NameError",
     "evalue": "name 'data_cleaned' is not defined",
     "output_type": "error",
     "traceback": [
      "\u001b[0;31m---------------------------------------------------------------------------\u001b[0m",
      "\u001b[0;31mNameError\u001b[0m                                 Traceback (most recent call last)",
      "\u001b[0;32m/tmp/ipykernel_17652/4276881115.py\u001b[0m in \u001b[0;36m<module>\u001b[0;34m\u001b[0m\n\u001b[1;32m      1\u001b[0m \u001b[0mdata\u001b[0m\u001b[0;34m.\u001b[0m\u001b[0mdropna\u001b[0m\u001b[0;34m(\u001b[0m\u001b[0minplace\u001b[0m\u001b[0;34m=\u001b[0m\u001b[0;32mTrue\u001b[0m\u001b[0;34m)\u001b[0m\u001b[0;34m\u001b[0m\u001b[0;34m\u001b[0m\u001b[0m\n\u001b[1;32m      2\u001b[0m \u001b[0mprint\u001b[0m\u001b[0;34m(\u001b[0m\u001b[0mlen\u001b[0m\u001b[0;34m(\u001b[0m\u001b[0mdata\u001b[0m\u001b[0;34m)\u001b[0m\u001b[0;34m)\u001b[0m\u001b[0;34m\u001b[0m\u001b[0;34m\u001b[0m\u001b[0m\n\u001b[0;32m----> 3\u001b[0;31m \u001b[0mdata_cleaned\u001b[0m\u001b[0;34m.\u001b[0m\u001b[0mcount\u001b[0m\u001b[0;34m(\u001b[0m\u001b[0;34m)\u001b[0m\u001b[0;34m\u001b[0m\u001b[0;34m\u001b[0m\u001b[0m\n\u001b[0m",
      "\u001b[0;31mNameError\u001b[0m: name 'data_cleaned' is not defined"
     ]
    }
   ],
   "source": [
    "data.dropna(inplace=True)\n",
    "print(len(data))\n",
    "data.count()"
   ]
  },
  {
   "cell_type": "markdown",
   "id": "e76a2b83-871c-4bdb-8c65-53e9b64b87b0",
   "metadata": {},
   "source": [
    "Now, we check for outliers in the different features.\n",
    "Let us start with trip durations.\n",
    "We plot a histogram of the tripdurations to understand the distributions.\n",
    "Because there are some very large values, we use a loglog-scale.\n",
    "Note that the bins should be spaced evenly on a log-scale and not on a linear scale, so we specify them manually."
   ]
  },
  {
   "cell_type": "code",
   "execution_count": 7,
   "id": "cac18015-7f54-46d6-ab1b-e7795ef4a0ee",
   "metadata": {},
   "outputs": [
    {
     "data": {
      "text/plain": [
       "Text(0.5, 0, 'Duration (s)')"
      ]
     },
     "execution_count": 7,
     "metadata": {},
     "output_type": "execute_result"
    },
    {
     "data": {
      "image/png": "[encoded data removed]",
      "text/plain": [
       "<Figure size 432x288 with 1 Axes>"
      ]
     },
     "metadata": {
      "needs_background": "light"
     },
     "output_type": "display_data"
    }
   ],
   "source": [
    "min_dur = data[\"tripduration\"].min()\n",
    "max_dur = data[\"tripduration\"].max()\n",
    "n_bins = 1000\n",
    "bins = np.logspace(start = np.log10(min_dur),stop = np.log10(max_dur),num=n_bins)\n",
    "ax = data[\"tripduration\"].plot(kind=\"hist\",loglog=True,bins=bins)\n",
    "ax.set_xlabel(\"Duration (s)\")"
   ]
  },
  {
   "cell_type": "code",
   "execution_count": 20,
   "id": "dc9fb006-05b5-46c3-a7b6-5e4125c4f200",
   "metadata": {},
   "outputs": [
    {
     "data": {
      "text/plain": [
       "115.74074074074075"
      ]
     },
     "execution_count": 20,
     "metadata": {},
     "output_type": "execute_result"
    }
   ],
   "source": [
    "1e7 / (60*60*24)"
   ]
  },
  {
   "cell_type": "markdown",
   "id": "73550ae8-e2c9-47cb-b99f-4c859fccc14d",
   "metadata": {},
   "source": [
    "Most trips are between 2 mins and 1 hour.\n",
    "We remove trip durations > 5 hours, which is about $2\\cdot10^4$ seconds.\n",
    "Also note that durations < 60 seconds were already removed by the data provider, reasoning that these are likely just people trying to redock the bike. Therefore, we will not remove any more small trip lengths."
   ]
  },
  {
   "cell_type": "code",
   "execution_count": 8,
   "id": "ea6b2ebf-cb8e-4f04-b9a8-0969f7394421",
   "metadata": {},
   "outputs": [
    {
     "name": "stdout",
     "output_type": "stream",
     "text": [
      "There are 15454 trips of at least 5 hours in the data.\n"
     ]
    }
   ],
   "source": [
    "duration_h = 5\n",
    "longtrips = data[data[\"tripduration\"] >= duration_h*60*60]\n",
    "print(f\"There are {len(longtrips)} trips of at least {duration_h} hours in the data.\")\n",
    "data.drop(longtrips.index,inplace=True)"
   ]
  },
  {
   "cell_type": "markdown",
   "id": "8131f5bc-6b95-4ca8-ac56-6786c5d7152b",
   "metadata": {},
   "source": [
    "Next, lets have a look at the birthyears."
   ]
  },
  {
   "cell_type": "code",
   "execution_count": 9,
   "id": "b09a22e4-d2dc-4d5f-a2e9-549154ace88a",
   "metadata": {},
   "outputs": [
    {
     "name": "stdout",
     "output_type": "stream",
     "text": [
      "1885\n",
      "2002\n"
     ]
    }
   ],
   "source": [
    "print(data[\"birth year\"].min())\n",
    "print(data[\"birth year\"].max())"
   ]
  },
  {
   "cell_type": "markdown",
   "id": "1278886a-62fc-4012-b85e-d2ec386d9285",
   "metadata": {},
   "source": [
    "We will exclude people born before 1920, since the data is from 2018."
   ]
  },
  {
   "cell_type": "code",
   "execution_count": 11,
   "id": "bffa6ed2-ff39-4d31-8342-5f60a778dd02",
   "metadata": {},
   "outputs": [
    {
     "name": "stdout",
     "output_type": "stream",
     "text": [
      "There are 181920 trips made by people born before 1920 in the data.\n"
     ]
    }
   ],
   "source": [
    "old = data[data[\"birth year\"] <= 1920]\n",
    "print(f\"There are {len(old)} trips made by people born before 1920 in the data.\")\n",
    "data.drop(old.index,inplace=True)"
   ]
  },
  {
   "cell_type": "markdown",
   "id": "82f0ccda-fcab-48cc-a351-e28316de3b65",
   "metadata": {},
   "source": [
    "Next, we look at the coordinates.\n",
    "New york encompasses latitudes of about between 40.6 and 40.9, and longitudes between -74.2 and -73.7"
   ]
  },
  {
   "cell_type": "code",
   "execution_count": 26,
   "id": "69041805-2aa6-4224-8b1e-ccf204d2d6cb",
   "metadata": {},
   "outputs": [
    {
     "name": "stdout",
     "output_type": "stream",
     "text": [
      "40.64653836709648\n",
      "45.506364054011385\n"
     ]
    }
   ],
   "source": [
    "print(data[\"start station latitude\"].min())\n",
    "print(data[\"start station latitude\"].max())"
   ]
  },
  {
   "cell_type": "code",
   "execution_count": 52,
   "id": "4385de43-2e85-4ef0-84b5-7063d1ae7ce7",
   "metadata": {},
   "outputs": [
    {
     "data": {
      "text/plain": [
       "<AxesSubplot:ylabel='Frequency'>"
      ]
     },
     "execution_count": 52,
     "metadata": {},
     "output_type": "execute_result"
    },
    {
     "data": {
      "image/png": "[encoded data removed]",
      "text/plain": [
       "<Figure size 432x288 with 1 Axes>"
      ]
     },
     "metadata": {
      "needs_background": "light"
     },
     "output_type": "display_data"
    }
   ],
   "source": [
    "data[\"start station latitude\"].plot(kind=\"hist\",logy = True,bins=600)"
   ]
  },
  {
   "cell_type": "markdown",
   "id": "d24d5184-872f-4fe4-b9a4-94f4425f7ec6",
   "metadata": {},
   "source": [
    "There appear to be around a 100 bikes lost at latitude > 45, which is somewhere around Montreal.\n",
    "We exclude these."
   ]
  },
  {
   "cell_type": "code",
   "execution_count": 41,
   "id": "9f6fe974-1e7e-4158-a896-7d3d9a16208b",
   "metadata": {},
   "outputs": [
    {
     "name": "stdout",
     "output_type": "stream",
     "text": [
      "75\n"
     ]
    }
   ],
   "source": [
    "lost = data[data[\"start station latitude\"]>41]\n",
    "print(len(lost))\n",
    "data.drop(lost.index,inplace=True)"
   ]
  },
  {
   "cell_type": "code",
   "execution_count": 43,
   "id": "2db02f9c-5ae8-4f17-8d8a-885e04f9da1c",
   "metadata": {},
   "outputs": [
    {
     "name": "stdout",
     "output_type": "stream",
     "text": [
      "40.64653836709648\n",
      "40.814394437915816\n"
     ]
    }
   ],
   "source": [
    "print(data[\"end station latitude\"].min())\n",
    "print(data[\"end station latitude\"].max())"
   ]
  },
  {
   "cell_type": "code",
   "execution_count": 45,
   "id": "e63c1512-df18-4465-86e4-e91c3e4bc420",
   "metadata": {},
   "outputs": [
    {
     "name": "stdout",
     "output_type": "stream",
     "text": [
      "-74.02535319328308\n",
      "-73.9077436\n"
     ]
    }
   ],
   "source": [
    "print(data[\"start station longitude\"].min())\n",
    "print(data[\"start station longitude\"].max())"
   ]
  },
  {
   "cell_type": "code",
   "execution_count": 46,
   "id": "21a9b8a0-27c5-46f5-9d3a-7b654f9726a2",
   "metadata": {},
   "outputs": [
    {
     "name": "stdout",
     "output_type": "stream",
     "text": [
      "-74.0836394\n",
      "-73.9077436\n"
     ]
    }
   ],
   "source": [
    "print(data[\"end station longitude\"].min())\n",
    "print(data[\"end station longitude\"].max())"
   ]
  },
  {
   "cell_type": "code",
   "execution_count": 47,
   "id": "eb7a18e5-f133-4d32-bc1b-818bfcb1a3be",
   "metadata": {},
   "outputs": [
    {
     "name": "stdout",
     "output_type": "stream",
     "text": [
      "17518943\n"
     ]
    }
   ],
   "source": [
    "print(len(data))"
   ]
  },
  {
   "cell_type": "code",
   "execution_count": 49,
   "id": "f5076212-7d6b-474b-a51e-71827049e690",
   "metadata": {},
   "outputs": [],
   "source": [
    "data.to_csv(savepath)"
   ]
  },
  {
   "cell_type": "code",
   "execution_count": 2,
   "id": "0eb5ce4b-b299-4128-a140-bf9a4cb0947f",
   "metadata": {},
   "outputs": [],
   "source": [
    "data = pd.read_csv(savepath) #continue from last time"
   ]
  },
  {
   "cell_type": "markdown",
   "id": "94ed708b-feae-4452-a1af-345f96daaad5",
   "metadata": {},
   "source": [
    "We also notice that there are round trips in the data."
   ]
  },
  {
   "cell_type": "code",
   "execution_count": 8,
   "id": "ce583cee-c2a8-44e3-b792-578f04dce14e",
   "metadata": {},
   "outputs": [
    {
     "name": "stdout",
     "output_type": "stream",
     "text": [
      "There are 345293 round trips in the data\n"
     ]
    },
    {
     "data": {
      "text/plain": [
       "<AxesSubplot:>"
      ]
     },
     "execution_count": 8,
     "metadata": {},
     "output_type": "execute_result"
    },
    {
     "data": {
      "image/png": "[encoded data removed]",
      "text/plain": [
       "<Figure size 432x288 with 1 Axes>"
      ]
     },
     "metadata": {
      "needs_background": "light"
     },
     "output_type": "display_data"
    }
   ],
   "source": [
    "roundtrips = data[data[\"start station id\"] == data[\"end station id\"]]\n",
    "print(f\"There are {len(roundtrips)} round trips in the data\")\n",
    "roundtrips[\"tripduration\"].hist(bins=100)"
   ]
  },
  {
   "cell_type": "code",
   "execution_count": 12,
   "id": "5d4003ba-4059-4c15-8025-6e44b86bf542",
   "metadata": {},
   "outputs": [
    {
     "data": {
      "text/plain": [
       "<AxesSubplot:>"
      ]
     },
     "execution_count": 12,
     "metadata": {},
     "output_type": "execute_result"
    },
    {
     "data": {
      "image/png": "[encoded data removed]",
      "text/plain": [
       "<Figure size 432x288 with 1 Axes>"
      ]
     },
     "metadata": {
      "needs_background": "light"
     },
     "output_type": "display_data"
    }
   ],
   "source": [
    "roundtrips[roundtrips[\"tripduration\"]<200][\"tripduration\"].hist(bins=100)"
   ]
  },
  {
   "cell_type": "markdown",
   "id": "a47a577b-e610-49b2-b0af-1e82d8cb65f7",
   "metadata": {},
   "source": [
    "Let us also exlcude round trips of less than 120 seconds."
   ]
  },
  {
   "cell_type": "code",
   "execution_count": 15,
   "id": "3fb46be6-5aeb-442b-ab41-4737d292824b",
   "metadata": {},
   "outputs": [
    {
     "name": "stdout",
     "output_type": "stream",
     "text": [
      "There are 38727 short round trips in the data\n"
     ]
    }
   ],
   "source": [
    "shortroundtrips = roundtrips[roundtrips[\"tripduration\"]<120]\n",
    "print(f\"There are {len(shortroundtrips)} short round trips in the data\")\n",
    "data.drop(shortroundtrips.index,inplace=True)"
   ]
  },
  {
   "cell_type": "markdown",
   "id": "3ab7d5f6-2794-4f78-b551-35d4a220cfd3",
   "metadata": {},
   "source": [
    "Let us furthermore indicate which trips are round trips for convenience"
   ]
  },
  {
   "cell_type": "code",
   "execution_count": 17,
   "id": "18b5b2b8-c2c8-42aa-ad4a-9e15bc52a522",
   "metadata": {},
   "outputs": [
    {
     "data": {
      "text/plain": [
       "False    17173650\n",
       "True       306566\n",
       "Name: is_roundtrip, dtype: int64"
      ]
     },
     "execution_count": 17,
     "metadata": {},
     "output_type": "execute_result"
    }
   ],
   "source": [
    "data[\"is_roundtrip\"] = data[\"start station id\"] == data[\"end station id\"]\n",
    "data[\"is_roundtrip\"].value_counts()"
   ]
  },
  {
   "cell_type": "code",
   "execution_count": 20,
   "id": "ff3c6f90-190f-44dc-948b-e63e4f966ab1",
   "metadata": {},
   "outputs": [],
   "source": [
    "data.to_csv(savepath)"
   ]
  },
  {
   "cell_type": "markdown",
   "id": "7d622624-079f-44f0-b30e-529d758921ba",
   "metadata": {
    "tags": []
   },
   "source": [
    "## Computing some more features"
   ]
  },
  {
   "cell_type": "code",
   "execution_count": 3,
   "id": "847b2775-1e1f-4b09-b349-08a828b5ddeb",
   "metadata": {},
   "outputs": [],
   "source": [
    "data = pd.read_csv(savepath)"
   ]
  },
  {
   "cell_type": "markdown",
   "id": "0ce1f694-1abe-4ccf-9276-52a1b74a744c",
   "metadata": {},
   "source": [
    "There are some features that seem intuitively obvious to compute, such as the distane traveled, the speed of the bikes, whether it is a workday or weekend, and whether it is summer or winter.\n",
    "We do this for the whole data set.\n",
    "Note that we do not use any information about the labels here, so we do not need a train / test split yet."
   ]
  },
  {
   "cell_type": "markdown",
   "id": "5a1100b1-4e47-425b-9295-4b8633a0fe89",
   "metadata": {},
   "source": [
    "Compute Haversine distance between start and end point"
   ]
  },
  {
   "cell_type": "code",
   "execution_count": 16,
   "id": "5460daa7-f201-43f6-a2fa-56b5d7172df2",
   "metadata": {},
   "outputs": [],
   "source": [
    "def haversine(lon1, lat1, lon2, lat2):\n",
    "    \"\"\"\n",
    "    Taken from https://stackoverflow.com/questions/29545704/fast-haversine-approximation-python-pandas\n",
    "    \n",
    "    Calculate the great circle distance between two points\n",
    "    on the earth (specified in decimal degrees)\n",
    "\n",
    "    All args must be of equal length.    \n",
    "\n",
    "    \"\"\"\n",
    "    lon1, lat1, lon2, lat2 = map(np.radians, [lon1, lat1, lon2, lat2])\n",
    "\n",
    "    dlon = lon2 - lon1\n",
    "    dlat = lat2 - lat1\n",
    "\n",
    "    a = np.sin(dlat/2.0)**2 + np.cos(lat1) * np.cos(lat2) * np.sin(dlon/2.0)**2\n",
    "\n",
    "    c = 2 * np.arcsin(np.sqrt(a))\n",
    "    m = (6367 * c)*1000\n",
    "    return m"
   ]
  },
  {
   "cell_type": "code",
   "execution_count": 15,
   "id": "f0148314-88df-443e-9f2b-e63c2fb48a0d",
   "metadata": {},
   "outputs": [
    {
     "data": {
      "text/plain": [
       "820.1532646056683"
      ]
     },
     "execution_count": 15,
     "metadata": {},
     "output_type": "execute_result"
    }
   ],
   "source": [
    "haversine(data.iloc[0][\"start station longitude\"], data.iloc[0][\"start station latitude\"], data.iloc[0][\"end station longitude\"], data.iloc[0][\"end station latitude\"])\n",
    "#google maps claims about 850 m"
   ]
  },
  {
   "cell_type": "code",
   "execution_count": null,
   "id": "3f3a5553-90d9-4e0a-85b7-f2b8f7c79e07",
   "metadata": {},
   "outputs": [],
   "source": [
    "data[\"haversine distance\"] = haversine(data[\"start station longitude\"], data[\"start station latitude\"], data[\"end station longitude\"], data[\"end station latitude\"])"
   ]
  },
  {
   "cell_type": "code",
   "execution_count": 29,
   "id": "bd0f2e6b-b86a-4d3e-aaee-8de5fca358ca",
   "metadata": {},
   "outputs": [],
   "source": [
    "data.to_csv(savepath)"
   ]
  },
  {
   "cell_type": "code",
   "execution_count": 4,
   "id": "bffc6202-b443-4841-b70b-4f4804a6302c",
   "metadata": {},
   "outputs": [],
   "source": [
    "data = pd.read_csv(savepath)"
   ]
  },
  {
   "cell_type": "code",
   "execution_count": 5,
   "id": "b9f93f7f-7322-4ed3-82f8-4a4751999361",
   "metadata": {},
   "outputs": [
    {
     "data": {
      "text/plain": [
       "Index                             128\n",
       "Unnamed: 0                  139841728\n",
       "tripduration                139841728\n",
       "starttime                  1415897496\n",
       "stoptime                   1415897496\n",
       "start station id            139841728\n",
       "start station name         1338558978\n",
       "start station latitude      139841728\n",
       "start station longitude     139841728\n",
       "end station id              139841728\n",
       "end station name           1337897909\n",
       "end station latitude        139841728\n",
       "end station longitude       139841728\n",
       "bikeid                      139841728\n",
       "usertype                   1167347722\n",
       "birth year                  139841728\n",
       "gender                      139841728\n",
       "month                       139841728\n",
       "is_roundtrip                 17480216\n",
       "haversine distance          139841728\n",
       "dtype: int64"
      ]
     },
     "execution_count": 5,
     "metadata": {},
     "output_type": "execute_result"
    }
   ],
   "source": [
    "data.memory_usage(deep=True)"
   ]
  },
  {
   "cell_type": "code",
   "execution_count": 18,
   "id": "10979184-5ced-4eef-aca8-a0be9022f1a9",
   "metadata": {},
   "outputs": [],
   "source": [
    "data[\"start station name\"] = data[\"start station name\"].astype(\"category\")\n",
    "data[\"end station name\"] = data[\"end station name\"].astype(\"category\")\n",
    "data[\"usertype\"] = data[\"usertype\"].astype(\"category\")\n",
    "data[\"gender\"] = data[\"gender\"].astype(\"category\")\n",
    "data[\"month\"] = data[\"month\"].astype(\"category\")"
   ]
  },
  {
   "cell_type": "code",
   "execution_count": 20,
   "id": "89d6720f-8db6-4c34-990a-cc3f762491fa",
   "metadata": {},
   "outputs": [
    {
     "data": {
      "text/plain": [
       "Index                             128\n",
       "Unnamed: 0                  139841728\n",
       "tripduration                139841728\n",
       "starttime                  1415897496\n",
       "stoptime                   1415897496\n",
       "start station id            139841728\n",
       "start station name           35056717\n",
       "start station latitude      139841728\n",
       "start station longitude     139841728\n",
       "end station id              139841728\n",
       "end station name             35058670\n",
       "end station latitude        139841728\n",
       "end station longitude       139841728\n",
       "bikeid                      139841728\n",
       "usertype                     17480456\n",
       "birth year                  139841728\n",
       "gender                       17480348\n",
       "month                        17480612\n",
       "is_roundtrip                 17480216\n",
       "haversine distance          139841728\n",
       "usertpe                      35058670\n",
       "dtype: int64"
      ]
     },
     "execution_count": 20,
     "metadata": {},
     "output_type": "execute_result"
    }
   ],
   "source": [
    "data.memory_usage(deep=True)"
   ]
  },
  {
   "cell_type": "markdown",
   "id": "1688c72d-d6f7-4511-bb38-bcd3254dfa12",
   "metadata": {},
   "source": [
    "Next we compute weekdays"
   ]
  },
  {
   "cell_type": "code",
   "execution_count": 22,
   "id": "6c382114-7d1d-461c-94d6-71b17508db47",
   "metadata": {},
   "outputs": [],
   "source": [
    "def strtodatetime(s):\n",
    "    \"\"\"\n",
    "    Take a string in the format of the data  set and return a datetime object\n",
    "    \"\"\"\n",
    "    s = s.split(\".\")[0]\n",
    "    d=datetime.datetime.strptime(s,\"%Y-%m-%d %H:%M:%S\")\n",
    "    return d.day, d.hour, d.minute, d.weekday()"
   ]
  },
  {
   "cell_type": "code",
   "execution_count": 31,
   "id": "989f0a96-bcc9-4345-ae88-0a5e495a6d5e",
   "metadata": {},
   "outputs": [
    {
     "ename": "MemoryError",
     "evalue": "",
     "output_type": "error",
     "traceback": [
      "\u001b[0;31m---------------------------------------------------------------------------\u001b[0m",
      "\u001b[0;31mMemoryError\u001b[0m                               Traceback (most recent call last)",
      "\u001b[0;32m/tmp/ipykernel_9079/2237515182.py\u001b[0m in \u001b[0;36m<module>\u001b[0;34m\u001b[0m\n\u001b[0;32m----> 1\u001b[0;31m \u001b[0mnew\u001b[0m \u001b[0;34m=\u001b[0m \u001b[0mdata\u001b[0m\u001b[0;34m[\u001b[0m\u001b[0;34m[\u001b[0m\u001b[0;34m\"starttime\"\u001b[0m\u001b[0;34m]\u001b[0m\u001b[0;34m]\u001b[0m\u001b[0;34m.\u001b[0m\u001b[0mapply\u001b[0m\u001b[0;34m(\u001b[0m\u001b[0;32mlambda\u001b[0m \u001b[0mrow\u001b[0m\u001b[0;34m:\u001b[0m \u001b[0mstrtodatetime\u001b[0m\u001b[0;34m(\u001b[0m\u001b[0mrow\u001b[0m\u001b[0;34m[\u001b[0m\u001b[0;34m\"starttime\"\u001b[0m\u001b[0;34m]\u001b[0m\u001b[0;34m)\u001b[0m\u001b[0;34m,\u001b[0m\u001b[0maxis\u001b[0m\u001b[0;34m=\u001b[0m\u001b[0;36m1\u001b[0m\u001b[0;34m,\u001b[0m\u001b[0mresult_type\u001b[0m\u001b[0;34m=\u001b[0m\u001b[0;34m\"expand\"\u001b[0m\u001b[0;34m)\u001b[0m\u001b[0;34m\u001b[0m\u001b[0;34m\u001b[0m\u001b[0m\n\u001b[0m",
      "\u001b[0;32m~/anaconda3/lib/python3.7/site-packages/pandas/core/frame.py\u001b[0m in \u001b[0;36mapply\u001b[0;34m(self, func, axis, raw, result_type, args, **kwargs)\u001b[0m\n\u001b[1;32m   8734\u001b[0m             \u001b[0mkwargs\u001b[0m\u001b[0;34m=\u001b[0m\u001b[0mkwargs\u001b[0m\u001b[0;34m,\u001b[0m\u001b[0;34m\u001b[0m\u001b[0;34m\u001b[0m\u001b[0m\n\u001b[1;32m   8735\u001b[0m         )\n\u001b[0;32m-> 8736\u001b[0;31m         \u001b[0;32mreturn\u001b[0m \u001b[0mop\u001b[0m\u001b[0;34m.\u001b[0m\u001b[0mapply\u001b[0m\u001b[0;34m(\u001b[0m\u001b[0;34m)\u001b[0m\u001b[0;34m\u001b[0m\u001b[0;34m\u001b[0m\u001b[0m\n\u001b[0m\u001b[1;32m   8737\u001b[0m \u001b[0;34m\u001b[0m\u001b[0m\n\u001b[1;32m   8738\u001b[0m     def applymap(\n",
      "\u001b[0;32m~/anaconda3/lib/python3.7/site-packages/pandas/core/apply.py\u001b[0m in \u001b[0;36mapply\u001b[0;34m(self)\u001b[0m\n\u001b[1;32m    686\u001b[0m             \u001b[0;32mreturn\u001b[0m \u001b[0mself\u001b[0m\u001b[0;34m.\u001b[0m\u001b[0mapply_raw\u001b[0m\u001b[0;34m(\u001b[0m\u001b[0;34m)\u001b[0m\u001b[0;34m\u001b[0m\u001b[0;34m\u001b[0m\u001b[0m\n\u001b[1;32m    687\u001b[0m \u001b[0;34m\u001b[0m\u001b[0m\n\u001b[0;32m--> 688\u001b[0;31m         \u001b[0;32mreturn\u001b[0m \u001b[0mself\u001b[0m\u001b[0;34m.\u001b[0m\u001b[0mapply_standard\u001b[0m\u001b[0;34m(\u001b[0m\u001b[0;34m)\u001b[0m\u001b[0;34m\u001b[0m\u001b[0;34m\u001b[0m\u001b[0m\n\u001b[0m\u001b[1;32m    689\u001b[0m \u001b[0;34m\u001b[0m\u001b[0m\n\u001b[1;32m    690\u001b[0m     \u001b[0;32mdef\u001b[0m \u001b[0magg\u001b[0m\u001b[0;34m(\u001b[0m\u001b[0mself\u001b[0m\u001b[0;34m)\u001b[0m\u001b[0;34m:\u001b[0m\u001b[0;34m\u001b[0m\u001b[0;34m\u001b[0m\u001b[0m\n",
      "\u001b[0;32m~/anaconda3/lib/python3.7/site-packages/pandas/core/apply.py\u001b[0m in \u001b[0;36mapply_standard\u001b[0;34m(self)\u001b[0m\n\u001b[1;32m    810\u001b[0m \u001b[0;34m\u001b[0m\u001b[0m\n\u001b[1;32m    811\u001b[0m     \u001b[0;32mdef\u001b[0m \u001b[0mapply_standard\u001b[0m\u001b[0;34m(\u001b[0m\u001b[0mself\u001b[0m\u001b[0;34m)\u001b[0m\u001b[0;34m:\u001b[0m\u001b[0;34m\u001b[0m\u001b[0;34m\u001b[0m\u001b[0m\n\u001b[0;32m--> 812\u001b[0;31m         \u001b[0mresults\u001b[0m\u001b[0;34m,\u001b[0m \u001b[0mres_index\u001b[0m \u001b[0;34m=\u001b[0m \u001b[0mself\u001b[0m\u001b[0;34m.\u001b[0m\u001b[0mapply_series_generator\u001b[0m\u001b[0;34m(\u001b[0m\u001b[0;34m)\u001b[0m\u001b[0;34m\u001b[0m\u001b[0;34m\u001b[0m\u001b[0m\n\u001b[0m\u001b[1;32m    813\u001b[0m \u001b[0;34m\u001b[0m\u001b[0m\n\u001b[1;32m    814\u001b[0m         \u001b[0;31m# wrap results\u001b[0m\u001b[0;34m\u001b[0m\u001b[0;34m\u001b[0m\u001b[0;34m\u001b[0m\u001b[0m\n",
      "\u001b[0;32m~/anaconda3/lib/python3.7/site-packages/pandas/core/apply.py\u001b[0m in \u001b[0;36mapply_series_generator\u001b[0;34m(self)\u001b[0m\n\u001b[1;32m    826\u001b[0m             \u001b[0;32mfor\u001b[0m \u001b[0mi\u001b[0m\u001b[0;34m,\u001b[0m \u001b[0mv\u001b[0m \u001b[0;32min\u001b[0m \u001b[0menumerate\u001b[0m\u001b[0;34m(\u001b[0m\u001b[0mseries_gen\u001b[0m\u001b[0;34m)\u001b[0m\u001b[0;34m:\u001b[0m\u001b[0;34m\u001b[0m\u001b[0;34m\u001b[0m\u001b[0m\n\u001b[1;32m    827\u001b[0m                 \u001b[0;31m# ignore SettingWithCopy here in case the user mutates\u001b[0m\u001b[0;34m\u001b[0m\u001b[0;34m\u001b[0m\u001b[0;34m\u001b[0m\u001b[0m\n\u001b[0;32m--> 828\u001b[0;31m                 \u001b[0mresults\u001b[0m\u001b[0;34m[\u001b[0m\u001b[0mi\u001b[0m\u001b[0;34m]\u001b[0m \u001b[0;34m=\u001b[0m \u001b[0mself\u001b[0m\u001b[0;34m.\u001b[0m\u001b[0mf\u001b[0m\u001b[0;34m(\u001b[0m\u001b[0mv\u001b[0m\u001b[0;34m)\u001b[0m\u001b[0;34m\u001b[0m\u001b[0;34m\u001b[0m\u001b[0m\n\u001b[0m\u001b[1;32m    829\u001b[0m                 \u001b[0;32mif\u001b[0m \u001b[0misinstance\u001b[0m\u001b[0;34m(\u001b[0m\u001b[0mresults\u001b[0m\u001b[0;34m[\u001b[0m\u001b[0mi\u001b[0m\u001b[0;34m]\u001b[0m\u001b[0;34m,\u001b[0m \u001b[0mABCSeries\u001b[0m\u001b[0;34m)\u001b[0m\u001b[0;34m:\u001b[0m\u001b[0;34m\u001b[0m\u001b[0;34m\u001b[0m\u001b[0m\n\u001b[1;32m    830\u001b[0m                     \u001b[0;31m# If we have a view on v, we need to make a copy because\u001b[0m\u001b[0;34m\u001b[0m\u001b[0;34m\u001b[0m\u001b[0;34m\u001b[0m\u001b[0m\n",
      "\u001b[0;31mMemoryError\u001b[0m: "
     ]
    }
   ],
   "source": [
    "new = data[[\"starttime\"]].apply(lambda row: strtodatetime(row[\"starttime\"]),axis=1,result_type=\"expand\")"
   ]
  },
  {
   "cell_type": "markdown",
   "id": "aa837e10-b9c2-40f2-9786-99b946e1dc8d",
   "metadata": {
    "tags": []
   },
   "source": [
    "## Splitting the Data"
   ]
  },
  {
   "cell_type": "markdown",
   "id": "58aba45a-6e10-44c1-a237-ffac3dd317e5",
   "metadata": {},
   "source": [
    "We now split the data in a 60/20/20 ratio of training/validation/test."
   ]
  },
  {
   "cell_type": "code",
   "execution_count": 8,
   "id": "dbf50194-6ad4-42f6-b1d3-61803542a3ed",
   "metadata": {},
   "outputs": [
    {
     "name": "stdout",
     "output_type": "stream",
     "text": [
      "17548339\n",
      "Train: 10529003, Val: 3509667, Test: 3509667\n"
     ]
    }
   ],
   "source": [
    "print(len(data))\n",
    "n = len(data)\n",
    "train_ratio = 0.6\n",
    "val_ratio = 0.2\n",
    "test_ratio = 0.2\n",
    "train_size = int(train_ratio*n)\n",
    "val_size = int(val_ratio*n)\n",
    "test_size = int(test_ratio*n)\n",
    "print(\"Train: {0}, Val: {1}, Test: {2}\".format(int(train_ratio*n), int(val_ratio*n), int(test_ratio*n)))"
   ]
  },
  {
   "cell_type": "code",
   "execution_count": 9,
   "id": "1972757d-6773-4e35-b644-3ae7b4104842",
   "metadata": {},
   "outputs": [
    {
     "name": "stdout",
     "output_type": "stream",
     "text": [
      "10529005 3509667 3509667\n"
     ]
    }
   ],
   "source": [
    "trainset,testset = train_test_split(data,test_size=test_size)\n",
    "trainset,valset = train_test_split(trainset,test_size=val_size)\n",
    "print(len(trainset),len(valset),len(testset))"
   ]
  },
  {
   "cell_type": "code",
   "execution_count": 10,
   "id": "2b5ce5f0-9482-4d01-9913-a2fccc16de74",
   "metadata": {},
   "outputs": [],
   "source": [
    "with open(\"Data/Train.csv\",\"w\") as file:\n",
    "    trainset.to_csv(file)"
   ]
  },
  {
   "cell_type": "code",
   "execution_count": 11,
   "id": "8a257b6b-5863-4939-95a5-3f1abd960e4d",
   "metadata": {},
   "outputs": [],
   "source": [
    "with open(\"Data/Validation.csv\",\"w\") as file:\n",
    "    valset.to_csv(file)"
   ]
  },
  {
   "cell_type": "code",
   "execution_count": 12,
   "id": "82f8923f-cfc8-44ec-84c4-c813b18ca187",
   "metadata": {},
   "outputs": [],
   "source": [
    "with open(\"Data/Test.csv\",\"w\") as file:\n",
    "    testset.to_csv(file)"
   ]
  },
  {
   "cell_type": "code",
   "execution_count": null,
   "id": "d42b6539-6b34-4eac-97b3-640ab5e3758e",
   "metadata": {},
   "outputs": [],
   "source": []
  }
 ],
 "metadata": {
  "kernelspec": {
   "display_name": "Python 3 (ipykernel)",
   "language": "python",
   "name": "python3"
  },
  "language_info": {
   "codemirror_mode": {
    "name": "ipython",
    "version": 3
   },
   "file_extension": ".py",
   "mimetype": "text/x-python",
   "name": "python",
   "nbconvert_exporter": "python",
   "pygments_lexer": "ipython3",
   "version": "3.7.10"
  }
 },
 "nbformat": 4,
 "nbformat_minor": 5
}
