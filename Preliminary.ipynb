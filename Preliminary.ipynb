{
 "cells": [
  {
   "cell_type": "code",
   "execution_count": 1,
   "id": "81a893a8-5afc-4e19-82f7-b8cca7da974b",
   "metadata": {},
   "outputs": [],
   "source": [
    "%config IPCompleter.use_jedi=False\n",
    "%matplotlib inline\n",
    "\n",
    "import pandas as pd\n",
    "import numpy as np\n",
    "import glob\n",
    "import datetime\n",
    "from sklearn.model_selection import train_test_split\n",
    "from Utils import load_data, print_memory_usage"
   ]
  },
  {
   "cell_type": "code",
   "execution_count": 2,
   "id": "7a8fe7a1-7085-4979-b649-1077b8ec588b",
   "metadata": {},
   "outputs": [],
   "source": [
    "savepath = r\"Data/data_cleaned.csv\""
   ]
  },
  {
   "cell_type": "markdown",
   "id": "8fdd31b9-1c4d-463c-ac4f-060109f1ae62",
   "metadata": {
    "tags": []
   },
   "source": [
    "## IDEAS\n",
    "\n",
    "First split into train,validation,and Test before even plotting the data.\n",
    "(How large should each data set be?)\n",
    "Only plot training data, neve rlook at test data! Otherwise my your knowledge of test data biases test error estimates.\n",
    "\n",
    "Is data set \"Balanced\"? Should I try to preserve some balance in train, val, test split?\n",
    "-> Subscribers make MANY more trips\n",
    "\n",
    "Remove outliers from triptime and birthyear data\n",
    "\n",
    "1. Load all files into one data frame grouped by month -> Can pandas even do this?\n",
    "2. Split Data -> I do one fixed train,test,validation split at the beginning and never change it because the data set is very large and I dont expect much variation over splits. I could otherwise do corss-validation or something. Question: Should one balance labels somehow in the splits?\n",
    "3. Compute trip durations -> already done, and length (how??? luftlinie oder station distances -> Google maps API?) from the data\n",
    "    1. Can use OSMnx\n",
    "    2. Use Taxicab metric (simpler) -> Actually not simpler at all, need coordinates relative to new york layout\n",
    "    3. Luftlinie (am einfachsten)\n",
    "4. Compute weekdays vs weekends\n",
    "5. Can one do somethign with bikeID?\n",
    "6. Can one do something with stationID?\n",
    "7. Compare to baseline of simply choosing most likely class label, ignoring user data!\n",
    "   Or use other ways of dealing with imbalance / representing effect?"
   ]
  },
  {
   "cell_type": "markdown",
   "id": "0e5cbcf0-8f6c-4b94-8897-f509be968e89",
   "metadata": {},
   "source": [
    "Features need to be preprocessed -> Encode categorically etc."
   ]
  },
  {
   "cell_type": "markdown",
   "id": "2c7f97aa-176b-497c-b747-3188ccb27d18",
   "metadata": {},
   "source": [
    "Some feature ideas:\n",
    "1. Time\n",
    "2. Afternoon vs prenoon vs night\n",
    "2. Distance\n",
    "3. Speed\n",
    "4. Workday vs Weekend (maybe even include holidays)\n",
    "5. Month (maybe)\n",
    "6. StartStation -> Because people from similar areas might be subscribers / not \n",
    "7. Using Gender = Unknown seems unfair because this depends on the registration process and in this sense is data only available after the class of the user is known"
   ]
  },
  {
   "cell_type": "markdown",
   "id": "fdbb53a0-06b1-4537-86ef-2111c79dc0ee",
   "metadata": {},
   "source": [
    "Map of stations: https://account.citibikenyc.com/map"
   ]
  },
  {
   "cell_type": "markdown",
   "id": "01ef7a71-dc74-4cb8-be1c-b0553be0125f",
   "metadata": {},
   "source": [
    "## Evaluation?"
   ]
  },
  {
   "cell_type": "markdown",
   "id": "8bb44fa7-1bf6-4969-8bb9-b93606e465b1",
   "metadata": {},
   "source": [
    "1. Evaluate vs baseline (baseline = always choose \"subscriber\" as label)\n",
    "2. Confusion matrix"
   ]
  },
  {
   "cell_type": "markdown",
   "id": "456f0fdc-02be-4b21-ac78-d23e38629a21",
   "metadata": {
    "tags": []
   },
   "source": [
    "# Data loading and formatting"
   ]
  },
  {
   "cell_type": "code",
   "execution_count": 3,
   "id": "9ab1d56f-25aa-412f-b9b2-dff86f9f1eb9",
   "metadata": {},
   "outputs": [],
   "source": [
    "def load_files(filenames, **kwargs):\n",
    "    dfs=[]\n",
    "    for filename in filenames:\n",
    "        d = pd.read_csv(filename,**kwargs)\n",
    "        dfs.append(d)\n",
    "    data = pd.concat(dfs,ignore_index=True)\n",
    "    if \"dtype\" in kwargs:\n",
    "        #Because categorical dtypes are not preserved under concatenation.\n",
    "        #This is simpler than trying to construct union categories but also more memory intensive.\n",
    "        data = data.astype(kwargs[\"dtype\"],copy=False) \n",
    "    return data"
   ]
  },
  {
   "cell_type": "code",
   "execution_count": 5,
   "id": "7d04d334-4d72-49b4-9897-44397dc44f35",
   "metadata": {},
   "outputs": [
    {
     "name": "stdout",
     "output_type": "stream",
     "text": [
      "['Data/201810-citibike-tripdata.csv', 'Data/201802-citibike-tripdata.csv', 'Data/201809-citibike-tripdata.csv', 'Data/201808-citibike-tripdata.csv', 'Data/201803-citibike-tripdata.csv', 'Data/201807-citibike-tripdata.csv', 'Data/201812-citibike-tripdata.csv', 'Data/201805-citibike-tripdata.csv', 'Data/201811-citibike-tripdata.csv', 'Data/201806-citibike-tripdata.csv', 'Data/201804-citibike-tripdata.csv', 'Data/201801-citibike-tripdata.csv']\n"
     ]
    }
   ],
   "source": [
    "filenames = glob.glob(\"Data/2*.csv\")\n",
    "print(filenames)"
   ]
  },
  {
   "cell_type": "markdown",
   "id": "e7a0fa63-557b-4b63-9bbc-3059a5137509",
   "metadata": {},
   "source": [
    "Using category dtype for the station names saves a lot of memory.\n",
    "Similarly, converting the timestamps into datetime type makes them easier to work with and saves a lot of memory too."
   ]
  },
  {
   "cell_type": "code",
   "execution_count": 6,
   "id": "57534996-e09b-41ca-b8c8-b3a9ce3cd30e",
   "metadata": {
    "tags": []
   },
   "outputs": [],
   "source": [
    "dtype = {\"tripduration\":\"Int64\", #Note that this accepts nan values\n",
    "          \"start station id\":\"Int64\",\n",
    "          \"start station name\":\"category\",\n",
    "          \"start station latitude\":\"Float64\",\n",
    "          \"start station longitude\":\"Float64\",\n",
    "          \"end station id\":\"Int64\",\n",
    "          \"end station name\":\"category\",\n",
    "          \"end station latitude\":\"Float64\",\n",
    "          \"end station longitude\":\"Float64\",\n",
    "          \"bikeid\":\"Int64\",\n",
    "          \"usertype\":\"category\",\n",
    "          \"birth year\":\"Int64\",\n",
    "          \"gender\":\"category\"}\n",
    "datatime_format=\"%Y-%m-%d %H:%M:%S.%f\""
   ]
  },
  {
   "cell_type": "code",
   "execution_count": 10,
   "id": "b166cc8c-2244-4477-bc50-09e35e8c1c21",
   "metadata": {
    "tags": []
   },
   "outputs": [
    {
     "name": "stdout",
     "output_type": "stream",
     "text": [
      "The dataframe needs 1.81 GB of memory\n"
     ]
    }
   ],
   "source": [
    "data = load_files(filenames,dtype=dtype)\n",
    "data[\"starttime\"] = pd.to_datetime(data[\"starttime\"],format=datatime_format)\n",
    "data[\"stoptime\"] = pd.to_datetime(data[\"starttime\"],format=datatime_format)\n",
    "print_memory_usage(data)"
   ]
  },
  {
   "cell_type": "code",
   "execution_count": 11,
   "id": "198162dd-b16f-4e0b-a21e-4a38cf5706f4",
   "metadata": {
    "tags": []
   },
   "outputs": [
    {
     "data": {
      "text/plain": [
       "tripduration                        Int64\n",
       "starttime                  datetime64[ns]\n",
       "stoptime                   datetime64[ns]\n",
       "start station id                    Int64\n",
       "start station name               category\n",
       "start station latitude            Float64\n",
       "start station longitude           Float64\n",
       "end station id                      Int64\n",
       "end station name                 category\n",
       "end station latitude              Float64\n",
       "end station longitude             Float64\n",
       "bikeid                              Int64\n",
       "usertype                         category\n",
       "birth year                          Int64\n",
       "gender                           category\n",
       "dtype: object"
      ]
     },
     "execution_count": 11,
     "metadata": {},
     "output_type": "execute_result"
    }
   ],
   "source": [
    "data.dtypes"
   ]
  },
  {
   "cell_type": "markdown",
   "id": "55700426-fea5-4642-afdf-ea55a90412ff",
   "metadata": {
    "tags": []
   },
   "source": [
    "# Data Cleaning"
   ]
  },
  {
   "cell_type": "markdown",
   "id": "607a418c-6da2-41fb-b3f8-85f59bcbfbe4",
   "metadata": {},
   "source": [
    "We now look at the some features and try to remove outliers."
   ]
  },
  {
   "cell_type": "markdown",
   "id": "ef930891-91ff-4e90-8e76-715f71d4eb93",
   "metadata": {},
   "source": [
    "First, lets check for NAN values:"
   ]
  },
  {
   "cell_type": "code",
   "execution_count": 14,
   "id": "ca0587d3-e26b-417d-a3e0-75fb3a64ad6a",
   "metadata": {},
   "outputs": [
    {
     "data": {
      "text/plain": [
       "tripduration               17545842\n",
       "starttime                  17545842\n",
       "stoptime                   17545842\n",
       "start station id           17545842\n",
       "start station name         17545842\n",
       "start station latitude     17545842\n",
       "start station longitude    17545842\n",
       "end station id             17545842\n",
       "end station name           17545842\n",
       "end station latitude       17545842\n",
       "end station longitude      17545842\n",
       "bikeid                     17545842\n",
       "usertype                   17545842\n",
       "birth year                 17545842\n",
       "gender                     17545842\n",
       "dtype: int64"
      ]
     },
     "execution_count": 14,
     "metadata": {},
     "output_type": "execute_result"
    }
   ],
   "source": [
    "data.count()"
   ]
  },
  {
   "cell_type": "markdown",
   "id": "a923e039-e5ea-46cf-a425-73cb32713897",
   "metadata": {},
   "source": [
    "We see that start and end station ids and names are not always available.\n",
    "This affects about 3000 of the 17 million entries.\n",
    "We simply remove the rows with missing values."
   ]
  },
  {
   "cell_type": "code",
   "execution_count": 15,
   "id": "a76a6b87-cd91-4dfc-bed6-fc94068e717b",
   "metadata": {
    "tags": []
   },
   "outputs": [
    {
     "data": {
      "text/plain": [
       "tripduration               17545842\n",
       "starttime                  17545842\n",
       "stoptime                   17545842\n",
       "start station id           17545842\n",
       "start station name         17545842\n",
       "start station latitude     17545842\n",
       "start station longitude    17545842\n",
       "end station id             17545842\n",
       "end station name           17545842\n",
       "end station latitude       17545842\n",
       "end station longitude      17545842\n",
       "bikeid                     17545842\n",
       "usertype                   17545842\n",
       "birth year                 17545842\n",
       "gender                     17545842\n",
       "dtype: int64"
      ]
     },
     "execution_count": 15,
     "metadata": {},
     "output_type": "execute_result"
    }
   ],
   "source": [
    "data.dropna(inplace=True)\n",
    "data.count()"
   ]
  },
  {
   "cell_type": "markdown",
   "id": "e2e8cb46-89cd-49ee-845c-abe9a3943a90",
   "metadata": {
    "tags": []
   },
   "source": [
    "## Tripdurations"
   ]
  },
  {
   "cell_type": "markdown",
   "id": "bd49b2b7-d5d5-4681-b688-035e292fed69",
   "metadata": {},
   "source": [
    "Next, let us have a look at the tripdurations."
   ]
  },
  {
   "cell_type": "code",
   "execution_count": 16,
   "id": "cac18015-7f54-46d6-ab1b-e7795ef4a0ee",
   "metadata": {},
   "outputs": [
    {
     "data": {
      "text/plain": [
       "Text(0.5, 0, 'Duration (s)')"
      ]
     },
     "execution_count": 16,
     "metadata": {},
     "output_type": "execute_result"
    },
    {
     "data": {
      "image/png": "[encoded data removed]",
      "text/plain": [
       "<Figure size 432x288 with 1 Axes>"
      ]
     },
     "metadata": {
      "needs_background": "light"
     },
     "output_type": "display_data"
    }
   ],
   "source": [
    "min_dur = data[\"tripduration\"].min()\n",
    "max_dur = data[\"tripduration\"].max()\n",
    "n_bins = 1000\n",
    "bins = np.logspace(start = np.log10(min_dur),stop = np.log10(max_dur),num=n_bins)\n",
    "ax = data[\"tripduration\"].plot(kind=\"hist\",loglog=True,bins=bins)\n",
    "ax.set_xlabel(\"Duration (s)\")"
   ]
  },
  {
   "cell_type": "markdown",
   "id": "73550ae8-e2c9-47cb-b99f-4c859fccc14d",
   "metadata": {},
   "source": [
    "Most trips are between 2 mins and 1 hour.\n",
    "We remove trip durations > 5 hours ($\\approx 2\\cdot10^4$ s), since these seem unlikely inside New York.\n",
    "Also note that durations < 60 seconds were already removed by the data provider, reasoning that these are likely just people trying to redock the bike."
   ]
  },
  {
   "cell_type": "code",
   "execution_count": 17,
   "id": "9bfaec03-4206-4ef0-929b-920d1ee38f83",
   "metadata": {},
   "outputs": [
    {
     "name": "stdout",
     "output_type": "stream",
     "text": [
      "There are 15454 trips of at least 5 hours in the data.\n"
     ]
    }
   ],
   "source": [
    "duration_h = 5\n",
    "longtrips = data[data[\"tripduration\"] >= duration_h*60*60]\n",
    "print(f\"There are {len(longtrips)} trips of at least {duration_h} hours in the data.\")\n",
    "data.drop(longtrips.index,inplace=True)"
   ]
  },
  {
   "cell_type": "markdown",
   "id": "4cc9ab20-3d34-4b1e-81d3-6ab70828578f",
   "metadata": {},
   "source": [
    "We also notice that there are round trips in the data."
   ]
  },
  {
   "cell_type": "code",
   "execution_count": 18,
   "id": "b919ffe5-1bc4-4245-a4c9-2b1d86c9e4ab",
   "metadata": {},
   "outputs": [
    {
     "name": "stdout",
     "output_type": "stream",
     "text": [
      "There are 345517 round trips in the data\n"
     ]
    },
    {
     "data": {
      "text/plain": [
       "Text(0.5, 0, 'Duration (min)')"
      ]
     },
     "execution_count": 18,
     "metadata": {},
     "output_type": "execute_result"
    },
    {
     "data": {
      "image/png": "[encoded data removed]",
      "text/plain": [
       "<Figure size 432x288 with 1 Axes>"
      ]
     },
     "metadata": {
      "needs_background": "light"
     },
     "output_type": "display_data"
    }
   ],
   "source": [
    "roundtrips = data[data[\"start station id\"] == data[\"end station id\"]]\n",
    "print(f\"There are {len(roundtrips)} round trips in the data\")\n",
    "ax = (roundtrips[\"tripduration\"] / 60).hist(bins=100)\n",
    "ax.set_xlabel(\"Duration (min)\")"
   ]
  },
  {
   "cell_type": "code",
   "execution_count": 19,
   "id": "120613c5-83de-4ef5-9463-24d7ec2a32b8",
   "metadata": {},
   "outputs": [
    {
     "data": {
      "text/plain": [
       "Text(0.5, 0, 'Duration (s)')"
      ]
     },
     "execution_count": 19,
     "metadata": {},
     "output_type": "execute_result"
    },
    {
     "data": {
      "image/png": "[encoded data removed]",
      "text/plain": [
       "<Figure size 432x288 with 1 Axes>"
      ]
     },
     "metadata": {
      "needs_background": "light"
     },
     "output_type": "display_data"
    }
   ],
   "source": [
    "ax = roundtrips[roundtrips[\"tripduration\"]<200][\"tripduration\"].hist(bins=100)\n",
    "ax.set_xlabel(\"Duration (s)\")"
   ]
  },
  {
   "cell_type": "markdown",
   "id": "760dc460-24e0-4a6e-bf18-d246843482f9",
   "metadata": {},
   "source": [
    "Let us also exlcude round trips of less than 120 seconds, since these also seem like people docking their bike."
   ]
  },
  {
   "cell_type": "code",
   "execution_count": 20,
   "id": "4855930d-e3e7-4ee7-9d95-018178a81626",
   "metadata": {},
   "outputs": [
    {
     "name": "stdout",
     "output_type": "stream",
     "text": [
      "There are 38770 short round trips in the data\n"
     ]
    }
   ],
   "source": [
    "shortroundtrips = roundtrips[roundtrips[\"tripduration\"]<120]\n",
    "print(f\"There are {len(shortroundtrips)} short round trips in the data\")\n",
    "data.drop(shortroundtrips.index,inplace=True)"
   ]
  },
  {
   "cell_type": "markdown",
   "id": "0653aaca-4a39-4510-aff1-c783158164dc",
   "metadata": {},
   "source": [
    "Let us furthermore indicate which trips are round trips for convenience"
   ]
  },
  {
   "cell_type": "code",
   "execution_count": 45,
   "id": "baa5c873-418c-453e-8eef-fdfdd7bedfd4",
   "metadata": {},
   "outputs": [
    {
     "data": {
      "text/plain": [
       "False    17184871\n",
       "True       306747\n",
       "Name: is_roundtrip, dtype: Int64"
      ]
     },
     "execution_count": 45,
     "metadata": {},
     "output_type": "execute_result"
    }
   ],
   "source": [
    "data[\"is_roundtrip\"] = data[\"start station id\"] == data[\"end station id\"]\n",
    "data[\"is_roundtrip\"].value_counts()"
   ]
  },
  {
   "cell_type": "code",
   "execution_count": 24,
   "id": "ea6b2ebf-cb8e-4f04-b9a8-0969f7394421",
   "metadata": {},
   "outputs": [
    {
     "data": {
      "text/plain": [
       "False    17184871\n",
       "True       306747\n",
       "Name: roundtrip, dtype: Int64"
      ]
     },
     "execution_count": 24,
     "metadata": {},
     "output_type": "execute_result"
    }
   ],
   "source": [
    "data[\"roundtrip\"] = data[\"start station id\"] == data[\"end station id\"]\n",
    "data[\"roundtrip\"].value_counts()"
   ]
  },
  {
   "cell_type": "markdown",
   "id": "47688b37-c1bb-4bb8-92c6-5d7a1ceb0f7f",
   "metadata": {
    "tags": []
   },
   "source": [
    "## Birthyears"
   ]
  },
  {
   "cell_type": "markdown",
   "id": "ef4681cd-fb00-4d16-9c8f-b2f4cc0e1668",
   "metadata": {},
   "source": [
    "Next, we look at the distribution of birth years"
   ]
  },
  {
   "cell_type": "markdown",
   "id": "8131f5bc-6b95-4ca8-ac56-6786c5d7152b",
   "metadata": {},
   "source": [
    "Next, lets have a look at the birthyears."
   ]
  },
  {
   "cell_type": "code",
   "execution_count": 46,
   "id": "b09a22e4-d2dc-4d5f-a2e9-549154ace88a",
   "metadata": {},
   "outputs": [
    {
     "name": "stdout",
     "output_type": "stream",
     "text": [
      "1885\n",
      "2002\n"
     ]
    }
   ],
   "source": [
    "print(data[\"birth year\"].min())\n",
    "print(data[\"birth year\"].max())"
   ]
  },
  {
   "cell_type": "markdown",
   "id": "0531d642-3d20-4e9b-a197-3f49f737a3f2",
   "metadata": {},
   "source": [
    "Since the data is from 2018, we exclude people born before 1920."
   ]
  },
  {
   "cell_type": "markdown",
   "id": "1278886a-62fc-4012-b85e-d2ec386d9285",
   "metadata": {},
   "source": [
    "We will exclude people born before 1920, since the data is from 2018."
   ]
  },
  {
   "cell_type": "code",
   "execution_count": 25,
   "id": "bffa6ed2-ff39-4d31-8342-5f60a778dd02",
   "metadata": {},
   "outputs": [
    {
     "name": "stdout",
     "output_type": "stream",
     "text": [
      "There are 11337 trips made by people born before 1920 in the data.\n"
     ]
    }
   ],
   "source": [
    "old = data[data[\"birth year\"] <= 1920]\n",
    "print(f\"There are {len(old)} trips made by people born before 1920 in the data.\")\n",
    "data.drop(old.index,inplace=True)"
   ]
  },
  {
   "cell_type": "markdown",
   "id": "b5608f61-3873-48cc-98ac-fad9a88f119e",
   "metadata": {},
   "source": [
    "## Coordinates"
   ]
  },
  {
   "cell_type": "markdown",
   "id": "b94bb0bf-2246-444a-8ce6-8dda58a3d1ee",
   "metadata": {},
   "source": [
    "Next, we look at the coordinates. New york encompasses latitudes of about between 40.6 and 40.9, and longitudes between -74.2 and -73.7"
   ]
  },
  {
   "cell_type": "markdown",
   "id": "82f0ccda-fcab-48cc-a351-e28316de3b65",
   "metadata": {},
   "source": [
    "Next, we look at the coordinates.\n",
    "New york encompasses latitudes of about between 40.6 and 40.9, and longitudes between -74.2 and -73.7"
   ]
  },
  {
   "cell_type": "code",
   "execution_count": 26,
   "id": "69041805-2aa6-4224-8b1e-ccf204d2d6cb",
   "metadata": {},
   "outputs": [
    {
     "name": "stdout",
     "output_type": "stream",
     "text": [
      "40.64653836709648\n",
      "45.506364054011385\n"
     ]
    }
   ],
   "source": [
    "print(data[\"start station latitude\"].min())\n",
    "print(data[\"start station latitude\"].max())"
   ]
  },
  {
   "cell_type": "code",
   "execution_count": 27,
   "id": "4385de43-2e85-4ef0-84b5-7063d1ae7ce7",
   "metadata": {},
   "outputs": [
    {
     "data": {
      "text/plain": [
       "Text(0.5, 0, 'Latitude')"
      ]
     },
     "execution_count": 27,
     "metadata": {},
     "output_type": "execute_result"
    },
    {
     "data": {
      "image/png": "[encoded data removed]",
      "text/plain": [
       "<Figure size 432x288 with 1 Axes>"
      ]
     },
     "metadata": {
      "needs_background": "light"
     },
     "output_type": "display_data"
    }
   ],
   "source": [
    "ax = data[\"start station latitude\"].plot(kind=\"hist\",logy = True,bins=600)\n",
    "ax.set_xlabel(\"Latitude\")"
   ]
  },
  {
   "cell_type": "markdown",
   "id": "d24d5184-872f-4fe4-b9a4-94f4425f7ec6",
   "metadata": {},
   "source": [
    "There appear to be around a 50 bikes lost at latitude > 45, which is somewhere around Montreal.\n",
    "We exclude these."
   ]
  },
  {
   "cell_type": "code",
   "execution_count": 28,
   "id": "9f6fe974-1e7e-4158-a896-7d3d9a16208b",
   "metadata": {},
   "outputs": [
    {
     "name": "stdout",
     "output_type": "stream",
     "text": [
      "65\n"
     ]
    }
   ],
   "source": [
    "lost = data[data[\"start station latitude\"]>41]\n",
    "print(len(lost))\n",
    "data.drop(lost.index,inplace=True)"
   ]
  },
  {
   "cell_type": "markdown",
   "id": "20277ff5-cb2c-45a6-ac85-91a203ddcdf6",
   "metadata": {},
   "source": [
    "The remaining values make sense:"
   ]
  },
  {
   "cell_type": "code",
   "execution_count": 29,
   "id": "2db02f9c-5ae8-4f17-8d8a-885e04f9da1c",
   "metadata": {},
   "outputs": [
    {
     "name": "stdout",
     "output_type": "stream",
     "text": [
      "The latitude is between 40.65 and 40.81\n",
      "The longitude is between -74.08 and -73.91\n"
     ]
    }
   ],
   "source": [
    "min_lat = data[[\"start station latitude\",\"end station latitude\"]].min().min()\n",
    "max_lat = data[[\"start station latitude\",\"end station latitude\"]].max().max()\n",
    "min_long = data[[\"start station longitude\",\"end station longitude\"]].min().min()\n",
    "max_long = data[[\"start station longitude\",\"end station longitude\"]].max().max()\n",
    "print(f\"The latitude is between {min_lat:.2f} and {max_lat:.2f}\")\n",
    "print(f\"The longitude is between {min_long:.2f} and {max_long:.2f}\")"
   ]
  },
  {
   "cell_type": "markdown",
   "id": "c5f863ad-7849-43b5-8251-89bc3aa780d7",
   "metadata": {},
   "source": [
    "We save cleaned data for later convenience."
   ]
  },
  {
   "cell_type": "code",
   "execution_count": 30,
   "id": "f5076212-7d6b-474b-a51e-71827049e690",
   "metadata": {},
   "outputs": [],
   "source": [
    "data.to_csv(savepath,index=False)"
   ]
  },
  {
   "cell_type": "markdown",
   "id": "7d622624-079f-44f0-b30e-529d758921ba",
   "metadata": {
    "tags": []
   },
   "source": [
    "## Computing some more features"
   ]
  },
  {
   "cell_type": "code",
   "execution_count": 9,
   "id": "cdad867f-9847-4e9b-9d13-6a0f30f43204",
   "metadata": {},
   "outputs": [],
   "source": [
    "data = load_data(savepath)"
   ]
  },
  {
   "cell_type": "markdown",
   "id": "0ce1f694-1abe-4ccf-9276-52a1b74a744c",
   "metadata": {},
   "source": [
    "There are some features that seem intuitively obvious to compute, such as the distane traveled, the speed of the bikes, whether it is a workday or weekend, and whether it is summer or winter.\n",
    "We do this for the whole data set.\n",
    "Note that we do not use any information about the labels here, so we do not need a train / test split yet."
   ]
  },
  {
   "cell_type": "markdown",
   "id": "e3e29673-e0bf-462a-a2e4-299360b29b0c",
   "metadata": {},
   "source": [
    "### Distance"
   ]
  },
  {
   "cell_type": "markdown",
   "id": "5a1100b1-4e47-425b-9295-4b8633a0fe89",
   "metadata": {},
   "source": [
    "Compute Haversine distance between start and end point"
   ]
  },
  {
   "cell_type": "code",
   "execution_count": 31,
   "id": "5460daa7-f201-43f6-a2fa-56b5d7172df2",
   "metadata": {},
   "outputs": [],
   "source": [
    "def haversine(lon1, lat1, lon2, lat2):\n",
    "    \"\"\"\n",
    "    Taken from https://stackoverflow.com/questions/29545704/fast-haversine-approximation-python-pandas\n",
    "    \n",
    "    Calculate the great circle distance in meters between two points\n",
    "    on the earth (which are specified in decimal degrees)\n",
    "\n",
    "    All args must be of equal length.    \n",
    "    \"\"\"\n",
    "    lon1, lat1, lon2, lat2 = map(np.radians, [lon1, lat1, lon2, lat2])\n",
    "\n",
    "    dlon = lon2 - lon1\n",
    "    dlat = lat2 - lat1\n",
    "\n",
    "    a = np.sin(dlat/2.0)**2 + np.cos(lat1) * np.cos(lat2) * np.sin(dlon/2.0)**2\n",
    "\n",
    "    c = 2 * np.arcsin(np.sqrt(a))\n",
    "    m = (6367 * c)*1000\n",
    "    return m"
   ]
  },
  {
   "cell_type": "code",
   "execution_count": 32,
   "id": "f0148314-88df-443e-9f2b-e63c2fb48a0d",
   "metadata": {},
   "outputs": [
    {
     "data": {
      "text/plain": [
       "820.1532646056683"
      ]
     },
     "execution_count": 32,
     "metadata": {},
     "output_type": "execute_result"
    }
   ],
   "source": [
    "haversine(data.iloc[0][\"start station longitude\"], data.iloc[0][\"start station latitude\"], data.iloc[0][\"end station longitude\"], data.iloc[0][\"end station latitude\"])\n",
    "#quick sanity check, google maps claims a distance of about 850 m between these station"
   ]
  },
  {
   "cell_type": "code",
   "execution_count": 33,
   "id": "3f3a5553-90d9-4e0a-85b7-f2b8f7c79e07",
   "metadata": {},
   "outputs": [],
   "source": [
    "data[\"haversine distance\"] = haversine(data[\"start station longitude\"], data[\"start station latitude\"], data[\"end station longitude\"], data[\"end station latitude\"])"
   ]
  },
  {
   "cell_type": "code",
   "execution_count": 14,
   "id": "36de2f55-5b77-48dc-b088-71e0cf62a387",
   "metadata": {},
   "outputs": [],
   "source": [
    "data[\"speed\"] = (data[\"haversine distance\"]/1000) / (data[\"tripduration\"]/3600) #Estimated speed in kmh"
   ]
  },
  {
   "cell_type": "markdown",
   "id": "717c178a-71df-4d04-b8c5-aa3c480bb23e",
   "metadata": {},
   "source": [
    "This will generally underestimate the speed because we are using haversine and not routing distance.\n",
    "Since the distance in new york is given roughly by 1-norm, and haversine is 2-norm distance, the underestimate is roughly by a factor $\\sqrt(2)$.\n",
    "We see that some data points have irregular speeds over 40 kmh, and we remove these."
   ]
  },
  {
   "cell_type": "code",
   "execution_count": null,
   "id": "fdb1d6c6-4190-410b-9fc3-005358a7bdd1",
   "metadata": {},
   "outputs": [],
   "source": [
    "fast = data[data[\"speed\"]>40]\n",
    "print(f\"There are {len(fast)} short round trips in the data\")\n",
    "data.drop(fast.index,inplace=True)\n",
    "data.to_csv(savepath,index=False)"
   ]
  },
  {
   "cell_type": "markdown",
   "id": "a26b37ab-05b0-457e-8dc7-7d508ce9bca6",
   "metadata": {
    "tags": []
   },
   "source": [
    "### Some information about weekday and holiday"
   ]
  },
  {
   "cell_type": "markdown",
   "id": "daaef020-9a67-41d8-812d-918d36c7e010",
   "metadata": {},
   "source": [
    "We will also collect some information on weekdays and holidays vs business days"
   ]
  },
  {
   "cell_type": "code",
   "execution_count": 34,
   "id": "e2a1c60b-1bab-4f0f-8dd1-0dd229aec3bd",
   "metadata": {},
   "outputs": [],
   "source": [
    "data[\"weekday\"] = data[\"starttime\"].dt.dayofweek"
   ]
  },
  {
   "cell_type": "code",
   "execution_count": 35,
   "id": "d3c33880-7660-42b0-97a4-f4f0ce0109b0",
   "metadata": {},
   "outputs": [],
   "source": [
    "from pandas.tseries.holiday import USFederalHolidayCalendar\n",
    "cal = USFederalHolidayCalendar()\n",
    "holidays = cal.holidays(start='2018-01-01', end='2018-12-31')\n",
    "isholiday = data[\"starttime\"].dt.date.astype(\"datetime64\").isin(holidays)"
   ]
  },
  {
   "cell_type": "code",
   "execution_count": 36,
   "id": "8e9ea61d-7fbf-4e1f-a607-3d5f6082afcb",
   "metadata": {},
   "outputs": [
    {
     "data": {
      "text/plain": [
       "False    17152317\n",
       "True       327899\n",
       "Name: holiday, dtype: int64"
      ]
     },
     "execution_count": 36,
     "metadata": {},
     "output_type": "execute_result"
    }
   ],
   "source": [
    "data[\"holiday\"] = isholiday\n",
    "data[\"holiday\"].value_counts()"
   ]
  },
  {
   "cell_type": "code",
   "execution_count": 38,
   "id": "4d44bdce-e81d-48cf-9394-78e045b6047e",
   "metadata": {},
   "outputs": [
    {
     "data": {
      "text/plain": [
       "True     12938644\n",
       "False     4541572\n",
       "Name: business day, dtype: int64"
      ]
     },
     "execution_count": 38,
     "metadata": {},
     "output_type": "execute_result"
    }
   ],
   "source": [
    "data[\"business day\"] = (data[\"weekday\"] < 5) & (~data[\"holiday\"])\n",
    "data[\"business day\"].value_counts()"
   ]
  },
  {
   "cell_type": "code",
   "execution_count": 64,
   "id": "a5755e32-2a1f-4407-a596-f2a535877e8d",
   "metadata": {},
   "outputs": [
    {
     "name": "stdout",
     "output_type": "stream",
     "text": [
      "There are 251 business days.\n"
     ]
    }
   ],
   "source": [
    "#Check the number of different business days. There should be 251 for 2018.\n",
    "n_businessday = data[data[\"business day\"]][\"starttime\"].dt.date.nunique()\n",
    "print(f\"There are {n_businessday} business days.\")"
   ]
  },
  {
   "cell_type": "code",
   "execution_count": 40,
   "id": "bd0f2e6b-b86a-4d3e-aaee-8de5fca358ca",
   "metadata": {
    "tags": []
   },
   "outputs": [],
   "source": [
    "data.to_csv(savepath,index=False)"
   ]
  },
  {
   "cell_type": "code",
   "execution_count": 41,
   "id": "7fecc392-11e1-4b02-9508-ce49f543f086",
   "metadata": {},
   "outputs": [
    {
     "name": "stdout",
     "output_type": "stream",
     "text": [
      "The dataframe needs 2.31 GB of memory\n"
     ]
    }
   ],
   "source": [
    "print_memory_usage(data)"
   ]
  },
  {
   "cell_type": "markdown",
   "id": "c382f40b-b409-4a9a-81d9-ea3916bdab24",
   "metadata": {},
   "source": [
    "## Unsupervised Analysis"
   ]
  },
  {
   "cell_type": "markdown",
   "id": "ec3454b4-e340-4b39-afc8-358f04012a73",
   "metadata": {},
   "source": [
    "We will now examine some properties of the data and try to find interesing patterns.\n",
    "Since we examine the entire data set, we will be careful not to make use of the labels."
   ]
  },
  {
   "cell_type": "code",
   "execution_count": 43,
   "id": "5d9a8bac-b0fa-46a8-9ef5-ef8f503e02c4",
   "metadata": {
    "tags": []
   },
   "outputs": [],
   "source": [
    "unlabeled = data.drop(\"usertype\",axis=1)"
   ]
  },
  {
   "cell_type": "markdown",
   "id": "a0628ccd-1ce5-4c1a-8246-e74061c64197",
   "metadata": {},
   "source": [
    "First, lets look at the distribution of trips over the year"
   ]
  },
  {
   "cell_type": "code",
   "execution_count": 63,
   "id": "2e7d6129-b2d2-49c8-905f-b5c2fc705f33",
   "metadata": {},
   "outputs": [
    {
     "data": {
      "image/png": "[encoded data removed]",
      "text/plain": [
       "<Figure size 432x288 with 1 Axes>"
      ]
     },
     "metadata": {
      "needs_background": "light"
     },
     "output_type": "display_data"
    }
   ],
   "source": [
    "countbymonth = unlabeled.groupby(by = unlabeled[\"starttime\"].dt.month).size() / len(unlabeled)\n",
    "countbymonth.index.name = \"Month\"\n",
    "ax = countbymonth.plot.bar()"
   ]
  },
  {
   "cell_type": "markdown",
   "id": "cd8fbe80-266f-4d44-9192-64af349914d1",
   "metadata": {},
   "source": [
    "We see that there is a lot more traffic during the summer month.\n",
    "This might also suggest a feature \"summer\", which is true during the month 5-10."
   ]
  },
  {
   "cell_type": "code",
   "execution_count": 12,
   "id": "2b53f396-0440-463d-ae32-73e7122cd12c",
   "metadata": {},
   "outputs": [],
   "source": [
    "data[\"summer\"] = (data[\"starttime\"].dt.month >=5) & (data[\"starttime\"].dt.month <=10)"
   ]
  },
  {
   "cell_type": "markdown",
   "id": "c7c162ca-3474-495d-a36b-8319b9225240",
   "metadata": {},
   "source": [
    "Let us also look at the distribution over weekday."
   ]
  },
  {
   "cell_type": "code",
   "execution_count": 76,
   "id": "d48bdb3e-0356-437e-b6a2-59dac254ec62",
   "metadata": {},
   "outputs": [
    {
     "data": {
      "image/png": "[encoded data removed]",
      "text/plain": [
       "<Figure size 432x288 with 1 Axes>"
      ]
     },
     "metadata": {
      "needs_background": "light"
     },
     "output_type": "display_data"
    }
   ],
   "source": [
    "weekday_group = unlabeled.groupby(by = unlabeled[\"starttime\"].dt.dayofweek)\n",
    "countbyweekday = weekday_group.size() / len(unlabeled)\n",
    "countbyweekday.index.name = \"Weekday\"\n",
    "ax = countbyweekday.plot.bar()"
   ]
  },
  {
   "cell_type": "markdown",
   "id": "6b774185-2447-46ab-8a87-58e33b926262",
   "metadata": {},
   "source": [
    "There appears to be more traffic during the week than on weekends. We will later look at how this differs between Subscribers and Customers. However, people do appear to take longer trips on weekends, as seen in the following graph."
   ]
  },
  {
   "cell_type": "code",
   "execution_count": 96,
   "id": "2debf8e8-19e2-480a-a865-772b4bf9581a",
   "metadata": {},
   "outputs": [
    {
     "data": {
      "image/png": "[encoded data removed]",
      "text/plain": [
       "<Figure size 432x288 with 1 Axes>"
      ]
     },
     "metadata": {
      "needs_background": "light"
     },
     "output_type": "display_data"
    }
   ],
   "source": [
    "unlabeled[\"tripduration (min)\"] = unlabeled[\"tripduration\"] / 60\n",
    "ax = unlabeled.boxplot(column=\"tripduration (min)\",by=\"weekday\",showfliers=False)\n",
    "ax.set_title(\"\")\n",
    "_ = ax.set_ylabel(\"Tripduration (min)\")\n",
    "unlabeled.drop(\"tripduration (min)\",axis=1,inplace=True)"
   ]
  },
  {
   "cell_type": "markdown",
   "id": "4b05f45b-c7ae-4977-b654-f3d61b537b7d",
   "metadata": {},
   "source": [
    "Now, we look at the distribution of trips on holidays vs business days"
   ]
  },
  {
   "cell_type": "code",
   "execution_count": 97,
   "id": "2b57a06c-55ab-46a8-8f9f-504f5229f0d9",
   "metadata": {},
   "outputs": [
    {
     "data": {
      "image/png": "[encoded data removed]",
      "text/plain": [
       "<Figure size 432x288 with 1 Axes>"
      ]
     },
     "metadata": {
      "needs_background": "light"
     },
     "output_type": "display_data"
    }
   ],
   "source": [
    "countbybusinessday = unlabeled.groupby(by = [unlabeled[\"business day\"],unlabeled[\"starttime\"].dt.date]).size()\n",
    "averagetrips = countbybusinessday.groupby(level=0).mean()\n",
    "ax = averagetrips.plot.bar()\n",
    "ax.set_ylabel(\"Average Trips per Day\")\n",
    "ax.set_xlabel(\"\")\n",
    "_ = ax.set_xticklabels([\"Holiday\", \"Business Day\"])"
   ]
  },
  {
   "cell_type": "markdown",
   "id": "04171549-8061-488f-b8a2-53ba60bfa7f7",
   "metadata": {},
   "source": [
    "We see that there is also more traffic on business days than holidays. Again, this might differ between subscribers and customers."
   ]
  },
  {
   "cell_type": "code",
   "execution_count": 15,
   "id": "97a57199-0202-4045-9c1a-1f8c53bb9f71",
   "metadata": {},
   "outputs": [],
   "source": [
    "data.to_csv(savepath,index=False)"
   ]
  },
  {
   "cell_type": "code",
   "execution_count": 16,
   "id": "3852f66d-f473-4d0a-b6cb-226842244122",
   "metadata": {},
   "outputs": [],
   "source": [
    "del data"
   ]
  },
  {
   "cell_type": "markdown",
   "id": "aa837e10-b9c2-40f2-9786-99b946e1dc8d",
   "metadata": {
    "tags": []
   },
   "source": [
    "# Splitting the Data"
   ]
  },
  {
   "cell_type": "markdown",
   "id": "58aba45a-6e10-44c1-a237-ffac3dd317e5",
   "metadata": {},
   "source": [
    "We now split the data into training/validation/test.\n",
    "Since we have a lot of data we will not use resampling methods such as bootstrap or cross-validation and go with a traditional split."
   ]
  },
  {
   "cell_type": "code",
   "execution_count": 107,
   "id": "dbf50194-6ad4-42f6-b1d3-61803542a3ed",
   "metadata": {},
   "outputs": [
    {
     "name": "stdout",
     "output_type": "stream",
     "text": [
      "17480216\n",
      "Train: 13984172, Val: 1748021, Test: 1748021\n"
     ]
    }
   ],
   "source": [
    "print(len(data))\n",
    "n = len(data)\n",
    "train_ratio = 0.8\n",
    "val_ratio = 0.1\n",
    "test_ratio = 0.1\n",
    "train_size = int(train_ratio*n)\n",
    "val_size = int(val_ratio*n)\n",
    "test_size = int(test_ratio*n)\n",
    "print(\"Train: {0}, Val: {1}, Test: {2}\".format(int(train_ratio*n), int(val_ratio*n), int(test_ratio*n)))"
   ]
  },
  {
   "cell_type": "markdown",
   "id": "7c02ce49-3404-4c16-88f5-079616d07182",
   "metadata": {},
   "source": [
    "Let us consider how accurate our estimate of the model accuracy will be, on the test set.\n",
    "We assume that we want accuracy per class, and since the data set is very unbalanced we can only use about $10\\%$ of the test set for the estimate on the rare class.\n",
    "Lets say we get a true model accuracy of $99\\%$."
   ]
  },
  {
   "cell_type": "code",
   "execution_count": 111,
   "id": "8e39c710-5465-49ee-b717-9524ce30aeef",
   "metadata": {},
   "outputs": [
    {
     "data": {
      "text/plain": [
       "'The standard error of the estimated accuracy will be 0.000238'"
      ]
     },
     "execution_count": 111,
     "metadata": {},
     "output_type": "execute_result"
    }
   ],
   "source": [
    "f\"The standard error of the estimated accuracy will be {np.sqrt(0.01*0.99 / (test_size/10)):2f}\""
   ]
  },
  {
   "cell_type": "code",
   "execution_count": 112,
   "id": "1972757d-6773-4e35-b644-3ae7b4104842",
   "metadata": {},
   "outputs": [
    {
     "name": "stdout",
     "output_type": "stream",
     "text": [
      "13984174 1748021 1748021\n"
     ]
    }
   ],
   "source": [
    "#This is memory intensive, if there are problems we could do it inplace by just computing indices for train/val/test\n",
    "trainset,testset = train_test_split(data,test_size=test_size)\n",
    "trainset,valset = train_test_split(trainset,test_size=val_size)\n",
    "print(len(trainset),len(valset),len(testset))"
   ]
  },
  {
   "cell_type": "code",
   "execution_count": 113,
   "id": "2b5ce5f0-9482-4d01-9913-a2fccc16de74",
   "metadata": {},
   "outputs": [],
   "source": [
    "with open(\"Data/Train.csv\",\"w\") as file:\n",
    "    trainset.to_csv(file,index=False)"
   ]
  },
  {
   "cell_type": "code",
   "execution_count": 114,
   "id": "8a257b6b-5863-4939-95a5-3f1abd960e4d",
   "metadata": {},
   "outputs": [],
   "source": [
    "with open(\"Data/Validation.csv\",\"w\") as file:\n",
    "    valset.to_csv(file,index=False)"
   ]
  },
  {
   "cell_type": "code",
   "execution_count": 115,
   "id": "82f8923f-cfc8-44ec-84c4-c813b18ca187",
   "metadata": {},
   "outputs": [],
   "source": [
    "with open(\"Data/Test.csv\",\"w\") as file:\n",
    "    testset.to_csv(file,index=False)"
   ]
  }
 ],
 "metadata": {
  "kernelspec": {
   "display_name": "Python 3 (ipykernel)",
   "language": "python",
   "name": "python3"
  },
  "language_info": {
   "codemirror_mode": {
    "name": "ipython",
    "version": 3
   },
   "file_extension": ".py",
   "mimetype": "text/x-python",
   "name": "python",
   "nbconvert_exporter": "python",
   "pygments_lexer": "ipython3",
   "version": "3.7.10"
  }
 },
 "nbformat": 4,
 "nbformat_minor": 5
}
