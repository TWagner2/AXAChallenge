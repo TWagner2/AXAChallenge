{
 "cells": [
  {
   "cell_type": "code",
   "execution_count": 6,
   "id": "1a9e7ffb-8341-411a-87b5-b8d800c0b803",
   "metadata": {},
   "outputs": [],
   "source": [
    "%config IPCompleter.use_jedi=False\n",
    "%matplotlib inline\n",
    "\n",
    "import pandas as pd\n",
    "import seaborn as sns\n",
    "import numpy as np\n",
    "import datetime\n",
    "import matplotlib.pyplot as plt\n",
    "import matplotlib.ticker as ticker\n",
    "from Utils import print_memory_usage\n",
    "import calendar\n",
    "\n",
    "from statsmodels.stats.proportion import proportion_confint"
   ]
  },
  {
   "cell_type": "code",
   "execution_count": 3,
   "id": "bf79255d-0e9a-49ae-af6d-ee73d2981238",
   "metadata": {},
   "outputs": [],
   "source": [
    "data = pd.read_csv(\"Data/Motor_Vehicle_Collisions_-_Crashes.csv\",low_memory=False,parse_dates=[[\"CRASH DATE\",\"CRASH TIME\"]])"
   ]
  },
  {
   "cell_type": "code",
   "execution_count": 4,
   "id": "985c25c8-bf9b-434b-9c7b-6f42e832a185",
   "metadata": {},
   "outputs": [],
   "source": [
    "data = data.rename({\"CRASH DATE_CRASH TIME\" : \"TIME\"},axis=1)"
   ]
  },
  {
   "cell_type": "code",
   "execution_count": 5,
   "id": "4e1be676-809e-4a8f-8d07-80e66e85f019",
   "metadata": {},
   "outputs": [
    {
     "data": {
      "text/plain": [
       "TIME                             datetime64[ns]\n",
       "BOROUGH                                category\n",
       "ZIP CODE                               category\n",
       "LATITUDE                                float64\n",
       "LONGITUDE                               float64\n",
       "LOCATION                               category\n",
       "ON STREET NAME                         category\n",
       "CROSS STREET NAME                      category\n",
       "OFF STREET NAME                        category\n",
       "NUMBER OF PERSONS INJURED               float64\n",
       "NUMBER OF PERSONS KILLED                float64\n",
       "NUMBER OF PEDESTRIANS INJURED             int64\n",
       "NUMBER OF PEDESTRIANS KILLED              int64\n",
       "NUMBER OF CYCLIST INJURED                 int64\n",
       "NUMBER OF CYCLIST KILLED                  int64\n",
       "NUMBER OF MOTORIST INJURED                int64\n",
       "NUMBER OF MOTORIST KILLED                 int64\n",
       "CONTRIBUTING FACTOR VEHICLE 1          category\n",
       "CONTRIBUTING FACTOR VEHICLE 2          category\n",
       "CONTRIBUTING FACTOR VEHICLE 3          category\n",
       "CONTRIBUTING FACTOR VEHICLE 4          category\n",
       "CONTRIBUTING FACTOR VEHICLE 5          category\n",
       "COLLISION_ID                              int64\n",
       "VEHICLE TYPE CODE 1                    category\n",
       "VEHICLE TYPE CODE 2                    category\n",
       "VEHICLE TYPE CODE 3                    category\n",
       "VEHICLE TYPE CODE 4                    category\n",
       "VEHICLE TYPE CODE 5                    category\n",
       "dtype: object"
      ]
     },
     "execution_count": 5,
     "metadata": {},
     "output_type": "execute_result"
    }
   ],
   "source": [
    "#Convert string columns to category\n",
    "obj_cols = data.columns[data.dtypes == \"object\"].tolist()\n",
    "for col in obj_cols:\n",
    "    data[col] = data[col].astype(\"category\")\n",
    "data.dtypes"
   ]
  },
  {
   "cell_type": "code",
   "execution_count": 6,
   "id": "0e905fbe-9e11-44c6-8ba2-9a987d016dbf",
   "metadata": {},
   "outputs": [],
   "source": [
    "data.to_parquet(\"Data/Collisions.parquet\",index=False,engine=\"pyarrow\")"
   ]
  },
  {
   "cell_type": "code",
   "execution_count": 7,
   "id": "59124355-e39d-41c2-864b-7a6a8b02ac57",
   "metadata": {},
   "outputs": [],
   "source": [
    "data = pd.read_parquet(\"Data/Collisions.parquet\",engine=\"pyarrow\")"
   ]
  },
  {
   "cell_type": "markdown",
   "id": "af2a0f24-802a-4282-b855-c51bbc145bc1",
   "metadata": {},
   "source": [
    "We see that the vehicle codes are very mixed"
   ]
  },
  {
   "cell_type": "code",
   "execution_count": 8,
   "id": "728aabdb-ccab-412b-ac9a-3f12b3c176e4",
   "metadata": {},
   "outputs": [
    {
     "data": {
      "text/plain": [
       "Sedan                                  511674\n",
       "PASSENGER VEHICLE                      416206\n",
       "Station Wagon/Sport Utility Vehicle    404304\n",
       "SPORT UTILITY / STATION WAGON          180291\n",
       "Taxi                                    47803\n",
       "4 dr sedan                              40131\n",
       "TAXI                                    31911\n",
       "Pick-up Truck                           31488\n",
       "VAN                                     25266\n",
       "OTHER                                   22967\n",
       "Box Truck                               22056\n",
       "UNKNOWN                                 19935\n",
       "Bus                                     18831\n",
       "LARGE COM VEH(6 OR MORE TIRES)          14397\n",
       "BUS                                     13993\n",
       "SMALL COM VEH(4 TIRES)                  13216\n",
       "Bike                                    12483\n",
       "PICK-UP TRUCK                           11505\n",
       "LIVERY VEHICLE                          10481\n",
       "Tractor Truck Diesel                     9396\n",
       "Van                                      8137\n",
       "Motorcycle                               6903\n",
       "MOTORCYCLE                               4195\n",
       "Ambulance                                3557\n",
       "Convertible                              3437\n",
       "Dump                                     3358\n",
       "2 dr sedan                               2651\n",
       "AMBULANCE                                2525\n",
       "PK                                       2167\n",
       "Flat Bed                                 2153\n",
       "Garbage or Refuse                        1958\n",
       "E-Bike                                   1946\n",
       "Carry All                                1760\n",
       "Tractor Truck Gasoline                   1432\n",
       "E-Scooter                                1364\n",
       "Tow Truck / Wrecker                      1155\n",
       "Name: VEHICLE TYPE CODE 1, dtype: int64"
      ]
     },
     "execution_count": 8,
     "metadata": {},
     "output_type": "execute_result"
    }
   ],
   "source": [
    "counts = data[\"VEHICLE TYPE CODE 1\"].value_counts()\n",
    "counts[counts > 1000]"
   ]
  },
  {
   "cell_type": "markdown",
   "id": "36a15e74-f31d-4eaa-a898-3b186cb4e410",
   "metadata": {},
   "source": [
    "The same vehicle can appear in both capitalized and lowercase. Let us combine these:"
   ]
  },
  {
   "cell_type": "code",
   "execution_count": 9,
   "id": "912393e7-e736-4039-b999-722285596ba2",
   "metadata": {},
   "outputs": [],
   "source": [
    "codes = [\"VEHICLE TYPE CODE 1\", \"VEHICLE TYPE CODE 2\", \"VEHICLE TYPE CODE 3\", \"VEHICLE TYPE CODE 4\",\"VEHICLE TYPE CODE 5\"]\n",
    "data[codes] = data[codes].applymap(lambda s: s.lower() if pd.notnull(s) else np.NaN)"
   ]
  },
  {
   "cell_type": "code",
   "execution_count": 10,
   "id": "04fbd3f6-4a2a-498b-ba84-c05eb78a8162",
   "metadata": {},
   "outputs": [
    {
     "data": {
      "text/plain": [
       "sedan                                  511684\n",
       "passenger vehicle                      416206\n",
       "station wagon/sport utility vehicle    404304\n",
       "sport utility / station wagon          180291\n",
       "taxi                                    79716\n",
       "pick-up truck                           42993\n",
       "4 dr sedan                              40131\n",
       "van                                     33801\n",
       "bus                                     32852\n",
       "other                                   22972\n",
       "box truck                               22086\n",
       "unknown                                 19944\n",
       "large com veh(6 or more tires)          14397\n",
       "small com veh(4 tires)                  13216\n",
       "bike                                    12483\n",
       "motorcycle                              11098\n",
       "livery vehicle                          10481\n",
       "tractor truck diesel                     9396\n",
       "ambulance                                6133\n",
       "dump                                     3474\n",
       "convertible                              3437\n",
       "2 dr sedan                               2651\n",
       "pk                                       2167\n",
       "flat bed                                 2153\n",
       "garbage or refuse                        1958\n",
       "e-bike                                   1950\n",
       "carry all                                1760\n",
       "tractor truck gasoline                   1432\n",
       "e-scooter                                1368\n",
       "tow truck / wrecker                      1155\n",
       "moped                                    1064\n",
       "Name: VEHICLE TYPE CODE 1, dtype: int64"
      ]
     },
     "execution_count": 10,
     "metadata": {},
     "output_type": "execute_result"
    }
   ],
   "source": [
    "counts = data[\"VEHICLE TYPE CODE 1\"].value_counts()\n",
    "counts[counts > 1000]"
   ]
  },
  {
   "cell_type": "markdown",
   "id": "cd28db9e-8aa3-488b-a2ae-cf59df799b4b",
   "metadata": {},
   "source": [
    "Lets look at taxis vs bikes (including e-bikes).\n",
    "More information about taxi trips can be found here: https://data.cityofnewyork.us/Transportation/2018-Yellow-Taxi-Trip-Data/t29m-gskq\n",
    "From this, we see that there were about 112M taxi trips in 2018, and we know that there were about 17M CitiBike trips.\n",
    "Total bike trips in 2016:\n",
    "https://www1.nyc.gov/html/dot/downloads/pdf/cycling-in-the-city-2018.pdf\n",
    "about 167M"
   ]
  },
  {
   "cell_type": "code",
   "execution_count": 11,
   "id": "acdd34a8-0939-4beb-a575-ffcc4ebdb5a1",
   "metadata": {},
   "outputs": [],
   "source": [
    "taxi_trips_2018 = 112e6\n",
    "bike_trips_2016 = 167e6"
   ]
  },
  {
   "cell_type": "code",
   "execution_count": 12,
   "id": "3224df82-3ae8-4927-a9a2-84e9d3807fcf",
   "metadata": {},
   "outputs": [],
   "source": [
    "taxi_crashes = data[(data[codes] == \"taxi\").any(axis=\"columns\")]\n",
    "bike_crashes = data[(data[codes].isin([\"bike\",\"e-bike\"]).any(axis=\"columns\"))]"
   ]
  },
  {
   "cell_type": "code",
   "execution_count": 13,
   "id": "fb49f35f-28ab-4cd1-8846-2143ecfe5b44",
   "metadata": {},
   "outputs": [
    {
     "data": {
      "text/plain": [
       "131643"
      ]
     },
     "execution_count": 13,
     "metadata": {},
     "output_type": "execute_result"
    }
   ],
   "source": [
    "len(taxi_crashes)"
   ]
  },
  {
   "cell_type": "code",
   "execution_count": 14,
   "id": "56eb97fd-68ac-4dbf-83b7-233a0c0e2b38",
   "metadata": {},
   "outputs": [
    {
     "data": {
      "text/plain": [
       "44398"
      ]
     },
     "execution_count": 14,
     "metadata": {},
     "output_type": "execute_result"
    }
   ],
   "source": [
    "len(bike_crashes)"
   ]
  },
  {
   "cell_type": "code",
   "execution_count": 15,
   "id": "de3e0070-f286-438b-9870-67fe9b00122a",
   "metadata": {},
   "outputs": [
    {
     "data": {
      "text/plain": [
       "4725"
      ]
     },
     "execution_count": 15,
     "metadata": {},
     "output_type": "execute_result"
    }
   ],
   "source": [
    "data_2018 = data[data[\"TIME\"].dt.year==2018]\n",
    "data_2018[\"NUMBER OF CYCLIST INJURED\"].sum()"
   ]
  },
  {
   "cell_type": "markdown",
   "id": "2690538b-0322-493e-90e1-992e1df2f0b1",
   "metadata": {},
   "source": [
    "Estimate proportion of crashes per trip for taxis and bikes"
   ]
  },
  {
   "cell_type": "code",
   "execution_count": 20,
   "id": "3639d7c6-d01c-407b-aa95-f94df748f96a",
   "metadata": {},
   "outputs": [
    {
     "data": {
      "text/plain": [
       "array([3.46466088e-05, 3.64551876e-05])"
      ]
     },
     "execution_count": 20,
     "metadata": {},
     "output_type": "execute_result"
    }
   ],
   "source": [
    "bike_crashcount_2016 = (bike_crashes[\"TIME\"].dt.year==2016).sum()\n",
    "bike_crashes_per_trip = np.array(proportion_confint(bike_crashcount_2016,bike_trips_2016))\n",
    "bike_crashes_per_trip"
   ]
  },
  {
   "cell_type": "code",
   "execution_count": 21,
   "id": "1d4682f2-08d9-4231-9075-df03fcb5d6b9",
   "metadata": {},
   "outputs": [
    {
     "data": {
      "text/plain": [
       "array([0.00016905, 0.0001739 ])"
      ]
     },
     "execution_count": 21,
     "metadata": {},
     "output_type": "execute_result"
    }
   ],
   "source": [
    "taxi_crashcount_2018 = (taxi_crashes[\"TIME\"].dt.year==2018).sum()\n",
    "taxi_crashes_per_trip = np.array(proportion_confint(taxi_crashcount_2018,taxi_trips_2018))\n",
    "taxi_crashes_per_trip"
   ]
  },
  {
   "cell_type": "code",
   "execution_count": 22,
   "id": "093f7325-2dee-4b17-94bf-f5b2da33c382",
   "metadata": {},
   "outputs": [],
   "source": [
    "ratio = np.array([taxi_crashes_per_trip[0] / bike_crashes_per_trip[1], taxi_crashes_per_trip[1] / bike_crashes_per_trip[0]])"
   ]
  },
  {
   "cell_type": "code",
   "execution_count": 23,
   "id": "d2e7359f-6171-43ca-bcc7-f0fc3f6211af",
   "metadata": {},
   "outputs": [
    {
     "data": {
      "text/plain": [
       "array([4.63715293, 5.01919681])"
      ]
     },
     "execution_count": 23,
     "metadata": {},
     "output_type": "execute_result"
    }
   ],
   "source": [
    "ratio"
   ]
  },
  {
   "cell_type": "markdown",
   "id": "aa926dd1-f132-4c84-bb14-854a9a97d945",
   "metadata": {},
   "source": [
    "It looks like one is about 4-5 times more likely to crash in a taxi than on a bike"
   ]
  },
  {
   "cell_type": "markdown",
   "id": "f1b5455b-0733-4444-b25d-ede1636d9608",
   "metadata": {},
   "source": [
    "What about injuries and death though? (Compare with https://www1.nyc.gov/html/dot/html/bicyclists/bikestats.shtml#crashdata)"
   ]
  },
  {
   "cell_type": "code",
   "execution_count": 27,
   "id": "7045f610-7d9d-4f19-84bc-2c2def9b8468",
   "metadata": {},
   "outputs": [],
   "source": [
    "data_2016 = data[data[\"TIME\"].dt.year==2016]"
   ]
  },
  {
   "cell_type": "code",
   "execution_count": 29,
   "id": "69823c80-e492-4b2d-92b6-2083082b1b3a",
   "metadata": {},
   "outputs": [
    {
     "data": {
      "text/plain": [
       "array([2.90689146e-05, 3.07274926e-05])"
      ]
     },
     "execution_count": 29,
     "metadata": {},
     "output_type": "execute_result"
    }
   ],
   "source": [
    "bike_injurycount_2016 = data_2016[\"NUMBER OF CYCLIST INJURED\"].sum() + data_2016[\"NUMBER OF CYCLIST KILLED\"].sum()\n",
    "bike_injuries_per_trip = np.array(proportion_confint(bike_injurycount_2016,bike_trips_2016))\n",
    "bike_injuries_per_trip"
   ]
  },
  {
   "cell_type": "code",
   "execution_count": 32,
   "id": "b0ddb070-109f-4f5e-b1af-5f156f0d3420",
   "metadata": {},
   "outputs": [
    {
     "data": {
      "text/plain": [
       "array([3.50031065e-05, 3.72290364e-05])"
      ]
     },
     "execution_count": 32,
     "metadata": {},
     "output_type": "execute_result"
    }
   ],
   "source": [
    "taxi_crashes_2018 = taxi_crashes[taxi_crashes[\"TIME\"].dt.year==2018]\n",
    "taxi_injurycount_2018 = taxi_crashes_2018[\"NUMBER OF MOTORIST INJURED\"].sum() + taxi_crashes_2018[\"NUMBER OF MOTORIST KILLED\"].sum() #Maybe unfair because this includes also the opposing party, not just the taxi\n",
    "taxi_injuries_per_trip = np.array(proportion_confint(taxi_injurycount_2018,taxi_trips_2018))\n",
    "taxi_injuries_per_trip"
   ]
  },
  {
   "cell_type": "markdown",
   "id": "fde36049-f2b5-46dc-961d-f49348afc944",
   "metadata": {},
   "source": [
    "In terms of death and injury, cycling is also slightly less dangerous."
   ]
  },
  {
   "cell_type": "markdown",
   "id": "f3f89f1f-45ce-4947-9176-18cc37451175",
   "metadata": {},
   "source": [
    "However, if an accident occurs, injury is much more likely:"
   ]
  },
  {
   "cell_type": "code",
   "execution_count": 35,
   "id": "e3e42088-3508-494c-a791-dd77903d547e",
   "metadata": {},
   "outputs": [
    {
     "data": {
      "text/plain": [
       "0.2100605425278974"
      ]
     },
     "execution_count": 35,
     "metadata": {},
     "output_type": "execute_result"
    }
   ],
   "source": [
    "#Notes that this also counts injuries of the other party\n",
    "(taxi_crashes[\"NUMBER OF MOTORIST INJURED\"].sum()  + taxi_crashes[\"NUMBER OF MOTORIST KILLED\"].sum()) / len(taxi_crashes)"
   ]
  },
  {
   "cell_type": "code",
   "execution_count": 36,
   "id": "17a1c02e-237d-40b3-8978-dbfad1cae66e",
   "metadata": {},
   "outputs": [
    {
     "data": {
      "text/plain": [
       "0.7284111896932294"
      ]
     },
     "execution_count": 36,
     "metadata": {},
     "output_type": "execute_result"
    }
   ],
   "source": [
    "(bike_crashes[\"NUMBER OF CYCLIST INJURED\"].sum() + bike_crashes[\"NUMBER OF CYCLIST KILLED\"].sum()) / len(bike_crashes)"
   ]
  },
  {
   "cell_type": "markdown",
   "id": "4f849269-6a3f-40c6-a1e5-ae40fc211133",
   "metadata": {},
   "source": [
    "Whose fault are accidents usually?"
   ]
  },
  {
   "cell_type": "code",
   "execution_count": 183,
   "id": "0307ab9a-eb49-4373-8e9e-4cbaa6c7a595",
   "metadata": {},
   "outputs": [
    {
     "data": {
      "text/plain": [
       "44398"
      ]
     },
     "execution_count": 183,
     "metadata": {},
     "output_type": "execute_result"
    }
   ],
   "source": [
    "len(bike_crashes)"
   ]
  },
  {
   "cell_type": "code",
   "execution_count": 12,
   "id": "1c5b2e58-4d54-4ad5-883e-1839f09d880b",
   "metadata": {},
   "outputs": [],
   "source": [
    "contrib = [f\"CONTRIBUTING FACTOR VEHICLE {i}\" for i in range(1,6)]"
   ]
  },
  {
   "cell_type": "code",
   "execution_count": 11,
   "id": "a6b325c3-6368-415b-92a0-fe959a1989b8",
   "metadata": {},
   "outputs": [
    {
     "data": {
      "text/plain": [
       "['VEHICLE TYPE CODE 1',\n",
       " 'VEHICLE TYPE CODE 2',\n",
       " 'VEHICLE TYPE CODE 3',\n",
       " 'VEHICLE TYPE CODE 4',\n",
       " 'VEHICLE TYPE CODE 5']"
      ]
     },
     "execution_count": 11,
     "metadata": {},
     "output_type": "execute_result"
    }
   ],
   "source": [
    "codes"
   ]
  },
  {
   "cell_type": "code",
   "execution_count": 13,
   "id": "6e06319b-da55-4097-b40e-c53931c7f1d4",
   "metadata": {},
   "outputs": [
    {
     "data": {
      "text/plain": [
       "['CONTRIBUTING FACTOR VEHICLE 1',\n",
       " 'CONTRIBUTING FACTOR VEHICLE 2',\n",
       " 'CONTRIBUTING FACTOR VEHICLE 3',\n",
       " 'CONTRIBUTING FACTOR VEHICLE 4',\n",
       " 'CONTRIBUTING FACTOR VEHICLE 5']"
      ]
     },
     "execution_count": 13,
     "metadata": {},
     "output_type": "execute_result"
    }
   ],
   "source": [
    "contrib"
   ]
  },
  {
   "cell_type": "code",
   "execution_count": 187,
   "id": "d8eb712f-5760-4581-a2dd-8236cb9c6557",
   "metadata": {},
   "outputs": [
    {
     "name": "stdout",
     "output_type": "stream",
     "text": [
      "The bycicle had a contributing factor in 42% of bike crashes.\n"
     ]
    }
   ],
   "source": [
    "count = 0\n",
    "for v,c in zip(codes,contrib):\n",
    "    crashes = bike_crashes[bike_crashes[v].isin([\"bike\",\"e-bike\"])]\n",
    "    count += crashes[crashes[c] != \"Unspecified\"][c].count()\n",
    "print(f\"The bycicle had a contributing factor in {count/len(bike_crashes):.0%} of bike crashes.\")"
   ]
  },
  {
   "cell_type": "markdown",
   "id": "2800c59c-0773-459f-8af9-586723a0802d",
   "metadata": {},
   "source": [
    "What are typical causes of crashes for bikes?"
   ]
  },
  {
   "cell_type": "code",
   "execution_count": 38,
   "id": "8a60ce46-87de-4cd6-84ce-339c6ae040b1",
   "metadata": {},
   "outputs": [],
   "source": [
    "total_crashes = pd.Series(dtype=\"Int64\")\n",
    "for v,c in zip(codes,contrib):\n",
    "    crashes = bike_crashes[bike_crashes[v].isin([\"bike\",\"e-bike\"])]\n",
    "    #print(crashes[v])\n",
    "    total_crashes = total_crashes.add(crashes[c].value_counts(),fill_value=0)\n",
    "total_crashes=total_crashes.sort_values(ascending=False)"
   ]
  },
  {
   "cell_type": "code",
   "execution_count": 39,
   "id": "64856b8f-68c4-4542-a409-9dfda1d5bb7f",
   "metadata": {},
   "outputs": [
    {
     "name": "stdout",
     "output_type": "stream",
     "text": [
      "Unspecified                                              26256.0\n",
      "Driver Inattention/Distraction                            6794.0\n",
      "Pedestrian/Bicyclist/Other Pedestrian Error/Confusion     2670.0\n",
      "Failure to Yield Right-of-Way                             1885.0\n",
      "Passing or Lane Usage Improper                            1205.0\n",
      "Traffic Control Disregarded                               1023.0\n",
      "Following Too Closely                                      681.0\n",
      "Unsafe Speed                                               621.0\n",
      "Other Vehicular                                            609.0\n",
      "Passing Too Closely                                        516.0\n",
      "Driver Inexperience                                        470.0\n",
      "Turning Improperly                                         272.0\n",
      "Unsafe Lane Changing                                       226.0\n",
      "View Obstructed/Limited                                    216.0\n",
      "Reaction to Uninvolved Vehicle                             192.0\n",
      "Alcohol Involvement                                        186.0\n",
      "Pavement Defective                                         130.0\n",
      "Passenger Distraction                                      129.0\n",
      "Pavement Slippery                                          125.0\n",
      "Aggressive Driving/Road Rage                               112.0\n",
      "Backing Unsafely                                            88.0\n",
      "Obstruction/Debris                                          72.0\n",
      "Brakes Defective                                            53.0\n",
      "Failure to Keep Right                                       52.0\n",
      "Outside Car Distraction                                     29.0\n",
      "Other Lighting Defects                                      24.0\n",
      "Cell Phone (hand-Held)                                      22.0\n",
      "Animals Action                                              22.0\n",
      "Lost Consciousness                                          19.0\n",
      "Steering Failure                                            17.0\n",
      "Oversized Vehicle                                           16.0\n",
      "Lane Marking Improper/Inadequate                            13.0\n",
      "Headlights Defective                                        13.0\n",
      "Glare                                                       13.0\n",
      "Fatigued/Drowsy                                             10.0\n",
      "Listening/Using Headphones                                   9.0\n",
      "Tire Failure/Inadequate                                      9.0\n",
      "Driverless/Runaway Vehicle                                   8.0\n",
      "Traffic Control Device Improper/Non-Working                  4.0\n",
      "Illnes                                                       4.0\n",
      "Fell Asleep                                                  4.0\n",
      "Physical Disability                                          3.0\n",
      "Drugs (illegal)                                              3.0\n",
      "Accelerator Defective                                        3.0\n",
      "Prescription Medication                                      2.0\n",
      "Shoulders Defective/Improper                                 2.0\n",
      "Cell Phone (hands-free)                                      2.0\n",
      "80                                                           1.0\n",
      "Using On Board Navigation Device                             1.0\n",
      "Tinted Windows                                               1.0\n",
      "Other Electronic Device                                      1.0\n",
      "Vehicle Vandalism                                            0.0\n",
      "1                                                            0.0\n",
      "Tow Hitch Defective                                          0.0\n",
      "Texting                                                      0.0\n",
      "Reaction to Other Uninvolved Vehicle                         0.0\n",
      "Illness                                                      0.0\n",
      "Eating or Drinking                                           0.0\n",
      "Drugs (Illegal)                                              0.0\n",
      "Cell Phone (hand-held)                                       0.0\n",
      "Windshield Inadequate                                        0.0\n",
      "dtype: Float64\n"
     ]
    }
   ],
   "source": [
    "with pd.option_context('display.max_rows', None, 'display.max_columns', None):\n",
    "    print(total_crashes)"
   ]
  },
  {
   "cell_type": "markdown",
   "id": "f1a615ac-30db-4cc9-a7f0-2bb16e5d43e3",
   "metadata": {},
   "source": [
    "I see 53 counts of defective brakes, 9 counts of defective tires, and 609 of \"other vehicular\"."
   ]
  },
  {
   "cell_type": "code",
   "execution_count": 40,
   "id": "5e792f83-a556-480e-8ac0-6f262316bc72",
   "metadata": {},
   "outputs": [
    {
     "name": "stdout",
     "output_type": "stream",
     "text": [
      "The bycicle had a defect in 2% of bike crashes.\n"
     ]
    }
   ],
   "source": [
    "count = 609 + 9 + 53\n",
    "print(f\"The bycicle had a defect in {count/len(bike_crashes):.0%} of bike crashes.\")"
   ]
  }
 ],
 "metadata": {
  "kernelspec": {
   "display_name": "Python 3 (ipykernel)",
   "language": "python",
   "name": "python3"
  },
  "language_info": {
   "codemirror_mode": {
    "name": "ipython",
    "version": 3
   },
   "file_extension": ".py",
   "mimetype": "text/x-python",
   "name": "python",
   "nbconvert_exporter": "python",
   "pygments_lexer": "ipython3",
   "version": "3.7.10"
  }
 },
 "nbformat": 4,
 "nbformat_minor": 5
}
