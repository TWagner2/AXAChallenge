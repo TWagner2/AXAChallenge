{
 "cells": [
  {
   "cell_type": "code",
   "execution_count": 1,
   "id": "689a90d5",
   "metadata": {},
   "outputs": [],
   "source": [
    "%config IPCompleter.use_jedi=False\n",
    "%matplotlib inline\n",
    "\n",
    "import pandas as pd\n",
    "from pandas.api.types import union_categoricals\n",
    "import numpy as np\n",
    "import glob\n",
    "import datetime\n",
    "import matplotlib.pyplot as plt\n",
    "import matplotlib.ticker as ticker\n",
    "from sklearn.model_selection import train_test_split\n",
    "from Utils import print_memory_usage\n",
    "import calendar"
   ]
  },
  {
   "cell_type": "code",
   "execution_count": 2,
   "id": "8971dbc8",
   "metadata": {},
   "outputs": [],
   "source": [
    "path_full = r\"Data/data_full.parquet\"\n",
    "path_cleaned = r\"Data/data_cleaned.parquet\""
   ]
  },
  {
   "cell_type": "markdown",
   "id": "d88bba12",
   "metadata": {},
   "source": [
    "Map of stations: https://account.citibikenyc.com/map"
   ]
  },
  {
   "cell_type": "markdown",
   "id": "96ba6e89",
   "metadata": {
    "tags": []
   },
   "source": [
    "# Data loading and formatting"
   ]
  },
  {
   "cell_type": "markdown",
   "id": "1f2ef706-cf1d-49f8-963e-e89414f08119",
   "metadata": {},
   "source": [
    "The whole data needs a lot of memory. We can alleviate this issue by converting start and end station ids to \"categorical\" dtype, and the date-time information to \"datetime\" format.\n",
    "Furthermore, saving the data as .csv does not retain any dtype information. Therefore, we use the .parquet format instead."
   ]
  },
  {
   "cell_type": "markdown",
   "id": "8f4ed645",
   "metadata": {},
   "source": [
    "First, we convert the individual files to .parquet and introduce appropriate dtypes in each file."
   ]
  },
  {
   "cell_type": "code",
   "execution_count": 3,
   "id": "f36c0cc2",
   "metadata": {},
   "outputs": [],
   "source": [
    "dtype = { \"start station name\":\"category\",\n",
    "          \"end station name\":\"category\",\n",
    "          \"usertype\":\"category\",\n",
    "          \"start station id\":\"Int64\",\n",
    "          \"end station id\":\"Int64\"}\n",
    "datatime_format=\"%Y-%m-%d %H:%M:%S.%f\""
   ]
  },
  {
   "cell_type": "code",
   "execution_count": 4,
   "id": "ca7d2de0",
   "metadata": {},
   "outputs": [
    {
     "name": "stdout",
     "output_type": "stream",
     "text": [
      "['Data/201810-citibike-tripdata.csv', 'Data/201802-citibike-tripdata.csv', 'Data/201809-citibike-tripdata.csv', 'Data/201808-citibike-tripdata.csv', 'Data/201803-citibike-tripdata.csv', 'Data/201807-citibike-tripdata.csv', 'Data/201812-citibike-tripdata.csv', 'Data/201805-citibike-tripdata.csv', 'Data/201811-citibike-tripdata.csv', 'Data/201806-citibike-tripdata.csv', 'Data/201804-citibike-tripdata.csv', 'Data/201801-citibike-tripdata.csv']\n"
     ]
    }
   ],
   "source": [
    "filenames = glob.glob(\"Data/*-citibike-tripdata.csv\")\n",
    "print(filenames)"
   ]
  },
  {
   "cell_type": "code",
   "execution_count": 5,
   "id": "3592770f",
   "metadata": {},
   "outputs": [],
   "source": [
    "def convert_files(filenames,dtype,datetime_format):\n",
    "    \"\"\"Convert files from .csv to .parquet.\"\"\"\n",
    "    for filename in filenames:\n",
    "        path=filename.split(\".\")[0]\n",
    "        data = pd.read_csv(filename)\n",
    "        data = data.astype(dtype,copy=False)\n",
    "        data[\"starttime\"] = pd.to_datetime(data[\"starttime\"],format=datatime_format)\n",
    "        data[\"stoptime\"] = pd.to_datetime(data[\"stoptime\"],format=datatime_format)\n",
    "        data.to_parquet(path+\".parquet\",engine=\"pyarrow\",index=False)\n",
    "        "
   ]
  },
  {
   "cell_type": "code",
   "execution_count": 6,
   "id": "d6ef958f",
   "metadata": {},
   "outputs": [],
   "source": [
    "convert_files(filenames,dtype,datatime_format)"
   ]
  },
  {
   "cell_type": "markdown",
   "id": "a7f5d0b7",
   "metadata": {},
   "source": [
    "Now, we load the files and combine them into one large dataframe.\n",
    "For the \"categorical\" columns, we need to union the categories of all dataframes before concatenating to avoid expanding into \"object\" dtype, which is memory intensive."
   ]
  },
  {
   "cell_type": "code",
   "execution_count": 5,
   "id": "1b2a581e",
   "metadata": {},
   "outputs": [
    {
     "name": "stdout",
     "output_type": "stream",
     "text": [
      "['Data/201812-citibike-tripdata.parquet', 'Data/201806-citibike-tripdata.parquet', 'Data/201802-citibike-tripdata.parquet', 'Data/201811-citibike-tripdata.parquet', 'Data/201803-citibike-tripdata.parquet', 'Data/201807-citibike-tripdata.parquet', 'Data/201808-citibike-tripdata.parquet', 'Data/201804-citibike-tripdata.parquet', 'Data/201801-citibike-tripdata.parquet', 'Data/201805-citibike-tripdata.parquet', 'Data/201809-citibike-tripdata.parquet', 'Data/201810-citibike-tripdata.parquet']\n"
     ]
    }
   ],
   "source": [
    "filenames_parquet = filenames = glob.glob(\"Data/*-citibike-tripdata.parquet\")\n",
    "print(filenames_parquet)"
   ]
  },
  {
   "cell_type": "code",
   "execution_count": 8,
   "id": "19d86733",
   "metadata": {},
   "outputs": [],
   "source": [
    "def load_files(filenames,categorical_cols, **kwargs):\n",
    "    \"\"\"Load and combine files.\"\"\"\n",
    "    dfs=[]\n",
    "    for filename in filenames:\n",
    "        d = pd.read_parquet(filename,engine=\"pyarrow\")\n",
    "        dfs.append(d)\n",
    "    for col in categorical_cols:\n",
    "        #We need to create unioned category types for concatenation\n",
    "        #Otherwhise categorical columns are converted to object, which is too memory intensive\n",
    "        uc = union_categoricals([d[col] for d in dfs])\n",
    "        for d in dfs:\n",
    "            d[col] = pd.Categorical(d[col],categories=uc.categories)\n",
    "    data = pd.concat(dfs,ignore_index=True,copy=False)\n",
    "    return data"
   ]
  },
  {
   "cell_type": "code",
   "execution_count": 9,
   "id": "29b7c56f",
   "metadata": {
    "tags": []
   },
   "outputs": [
    {
     "name": "stdout",
     "output_type": "stream",
     "text": [
      "The dataframe needs 1.81 GB of memory\n"
     ]
    },
    {
     "data": {
      "text/plain": [
       "tripduration                        int64\n",
       "starttime                  datetime64[ns]\n",
       "stoptime                   datetime64[ns]\n",
       "start station id                    Int64\n",
       "start station name               category\n",
       "start station latitude            float64\n",
       "start station longitude           float64\n",
       "end station id                      Int64\n",
       "end station name                 category\n",
       "end station latitude              float64\n",
       "end station longitude             float64\n",
       "bikeid                              int64\n",
       "usertype                         category\n",
       "birth year                          int64\n",
       "gender                              int64\n",
       "dtype: object"
      ]
     },
     "execution_count": 9,
     "metadata": {},
     "output_type": "execute_result"
    }
   ],
   "source": [
    "data = load_files(filenames_parquet,categorical_cols=[\"start station name\",\"end station name\",\"usertype\"])\n",
    "print_memory_usage(data)\n",
    "data.dtypes"
   ]
  },
  {
   "cell_type": "code",
   "execution_count": 10,
   "id": "c4f9acb6",
   "metadata": {},
   "outputs": [],
   "source": [
    "data.to_parquet(path_full,engine=\"pyarrow\",index=False)"
   ]
  },
  {
   "cell_type": "markdown",
   "id": "d504fa02",
   "metadata": {
    "tags": []
   },
   "source": [
    "# Data Cleaning"
   ]
  },
  {
   "cell_type": "markdown",
   "id": "f97b6a11-3acc-46b9-a7c3-363b0e8b3510",
   "metadata": {},
   "source": [
    "Next, we clean the data, removing some outliers and rows with missing entries."
   ]
  },
  {
   "cell_type": "code",
   "execution_count": 8,
   "id": "238ec2b6",
   "metadata": {},
   "outputs": [],
   "source": [
    "data = pd.read_parquet(path_full,engine=\"pyarrow\") #Load data if necessary"
   ]
  },
  {
   "cell_type": "markdown",
   "id": "97f69e6c",
   "metadata": {},
   "source": [
    "First, lets check for NAN values:"
   ]
  },
  {
   "cell_type": "code",
   "execution_count": 9,
   "id": "763689f0",
   "metadata": {},
   "outputs": [
    {
     "data": {
      "text/plain": [
       "tripduration               17548339\n",
       "starttime                  17548339\n",
       "stoptime                   17548339\n",
       "start station id           17545842\n",
       "start station name         17545842\n",
       "start station latitude     17548339\n",
       "start station longitude    17548339\n",
       "end station id             17545842\n",
       "end station name           17545842\n",
       "end station latitude       17548339\n",
       "end station longitude      17548339\n",
       "bikeid                     17548339\n",
       "usertype                   17548339\n",
       "birth year                 17548339\n",
       "gender                     17548339\n",
       "dtype: int64"
      ]
     },
     "execution_count": 9,
     "metadata": {},
     "output_type": "execute_result"
    }
   ],
   "source": [
    "data.count()"
   ]
  },
  {
   "cell_type": "markdown",
   "id": "2f5dd071",
   "metadata": {},
   "source": [
    "We see that start and end station ids and names are not always available.\n",
    "This affects about 3000 of the 17 million entries.\n",
    "We simply remove the rows with missing values."
   ]
  },
  {
   "cell_type": "code",
   "execution_count": 10,
   "id": "2ebd709f",
   "metadata": {
    "tags": []
   },
   "outputs": [
    {
     "data": {
      "text/plain": [
       "tripduration               17545842\n",
       "starttime                  17545842\n",
       "stoptime                   17545842\n",
       "start station id           17545842\n",
       "start station name         17545842\n",
       "start station latitude     17545842\n",
       "start station longitude    17545842\n",
       "end station id             17545842\n",
       "end station name           17545842\n",
       "end station latitude       17545842\n",
       "end station longitude      17545842\n",
       "bikeid                     17545842\n",
       "usertype                   17545842\n",
       "birth year                 17545842\n",
       "gender                     17545842\n",
       "dtype: int64"
      ]
     },
     "execution_count": 10,
     "metadata": {},
     "output_type": "execute_result"
    }
   ],
   "source": [
    "data.dropna(inplace=True)\n",
    "data.count()"
   ]
  },
  {
   "cell_type": "markdown",
   "id": "6d1cb7f2",
   "metadata": {
    "tags": []
   },
   "source": [
    "## Tripdurations"
   ]
  },
  {
   "cell_type": "markdown",
   "id": "51228397",
   "metadata": {},
   "source": [
    "Next, let us have a look at the tripdurations. Because the data spans several orders of magnitude, we use a log-log plot."
   ]
  },
  {
   "cell_type": "code",
   "execution_count": 11,
   "id": "9398cf99",
   "metadata": {},
   "outputs": [
    {
     "data": {
      "image/png": "[encoded data removed]",
      "text/plain": [
       "<Figure size 432x288 with 1 Axes>"
      ]
     },
     "metadata": {
      "needs_background": "light"
     },
     "output_type": "display_data"
    }
   ],
   "source": [
    "dur_min = data[\"tripduration\"]/60\n",
    "min_dur = dur_min.min()\n",
    "max_dur = dur_min.max()\n",
    "n_bins = 1000\n",
    "bins = np.logspace(start = np.log10(min_dur),stop = np.log10(max_dur),num=n_bins)\n",
    "ax = dur_min.plot(kind=\"hist\",loglog=True,bins=bins)\n",
    "ax.set_xlabel(\"Duration (min.)\");"
   ]
  },
  {
   "cell_type": "markdown",
   "id": "2ae9e855",
   "metadata": {},
   "source": [
    "Most trips are between 2 - 60 min.\n",
    "We remove trip durations > 5 hours, since these seem unlikely inside New York.\n",
    "Also note that durations < 60 seconds were already removed by the data provider, reasoning that these are likely just people trying to redock the bike."
   ]
  },
  {
   "cell_type": "code",
   "execution_count": 12,
   "id": "dc56c2b3",
   "metadata": {},
   "outputs": [
    {
     "name": "stdout",
     "output_type": "stream",
     "text": [
      "There are 15454 trips of at least 5 hours in the data.\n"
     ]
    }
   ],
   "source": [
    "duration_h = 5\n",
    "longtrips = data[data[\"tripduration\"] >= duration_h*60*60]\n",
    "print(f\"There are {len(longtrips)} trips of at least {duration_h} hours in the data.\")\n",
    "data.drop(longtrips.index,inplace=True)"
   ]
  },
  {
   "cell_type": "markdown",
   "id": "3ae5b119",
   "metadata": {},
   "source": [
    "We also notice that there are round trips in the data."
   ]
  },
  {
   "cell_type": "code",
   "execution_count": 13,
   "id": "6f4f0cb1",
   "metadata": {},
   "outputs": [
    {
     "name": "stdout",
     "output_type": "stream",
     "text": [
      "There are 345517 round trips in the data\n"
     ]
    },
    {
     "data": {
      "image/png": "[encoded data removed]",
      "text/plain": [
       "<Figure size 432x288 with 1 Axes>"
      ]
     },
     "metadata": {
      "needs_background": "light"
     },
     "output_type": "display_data"
    }
   ],
   "source": [
    "roundtrips = data[data[\"start station id\"] == data[\"end station id\"]]\n",
    "print(f\"There are {len(roundtrips)} round trips in the data\")\n",
    "ax = (roundtrips[\"tripduration\"] / 60).hist(bins=100)\n",
    "ax.set_xlabel(\"Duration (min.)\");"
   ]
  },
  {
   "cell_type": "markdown",
   "id": "18bc9728-34a9-4332-ace5-e9aec82163cc",
   "metadata": {},
   "source": [
    "Roundtrips are generally shorter then 50 min., and there is a large peak at shor times:"
   ]
  },
  {
   "cell_type": "code",
   "execution_count": 18,
   "id": "6bad4b82",
   "metadata": {},
   "outputs": [
    {
     "data": {
      "image/png": "[encoded data removed]",
      "text/plain": [
       "<Figure size 432x288 with 1 Axes>"
      ]
     },
     "metadata": {
      "needs_background": "light"
     },
     "output_type": "display_data"
    }
   ],
   "source": [
    "ax = roundtrips[roundtrips[\"tripduration\"]<200][\"tripduration\"].hist(bins=100)\n",
    "ax.set_xlabel(\"Duration (s)\");"
   ]
  },
  {
   "cell_type": "markdown",
   "id": "ea280012",
   "metadata": {},
   "source": [
    "We also exclude round trips of less than 120 seconds, since these also seem like people docking their bikes or playing around."
   ]
  },
  {
   "cell_type": "code",
   "execution_count": 14,
   "id": "f0f89b1b",
   "metadata": {},
   "outputs": [
    {
     "name": "stdout",
     "output_type": "stream",
     "text": [
      "There are 38770 short round trips in the data\n"
     ]
    }
   ],
   "source": [
    "shortroundtrips = roundtrips[roundtrips[\"tripduration\"]<120]\n",
    "print(f\"There are {len(shortroundtrips)} short round trips in the data\")\n",
    "data.drop(shortroundtrips.index,inplace=True)"
   ]
  },
  {
   "cell_type": "markdown",
   "id": "7e1e123f",
   "metadata": {},
   "source": [
    "Let us furthermore indicate which trips are round trips for convenience"
   ]
  },
  {
   "cell_type": "code",
   "execution_count": 15,
   "id": "96d91f21",
   "metadata": {},
   "outputs": [
    {
     "data": {
      "text/plain": [
       "False    17184871\n",
       "True       306747\n",
       "Name: is_roundtrip, dtype: Int64"
      ]
     },
     "execution_count": 15,
     "metadata": {},
     "output_type": "execute_result"
    }
   ],
   "source": [
    "data[\"is_roundtrip\"] = data[\"start station id\"] == data[\"end station id\"]\n",
    "data[\"is_roundtrip\"].value_counts()"
   ]
  },
  {
   "cell_type": "markdown",
   "id": "e2fdde36",
   "metadata": {
    "tags": []
   },
   "source": [
    "## Birthyears"
   ]
  },
  {
   "cell_type": "markdown",
   "id": "e6a4f714",
   "metadata": {},
   "source": [
    "Next, we look at the distribution of birth years."
   ]
  },
  {
   "cell_type": "code",
   "execution_count": 16,
   "id": "a99959df",
   "metadata": {},
   "outputs": [
    {
     "name": "stdout",
     "output_type": "stream",
     "text": [
      "1885\n",
      "2002\n"
     ]
    }
   ],
   "source": [
    "print(data[\"birth year\"].min())\n",
    "print(data[\"birth year\"].max())"
   ]
  },
  {
   "cell_type": "markdown",
   "id": "cdab528a",
   "metadata": {},
   "source": [
    "Since the data is from 2018, we exclude people born before 1920."
   ]
  },
  {
   "cell_type": "code",
   "execution_count": 17,
   "id": "6144e844",
   "metadata": {},
   "outputs": [
    {
     "name": "stdout",
     "output_type": "stream",
     "text": [
      "There are 11337 trips made by people born before 1920 in the data.\n"
     ]
    }
   ],
   "source": [
    "old = data[data[\"birth year\"] <= 1920]\n",
    "print(f\"There are {len(old)} trips made by people born before 1920 in the data.\")\n",
    "data.drop(old.index,inplace=True)"
   ]
  },
  {
   "cell_type": "markdown",
   "id": "e1be6e77",
   "metadata": {},
   "source": [
    "## Coordinates"
   ]
  },
  {
   "cell_type": "markdown",
   "id": "e95efa46",
   "metadata": {},
   "source": [
    "Next, we look at the coordinates.\n",
    "New york encompasses latitudes of about between 40.6 and 40.9, and longitudes between -74.2 and -73.7"
   ]
  },
  {
   "cell_type": "code",
   "execution_count": 23,
   "id": "6fb878e9",
   "metadata": {},
   "outputs": [
    {
     "name": "stdout",
     "output_type": "stream",
     "text": [
      "40.64653836709648\n",
      "45.506364054011385\n"
     ]
    }
   ],
   "source": [
    "print(data[\"start station latitude\"].min())\n",
    "print(data[\"start station latitude\"].max())"
   ]
  },
  {
   "cell_type": "code",
   "execution_count": 24,
   "id": "d0f18ab4",
   "metadata": {},
   "outputs": [
    {
     "data": {
      "image/png": "[encoded data removed]",
      "text/plain": [
       "<Figure size 432x288 with 1 Axes>"
      ]
     },
     "metadata": {
      "needs_background": "light"
     },
     "output_type": "display_data"
    }
   ],
   "source": [
    "ax = data[\"start station latitude\"].plot(kind=\"hist\",logy = True,bins=600)\n",
    "ax.set_xlabel(\"Latitude\");"
   ]
  },
  {
   "cell_type": "markdown",
   "id": "3fbd472f",
   "metadata": {},
   "source": [
    "There appear to be around a 50 bikes lost at latitude > 45, which is somewhere around Montreal.\n",
    "We exclude these."
   ]
  },
  {
   "cell_type": "code",
   "execution_count": 25,
   "id": "0e63bb1c",
   "metadata": {},
   "outputs": [
    {
     "name": "stdout",
     "output_type": "stream",
     "text": [
      "65\n"
     ]
    }
   ],
   "source": [
    "lost = data[data[\"start station latitude\"]>41]\n",
    "print(len(lost))\n",
    "data.drop(lost.index,inplace=True)"
   ]
  },
  {
   "cell_type": "markdown",
   "id": "f08b9af5",
   "metadata": {},
   "source": [
    "The remaining values make sense:"
   ]
  },
  {
   "cell_type": "code",
   "execution_count": 26,
   "id": "230a4bca",
   "metadata": {},
   "outputs": [
    {
     "name": "stdout",
     "output_type": "stream",
     "text": [
      "The latitude is between 40.65 and 40.81\n",
      "The longitude is between -74.08 and -73.91\n"
     ]
    }
   ],
   "source": [
    "min_lat = data[[\"start station latitude\",\"end station latitude\"]].min().min()\n",
    "max_lat = data[[\"start station latitude\",\"end station latitude\"]].max().max()\n",
    "min_long = data[[\"start station longitude\",\"end station longitude\"]].min().min()\n",
    "max_long = data[[\"start station longitude\",\"end station longitude\"]].max().max()\n",
    "print(f\"The latitude is between {min_lat:.2f} and {max_lat:.2f}\")\n",
    "print(f\"The longitude is between {min_long:.2f} and {max_long:.2f}\")"
   ]
  },
  {
   "cell_type": "markdown",
   "id": "f9678546",
   "metadata": {},
   "source": [
    "We save cleaned data for later convenience."
   ]
  },
  {
   "cell_type": "code",
   "execution_count": 27,
   "id": "6448778b",
   "metadata": {},
   "outputs": [],
   "source": [
    "data.to_parquet(savepath,index=False,engine=\"pyarrow\")"
   ]
  },
  {
   "cell_type": "markdown",
   "id": "1ad02d3d",
   "metadata": {
    "tags": []
   },
   "source": [
    "## Computing some more features"
   ]
  },
  {
   "cell_type": "code",
   "execution_count": 9,
   "id": "3bb26a75",
   "metadata": {},
   "outputs": [],
   "source": [
    "data = pd.read_parquet(path_cleaned,engine=\"pyarrow\")"
   ]
  },
  {
   "cell_type": "markdown",
   "id": "b38bfb12",
   "metadata": {},
   "source": [
    "There are some features that seem intuitively obvious to compute, such as the distane traveled, the speed of the bikes, whether it is a workday or weekend, and whether it is summer or winter.\n",
    "We do this for the whole data set.\n",
    "Since we do not use any information about the labels here, so we do not need a train-test split yet."
   ]
  },
  {
   "cell_type": "markdown",
   "id": "3e3fa753",
   "metadata": {},
   "source": [
    "### Distance"
   ]
  },
  {
   "cell_type": "markdown",
   "id": "f1a2470c",
   "metadata": {},
   "source": [
    "We approximate the length of trips by the Haversine distance between start and end point.\n",
    "This is the distance \"as the crow flies\" and does not take into account routing."
   ]
  },
  {
   "cell_type": "code",
   "execution_count": 10,
   "id": "42401594",
   "metadata": {},
   "outputs": [],
   "source": [
    "def haversine(lon1, lat1, lon2, lat2):\n",
    "    \"\"\"    \n",
    "    Calculate the great circle distance in meters between two points\n",
    "    on the earth (which are specified in decimal degrees)  \n",
    "    \n",
    "        Taken from https://stackoverflow.com/questions/29545704/fast-haversine-approximation-python-pandas\n",
    "    \"\"\"\n",
    "    lon1, lat1, lon2, lat2 = map(np.radians, [lon1, lat1, lon2, lat2])\n",
    "\n",
    "    dlon = lon2 - lon1\n",
    "    dlat = lat2 - lat1\n",
    "\n",
    "    a = np.sin(dlat/2.0)**2 + np.cos(lat1) * np.cos(lat2) * np.sin(dlon/2.0)**2\n",
    "\n",
    "    c = 2 * np.arcsin(np.sqrt(a))\n",
    "    m = (6367 * c)*1000\n",
    "    return m"
   ]
  },
  {
   "cell_type": "code",
   "execution_count": 12,
   "id": "542eb18f",
   "metadata": {},
   "outputs": [
    {
     "name": "stdout",
     "output_type": "stream",
     "text": [
      "The haversine distance between E 68 St & Madison Ave and E 47 St & 2 Ave is 1791m.\n"
     ]
    }
   ],
   "source": [
    "#quick sanity check, google maps claims a distance of about 1800m between these station\n",
    "start = data.iloc[0][\"start station name\"]\n",
    "end = data.iloc[0][\"end station name\"]\n",
    "dist = haversine(data.iloc[0][\"start station longitude\"], data.iloc[0][\"start station latitude\"], data.iloc[0][\"end station longitude\"], data.iloc[0][\"end station latitude\"])\n",
    "print(f\"The haversine distance between {start} and {end} is {dist:.0f}m.\")"
   ]
  },
  {
   "cell_type": "code",
   "execution_count": 31,
   "id": "9e49fe87",
   "metadata": {},
   "outputs": [],
   "source": [
    "data[\"haversine distance\"] = haversine(data[\"start station longitude\"], data[\"start station latitude\"], data[\"end station longitude\"], data[\"end station latitude\"])"
   ]
  },
  {
   "cell_type": "markdown",
   "id": "b6a2b39c",
   "metadata": {},
   "source": [
    "Next, we estimate the speed of the trips, in kmh."
   ]
  },
  {
   "cell_type": "code",
   "execution_count": 32,
   "id": "25618de2",
   "metadata": {},
   "outputs": [],
   "source": [
    "data[\"speed\"] = (data[\"haversine distance\"]/1000) / (data[\"tripduration\"]/3600) #Estimated speed in kmh"
   ]
  },
  {
   "cell_type": "markdown",
   "id": "6e997f26",
   "metadata": {},
   "source": [
    "This will generally underestimate the speed because we are using haversine and not routing distance.\n",
    "Since the distance in new york is given roughly by 1-norm, and haversine is 2-norm distance, the underestimate should not be by much more than a factor $\\sqrt{2}$.\n",
    "We see that some data points have irregular speeds over 40 kmh, and we remove these."
   ]
  },
  {
   "cell_type": "code",
   "execution_count": 33,
   "id": "15635a0f",
   "metadata": {},
   "outputs": [
    {
     "name": "stdout",
     "output_type": "stream",
     "text": [
      "There are 178 very fast trips in the data.\n"
     ]
    }
   ],
   "source": [
    "fast = data[data[\"speed\"]>40]\n",
    "print(f\"There are {len(fast)} very fast trips in the data.\")\n",
    "data.drop(fast.index,inplace=True)\n",
    "data.to_parquet(path_cleaned,index=False,engine=\"pyarrow\")"
   ]
  },
  {
   "cell_type": "markdown",
   "id": "5281a5be",
   "metadata": {
    "tags": []
   },
   "source": [
    "### Some information about weekday and holiday"
   ]
  },
  {
   "cell_type": "markdown",
   "id": "022bd7f2",
   "metadata": {},
   "source": [
    "Net, we categorize the data by business days vs holidays/weekends."
   ]
  },
  {
   "cell_type": "code",
   "execution_count": 34,
   "id": "64cda8c1",
   "metadata": {},
   "outputs": [],
   "source": [
    "from pandas.tseries.holiday import USFederalHolidayCalendar\n",
    "cal = USFederalHolidayCalendar()\n",
    "holidays = cal.holidays(start='2018-01-01', end='2018-12-31')\n",
    "isholiday = data[\"starttime\"].dt.date.astype(\"datetime64\").isin(holidays)"
   ]
  },
  {
   "cell_type": "code",
   "execution_count": 35,
   "id": "5983cdc0",
   "metadata": {},
   "outputs": [
    {
     "data": {
      "text/plain": [
       "False    17152139\n",
       "True       327899\n",
       "Name: holiday, dtype: int64"
      ]
     },
     "execution_count": 35,
     "metadata": {},
     "output_type": "execute_result"
    }
   ],
   "source": [
    "data[\"holiday\"] = isholiday\n",
    "data[\"holiday\"].value_counts()"
   ]
  },
  {
   "cell_type": "code",
   "execution_count": 36,
   "id": "f65d0ff2",
   "metadata": {},
   "outputs": [
    {
     "data": {
      "text/plain": [
       "True     12938548\n",
       "False     4541490\n",
       "Name: business day, dtype: int64"
      ]
     },
     "execution_count": 36,
     "metadata": {},
     "output_type": "execute_result"
    }
   ],
   "source": [
    "data[\"business day\"] = (data[\"starttime\"].dt.dayofweek < 5) & (~data[\"holiday\"])\n",
    "data[\"business day\"].value_counts()"
   ]
  },
  {
   "cell_type": "code",
   "execution_count": 37,
   "id": "d7cb3817",
   "metadata": {},
   "outputs": [
    {
     "name": "stdout",
     "output_type": "stream",
     "text": [
      "There are 251 business days.\n"
     ]
    }
   ],
   "source": [
    "#Check the number of different business days. There should be 251 for 2018.\n",
    "n_businessday = data[data[\"business day\"]][\"starttime\"].dt.date.nunique()\n",
    "print(f\"There are {n_businessday} business days.\")"
   ]
  },
  {
   "cell_type": "code",
   "execution_count": 38,
   "id": "c142eccf",
   "metadata": {
    "tags": []
   },
   "outputs": [],
   "source": [
    "data.to_parquet(path_cleaned,index=False,engine=\"pyarrow\")"
   ]
  },
  {
   "cell_type": "code",
   "execution_count": 39,
   "id": "64ad334d",
   "metadata": {},
   "outputs": [
    {
     "name": "stdout",
     "output_type": "stream",
     "text": [
      "The dataframe needs 2.29 GB of memory\n"
     ]
    }
   ],
   "source": [
    "print_memory_usage(data)"
   ]
  },
  {
   "cell_type": "markdown",
   "id": "e236817c",
   "metadata": {},
   "source": [
    "## Unsupervised Analysis"
   ]
  },
  {
   "cell_type": "code",
   "execution_count": 3,
   "id": "601a568e-15d1-404b-850d-44d7c2e5f2b9",
   "metadata": {},
   "outputs": [],
   "source": [
    "data = pd.read_parquet(path_cleaned,engine=\"pyarrow\")"
   ]
  },
  {
   "cell_type": "markdown",
   "id": "7ee1062b",
   "metadata": {},
   "source": [
    "We will now examine some basic properties of the data.\n",
    "Since we examine the entire data set, we will be careful not to look at correlations between features and labels."
   ]
  },
  {
   "cell_type": "markdown",
   "id": "0463d852",
   "metadata": {},
   "source": [
    "First, we notice that the data is very unbalanced. This can be a problem for supervised learning, and we will need to use appropriate training and accuracy measures."
   ]
  },
  {
   "cell_type": "code",
   "execution_count": 40,
   "id": "746ea637",
   "metadata": {},
   "outputs": [
    {
     "data": {
      "image/png": "[encoded data removed]",
      "text/plain": [
       "<Figure size 432x288 with 1 Axes>"
      ]
     },
     "metadata": {},
     "output_type": "display_data"
    }
   ],
   "source": [
    "counts = data.groupby(\"usertype\").size()\n",
    "counts.plot.pie(autopct='%1.0f%%',ylabel=\"\");"
   ]
  },
  {
   "cell_type": "markdown",
   "id": "bfddfcb7",
   "metadata": {},
   "source": [
    "Next, lets look at the distribution of trips over the year."
   ]
  },
  {
   "cell_type": "code",
   "execution_count": 35,
   "id": "3e066a6f",
   "metadata": {},
   "outputs": [
    {
     "data": {
      "image/png": "[encoded data removed]",
      "text/plain": [
       "<Figure size 432x288 with 1 Axes>"
      ]
     },
     "metadata": {
      "needs_background": "light"
     },
     "output_type": "display_data"
    }
   ],
   "source": [
    "countbymonth = data.groupby(by = data[\"starttime\"].dt.month).size() / len(data)\n",
    "countbymonth.index.name = \"Month\"\n",
    "ax = countbymonth.plot.bar(ylabel=\"Frequency\");\n",
    "ax.set_xticklabels(list(calendar.month_abbr)[1:]);"
   ]
  },
  {
   "cell_type": "markdown",
   "id": "fcb7dfa2",
   "metadata": {},
   "source": [
    "We see that there is a lot more traffic during the summer month.\n",
    "This might also suggest a feature \"summer\", which is true from may to oct."
   ]
  },
  {
   "cell_type": "code",
   "execution_count": 42,
   "id": "b73aec98",
   "metadata": {},
   "outputs": [],
   "source": [
    "data[\"summer\"] = (data[\"starttime\"].dt.month >=5) & (data[\"starttime\"].dt.month <=10)"
   ]
  },
  {
   "cell_type": "code",
   "execution_count": 43,
   "id": "762a6d54",
   "metadata": {},
   "outputs": [],
   "source": [
    "data.to_parquet(path_cleaned,index=False,engine=\"pyarrow\")"
   ]
  },
  {
   "cell_type": "markdown",
   "id": "851c0ee0",
   "metadata": {},
   "source": [
    "Let us also look at the distribution over weekday."
   ]
  },
  {
   "cell_type": "code",
   "execution_count": 16,
   "id": "af210c56",
   "metadata": {},
   "outputs": [
    {
     "data": {
      "image/png": "[encoded data removed]",
      "text/plain": [
       "<Figure size 432x288 with 1 Axes>"
      ]
     },
     "metadata": {
      "needs_background": "light"
     },
     "output_type": "display_data"
    }
   ],
   "source": [
    "weekday_group = data.groupby(by = data[\"starttime\"].dt.dayofweek)\n",
    "countbyweekday = weekday_group.size() / len(data)\n",
    "countbyweekday.index.name = \"Weekday\"\n",
    "ax = countbyweekday.plot.bar(ylabel=\"Frequency\")\n",
    "ax.set_xticklabels(calendar.day_abbr);\n",
    "ax.set_xlabel(\"\");"
   ]
  },
  {
   "cell_type": "markdown",
   "id": "0a1bae93",
   "metadata": {},
   "source": [
    "There appears to be more traffic during the week than on weekends. We will later look at how this differs between Subscribers and Customers. However, people do appear to take slightly longer trips on weekends, as seen in the following graph."
   ]
  },
  {
   "cell_type": "code",
   "execution_count": 17,
   "id": "a226b7d3",
   "metadata": {},
   "outputs": [
    {
     "data": {
      "image/png": "[encoded data removed]",
      "text/plain": [
       "<Figure size 432x288 with 1 Axes>"
      ]
     },
     "metadata": {
      "needs_background": "light"
     },
     "output_type": "display_data"
    }
   ],
   "source": [
    "data[\"tripduration (min)\"] = data[\"tripduration\"] / 60\n",
    "ax = data.boxplot(column=\"tripduration (min)\",by=data[\"starttime\"].dt.dayofweek,showfliers=False)\n",
    "ax.set_title(\"\")\n",
    "ax.set_ylabel(\"Tripduration (min.)\");\n",
    "ax.set_xlabel(\"Day of Week\");\n",
    "plt.suptitle(\"\")\n",
    "data.drop(\"tripduration (min)\",axis=1,inplace=True);\n",
    "ax.set_xticklabels(calendar.day_abbr);\n",
    "ax.set_xlabel(\"\");"
   ]
  },
  {
   "cell_type": "markdown",
   "id": "d95489c4",
   "metadata": {},
   "source": [
    "Now, we look at the distribution of trips on holidays vs business days"
   ]
  },
  {
   "cell_type": "code",
   "execution_count": 9,
   "id": "83c3e54e-3f60-4399-b3b2-98119a667f86",
   "metadata": {},
   "outputs": [
    {
     "data": {
      "image/png": "[encoded data removed]",
      "text/plain": [
       "<Figure size 432x288 with 1 Axes>"
      ]
     },
     "metadata": {
      "needs_background": "light"
     },
     "output_type": "display_data"
    }
   ],
   "source": [
    "countbybusinessday = data.groupby(by = [data[\"business day\"],data[\"starttime\"].dt.date]).size()\n",
    "#averagetrips = countbybusinessday.groupby(level=0).mean()\n",
    "countbybusinessday=countbybusinessday.unstack().transpose()\n",
    "ax = countbybusinessday.boxplot()\n",
    "ax.set_ylabel(\"Trips per Day\")\n",
    "ax.set_xticklabels([\"Holiday\", \"Business Day\"]);"
   ]
  },
  {
   "cell_type": "markdown",
   "id": "0ba31ffb",
   "metadata": {},
   "source": [
    "We see that there is also more traffic on business days than holidays. Again, this might differ between subscribers and customers."
   ]
  },
  {
   "cell_type": "code",
   "execution_count": 47,
   "id": "8ecde06f",
   "metadata": {},
   "outputs": [],
   "source": [
    "data.to_parquet(path_cleaned,index=False,engine=\"pyarrow\")"
   ]
  },
  {
   "cell_type": "markdown",
   "id": "d34e72a1",
   "metadata": {
    "tags": []
   },
   "source": [
    "# Splitting the Data"
   ]
  },
  {
   "cell_type": "code",
   "execution_count": 11,
   "id": "2e692832",
   "metadata": {},
   "outputs": [],
   "source": [
    "data = pd.read_parquet(path_cleaned,engine=\"pyarrow\")"
   ]
  },
  {
   "cell_type": "markdown",
   "id": "8bfec1ce",
   "metadata": {},
   "source": [
    "We now split the data into training/validation/test.\n",
    "Since we have a lot of data, we will not use resampling methods such as bootstrap or cross-validation and go with a traditional split."
   ]
  },
  {
   "cell_type": "code",
   "execution_count": 12,
   "id": "05dfd65d",
   "metadata": {},
   "outputs": [
    {
     "name": "stdout",
     "output_type": "stream",
     "text": [
      "Total: 17480038\n",
      "Train: 13984030, Val: 1748003, Test: 1748003\n"
     ]
    }
   ],
   "source": [
    "print(f\"Total: {len(data)}\")\n",
    "n = len(data)\n",
    "train_ratio = 0.8\n",
    "val_ratio = 0.1\n",
    "test_ratio = 0.1\n",
    "train_size = int(train_ratio*n)\n",
    "val_size = int(val_ratio*n)\n",
    "test_size = int(test_ratio*n)\n",
    "print(\"Train: {0}, Val: {1}, Test: {2}\".format(int(train_ratio*n), int(val_ratio*n), int(test_ratio*n)))"
   ]
  },
  {
   "cell_type": "markdown",
   "id": "d2804e7d",
   "metadata": {},
   "source": [
    "Let us consider how accurate our estimate of the model accuracy will be, on the test set.\n",
    "We assume that we want accuracy per class.\n",
    "Since the data set is very unbalanced we can only use about $10\\%$ of the test set for the estimate on the rare class.\n",
    "Lets say we get a true model accuracy of $99\\%$."
   ]
  },
  {
   "cell_type": "code",
   "execution_count": 13,
   "id": "59d08993",
   "metadata": {},
   "outputs": [
    {
     "data": {
      "text/plain": [
       "'The standard error of the estimated accuracy will be 0.023798%'"
      ]
     },
     "execution_count": 13,
     "metadata": {},
     "output_type": "execute_result"
    }
   ],
   "source": [
    "f\"The standard error of the estimated accuracy will be {np.sqrt(0.01*0.99 / (test_size/10)):2%}\""
   ]
  },
  {
   "cell_type": "markdown",
   "id": "70b23334-4cda-4fac-b835-ed70c131817e",
   "metadata": {},
   "source": [
    "This seems like an acceptable error. We now split the data."
   ]
  },
  {
   "cell_type": "code",
   "execution_count": 52,
   "id": "ac0b3738",
   "metadata": {},
   "outputs": [],
   "source": [
    "trainset,testset = train_test_split(data,test_size=test_size)"
   ]
  },
  {
   "cell_type": "code",
   "execution_count": 53,
   "id": "277b992e",
   "metadata": {},
   "outputs": [
    {
     "name": "stdout",
     "output_type": "stream",
     "text": [
      "1748003\n"
     ]
    }
   ],
   "source": [
    "print(len(testset))\n",
    "testset.to_parquet(\"Data/Test.parquet\",index=False,engine=\"pyarrow\")\n",
    "del testset"
   ]
  },
  {
   "cell_type": "code",
   "execution_count": 54,
   "id": "ef89aa53",
   "metadata": {},
   "outputs": [],
   "source": [
    "trainset,valset = train_test_split(trainset,test_size=val_size)"
   ]
  },
  {
   "cell_type": "code",
   "execution_count": 55,
   "id": "bd289c97",
   "metadata": {},
   "outputs": [
    {
     "name": "stdout",
     "output_type": "stream",
     "text": [
      "13984032\n"
     ]
    }
   ],
   "source": [
    "print(len(trainset))\n",
    "trainset.to_parquet(\"Data/Train.parquet\",index=False,engine=\"pyarrow\")"
   ]
  },
  {
   "cell_type": "code",
   "execution_count": 56,
   "id": "269c7ed1",
   "metadata": {},
   "outputs": [
    {
     "name": "stdout",
     "output_type": "stream",
     "text": [
      "1748003\n"
     ]
    }
   ],
   "source": [
    "print(len(valset))\n",
    "valset.to_parquet(\"Data/Validation.parquet\",index=False,engine=\"pyarrow\")"
   ]
  },
  {
   "cell_type": "code",
   "execution_count": null,
   "id": "c220d33d",
   "metadata": {},
   "outputs": [],
   "source": []
  }
 ],
 "metadata": {
  "kernelspec": {
   "display_name": "Python 3 (ipykernel)",
   "language": "python",
   "name": "python3"
  },
  "language_info": {
   "codemirror_mode": {
    "name": "ipython",
    "version": 3
   },
   "file_extension": ".py",
   "mimetype": "text/x-python",
   "name": "python",
   "nbconvert_exporter": "python",
   "pygments_lexer": "ipython3",
   "version": "3.7.10"
  }
 },
 "nbformat": 4,
 "nbformat_minor": 5
}
