{
 "cells": [
  {
   "cell_type": "code",
   "execution_count": 24,
   "id": "762f3594-ecd6-4013-9906-11bf4b7ec346",
   "metadata": {},
   "outputs": [],
   "source": [
    "import networkx as nx\n",
    "import osmnx as ox\n",
    "%matplotlib inline\n",
    "import pandas as pd\n",
    "import numpy as np\n",
    "import os\n",
    "import time\n",
    "from collections import defaultdict\n",
    "%config IPCompleter.use_jedi=False"
   ]
  },
  {
   "cell_type": "code",
   "execution_count": 4,
   "id": "487c04c1-28f7-404e-b7e9-3b12b2e789b3",
   "metadata": {},
   "outputs": [],
   "source": [
    "datapath = r\"../Data/data_cleaned.csv\"\n",
    "output_path=r\"../Data/data_cleaned_processed.csv\""
   ]
  },
  {
   "cell_type": "code",
   "execution_count": 5,
   "id": "3e08dc90-6c04-41da-9fb5-543e9749d754",
   "metadata": {},
   "outputs": [],
   "source": [
    "data = pd.read_csv(datapath)\n",
    "data = data[[\"start station id\", \"start station name\", \"start station latitude\", \"start station longitude\", \"end station id\", \"end station name\", \"end station latitude\", \"end station longitude\"]]"
   ]
  },
  {
   "cell_type": "code",
   "execution_count": 6,
   "id": "d5fb56b4-e0e3-4e86-9146-f0db8503f3c7",
   "metadata": {},
   "outputs": [],
   "source": [
    "stations1 = data.groupby(\"start station id\").first()\n",
    "stations2 = data.groupby(\"end station id\").first()"
   ]
  },
  {
   "cell_type": "code",
   "execution_count": 7,
   "id": "27f05612-bfe1-4e0e-9ef4-0b4627867bbf",
   "metadata": {},
   "outputs": [
    {
     "data": {
      "text/html": [
       "<div>\n",
       "<style scoped>\n",
       "    .dataframe tbody tr th:only-of-type {\n",
       "        vertical-align: middle;\n",
       "    }\n",
       "\n",
       "    .dataframe tbody tr th {\n",
       "        vertical-align: top;\n",
       "    }\n",
       "\n",
       "    .dataframe thead th {\n",
       "        text-align: right;\n",
       "    }\n",
       "</style>\n",
       "<table border=\"1\" class=\"dataframe\">\n",
       "  <thead>\n",
       "    <tr style=\"text-align: right;\">\n",
       "      <th></th>\n",
       "      <th>name</th>\n",
       "      <th>latitude</th>\n",
       "      <th>longitude</th>\n",
       "    </tr>\n",
       "    <tr>\n",
       "      <th>id</th>\n",
       "      <th></th>\n",
       "      <th></th>\n",
       "      <th></th>\n",
       "    </tr>\n",
       "  </thead>\n",
       "  <tbody>\n",
       "    <tr>\n",
       "      <th>72.0</th>\n",
       "      <td>W 52 St &amp; 11 Ave</td>\n",
       "      <td>40.767272</td>\n",
       "      <td>-73.993929</td>\n",
       "    </tr>\n",
       "    <tr>\n",
       "      <th>79.0</th>\n",
       "      <td>Franklin St &amp; W Broadway</td>\n",
       "      <td>40.719116</td>\n",
       "      <td>-74.006667</td>\n",
       "    </tr>\n",
       "    <tr>\n",
       "      <th>82.0</th>\n",
       "      <td>St James Pl &amp; Pearl St</td>\n",
       "      <td>40.711174</td>\n",
       "      <td>-74.000165</td>\n",
       "    </tr>\n",
       "    <tr>\n",
       "      <th>83.0</th>\n",
       "      <td>Atlantic Ave &amp; Fort Greene Pl</td>\n",
       "      <td>40.683826</td>\n",
       "      <td>-73.976323</td>\n",
       "    </tr>\n",
       "    <tr>\n",
       "      <th>119.0</th>\n",
       "      <td>Park Ave &amp; St Edwards St</td>\n",
       "      <td>40.696089</td>\n",
       "      <td>-73.978034</td>\n",
       "    </tr>\n",
       "    <tr>\n",
       "      <th>...</th>\n",
       "      <td>...</td>\n",
       "      <td>...</td>\n",
       "      <td>...</td>\n",
       "    </tr>\n",
       "    <tr>\n",
       "      <th>3481.0</th>\n",
       "      <td>Mercer St &amp; Spring St</td>\n",
       "      <td>40.716490</td>\n",
       "      <td>-74.041050</td>\n",
       "    </tr>\n",
       "    <tr>\n",
       "      <th>3638.0</th>\n",
       "      <td>W 116 St &amp; Broadway</td>\n",
       "      <td>40.724294</td>\n",
       "      <td>-74.035483</td>\n",
       "    </tr>\n",
       "    <tr>\n",
       "      <th>3639.0</th>\n",
       "      <td>Broadway &amp; Battery Pl</td>\n",
       "      <td>40.719252</td>\n",
       "      <td>-74.034234</td>\n",
       "    </tr>\n",
       "    <tr>\n",
       "      <th>3678.0</th>\n",
       "      <td>Christopher St &amp; Greenwich St</td>\n",
       "      <td>40.725726</td>\n",
       "      <td>-74.071959</td>\n",
       "    </tr>\n",
       "    <tr>\n",
       "      <th>3681.0</th>\n",
       "      <td>E 7 St &amp; Avenue A</td>\n",
       "      <td>40.715178</td>\n",
       "      <td>-74.037683</td>\n",
       "    </tr>\n",
       "  </tbody>\n",
       "</table>\n",
       "<p>844 rows × 3 columns</p>\n",
       "</div>"
      ],
      "text/plain": [
       "                                 name   latitude  longitude\n",
       "id                                                         \n",
       "72.0                 W 52 St & 11 Ave  40.767272 -73.993929\n",
       "79.0         Franklin St & W Broadway  40.719116 -74.006667\n",
       "82.0           St James Pl & Pearl St  40.711174 -74.000165\n",
       "83.0    Atlantic Ave & Fort Greene Pl  40.683826 -73.976323\n",
       "119.0        Park Ave & St Edwards St  40.696089 -73.978034\n",
       "...                               ...        ...        ...\n",
       "3481.0          Mercer St & Spring St  40.716490 -74.041050\n",
       "3638.0            W 116 St & Broadway  40.724294 -74.035483\n",
       "3639.0          Broadway & Battery Pl  40.719252 -74.034234\n",
       "3678.0  Christopher St & Greenwich St  40.725726 -74.071959\n",
       "3681.0              E 7 St & Avenue A  40.715178 -74.037683\n",
       "\n",
       "[844 rows x 3 columns]"
      ]
     },
     "execution_count": 7,
     "metadata": {},
     "output_type": "execute_result"
    }
   ],
   "source": [
    "stations1.drop([\"end station id\", \"end station name\", \"end station latitude\", \"end station longitude\"], inplace =True, axis=1)\n",
    "stations2.drop([\"start station id\", \"end station name\", \"start station latitude\", \"start station longitude\"],axis=1,inplace=True)\n",
    "\n",
    "stations1.index.name=\"id\"\n",
    "stations2.index.name=\"id\"\n",
    "stations1=stations1.set_axis([\"name\", \"latitude\",\"longitude\"],axis=1)\n",
    "stations2=stations2.set_axis([\"name\", \"latitude\",\"longitude\"],axis=1)\n",
    "\n",
    "stations = pd.concat([stations1,stations2])\n",
    "stations = stations[~stations.index.duplicated(keep=\"first\")]\n",
    "stations"
   ]
  },
  {
   "cell_type": "code",
   "execution_count": null,
   "id": "f0a1cef2-eb9b-40bf-ac19-5614c28a65c6",
   "metadata": {},
   "outputs": [],
   "source": [
    "del data\n",
    "del stations1\n",
    "del stations2"
   ]
  },
  {
   "cell_type": "code",
   "execution_count": 10,
   "id": "16c67c53-7eda-4fad-b6f4-bb9db93fb917",
   "metadata": {},
   "outputs": [
    {
     "data": {
      "image/png": "[encoded data removed]",
      "text/plain": [
       "<Figure size 800x800 with 1 Axes>"
      ]
     },
     "metadata": {},
     "output_type": "display_data"
    }
   ],
   "source": [
    "margin = 0.2\n",
    "north = stations[\"latitude\"].max() + margin\n",
    "south = stations[\"latitude\"].min() - margin\n",
    "west = stations[\"longitude\"].min() - margin\n",
    "east = stations[\"longitude\"].max() + margin\n",
    "\n",
    "#Unfortunately this seems to exclude governors island\n",
    "#G = ox.graph_from_place(\"New York, New York, USA\", network_type=\"bike\")\n",
    "G = ox.graph_from_bbox(north,south,east,west,network_type=\"bike\")\n",
    "G=ox.utils_graph.get_largest_component(G,strongly=True) #Otherwise routing can fail\n",
    "fig, ax = ox.plot_graph(G)"
   ]
  },
  {
   "cell_type": "code",
   "execution_count": 12,
   "id": "987df5ed-fa2d-4fe5-9449-c7c88379249d",
   "metadata": {},
   "outputs": [
    {
     "name": "stdout",
     "output_type": "stream",
     "text": [
      "0\n",
      "10\n",
      "20\n",
      "30\n",
      "40\n",
      "50\n",
      "60\n",
      "70\n",
      "80\n",
      "90\n",
      "100\n",
      "110\n",
      "120\n",
      "130\n",
      "140\n",
      "150\n",
      "160\n",
      "170\n",
      "180\n",
      "190\n",
      "200\n",
      "210\n",
      "220\n",
      "230\n",
      "240\n",
      "250\n",
      "260\n",
      "270\n",
      "280\n",
      "290\n",
      "300\n",
      "310\n",
      "320\n",
      "330\n",
      "340\n",
      "350\n",
      "360\n",
      "370\n",
      "380\n",
      "390\n",
      "400\n",
      "410\n",
      "420\n",
      "430\n",
      "440\n",
      "450\n",
      "460\n",
      "470\n",
      "480\n",
      "490\n",
      "500\n",
      "510\n",
      "520\n",
      "530\n",
      "540\n",
      "550\n",
      "560\n",
      "570\n",
      "580\n",
      "590\n",
      "600\n",
      "610\n",
      "620\n",
      "630\n",
      "640\n",
      "650\n",
      "660\n",
      "670\n",
      "680\n",
      "690\n",
      "700\n",
      "710\n",
      "720\n",
      "730\n",
      "740\n",
      "750\n",
      "760\n",
      "770\n",
      "780\n",
      "790\n",
      "800\n",
      "810\n",
      "820\n",
      "830\n",
      "840\n",
      "33 nodes were not found precisely.\n"
     ]
    }
   ],
   "source": [
    "station_to_node = {}\n",
    "station_to_dist = {}\n",
    "threshold=100\n",
    "failed_nodes = 0\n",
    "n = 0\n",
    "for i,station in stations.iterrows():\n",
    "    if n % 100 == 0:\n",
    "        print(n)\n",
    "    if not station.name in station_to_node:\n",
    "        node,dist = ox.distance.nearest_nodes(G, Y=station[\"latitude\"], X=station[\"longitude\"],return_dist=True)\n",
    "        station_to_node[station.name] = node\n",
    "        station_to_dist[station.name] = dist\n",
    "        if dist > threshold:\n",
    "            failed_nodes += 1 \n",
    "    n+=1\n",
    "print(f\"{failed_nodes} nodes were not found precisely.\")"
   ]
  },
  {
   "cell_type": "code",
   "execution_count": 13,
   "id": "3f1ab273-1b79-44d9-8dce-6e47dd695fec",
   "metadata": {},
   "outputs": [
    {
     "data": {
      "text/plain": [
       "6100.81"
      ]
     },
     "execution_count": 13,
     "metadata": {},
     "output_type": "execute_result"
    }
   ],
   "source": [
    "nx.shortest_path_length(G,station_to_node[72.0],station_to_node[79.0],weight=\"length\")\n",
    "#google maps claims about 6.5 km"
   ]
  },
  {
   "cell_type": "code",
   "execution_count": 17,
   "id": "b6189948-5f2c-4f82-bea3-1f4491d7ccfa",
   "metadata": {},
   "outputs": [
    {
     "data": {
      "text/plain": [
       "name             27\n",
       "latitude         27\n",
       "longitude        27\n",
       "node             27\n",
       "node_distance    27\n",
       "dtype: int64"
      ]
     },
     "execution_count": 17,
     "metadata": {},
     "output_type": "execute_result"
    }
   ],
   "source": [
    "stations[\"node\"] = pd.Series(station_to_node)\n",
    "stations[\"node_distance\"] = pd.Series(station_to_dist)\n",
    "stations[stations[\"node_distance\"]>1000].count()"
   ]
  },
  {
   "cell_type": "code",
   "execution_count": 21,
   "id": "e9ebfcb0-f460-4e81-aabb-63026215a6ca",
   "metadata": {},
   "outputs": [],
   "source": [
    "data_chunks = pd.read_csv(\"../Data/data_cleaned.csv\",chunksize=1e5)"
   ]
  },
  {
   "cell_type": "code",
   "execution_count": null,
   "id": "7a499ef0-89c7-4f95-8993-c97dec77faab",
   "metadata": {},
   "outputs": [],
   "source": [
    "#This likely takes hours\n",
    "#Note that shortes_path_length is called at most about len(stations)^2 / 2 times before we have all distances in the dict.\n",
    "distances = {}\n",
    "n = 0\n",
    "threshold = 1000\n",
    "start = time.time()\n",
    "for chunk in data_chunks:\n",
    "    chunk[\"distance\"] = np.nan\n",
    "    for i,trip in chunk.iterrows():\n",
    "        route = frozenset([trip[\"start station id\"],trip[\"end station id\"]])\n",
    "        if not route in distances:\n",
    "            node1 = station_to_node[trip[\"start station id\"]]\n",
    "            node2 = station_to_node[trip[\"end station id\"]]\n",
    "            dist1 = station_to_dist[trip[\"start station id\"]]\n",
    "            dist2 = station_to_dist[trip[\"end station id\"]]\n",
    "            if dist1 < threshold and dist2 < threshold:\n",
    "                distances[route] = nx.shortest_path_length(G,node1,node2,weight=\"length\")\n",
    "            else:\n",
    "                distances[route] = np.nan\n",
    "        chunk.at[i,\"distance\"]=distances[route]\n",
    "    chunk.to_csv(output_path, mode='a', header=not os.path.exists(output_path))\n",
    "    n+=1\n",
    "    end = time.time()\n",
    "    print(f\"{end-start:.0f}s: {n} chunks processed\")"
   ]
  },
  {
   "cell_type": "code",
   "execution_count": null,
   "id": "dd9e15d8-86e4-45d3-95ab-6fa2ac98d49a",
   "metadata": {},
   "outputs": [],
   "source": []
  }
 ],
 "metadata": {
  "kernelspec": {
   "display_name": "Python 3 (ipykernel)",
   "language": "python",
   "name": "python3"
  },
  "language_info": {
   "codemirror_mode": {
    "name": "ipython",
    "version": 3
   },
   "file_extension": ".py",
   "mimetype": "text/x-python",
   "name": "python",
   "nbconvert_exporter": "python",
   "pygments_lexer": "ipython3",
   "version": "3.7.10"
  }
 },
 "nbformat": 4,
 "nbformat_minor": 5
}
