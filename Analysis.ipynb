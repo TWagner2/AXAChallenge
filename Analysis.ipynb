{
 "cells": [
  {
   "cell_type": "code",
   "execution_count": 1,
   "id": "34521e2e-0fea-4d04-8747-9f5f9f65c6c3",
   "metadata": {},
   "outputs": [],
   "source": [
    "import pandas as pd\n",
    "import sklearn \n",
    "%config IPCompleter.use_jedi=False"
   ]
  },
  {
   "cell_type": "code",
   "execution_count": 2,
   "id": "1707330e-ed03-479c-a49b-3cf9c795cbd0",
   "metadata": {},
   "outputs": [],
   "source": [
    "traindata = pd.read_csv(\"Data/Train.csv\")"
   ]
  },
  {
   "cell_type": "code",
   "execution_count": 3,
   "id": "e34ed84b-d657-4678-9469-b3bed46709d6",
   "metadata": {},
   "outputs": [
    {
     "data": {
      "text/html": [
       "<div>\n",
       "<style scoped>\n",
       "    .dataframe tbody tr th:only-of-type {\n",
       "        vertical-align: middle;\n",
       "    }\n",
       "\n",
       "    .dataframe tbody tr th {\n",
       "        vertical-align: top;\n",
       "    }\n",
       "\n",
       "    .dataframe thead th {\n",
       "        text-align: right;\n",
       "    }\n",
       "</style>\n",
       "<table border=\"1\" class=\"dataframe\">\n",
       "  <thead>\n",
       "    <tr style=\"text-align: right;\">\n",
       "      <th></th>\n",
       "      <th>Unnamed: 0</th>\n",
       "      <th>tripduration</th>\n",
       "      <th>starttime</th>\n",
       "      <th>stoptime</th>\n",
       "      <th>start station id</th>\n",
       "      <th>start station name</th>\n",
       "      <th>start station latitude</th>\n",
       "      <th>start station longitude</th>\n",
       "      <th>end station id</th>\n",
       "      <th>end station name</th>\n",
       "      <th>end station latitude</th>\n",
       "      <th>end station longitude</th>\n",
       "      <th>bikeid</th>\n",
       "      <th>usertype</th>\n",
       "      <th>birth year</th>\n",
       "      <th>gender</th>\n",
       "      <th>month</th>\n",
       "    </tr>\n",
       "  </thead>\n",
       "  <tbody>\n",
       "    <tr>\n",
       "      <th>0</th>\n",
       "      <td>5830197</td>\n",
       "      <td>662</td>\n",
       "      <td>2018-08-21 00:44:50.3050</td>\n",
       "      <td>2018-08-21 00:55:53.0320</td>\n",
       "      <td>3177.0</td>\n",
       "      <td>W 84 St &amp; Broadway</td>\n",
       "      <td>40.786795</td>\n",
       "      <td>-73.977112</td>\n",
       "      <td>3553.0</td>\n",
       "      <td>Frederick Douglass Blvd &amp; W 112 St</td>\n",
       "      <td>40.801694</td>\n",
       "      <td>-73.957145</td>\n",
       "      <td>34204</td>\n",
       "      <td>Subscriber</td>\n",
       "      <td>1974</td>\n",
       "      <td>1</td>\n",
       "      <td>8</td>\n",
       "    </tr>\n",
       "    <tr>\n",
       "      <th>1</th>\n",
       "      <td>10532873</td>\n",
       "      <td>794</td>\n",
       "      <td>2018-05-01 17:16:43.6890</td>\n",
       "      <td>2018-05-01 17:29:58.0150</td>\n",
       "      <td>164.0</td>\n",
       "      <td>E 47 St &amp; 2 Ave</td>\n",
       "      <td>40.753231</td>\n",
       "      <td>-73.970325</td>\n",
       "      <td>3372.0</td>\n",
       "      <td>E 74 St &amp; 1 Ave</td>\n",
       "      <td>40.768974</td>\n",
       "      <td>-73.954823</td>\n",
       "      <td>33434</td>\n",
       "      <td>Subscriber</td>\n",
       "      <td>1984</td>\n",
       "      <td>2</td>\n",
       "      <td>5</td>\n",
       "    </tr>\n",
       "    <tr>\n",
       "      <th>2</th>\n",
       "      <td>14067690</td>\n",
       "      <td>506</td>\n",
       "      <td>2018-06-18 10:29:57.7520</td>\n",
       "      <td>2018-06-18 10:38:24.0760</td>\n",
       "      <td>382.0</td>\n",
       "      <td>University Pl &amp; E 14 St</td>\n",
       "      <td>40.734927</td>\n",
       "      <td>-73.992005</td>\n",
       "      <td>487.0</td>\n",
       "      <td>E 20 St &amp; FDR Drive</td>\n",
       "      <td>40.733143</td>\n",
       "      <td>-73.975739</td>\n",
       "      <td>17968</td>\n",
       "      <td>Subscriber</td>\n",
       "      <td>1989</td>\n",
       "      <td>1</td>\n",
       "      <td>6</td>\n",
       "    </tr>\n",
       "    <tr>\n",
       "      <th>3</th>\n",
       "      <td>2692568</td>\n",
       "      <td>422</td>\n",
       "      <td>2018-02-10 06:25:52.5810</td>\n",
       "      <td>2018-02-10 06:32:55.1090</td>\n",
       "      <td>3581.0</td>\n",
       "      <td>Underhill Ave &amp; Lincoln Pl</td>\n",
       "      <td>40.674012</td>\n",
       "      <td>-73.967146</td>\n",
       "      <td>420.0</td>\n",
       "      <td>Clermont Ave &amp; Lafayette Ave</td>\n",
       "      <td>40.687645</td>\n",
       "      <td>-73.969689</td>\n",
       "      <td>32625</td>\n",
       "      <td>Subscriber</td>\n",
       "      <td>1990</td>\n",
       "      <td>1</td>\n",
       "      <td>2</td>\n",
       "    </tr>\n",
       "    <tr>\n",
       "      <th>4</th>\n",
       "      <td>10249464</td>\n",
       "      <td>334</td>\n",
       "      <td>2018-12-21 10:32:55.6300</td>\n",
       "      <td>2018-12-21 10:38:29.9630</td>\n",
       "      <td>280.0</td>\n",
       "      <td>E 10 St &amp; 5 Ave</td>\n",
       "      <td>40.733320</td>\n",
       "      <td>-73.995101</td>\n",
       "      <td>236.0</td>\n",
       "      <td>St Marks Pl &amp; 2 Ave</td>\n",
       "      <td>40.728419</td>\n",
       "      <td>-73.987140</td>\n",
       "      <td>34174</td>\n",
       "      <td>Subscriber</td>\n",
       "      <td>1990</td>\n",
       "      <td>1</td>\n",
       "      <td>12</td>\n",
       "    </tr>\n",
       "    <tr>\n",
       "      <th>...</th>\n",
       "      <td>...</td>\n",
       "      <td>...</td>\n",
       "      <td>...</td>\n",
       "      <td>...</td>\n",
       "      <td>...</td>\n",
       "      <td>...</td>\n",
       "      <td>...</td>\n",
       "      <td>...</td>\n",
       "      <td>...</td>\n",
       "      <td>...</td>\n",
       "      <td>...</td>\n",
       "      <td>...</td>\n",
       "      <td>...</td>\n",
       "      <td>...</td>\n",
       "      <td>...</td>\n",
       "      <td>...</td>\n",
       "      <td>...</td>\n",
       "    </tr>\n",
       "    <tr>\n",
       "      <th>10529000</th>\n",
       "      <td>15568804</td>\n",
       "      <td>1693</td>\n",
       "      <td>2018-04-15 10:26:15.7840</td>\n",
       "      <td>2018-04-15 10:54:29.2760</td>\n",
       "      <td>173.0</td>\n",
       "      <td>Broadway &amp; W 49 St</td>\n",
       "      <td>40.760683</td>\n",
       "      <td>-73.984527</td>\n",
       "      <td>3161.0</td>\n",
       "      <td>W 76 St &amp; Columbus Ave</td>\n",
       "      <td>40.780184</td>\n",
       "      <td>-73.977285</td>\n",
       "      <td>17085</td>\n",
       "      <td>Subscriber</td>\n",
       "      <td>1981</td>\n",
       "      <td>2</td>\n",
       "      <td>4</td>\n",
       "    </tr>\n",
       "    <tr>\n",
       "      <th>10529001</th>\n",
       "      <td>15166375</td>\n",
       "      <td>176</td>\n",
       "      <td>2018-06-09 09:31:21.4310</td>\n",
       "      <td>2018-06-09 09:34:17.8630</td>\n",
       "      <td>3349.0</td>\n",
       "      <td>Grand Army Plaza &amp; Plaza St West</td>\n",
       "      <td>40.672968</td>\n",
       "      <td>-73.970880</td>\n",
       "      <td>3576.0</td>\n",
       "      <td>Park Pl &amp; Vanderbilt Ave</td>\n",
       "      <td>40.676700</td>\n",
       "      <td>-73.969024</td>\n",
       "      <td>30462</td>\n",
       "      <td>Subscriber</td>\n",
       "      <td>1991</td>\n",
       "      <td>1</td>\n",
       "      <td>6</td>\n",
       "    </tr>\n",
       "    <tr>\n",
       "      <th>10529002</th>\n",
       "      <td>16574002</td>\n",
       "      <td>1378</td>\n",
       "      <td>2018-04-29 15:10:14.5560</td>\n",
       "      <td>2018-04-29 15:33:13.4110</td>\n",
       "      <td>3310.0</td>\n",
       "      <td>14 St &amp; 7 Ave</td>\n",
       "      <td>40.663779</td>\n",
       "      <td>-73.983968</td>\n",
       "      <td>3580.0</td>\n",
       "      <td>St Johns Pl &amp; Washington Ave</td>\n",
       "      <td>40.673724</td>\n",
       "      <td>-73.963161</td>\n",
       "      <td>32930</td>\n",
       "      <td>Subscriber</td>\n",
       "      <td>1988</td>\n",
       "      <td>2</td>\n",
       "      <td>4</td>\n",
       "    </tr>\n",
       "    <tr>\n",
       "      <th>10529003</th>\n",
       "      <td>4209343</td>\n",
       "      <td>864</td>\n",
       "      <td>2018-09-24 17:02:13.0220</td>\n",
       "      <td>2018-09-24 17:16:37.4010</td>\n",
       "      <td>524.0</td>\n",
       "      <td>W 43 St &amp; 6 Ave</td>\n",
       "      <td>40.755273</td>\n",
       "      <td>-73.983169</td>\n",
       "      <td>236.0</td>\n",
       "      <td>St Marks Pl &amp; 2 Ave</td>\n",
       "      <td>40.728419</td>\n",
       "      <td>-73.987140</td>\n",
       "      <td>19990</td>\n",
       "      <td>Subscriber</td>\n",
       "      <td>1994</td>\n",
       "      <td>1</td>\n",
       "      <td>9</td>\n",
       "    </tr>\n",
       "    <tr>\n",
       "      <th>10529004</th>\n",
       "      <td>10502364</td>\n",
       "      <td>792</td>\n",
       "      <td>2018-05-03 11:43:33.4640</td>\n",
       "      <td>2018-05-03 11:56:46.2950</td>\n",
       "      <td>128.0</td>\n",
       "      <td>MacDougal St &amp; Prince St</td>\n",
       "      <td>40.727103</td>\n",
       "      <td>-74.002971</td>\n",
       "      <td>161.0</td>\n",
       "      <td>LaGuardia Pl &amp; W 3 St</td>\n",
       "      <td>40.729170</td>\n",
       "      <td>-73.998102</td>\n",
       "      <td>21456</td>\n",
       "      <td>Subscriber</td>\n",
       "      <td>1980</td>\n",
       "      <td>1</td>\n",
       "      <td>5</td>\n",
       "    </tr>\n",
       "  </tbody>\n",
       "</table>\n",
       "<p>10529005 rows × 17 columns</p>\n",
       "</div>"
      ],
      "text/plain": [
       "          Unnamed: 0  tripduration                 starttime  \\\n",
       "0            5830197           662  2018-08-21 00:44:50.3050   \n",
       "1           10532873           794  2018-05-01 17:16:43.6890   \n",
       "2           14067690           506  2018-06-18 10:29:57.7520   \n",
       "3            2692568           422  2018-02-10 06:25:52.5810   \n",
       "4           10249464           334  2018-12-21 10:32:55.6300   \n",
       "...              ...           ...                       ...   \n",
       "10529000    15568804          1693  2018-04-15 10:26:15.7840   \n",
       "10529001    15166375           176  2018-06-09 09:31:21.4310   \n",
       "10529002    16574002          1378  2018-04-29 15:10:14.5560   \n",
       "10529003     4209343           864  2018-09-24 17:02:13.0220   \n",
       "10529004    10502364           792  2018-05-03 11:43:33.4640   \n",
       "\n",
       "                          stoptime  start station id  \\\n",
       "0         2018-08-21 00:55:53.0320            3177.0   \n",
       "1         2018-05-01 17:29:58.0150             164.0   \n",
       "2         2018-06-18 10:38:24.0760             382.0   \n",
       "3         2018-02-10 06:32:55.1090            3581.0   \n",
       "4         2018-12-21 10:38:29.9630             280.0   \n",
       "...                            ...               ...   \n",
       "10529000  2018-04-15 10:54:29.2760             173.0   \n",
       "10529001  2018-06-09 09:34:17.8630            3349.0   \n",
       "10529002  2018-04-29 15:33:13.4110            3310.0   \n",
       "10529003  2018-09-24 17:16:37.4010             524.0   \n",
       "10529004  2018-05-03 11:56:46.2950             128.0   \n",
       "\n",
       "                        start station name  start station latitude  \\\n",
       "0                       W 84 St & Broadway               40.786795   \n",
       "1                          E 47 St & 2 Ave               40.753231   \n",
       "2                  University Pl & E 14 St               40.734927   \n",
       "3               Underhill Ave & Lincoln Pl               40.674012   \n",
       "4                          E 10 St & 5 Ave               40.733320   \n",
       "...                                    ...                     ...   \n",
       "10529000                Broadway & W 49 St               40.760683   \n",
       "10529001  Grand Army Plaza & Plaza St West               40.672968   \n",
       "10529002                     14 St & 7 Ave               40.663779   \n",
       "10529003                   W 43 St & 6 Ave               40.755273   \n",
       "10529004          MacDougal St & Prince St               40.727103   \n",
       "\n",
       "          start station longitude  end station id  \\\n",
       "0                      -73.977112          3553.0   \n",
       "1                      -73.970325          3372.0   \n",
       "2                      -73.992005           487.0   \n",
       "3                      -73.967146           420.0   \n",
       "4                      -73.995101           236.0   \n",
       "...                           ...             ...   \n",
       "10529000               -73.984527          3161.0   \n",
       "10529001               -73.970880          3576.0   \n",
       "10529002               -73.983968          3580.0   \n",
       "10529003               -73.983169           236.0   \n",
       "10529004               -74.002971           161.0   \n",
       "\n",
       "                            end station name  end station latitude  \\\n",
       "0         Frederick Douglass Blvd & W 112 St             40.801694   \n",
       "1                            E 74 St & 1 Ave             40.768974   \n",
       "2                        E 20 St & FDR Drive             40.733143   \n",
       "3               Clermont Ave & Lafayette Ave             40.687645   \n",
       "4                        St Marks Pl & 2 Ave             40.728419   \n",
       "...                                      ...                   ...   \n",
       "10529000              W 76 St & Columbus Ave             40.780184   \n",
       "10529001            Park Pl & Vanderbilt Ave             40.676700   \n",
       "10529002        St Johns Pl & Washington Ave             40.673724   \n",
       "10529003                 St Marks Pl & 2 Ave             40.728419   \n",
       "10529004               LaGuardia Pl & W 3 St             40.729170   \n",
       "\n",
       "          end station longitude  bikeid    usertype  birth year  gender  month  \n",
       "0                    -73.957145   34204  Subscriber        1974       1      8  \n",
       "1                    -73.954823   33434  Subscriber        1984       2      5  \n",
       "2                    -73.975739   17968  Subscriber        1989       1      6  \n",
       "3                    -73.969689   32625  Subscriber        1990       1      2  \n",
       "4                    -73.987140   34174  Subscriber        1990       1     12  \n",
       "...                         ...     ...         ...         ...     ...    ...  \n",
       "10529000             -73.977285   17085  Subscriber        1981       2      4  \n",
       "10529001             -73.969024   30462  Subscriber        1991       1      6  \n",
       "10529002             -73.963161   32930  Subscriber        1988       2      4  \n",
       "10529003             -73.987140   19990  Subscriber        1994       1      9  \n",
       "10529004             -73.998102   21456  Subscriber        1980       1      5  \n",
       "\n",
       "[10529005 rows x 17 columns]"
      ]
     },
     "execution_count": 3,
     "metadata": {},
     "output_type": "execute_result"
    }
   ],
   "source": [
    "traindata"
   ]
  },
  {
   "cell_type": "markdown",
   "id": "d3d9eefa-89dc-46a4-bf09-bf4cc81ba701",
   "metadata": {},
   "source": [
    "## Exploratory Analysis"
   ]
  },
  {
   "cell_type": "markdown",
   "id": "f6e6217c-9e9a-477e-8c7f-dbd3729b9a4d",
   "metadata": {},
   "source": [
    "Lets see how unbalanced the classes are"
   ]
  },
  {
   "cell_type": "code",
   "execution_count": 21,
   "id": "6ed9d2a1-083d-465a-80c1-88aad457f656",
   "metadata": {},
   "outputs": [
    {
     "name": "stdout",
     "output_type": "stream",
     "text": [
      "8.077620559261858\n"
     ]
    },
    {
     "data": {
      "text/plain": [
       "<AxesSubplot:>"
      ]
     },
     "execution_count": 21,
     "metadata": {},
     "output_type": "execute_result"
    },
    {
     "data": {
      "image/png": "[encoded data removed]",
      "text/plain": [
       "<Figure size 432x288 with 1 Axes>"
      ]
     },
     "metadata": {},
     "output_type": "display_data"
    }
   ],
   "source": [
    "counts = traindata.groupby(\"usertype\").size()\n",
    "ratio = counts[\"Subscriber\"] / counts[\"Customer\"]\n",
    "print(ratio)\n",
    "counts.plot.pie(autopct='%1.0f%%',ylabel=\"\")"
   ]
  },
  {
   "cell_type": "markdown",
   "id": "42757c12-1fe0-4fb2-a58b-1809a957a433",
   "metadata": {},
   "source": [
    "Is this the same for each month?"
   ]
  },
  {
   "cell_type": "code",
   "execution_count": 31,
   "id": "8acb40cc-d8df-4995-9c9b-7741f19eb0b7",
   "metadata": {},
   "outputs": [
    {
     "data": {
      "text/plain": [
       "<AxesSubplot:xlabel='month'>"
      ]
     },
     "execution_count": 31,
     "metadata": {},
     "output_type": "execute_result"
    },
    {
     "data": {
      "image/png": "[encoded data removed]",
      "text/plain": [
       "<Figure size 432x288 with 1 Axes>"
      ]
     },
     "metadata": {
      "needs_background": "light"
     },
     "output_type": "display_data"
    }
   ],
   "source": [
    "counts = traindata.groupby([\"usertype\",\"month\"]).size()\n",
    "counts = counts.unstack()\n",
    "counts=counts.transpose()\n",
    "counts.plot.bar(stacked=True)"
   ]
  },
  {
   "cell_type": "markdown",
   "id": "d65a8ce0-7880-4b78-a8bf-d9e747d9fae6",
   "metadata": {},
   "source": [
    "We see that the amount of Customers varies more strongly with the month than the amount of subscribers.\n",
    "We can confirm this by looking at the ratio of subscribers to customers for each month."
   ]
  },
  {
   "cell_type": "code",
   "execution_count": 37,
   "id": "eb045656-d8ff-45a9-a813-acc3ee3469f2",
   "metadata": {},
   "outputs": [
    {
     "data": {
      "text/plain": [
       "<AxesSubplot:xlabel='month', ylabel='Ratio of Subscribers to Customers'>"
      ]
     },
     "execution_count": 37,
     "metadata": {},
     "output_type": "execute_result"
    },
    {
     "data": {
      "image/png": "[encoded data removed]",
      "text/plain": [
       "<Figure size 432x288 with 1 Axes>"
      ]
     },
     "metadata": {
      "needs_background": "light"
     },
     "output_type": "display_data"
    }
   ],
   "source": [
    "ratios = counts.loc[:,\"Subscriber\"] / counts.loc[:,\"Customer\"]\n",
    "ratios.plot.bar(ylabel=\"Ratio of Subscribers to Customers\")"
   ]
  },
  {
   "cell_type": "code",
   "execution_count": null,
   "id": "f19653ca-1cac-4eb8-b52e-4d6c6f5fd525",
   "metadata": {},
   "outputs": [],
   "source": []
  }
 ],
 "metadata": {
  "kernelspec": {
   "display_name": "Python 3 (ipykernel)",
   "language": "python",
   "name": "python3"
  },
  "language_info": {
   "codemirror_mode": {
    "name": "ipython",
    "version": 3
   },
   "file_extension": ".py",
   "mimetype": "text/x-python",
   "name": "python",
   "nbconvert_exporter": "python",
   "pygments_lexer": "ipython3",
   "version": "3.7.10"
  }
 },
 "nbformat": 4,
 "nbformat_minor": 5
}
