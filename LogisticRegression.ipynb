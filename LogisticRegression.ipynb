{
 "cells": [
  {
   "cell_type": "code",
   "execution_count": 1,
   "id": "b8d12620-30c7-4bcc-b96b-cc8888f3611e",
   "metadata": {},
   "outputs": [],
   "source": [
    "%config IPCompleter.use_jedi=False\n",
    "%matplotlib inline\n",
    "\n",
    "import numpy as np\n",
    "import pandas as pd\n",
    "import seaborn as sns\n",
    "from sklearn.linear_model import LogisticRegression\n",
    "from sklearn.dummy import DummyClassifier\n",
    "from sklearn.metrics import confusion_matrix, accuracy_score\n",
    "import sklearn.preprocessing\n",
    "import matplotlib.pyplot as plt\n",
    "\n",
    "from Utils import load_data, print_memory_usage\n",
    "\n",
    "path_train = \"Data/Train.csv\"\n",
    "path_val = \"Data/Validation.csv\""
   ]
  },
  {
   "cell_type": "markdown",
   "id": "8e5ebd92-67ef-4004-947f-0c8a897a0655",
   "metadata": {
    "tags": []
   },
   "source": [
    "# Logistic Regression"
   ]
  },
  {
   "cell_type": "markdown",
   "id": "d4eb9f19-451b-4b9c-9652-7b0b4ed57123",
   "metadata": {},
   "source": [
    "The first model I want to try is a simple logistic regression model.\n",
    "Lets start with a simple test model."
   ]
  },
  {
   "cell_type": "markdown",
   "id": "51a5dcb3-d300-40fc-97db-aacd53999b54",
   "metadata": {
    "tags": []
   },
   "source": [
    "## Variable Encodings"
   ]
  },
  {
   "cell_type": "markdown",
   "id": "eb32b5a8-6094-41b1-88ab-1bf331c38ddd",
   "metadata": {},
   "source": [
    "One question here is how to choose a proper encoding for some of the variables.\n",
    "\n",
    "1. Hour of the day: One approach is convert it into a cyclic variable, and another is to use fixed \"binned\" time intervales like morning, midday, evening. We could also convert each hour into a category, but this does not make much sense.\n",
    "2. Numerical Features should be scaled to be comparable? -> Only relevant for gradient optimization, but might want to scale to 0 mean? Also affects regularization, which is on by default -> SHOULD STANDARDIZE, YES (also mentioned in elements of statistical learning)"
   ]
  },
  {
   "cell_type": "code",
   "execution_count": 2,
   "id": "ca855e74-6940-449a-95c5-06dd7cfc344b",
   "metadata": {},
   "outputs": [],
   "source": [
    "def hour_to_coordinate(h):\n",
    "    xh = np.sin(2*np.pi*(h)/24)\n",
    "    yh = np.cos(2*np.pi*(h)/24)\n",
    "    return xh,yh"
   ]
  },
  {
   "cell_type": "code",
   "execution_count": 3,
   "id": "1714ce3b-501a-4042-8942-9336003d0011",
   "metadata": {},
   "outputs": [],
   "source": [
    "def categorize_tod(data,dummies=False):\n",
    "    hours = data[\"starttime\"].dt.hour \n",
    "    bins=[-1,6,10,15,24] \n",
    "    names=[0,1,2,3]\n",
    "    tod = pd.cut(hours,bins,labels=names)\n",
    "    tod = tod.astype(\"int64\")\n",
    "    if dummies:\n",
    "        tod = pd.get_dummies(tod,prefix=\"tod\",drop_first=True)\n",
    "    return tod"
   ]
  },
  {
   "cell_type": "code",
   "execution_count": 4,
   "id": "dc465846-7ac6-4f9c-96d9-353519319d16",
   "metadata": {},
   "outputs": [],
   "source": [
    "#For now I omit information about station ids\n",
    "def preprocess(data,scaler=None): #TODO: Use pipelines instead\n",
    "    #Omit Gender?\n",
    "    #TODO: Add standardization?\n",
    "    #TODO: Add interaction between hour and business day\n",
    "    numerical = [\"haversine distance\",\"tripduration\",\"speed\"]\n",
    "    features=[\"tripduration\", \"summer\",\"business day\", \"haversine distance\", \"roundtrip\", \"speed\"]\n",
    "    unused = [c for c in data.columns if c not in features]\n",
    "    label=\"usertype\"\n",
    "    X = data.drop(columns=unused)\n",
    "    Y = data[label].copy()\n",
    "    \n",
    "    coords=hour_to_coordinate(data[\"starttime\"].dt.hour)\n",
    "    #X[\"xhour\"] = coords[0]\n",
    "    #X[\"yhour\"] = coords[1]\n",
    "    #X[\"xhour x business day\"] = X[\"xhour\"]*X[\"business day\"]\n",
    "    #X[\"yhour x business day\"] = X[\"xhour\"]*X[\"business day\"]\n",
    "    tod=categorize_tod(data,dummies=True)\n",
    "    X = pd.concat([X,tod],axis=1,copy=False)\n",
    "    interaction = tod.mul(X[\"business day\"],axis=0)\n",
    "    interaction.columns = [\"business x \" + c for c in tod.columns]\n",
    "    X = pd.concat([X,interaction],axis=1,copy=False)\n",
    "    #X[\"birth year\"] = data[\"birth year\"]-data[\"birth year\"].min() #scale to smaller integer range\n",
    "    #data[\"gender_male\"] = data[\"gender\"] == 1\n",
    "    #data[\"gender_unknown\"] = data[\"gender\"] == 0\n",
    "    Y=pd.factorize(Y)[0]\n",
    "    if not scaler:\n",
    "        scaler = sklearn.preprocessing.MinMaxScaler() #Speeds are scaled badly because of strong outliers?\n",
    "        scaler = scaler.fit(X[numerical])\n",
    "    X[numerical] = scaler.transform(X[numerical])  \n",
    "    return X,Y,scaler"
   ]
  },
  {
   "cell_type": "code",
   "execution_count": 5,
   "id": "a7190844-b56d-48ef-a3ab-d92b601a1d72",
   "metadata": {
    "tags": []
   },
   "outputs": [],
   "source": [
    "data_train = load_data(path_train)"
   ]
  },
  {
   "cell_type": "code",
   "execution_count": 6,
   "id": "61c8386d-af3f-42bc-a107-edcafddc1129",
   "metadata": {
    "tags": []
   },
   "outputs": [],
   "source": [
    "X,Y,scaler = preprocess(data_train)"
   ]
  },
  {
   "cell_type": "code",
   "execution_count": 7,
   "id": "39100989-799d-46eb-94e0-1d62d16339f7",
   "metadata": {},
   "outputs": [
    {
     "data": {
      "text/html": [
       "<div>\n",
       "<style scoped>\n",
       "    .dataframe tbody tr th:only-of-type {\n",
       "        vertical-align: middle;\n",
       "    }\n",
       "\n",
       "    .dataframe tbody tr th {\n",
       "        vertical-align: top;\n",
       "    }\n",
       "\n",
       "    .dataframe thead th {\n",
       "        text-align: right;\n",
       "    }\n",
       "</style>\n",
       "<table border=\"1\" class=\"dataframe\">\n",
       "  <thead>\n",
       "    <tr style=\"text-align: right;\">\n",
       "      <th></th>\n",
       "      <th>tripduration</th>\n",
       "      <th>roundtrip</th>\n",
       "      <th>haversine distance</th>\n",
       "      <th>business day</th>\n",
       "      <th>speed</th>\n",
       "      <th>summer</th>\n",
       "      <th>tod_1</th>\n",
       "      <th>tod_2</th>\n",
       "      <th>tod_3</th>\n",
       "      <th>business x tod_1</th>\n",
       "      <th>business x tod_2</th>\n",
       "      <th>business x tod_3</th>\n",
       "    </tr>\n",
       "  </thead>\n",
       "  <tbody>\n",
       "    <tr>\n",
       "      <th>0</th>\n",
       "      <td>0.133649</td>\n",
       "      <td>False</td>\n",
       "      <td>0.466527</td>\n",
       "      <td>True</td>\n",
       "      <td>0.045572</td>\n",
       "      <td>True</td>\n",
       "      <td>0</td>\n",
       "      <td>1</td>\n",
       "      <td>0</td>\n",
       "      <td>0</td>\n",
       "      <td>1</td>\n",
       "      <td>0</td>\n",
       "    </tr>\n",
       "    <tr>\n",
       "      <th>1</th>\n",
       "      <td>0.021522</td>\n",
       "      <td>False</td>\n",
       "      <td>0.068912</td>\n",
       "      <td>True</td>\n",
       "      <td>0.037016</td>\n",
       "      <td>True</td>\n",
       "      <td>1</td>\n",
       "      <td>0</td>\n",
       "      <td>0</td>\n",
       "      <td>1</td>\n",
       "      <td>0</td>\n",
       "      <td>0</td>\n",
       "    </tr>\n",
       "    <tr>\n",
       "      <th>2</th>\n",
       "      <td>0.081907</td>\n",
       "      <td>False</td>\n",
       "      <td>0.239427</td>\n",
       "      <td>True</td>\n",
       "      <td>0.037574</td>\n",
       "      <td>False</td>\n",
       "      <td>0</td>\n",
       "      <td>0</td>\n",
       "      <td>1</td>\n",
       "      <td>0</td>\n",
       "      <td>0</td>\n",
       "      <td>1</td>\n",
       "    </tr>\n",
       "    <tr>\n",
       "      <th>3</th>\n",
       "      <td>0.014999</td>\n",
       "      <td>False</td>\n",
       "      <td>0.049990</td>\n",
       "      <td>True</td>\n",
       "      <td>0.036373</td>\n",
       "      <td>True</td>\n",
       "      <td>0</td>\n",
       "      <td>0</td>\n",
       "      <td>1</td>\n",
       "      <td>0</td>\n",
       "      <td>0</td>\n",
       "      <td>1</td>\n",
       "    </tr>\n",
       "    <tr>\n",
       "      <th>4</th>\n",
       "      <td>0.085866</td>\n",
       "      <td>False</td>\n",
       "      <td>0.194148</td>\n",
       "      <td>True</td>\n",
       "      <td>0.029117</td>\n",
       "      <td>True</td>\n",
       "      <td>0</td>\n",
       "      <td>0</td>\n",
       "      <td>1</td>\n",
       "      <td>0</td>\n",
       "      <td>0</td>\n",
       "      <td>1</td>\n",
       "    </tr>\n",
       "    <tr>\n",
       "      <th>...</th>\n",
       "      <td>...</td>\n",
       "      <td>...</td>\n",
       "      <td>...</td>\n",
       "      <td>...</td>\n",
       "      <td>...</td>\n",
       "      <td>...</td>\n",
       "      <td>...</td>\n",
       "      <td>...</td>\n",
       "      <td>...</td>\n",
       "      <td>...</td>\n",
       "      <td>...</td>\n",
       "      <td>...</td>\n",
       "    </tr>\n",
       "    <tr>\n",
       "      <th>13984169</th>\n",
       "      <td>0.111179</td>\n",
       "      <td>False</td>\n",
       "      <td>0.364880</td>\n",
       "      <td>True</td>\n",
       "      <td>0.042633</td>\n",
       "      <td>True</td>\n",
       "      <td>1</td>\n",
       "      <td>0</td>\n",
       "      <td>0</td>\n",
       "      <td>1</td>\n",
       "      <td>0</td>\n",
       "      <td>0</td>\n",
       "    </tr>\n",
       "    <tr>\n",
       "      <th>13984170</th>\n",
       "      <td>0.087371</td>\n",
       "      <td>False</td>\n",
       "      <td>0.085961</td>\n",
       "      <td>True</td>\n",
       "      <td>0.012678</td>\n",
       "      <td>True</td>\n",
       "      <td>0</td>\n",
       "      <td>1</td>\n",
       "      <td>0</td>\n",
       "      <td>0</td>\n",
       "      <td>1</td>\n",
       "      <td>0</td>\n",
       "    </tr>\n",
       "    <tr>\n",
       "      <th>13984171</th>\n",
       "      <td>0.031335</td>\n",
       "      <td>False</td>\n",
       "      <td>0.073236</td>\n",
       "      <td>True</td>\n",
       "      <td>0.028226</td>\n",
       "      <td>True</td>\n",
       "      <td>0</td>\n",
       "      <td>0</td>\n",
       "      <td>1</td>\n",
       "      <td>0</td>\n",
       "      <td>0</td>\n",
       "      <td>1</td>\n",
       "    </tr>\n",
       "    <tr>\n",
       "      <th>13984172</th>\n",
       "      <td>0.019459</td>\n",
       "      <td>False</td>\n",
       "      <td>0.021683</td>\n",
       "      <td>False</td>\n",
       "      <td>0.012698</td>\n",
       "      <td>True</td>\n",
       "      <td>0</td>\n",
       "      <td>0</td>\n",
       "      <td>1</td>\n",
       "      <td>0</td>\n",
       "      <td>0</td>\n",
       "      <td>0</td>\n",
       "    </tr>\n",
       "    <tr>\n",
       "      <th>13984173</th>\n",
       "      <td>0.011653</td>\n",
       "      <td>False</td>\n",
       "      <td>0.050144</td>\n",
       "      <td>True</td>\n",
       "      <td>0.044592</td>\n",
       "      <td>True</td>\n",
       "      <td>0</td>\n",
       "      <td>0</td>\n",
       "      <td>1</td>\n",
       "      <td>0</td>\n",
       "      <td>0</td>\n",
       "      <td>1</td>\n",
       "    </tr>\n",
       "  </tbody>\n",
       "</table>\n",
       "<p>13984174 rows × 12 columns</p>\n",
       "</div>"
      ],
      "text/plain": [
       "          tripduration  roundtrip  haversine distance  business day     speed  \\\n",
       "0             0.133649      False            0.466527          True  0.045572   \n",
       "1             0.021522      False            0.068912          True  0.037016   \n",
       "2             0.081907      False            0.239427          True  0.037574   \n",
       "3             0.014999      False            0.049990          True  0.036373   \n",
       "4             0.085866      False            0.194148          True  0.029117   \n",
       "...                ...        ...                 ...           ...       ...   \n",
       "13984169      0.111179      False            0.364880          True  0.042633   \n",
       "13984170      0.087371      False            0.085961          True  0.012678   \n",
       "13984171      0.031335      False            0.073236          True  0.028226   \n",
       "13984172      0.019459      False            0.021683         False  0.012698   \n",
       "13984173      0.011653      False            0.050144          True  0.044592   \n",
       "\n",
       "          summer  tod_1  tod_2  tod_3  business x tod_1  business x tod_2  \\\n",
       "0           True      0      1      0                 0                 1   \n",
       "1           True      1      0      0                 1                 0   \n",
       "2          False      0      0      1                 0                 0   \n",
       "3           True      0      0      1                 0                 0   \n",
       "4           True      0      0      1                 0                 0   \n",
       "...          ...    ...    ...    ...               ...               ...   \n",
       "13984169    True      1      0      0                 1                 0   \n",
       "13984170    True      0      1      0                 0                 1   \n",
       "13984171    True      0      0      1                 0                 0   \n",
       "13984172    True      0      0      1                 0                 0   \n",
       "13984173    True      0      0      1                 0                 0   \n",
       "\n",
       "          business x tod_3  \n",
       "0                        0  \n",
       "1                        0  \n",
       "2                        1  \n",
       "3                        1  \n",
       "4                        1  \n",
       "...                    ...  \n",
       "13984169                 0  \n",
       "13984170                 0  \n",
       "13984171                 1  \n",
       "13984172                 0  \n",
       "13984173                 1  \n",
       "\n",
       "[13984174 rows x 12 columns]"
      ]
     },
     "execution_count": 7,
     "metadata": {},
     "output_type": "execute_result"
    }
   ],
   "source": [
    "X"
   ]
  },
  {
   "cell_type": "code",
   "execution_count": 8,
   "id": "40b247c2-55fa-42b5-8d7e-53ce86fdf38a",
   "metadata": {},
   "outputs": [
    {
     "data": {
      "text/plain": [
       "0.8905606437677335"
      ]
     },
     "execution_count": 8,
     "metadata": {},
     "output_type": "execute_result"
    }
   ],
   "source": [
    "baseline = DummyClassifier()\n",
    "baseline = baseline.fit(X,Y)\n",
    "acc_base = baseline.score(X,Y)\n",
    "acc_base"
   ]
  },
  {
   "cell_type": "code",
   "execution_count": 9,
   "id": "403cfdda-9b77-4c21-9a9e-e34840c7d9a8",
   "metadata": {},
   "outputs": [
    {
     "data": {
      "text/plain": [
       "0.8954962945970208"
      ]
     },
     "execution_count": 9,
     "metadata": {},
     "output_type": "execute_result"
    }
   ],
   "source": [
    "clf = LogisticRegression(max_iter=300) #Might make sense to use balanced class weights here\n",
    "clf=clf.fit(X,Y)\n",
    "acc_train = clf.score(X,Y)\n",
    "acc_train"
   ]
  },
  {
   "cell_type": "code",
   "execution_count": 10,
   "id": "272a32c6-0791-4374-ac2c-21a500eced40",
   "metadata": {},
   "outputs": [
    {
     "data": {
      "text/plain": [
       "array([[0.98216546, 0.01783454],\n",
       "       [0.80977236, 0.19022764]])"
      ]
     },
     "execution_count": 10,
     "metadata": {},
     "output_type": "execute_result"
    }
   ],
   "source": [
    "Y_pred = clf.predict(X)\n",
    "confusion_matrix(Y,Y_pred,normalize=\"true\")"
   ]
  },
  {
   "cell_type": "code",
   "execution_count": 22,
   "id": "e66a6563-7099-4a93-98c6-621f07c553cc",
   "metadata": {},
   "outputs": [
    {
     "name": "stdout",
     "output_type": "stream",
     "text": [
      "intercept              -0.233645\n",
      "tripduration            2.952737\n",
      "roundtrip              -1.027844\n",
      "haversine distance      7.047617\n",
      "business day           -0.689343\n",
      "speed                -105.875782\n",
      "summer                  0.634162\n",
      "tod_1                   0.129662\n",
      "tod_2                   0.461759\n",
      "tod_3                   0.320546\n",
      "business x tod_1       -0.489299\n",
      "business x tod_2        0.162279\n",
      "business x tod_3       -0.291085\n",
      "dtype: float64\n"
     ]
    }
   ],
   "source": [
    "coefficients = pd.Series([clf.intercept_[0]]+list(clf.coef_[0]),index=[\"intercept\"]+list(X.columns))\n",
    "print(coefficients)"
   ]
  },
  {
   "cell_type": "markdown",
   "id": "554bf673-e54a-4700-afd3-e279bf60f8cc",
   "metadata": {},
   "source": [
    "Notes: By using gender=unknown, gender=male categorical features one can easily get about 94% training accuracy, and about 98% on subscribers. Using classes = balanced gives 79% accuracy overall, but like 82% on customers instead of 20% for unbalanced.\n",
    "\n",
    "Scaling data with min-max scaler seems to have no effect\n",
    "Using categorical tod encoding does not seem much different from using ordinal encoding or hours, at least if we dont use interactions.\n",
    "Adding interaction terms between tod and business day does not help much."
   ]
  },
  {
   "cell_type": "code",
   "execution_count": 23,
   "id": "ba1300a6-4bae-4484-89de-15a16b5b68ba",
   "metadata": {},
   "outputs": [],
   "source": [
    "data_val = load_data(path_val)\n",
    "X_val, Y_val,scaler = preprocess(data_val,scaler=scaler)"
   ]
  },
  {
   "cell_type": "code",
   "execution_count": 24,
   "id": "ea2f67c7-2f0f-4dfd-995d-5e56746b2188",
   "metadata": {},
   "outputs": [
    {
     "data": {
      "text/plain": [
       "0.8949743738776593"
      ]
     },
     "execution_count": 24,
     "metadata": {},
     "output_type": "execute_result"
    }
   ],
   "source": [
    "clf.score(X_val,Y_val)"
   ]
  },
  {
   "cell_type": "code",
   "execution_count": 25,
   "id": "00636ae6-0b89-43e7-b4d8-e346571d0e9d",
   "metadata": {},
   "outputs": [
    {
     "data": {
      "text/plain": [
       "array([[0.98200261, 0.01799739],\n",
       "       [0.81002535, 0.18997465]])"
      ]
     },
     "execution_count": 25,
     "metadata": {},
     "output_type": "execute_result"
    }
   ],
   "source": [
    "Y_pred = clf.predict(X_val)\n",
    "confusion_matrix(Y_val,Y_pred,normalize=\"true\")"
   ]
  },
  {
   "cell_type": "code",
   "execution_count": 26,
   "id": "7ac70cd4-7df3-4f00-bef7-7baa53742934",
   "metadata": {},
   "outputs": [
    {
     "data": {
      "text/plain": [
       "0.8901197411243915"
      ]
     },
     "execution_count": 26,
     "metadata": {},
     "output_type": "execute_result"
    }
   ],
   "source": [
    "baseline.score(X_val,Y_val)"
   ]
  },
  {
   "cell_type": "code",
   "execution_count": null,
   "id": "a8dd9198-763e-49a3-abf9-ec56521c38cd",
   "metadata": {},
   "outputs": [],
   "source": []
  }
 ],
 "metadata": {
  "kernelspec": {
   "display_name": "Python 3 (ipykernel)",
   "language": "python",
   "name": "python3"
  },
  "language_info": {
   "codemirror_mode": {
    "name": "ipython",
    "version": 3
   },
   "file_extension": ".py",
   "mimetype": "text/x-python",
   "name": "python",
   "nbconvert_exporter": "python",
   "pygments_lexer": "ipython3",
   "version": "3.7.10"
  }
 },
 "nbformat": 4,
 "nbformat_minor": 5
}
